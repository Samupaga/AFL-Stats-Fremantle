{
 "cells": [
  {
   "cell_type": "markdown",
   "id": "24fdd473",
   "metadata": {
    "papermill": {
     "duration": 0.113223,
     "end_time": "2022-02-04T10:12:59.133464",
     "exception": false,
     "start_time": "2022-02-04T10:12:59.020241",
     "status": "completed"
    },
    "tags": []
   },
   "source": [
    "The scope of this notebook is to explore the data contained within the afl_stats.csv file. As there are 18 teams in the AFL, I have chosen to focus my attention to only 1 of them: the Fremantle Dockers. \n",
    "\n",
    "Although I do not follow the AFL, someone I live with does. Being a Dockers fan himself, a lot of their matches would be on the TV and, more often than not, I would find myself following matches that I never intended to watch in the first place. In an attempt to learn more about the sport and the team itself, I decided to use the data provided to explore the Dockers further and build a better picture of their performace over the years. "
   ]
  },
  {
   "cell_type": "markdown",
   "id": "6c8b4069",
   "metadata": {
    "papermill": {
     "duration": 0.104864,
     "end_time": "2022-02-04T10:12:59.359974",
     "exception": false,
     "start_time": "2022-02-04T10:12:59.255110",
     "status": "completed"
    },
    "tags": []
   },
   "source": [
    "**HOUSEKEEPING**"
   ]
  },
  {
   "cell_type": "markdown",
   "id": "1acd4fd3",
   "metadata": {
    "papermill": {
     "duration": 0.103749,
     "end_time": "2022-02-04T10:12:59.568488",
     "exception": false,
     "start_time": "2022-02-04T10:12:59.464739",
     "status": "completed"
    },
    "tags": []
   },
   "source": [
    "Lets import the relevant packages that we will be using to complete the exploration and read the data. I'll begin by calling the dataframe containing the csv file df_afl. "
   ]
  },
  {
   "cell_type": "code",
   "execution_count": 1,
   "id": "834f6dac",
   "metadata": {
    "execution": {
     "iopub.execute_input": "2022-02-04T10:12:59.780917Z",
     "iopub.status.busy": "2022-02-04T10:12:59.780254Z",
     "iopub.status.idle": "2022-02-04T10:13:00.862373Z",
     "shell.execute_reply": "2022-02-04T10:13:00.861348Z",
     "shell.execute_reply.started": "2022-02-04T10:04:58.696361Z"
    },
    "papermill": {
     "duration": 1.189438,
     "end_time": "2022-02-04T10:13:00.862529",
     "exception": false,
     "start_time": "2022-02-04T10:12:59.673091",
     "status": "completed"
    },
    "tags": []
   },
   "outputs": [],
   "source": [
    "import numpy as np\n",
    "\n",
    "import pandas as pd\n",
    "\n",
    "import seaborn as sns\n",
    "sns.set_style('whitegrid')\n",
    "\n",
    "import matplotlib.pyplot as plt\n",
    "%matplotlib inline\n",
    "\n",
    "from datetime import datetime, date, timedelta\n",
    "\n",
    "import plotly.graph_objects as go\n",
    "from plotly.subplots import make_subplots\n",
    "import plotly.io as pio\n",
    "pio.renderers.default = \"svg\"\n",
    "\n",
    "import warnings\n",
    "warnings.filterwarnings('ignore')"
   ]
  },
  {
   "cell_type": "code",
   "execution_count": 2,
   "id": "13df9a0a",
   "metadata": {
    "execution": {
     "iopub.execute_input": "2022-02-04T10:13:01.080011Z",
     "iopub.status.busy": "2022-02-04T10:13:01.079237Z",
     "iopub.status.idle": "2022-02-04T10:13:01.667976Z",
     "shell.execute_reply": "2022-02-04T10:13:01.667411Z",
     "shell.execute_reply.started": "2022-02-04T10:04:59.221536Z"
    },
    "papermill": {
     "duration": 0.699714,
     "end_time": "2022-02-04T10:13:01.668138",
     "exception": false,
     "start_time": "2022-02-04T10:13:00.968424",
     "status": "completed"
    },
    "tags": []
   },
   "outputs": [],
   "source": [
    "df_afl = pd.read_csv('afl_stats.csv')"
   ]
  },
  {
   "cell_type": "code",
   "execution_count": 3,
   "id": "6c9836b5",
   "metadata": {
    "execution": {
     "iopub.execute_input": "2022-02-04T10:13:01.886503Z",
     "iopub.status.busy": "2022-02-04T10:13:01.885756Z",
     "iopub.status.idle": "2022-02-04T10:13:02.024483Z",
     "shell.execute_reply": "2022-02-04T10:13:02.023932Z",
     "shell.execute_reply.started": "2022-02-04T10:04:59.668207Z"
    },
    "papermill": {
     "duration": 0.252701,
     "end_time": "2022-02-04T10:13:02.024621",
     "exception": false,
     "start_time": "2022-02-04T10:13:01.771920",
     "status": "completed"
    },
    "tags": []
   },
   "outputs": [
    {
     "name": "stdout",
     "output_type": "stream",
     "text": [
      "<class 'pandas.core.frame.DataFrame'>\n",
      "RangeIndex: 79948 entries, 0 to 79947\n",
      "Data columns (total 42 columns):\n",
      " #   Column                   Non-Null Count  Dtype  \n",
      "---  ------                   --------------  -----  \n",
      " 0   Year                     79948 non-null  int64  \n",
      " 1   Round                    79948 non-null  object \n",
      " 2   Team                     79948 non-null  object \n",
      " 3   Score                    79948 non-null  int64  \n",
      " 4   Margin                   79948 non-null  int64  \n",
      " 5   WinLoss                  79948 non-null  object \n",
      " 6   Opposition               79948 non-null  object \n",
      " 7   Day                      79948 non-null  object \n",
      " 8   Date                     79948 non-null  object \n",
      " 9   Start Time               79948 non-null  object \n",
      " 10  Venue                    79948 non-null  object \n",
      " 11  Attendance               79948 non-null  object \n",
      " 12  Rainfall(mm)             78672 non-null  float64\n",
      " 13  Player                   79948 non-null  object \n",
      " 14  DOB                      79948 non-null  object \n",
      " 15  Height                   79948 non-null  int64  \n",
      " 16  Weight                   79948 non-null  int64  \n",
      " 17  Position                 79948 non-null  object \n",
      " 18  Disposals                79948 non-null  int64  \n",
      " 19  Kicks                    79948 non-null  int64  \n",
      " 20  Marks                    79948 non-null  int64  \n",
      " 21  Handballs                79948 non-null  int64  \n",
      " 22  Goals                    79948 non-null  int64  \n",
      " 23  Behinds                  79948 non-null  int64  \n",
      " 24  Hit Outs                 79948 non-null  int64  \n",
      " 25  Tackles                  79948 non-null  int64  \n",
      " 26  Rebounds                 79948 non-null  int64  \n",
      " 27  Inside 50s               79948 non-null  int64  \n",
      " 28  Clearances               79948 non-null  int64  \n",
      " 29  Clangers                 79948 non-null  int64  \n",
      " 30  Frees                    79948 non-null  int64  \n",
      " 31  Frees Against            79948 non-null  int64  \n",
      " 32  Brownlow Votes           79948 non-null  int64  \n",
      " 33  Contested Possessions    79948 non-null  int64  \n",
      " 34  Uncontested Possessions  79948 non-null  int64  \n",
      " 35  Contested Marks          79948 non-null  int64  \n",
      " 36  Marks Inside 50          79948 non-null  int64  \n",
      " 37  One Percenters           79948 non-null  int64  \n",
      " 38  Bounces                  79948 non-null  int64  \n",
      " 39  Goal Assists             79948 non-null  int64  \n",
      " 40  % Played                 79948 non-null  int64  \n",
      " 41  Subs                     36388 non-null  object \n",
      "dtypes: float64(1), int64(28), object(13)\n",
      "memory usage: 25.6+ MB\n"
     ]
    }
   ],
   "source": [
    "df_afl.info()"
   ]
  },
  {
   "cell_type": "code",
   "execution_count": 4,
   "id": "5dfd922b",
   "metadata": {
    "execution": {
     "iopub.execute_input": "2022-02-04T10:13:02.236848Z",
     "iopub.status.busy": "2022-02-04T10:13:02.236228Z",
     "iopub.status.idle": "2022-02-04T10:13:02.268107Z",
     "shell.execute_reply": "2022-02-04T10:13:02.268604Z",
     "shell.execute_reply.started": "2022-02-04T10:04:59.797269Z"
    },
    "papermill": {
     "duration": 0.139893,
     "end_time": "2022-02-04T10:13:02.268776",
     "exception": false,
     "start_time": "2022-02-04T10:13:02.128883",
     "status": "completed"
    },
    "tags": []
   },
   "outputs": [
    {
     "data": {
      "text/html": [
       "<div>\n",
       "<style scoped>\n",
       "    .dataframe tbody tr th:only-of-type {\n",
       "        vertical-align: middle;\n",
       "    }\n",
       "\n",
       "    .dataframe tbody tr th {\n",
       "        vertical-align: top;\n",
       "    }\n",
       "\n",
       "    .dataframe thead th {\n",
       "        text-align: right;\n",
       "    }\n",
       "</style>\n",
       "<table border=\"1\" class=\"dataframe\">\n",
       "  <thead>\n",
       "    <tr style=\"text-align: right;\">\n",
       "      <th></th>\n",
       "      <th>Year</th>\n",
       "      <th>Round</th>\n",
       "      <th>Team</th>\n",
       "      <th>Score</th>\n",
       "      <th>Margin</th>\n",
       "      <th>WinLoss</th>\n",
       "      <th>Opposition</th>\n",
       "      <th>Day</th>\n",
       "      <th>Date</th>\n",
       "      <th>Start Time</th>\n",
       "      <th>...</th>\n",
       "      <th>Brownlow Votes</th>\n",
       "      <th>Contested Possessions</th>\n",
       "      <th>Uncontested Possessions</th>\n",
       "      <th>Contested Marks</th>\n",
       "      <th>Marks Inside 50</th>\n",
       "      <th>One Percenters</th>\n",
       "      <th>Bounces</th>\n",
       "      <th>Goal Assists</th>\n",
       "      <th>% Played</th>\n",
       "      <th>Subs</th>\n",
       "    </tr>\n",
       "  </thead>\n",
       "  <tbody>\n",
       "    <tr>\n",
       "      <th>0</th>\n",
       "      <td>2020</td>\n",
       "      <td>R1</td>\n",
       "      <td>Adelaide</td>\n",
       "      <td>71</td>\n",
       "      <td>-3</td>\n",
       "      <td>L</td>\n",
       "      <td>Sydney</td>\n",
       "      <td>Sat</td>\n",
       "      <td>21-Mar-2020</td>\n",
       "      <td>4:35 PM</td>\n",
       "      <td>...</td>\n",
       "      <td>0</td>\n",
       "      <td>8</td>\n",
       "      <td>7</td>\n",
       "      <td>1</td>\n",
       "      <td>1</td>\n",
       "      <td>0</td>\n",
       "      <td>0</td>\n",
       "      <td>1</td>\n",
       "      <td>79</td>\n",
       "      <td>NaN</td>\n",
       "    </tr>\n",
       "    <tr>\n",
       "      <th>1</th>\n",
       "      <td>2020</td>\n",
       "      <td>R1</td>\n",
       "      <td>Adelaide</td>\n",
       "      <td>71</td>\n",
       "      <td>-3</td>\n",
       "      <td>L</td>\n",
       "      <td>Sydney</td>\n",
       "      <td>Sat</td>\n",
       "      <td>21-Mar-2020</td>\n",
       "      <td>4:35 PM</td>\n",
       "      <td>...</td>\n",
       "      <td>0</td>\n",
       "      <td>4</td>\n",
       "      <td>4</td>\n",
       "      <td>0</td>\n",
       "      <td>0</td>\n",
       "      <td>3</td>\n",
       "      <td>0</td>\n",
       "      <td>0</td>\n",
       "      <td>87</td>\n",
       "      <td>NaN</td>\n",
       "    </tr>\n",
       "    <tr>\n",
       "      <th>2</th>\n",
       "      <td>2020</td>\n",
       "      <td>R1</td>\n",
       "      <td>Adelaide</td>\n",
       "      <td>71</td>\n",
       "      <td>-3</td>\n",
       "      <td>L</td>\n",
       "      <td>Sydney</td>\n",
       "      <td>Sat</td>\n",
       "      <td>21-Mar-2020</td>\n",
       "      <td>4:35 PM</td>\n",
       "      <td>...</td>\n",
       "      <td>0</td>\n",
       "      <td>12</td>\n",
       "      <td>8</td>\n",
       "      <td>0</td>\n",
       "      <td>0</td>\n",
       "      <td>0</td>\n",
       "      <td>0</td>\n",
       "      <td>0</td>\n",
       "      <td>77</td>\n",
       "      <td>NaN</td>\n",
       "    </tr>\n",
       "    <tr>\n",
       "      <th>3</th>\n",
       "      <td>2020</td>\n",
       "      <td>R1</td>\n",
       "      <td>Adelaide</td>\n",
       "      <td>71</td>\n",
       "      <td>-3</td>\n",
       "      <td>L</td>\n",
       "      <td>Sydney</td>\n",
       "      <td>Sat</td>\n",
       "      <td>21-Mar-2020</td>\n",
       "      <td>4:35 PM</td>\n",
       "      <td>...</td>\n",
       "      <td>0</td>\n",
       "      <td>4</td>\n",
       "      <td>13</td>\n",
       "      <td>0</td>\n",
       "      <td>0</td>\n",
       "      <td>0</td>\n",
       "      <td>0</td>\n",
       "      <td>1</td>\n",
       "      <td>73</td>\n",
       "      <td>NaN</td>\n",
       "    </tr>\n",
       "    <tr>\n",
       "      <th>4</th>\n",
       "      <td>2020</td>\n",
       "      <td>R1</td>\n",
       "      <td>Adelaide</td>\n",
       "      <td>71</td>\n",
       "      <td>-3</td>\n",
       "      <td>L</td>\n",
       "      <td>Sydney</td>\n",
       "      <td>Sat</td>\n",
       "      <td>21-Mar-2020</td>\n",
       "      <td>4:35 PM</td>\n",
       "      <td>...</td>\n",
       "      <td>0</td>\n",
       "      <td>4</td>\n",
       "      <td>2</td>\n",
       "      <td>1</td>\n",
       "      <td>0</td>\n",
       "      <td>1</td>\n",
       "      <td>2</td>\n",
       "      <td>0</td>\n",
       "      <td>85</td>\n",
       "      <td>NaN</td>\n",
       "    </tr>\n",
       "    <tr>\n",
       "      <th>5</th>\n",
       "      <td>2020</td>\n",
       "      <td>R1</td>\n",
       "      <td>Adelaide</td>\n",
       "      <td>71</td>\n",
       "      <td>-3</td>\n",
       "      <td>L</td>\n",
       "      <td>Sydney</td>\n",
       "      <td>Sat</td>\n",
       "      <td>21-Mar-2020</td>\n",
       "      <td>4:35 PM</td>\n",
       "      <td>...</td>\n",
       "      <td>0</td>\n",
       "      <td>3</td>\n",
       "      <td>5</td>\n",
       "      <td>1</td>\n",
       "      <td>1</td>\n",
       "      <td>1</td>\n",
       "      <td>0</td>\n",
       "      <td>1</td>\n",
       "      <td>84</td>\n",
       "      <td>NaN</td>\n",
       "    </tr>\n",
       "    <tr>\n",
       "      <th>6</th>\n",
       "      <td>2020</td>\n",
       "      <td>R1</td>\n",
       "      <td>Adelaide</td>\n",
       "      <td>71</td>\n",
       "      <td>-3</td>\n",
       "      <td>L</td>\n",
       "      <td>Sydney</td>\n",
       "      <td>Sat</td>\n",
       "      <td>21-Mar-2020</td>\n",
       "      <td>4:35 PM</td>\n",
       "      <td>...</td>\n",
       "      <td>0</td>\n",
       "      <td>6</td>\n",
       "      <td>4</td>\n",
       "      <td>1</td>\n",
       "      <td>0</td>\n",
       "      <td>2</td>\n",
       "      <td>0</td>\n",
       "      <td>0</td>\n",
       "      <td>90</td>\n",
       "      <td>NaN</td>\n",
       "    </tr>\n",
       "    <tr>\n",
       "      <th>7</th>\n",
       "      <td>2020</td>\n",
       "      <td>R1</td>\n",
       "      <td>Adelaide</td>\n",
       "      <td>71</td>\n",
       "      <td>-3</td>\n",
       "      <td>L</td>\n",
       "      <td>Sydney</td>\n",
       "      <td>Sat</td>\n",
       "      <td>21-Mar-2020</td>\n",
       "      <td>4:35 PM</td>\n",
       "      <td>...</td>\n",
       "      <td>0</td>\n",
       "      <td>1</td>\n",
       "      <td>5</td>\n",
       "      <td>0</td>\n",
       "      <td>0</td>\n",
       "      <td>2</td>\n",
       "      <td>0</td>\n",
       "      <td>0</td>\n",
       "      <td>75</td>\n",
       "      <td>NaN</td>\n",
       "    </tr>\n",
       "    <tr>\n",
       "      <th>8</th>\n",
       "      <td>2020</td>\n",
       "      <td>R1</td>\n",
       "      <td>Adelaide</td>\n",
       "      <td>71</td>\n",
       "      <td>-3</td>\n",
       "      <td>L</td>\n",
       "      <td>Sydney</td>\n",
       "      <td>Sat</td>\n",
       "      <td>21-Mar-2020</td>\n",
       "      <td>4:35 PM</td>\n",
       "      <td>...</td>\n",
       "      <td>0</td>\n",
       "      <td>3</td>\n",
       "      <td>6</td>\n",
       "      <td>0</td>\n",
       "      <td>1</td>\n",
       "      <td>2</td>\n",
       "      <td>0</td>\n",
       "      <td>0</td>\n",
       "      <td>81</td>\n",
       "      <td>NaN</td>\n",
       "    </tr>\n",
       "    <tr>\n",
       "      <th>9</th>\n",
       "      <td>2020</td>\n",
       "      <td>R1</td>\n",
       "      <td>Adelaide</td>\n",
       "      <td>71</td>\n",
       "      <td>-3</td>\n",
       "      <td>L</td>\n",
       "      <td>Sydney</td>\n",
       "      <td>Sat</td>\n",
       "      <td>21-Mar-2020</td>\n",
       "      <td>4:35 PM</td>\n",
       "      <td>...</td>\n",
       "      <td>0</td>\n",
       "      <td>5</td>\n",
       "      <td>3</td>\n",
       "      <td>2</td>\n",
       "      <td>0</td>\n",
       "      <td>4</td>\n",
       "      <td>0</td>\n",
       "      <td>0</td>\n",
       "      <td>95</td>\n",
       "      <td>NaN</td>\n",
       "    </tr>\n",
       "  </tbody>\n",
       "</table>\n",
       "<p>10 rows × 42 columns</p>\n",
       "</div>"
      ],
      "text/plain": [
       "   Year Round      Team  Score  Margin WinLoss Opposition  Day         Date  \\\n",
       "0  2020    R1  Adelaide     71      -3       L     Sydney  Sat  21-Mar-2020   \n",
       "1  2020    R1  Adelaide     71      -3       L     Sydney  Sat  21-Mar-2020   \n",
       "2  2020    R1  Adelaide     71      -3       L     Sydney  Sat  21-Mar-2020   \n",
       "3  2020    R1  Adelaide     71      -3       L     Sydney  Sat  21-Mar-2020   \n",
       "4  2020    R1  Adelaide     71      -3       L     Sydney  Sat  21-Mar-2020   \n",
       "5  2020    R1  Adelaide     71      -3       L     Sydney  Sat  21-Mar-2020   \n",
       "6  2020    R1  Adelaide     71      -3       L     Sydney  Sat  21-Mar-2020   \n",
       "7  2020    R1  Adelaide     71      -3       L     Sydney  Sat  21-Mar-2020   \n",
       "8  2020    R1  Adelaide     71      -3       L     Sydney  Sat  21-Mar-2020   \n",
       "9  2020    R1  Adelaide     71      -3       L     Sydney  Sat  21-Mar-2020   \n",
       "\n",
       "  Start Time  ... Brownlow Votes Contested Possessions  \\\n",
       "0    4:35 PM  ...              0                     8   \n",
       "1    4:35 PM  ...              0                     4   \n",
       "2    4:35 PM  ...              0                    12   \n",
       "3    4:35 PM  ...              0                     4   \n",
       "4    4:35 PM  ...              0                     4   \n",
       "5    4:35 PM  ...              0                     3   \n",
       "6    4:35 PM  ...              0                     6   \n",
       "7    4:35 PM  ...              0                     1   \n",
       "8    4:35 PM  ...              0                     3   \n",
       "9    4:35 PM  ...              0                     5   \n",
       "\n",
       "   Uncontested Possessions Contested Marks Marks Inside 50  One Percenters  \\\n",
       "0                        7               1               1               0   \n",
       "1                        4               0               0               3   \n",
       "2                        8               0               0               0   \n",
       "3                       13               0               0               0   \n",
       "4                        2               1               0               1   \n",
       "5                        5               1               1               1   \n",
       "6                        4               1               0               2   \n",
       "7                        5               0               0               2   \n",
       "8                        6               0               1               2   \n",
       "9                        3               2               0               4   \n",
       "\n",
       "   Bounces Goal Assists  % Played  Subs  \n",
       "0        0            1        79   NaN  \n",
       "1        0            0        87   NaN  \n",
       "2        0            0        77   NaN  \n",
       "3        0            1        73   NaN  \n",
       "4        2            0        85   NaN  \n",
       "5        0            1        84   NaN  \n",
       "6        0            0        90   NaN  \n",
       "7        0            0        75   NaN  \n",
       "8        0            0        81   NaN  \n",
       "9        0            0        95   NaN  \n",
       "\n",
       "[10 rows x 42 columns]"
      ]
     },
     "execution_count": 4,
     "metadata": {},
     "output_type": "execute_result"
    }
   ],
   "source": [
    "df_afl.head(10)"
   ]
  },
  {
   "cell_type": "code",
   "execution_count": 5,
   "id": "898156f9",
   "metadata": {
    "execution": {
     "iopub.execute_input": "2022-02-04T10:13:02.485861Z",
     "iopub.status.busy": "2022-02-04T10:13:02.485215Z",
     "iopub.status.idle": "2022-02-04T10:13:02.604162Z",
     "shell.execute_reply": "2022-02-04T10:13:02.604659Z",
     "shell.execute_reply.started": "2022-02-04T10:04:59.828875Z"
    },
    "papermill": {
     "duration": 0.229395,
     "end_time": "2022-02-04T10:13:02.604847",
     "exception": false,
     "start_time": "2022-02-04T10:13:02.375452",
     "status": "completed"
    },
    "tags": []
   },
   "outputs": [
    {
     "data": {
      "text/plain": [
       "Year                           0\n",
       "Round                          0\n",
       "Team                           0\n",
       "Score                          0\n",
       "Margin                         0\n",
       "WinLoss                        0\n",
       "Opposition                     0\n",
       "Day                            0\n",
       "Date                           0\n",
       "Start Time                     0\n",
       "Venue                          0\n",
       "Attendance                     0\n",
       "Rainfall(mm)                1276\n",
       "Player                         0\n",
       "DOB                            0\n",
       "Height                         0\n",
       "Weight                         0\n",
       "Position                       0\n",
       "Disposals                      0\n",
       "Kicks                          0\n",
       "Marks                          0\n",
       "Handballs                      0\n",
       "Goals                          0\n",
       "Behinds                        0\n",
       "Hit Outs                       0\n",
       "Tackles                        0\n",
       "Rebounds                       0\n",
       "Inside 50s                     0\n",
       "Clearances                     0\n",
       "Clangers                       0\n",
       "Frees                          0\n",
       "Frees Against                  0\n",
       "Brownlow Votes                 0\n",
       "Contested Possessions          0\n",
       "Uncontested Possessions        0\n",
       "Contested Marks                0\n",
       "Marks Inside 50                0\n",
       "One Percenters                 0\n",
       "Bounces                        0\n",
       "Goal Assists                   0\n",
       "% Played                       0\n",
       "Subs                       43560\n",
       "dtype: int64"
      ]
     },
     "execution_count": 5,
     "metadata": {},
     "output_type": "execute_result"
    }
   ],
   "source": [
    "df_afl.isnull().sum()"
   ]
  },
  {
   "cell_type": "code",
   "execution_count": 6,
   "id": "01cde7e7",
   "metadata": {
    "execution": {
     "iopub.execute_input": "2022-02-04T10:13:02.820917Z",
     "iopub.status.busy": "2022-02-04T10:13:02.820291Z",
     "iopub.status.idle": "2022-02-04T10:13:02.851236Z",
     "shell.execute_reply": "2022-02-04T10:13:02.851704Z",
     "shell.execute_reply.started": "2022-02-04T10:04:59.949510Z"
    },
    "papermill": {
     "duration": 0.141205,
     "end_time": "2022-02-04T10:13:02.851912",
     "exception": false,
     "start_time": "2022-02-04T10:13:02.710707",
     "status": "completed"
    },
    "tags": []
   },
   "outputs": [],
   "source": [
    "#Renaming the AFL teams with my own abbreviated version\n",
    "\n",
    "d_team_map = {'Adelaide': 'ADL', \n",
    "'Port Adelaide': 'PDL',\n",
    "'Carlton' : 'CAR',\n",
    "'Collingwood' : 'COL', \n",
    "'Richmond': 'RCH',\n",
    "'Brisbane Lions' : 'BRS', \n",
    "'Western Bulldogs' : 'WBL', \n",
    "'Gold Coast' : 'GCS', \n",
    "'Melbourne' : 'MLB',\n",
    "'Geelong' : 'GEE', \n",
    "'Fremantle' : 'FRM', \n",
    "'Hawthorn' : 'HTN', \n",
    "'Sydney' : 'SYD', \n",
    "'St Kilda' : 'STK',\n",
    "'Greater Western Sydney' : 'GWS', \n",
    "'North Melbourne' : 'NML',\n",
    "'Essendon' : 'ESS',\n",
    "'West Coast' : 'WCE'}\n",
    "\n",
    "df_afl['Team'] = df_afl['Team'].map(d_team_map)\n",
    "df_afl['Opposition'] = df_afl['Opposition'].map(d_team_map)"
   ]
  },
  {
   "cell_type": "code",
   "execution_count": 7,
   "id": "4e609f33",
   "metadata": {
    "execution": {
     "iopub.execute_input": "2022-02-04T10:13:03.067649Z",
     "iopub.status.busy": "2022-02-04T10:13:03.067041Z",
     "iopub.status.idle": "2022-02-04T10:13:03.078087Z",
     "shell.execute_reply": "2022-02-04T10:13:03.078579Z",
     "shell.execute_reply.started": "2022-02-04T10:04:59.981552Z"
    },
    "papermill": {
     "duration": 0.120378,
     "end_time": "2022-02-04T10:13:03.078742",
     "exception": false,
     "start_time": "2022-02-04T10:13:02.958364",
     "status": "completed"
    },
    "tags": []
   },
   "outputs": [
    {
     "data": {
      "text/plain": [
       "array(['ADL', 'PDL', 'CAR', 'COL', 'RCH', 'BRS', 'WBL', 'GCS', 'MLB',\n",
       "       'GEE', 'FRM', 'HTN', 'SYD', 'STK', 'GWS', 'NML', 'ESS', 'WCE'],\n",
       "      dtype=object)"
      ]
     },
     "execution_count": 7,
     "metadata": {},
     "output_type": "execute_result"
    }
   ],
   "source": [
    "df_afl['Team'].unique()"
   ]
  },
  {
   "cell_type": "code",
   "execution_count": 8,
   "id": "b934ada4",
   "metadata": {
    "execution": {
     "iopub.execute_input": "2022-02-04T10:13:03.294259Z",
     "iopub.status.busy": "2022-02-04T10:13:03.293628Z",
     "iopub.status.idle": "2022-02-04T10:13:03.305261Z",
     "shell.execute_reply": "2022-02-04T10:13:03.305748Z",
     "shell.execute_reply.started": "2022-02-04T10:04:59.994260Z"
    },
    "papermill": {
     "duration": 0.121502,
     "end_time": "2022-02-04T10:13:03.305930",
     "exception": false,
     "start_time": "2022-02-04T10:13:03.184428",
     "status": "completed"
    },
    "tags": []
   },
   "outputs": [
    {
     "data": {
      "text/plain": [
       "array(['SYD', 'PDL', 'GCS', 'NML', 'HTN', 'GEE', 'STK', 'FRM', 'BRS',\n",
       "       'WCE', 'MLB', 'GWS', 'RCH', 'ESS', 'CAR', 'COL', 'WBL', 'ADL'],\n",
       "      dtype=object)"
      ]
     },
     "execution_count": 8,
     "metadata": {},
     "output_type": "execute_result"
    }
   ],
   "source": [
    "df_afl['Opposition'].unique()"
   ]
  },
  {
   "cell_type": "code",
   "execution_count": 9,
   "id": "49f85382",
   "metadata": {
    "execution": {
     "iopub.execute_input": "2022-02-04T10:13:03.523789Z",
     "iopub.status.busy": "2022-02-04T10:13:03.523165Z",
     "iopub.status.idle": "2022-02-04T10:13:03.535067Z",
     "shell.execute_reply": "2022-02-04T10:13:03.535567Z",
     "shell.execute_reply.started": "2022-02-04T10:05:00.012199Z"
    },
    "papermill": {
     "duration": 0.122388,
     "end_time": "2022-02-04T10:13:03.535733",
     "exception": false,
     "start_time": "2022-02-04T10:13:03.413345",
     "status": "completed"
    },
    "tags": []
   },
   "outputs": [
    {
     "data": {
      "text/plain": [
       "array(['L', 'W', 'D'], dtype=object)"
      ]
     },
     "execution_count": 9,
     "metadata": {},
     "output_type": "execute_result"
    }
   ],
   "source": [
    "df_afl['WinLoss'].unique()"
   ]
  },
  {
   "cell_type": "markdown",
   "id": "a7c6b798",
   "metadata": {
    "papermill": {
     "duration": 0.106839,
     "end_time": "2022-02-04T10:13:03.750422",
     "exception": false,
     "start_time": "2022-02-04T10:13:03.643583",
     "status": "completed"
    },
    "tags": []
   },
   "source": [
    "*The 'WinLoss' colum contains data of type object. In order more efficiently analyse it, lets convert it into numerical data. In order to do so, we can apply the map method once again and change how a loss, win and draw - or L, W, and D, as they are respectivley represented in the data - are characterised.*"
   ]
  },
  {
   "cell_type": "code",
   "execution_count": 10,
   "id": "e1fa24c4",
   "metadata": {
    "execution": {
     "iopub.execute_input": "2022-02-04T10:13:03.969604Z",
     "iopub.status.busy": "2022-02-04T10:13:03.968503Z",
     "iopub.status.idle": "2022-02-04T10:13:03.987175Z",
     "shell.execute_reply": "2022-02-04T10:13:03.986559Z",
     "shell.execute_reply.started": "2022-02-04T10:05:00.029010Z"
    },
    "papermill": {
     "duration": 0.130389,
     "end_time": "2022-02-04T10:13:03.987355",
     "exception": false,
     "start_time": "2022-02-04T10:13:03.856966",
     "status": "completed"
    },
    "tags": []
   },
   "outputs": [],
   "source": [
    "win_dmap = {'W':1 , 'L':0, 'D':0}\n",
    "df_afl['WinLoss'] = df_afl['WinLoss'].map(win_dmap)"
   ]
  },
  {
   "cell_type": "code",
   "execution_count": 11,
   "id": "7c573f67",
   "metadata": {
    "execution": {
     "iopub.execute_input": "2022-02-04T10:13:04.208002Z",
     "iopub.status.busy": "2022-02-04T10:13:04.207350Z",
     "iopub.status.idle": "2022-02-04T10:13:04.213131Z",
     "shell.execute_reply": "2022-02-04T10:13:04.213710Z",
     "shell.execute_reply.started": "2022-02-04T10:05:00.049357Z"
    },
    "papermill": {
     "duration": 0.116626,
     "end_time": "2022-02-04T10:13:04.213924",
     "exception": false,
     "start_time": "2022-02-04T10:13:04.097298",
     "status": "completed"
    },
    "tags": []
   },
   "outputs": [
    {
     "data": {
      "text/plain": [
       "0    0\n",
       "1    0\n",
       "2    0\n",
       "3    0\n",
       "4    0\n",
       "Name: WinLoss, dtype: int64"
      ]
     },
     "execution_count": 11,
     "metadata": {},
     "output_type": "execute_result"
    }
   ],
   "source": [
    "df_afl['WinLoss'].head()"
   ]
  },
  {
   "cell_type": "code",
   "execution_count": 12,
   "id": "6112d71c",
   "metadata": {
    "execution": {
     "iopub.execute_input": "2022-02-04T10:13:04.442277Z",
     "iopub.status.busy": "2022-02-04T10:13:04.441604Z",
     "iopub.status.idle": "2022-02-04T10:13:04.444249Z",
     "shell.execute_reply": "2022-02-04T10:13:04.444728Z",
     "shell.execute_reply.started": "2022-02-04T10:05:00.060044Z"
    },
    "papermill": {
     "duration": 0.122391,
     "end_time": "2022-02-04T10:13:04.444937",
     "exception": false,
     "start_time": "2022-02-04T10:13:04.322546",
     "status": "completed"
    },
    "tags": []
   },
   "outputs": [
    {
     "data": {
      "text/plain": [
       "0    21-Mar-2020\n",
       "1    21-Mar-2020\n",
       "2    21-Mar-2020\n",
       "3    21-Mar-2020\n",
       "4    21-Mar-2020\n",
       "Name: Date, dtype: object"
      ]
     },
     "execution_count": 12,
     "metadata": {},
     "output_type": "execute_result"
    }
   ],
   "source": [
    "df_afl['Date'].head(5)"
   ]
  },
  {
   "cell_type": "code",
   "execution_count": 13,
   "id": "80e20b95",
   "metadata": {
    "execution": {
     "iopub.execute_input": "2022-02-04T10:13:04.666854Z",
     "iopub.status.busy": "2022-02-04T10:13:04.666182Z",
     "iopub.status.idle": "2022-02-04T10:13:04.754890Z",
     "shell.execute_reply": "2022-02-04T10:13:04.754242Z",
     "shell.execute_reply.started": "2022-02-04T10:05:00.071263Z"
    },
    "papermill": {
     "duration": 0.200127,
     "end_time": "2022-02-04T10:13:04.755072",
     "exception": false,
     "start_time": "2022-02-04T10:13:04.554945",
     "status": "completed"
    },
    "tags": []
   },
   "outputs": [],
   "source": [
    "#Converting time stamp on Date column\n",
    "df_afl['Date of Game'] = pd.to_datetime(df_afl['Date'])"
   ]
  },
  {
   "cell_type": "code",
   "execution_count": 14,
   "id": "14cc3639",
   "metadata": {
    "execution": {
     "iopub.execute_input": "2022-02-04T10:13:04.976956Z",
     "iopub.status.busy": "2022-02-04T10:13:04.976225Z",
     "iopub.status.idle": "2022-02-04T10:13:04.983106Z",
     "shell.execute_reply": "2022-02-04T10:13:04.983597Z",
     "shell.execute_reply.started": "2022-02-04T10:05:00.165128Z"
    },
    "papermill": {
     "duration": 0.119713,
     "end_time": "2022-02-04T10:13:04.983843",
     "exception": false,
     "start_time": "2022-02-04T10:13:04.864130",
     "status": "completed"
    },
    "tags": []
   },
   "outputs": [
    {
     "data": {
      "text/plain": [
       "0   2020-03-21\n",
       "1   2020-03-21\n",
       "2   2020-03-21\n",
       "3   2020-03-21\n",
       "4   2020-03-21\n",
       "Name: Date of Game, dtype: datetime64[ns]"
      ]
     },
     "execution_count": 14,
     "metadata": {},
     "output_type": "execute_result"
    }
   ],
   "source": [
    "df_afl['Date of Game'].head()"
   ]
  },
  {
   "cell_type": "markdown",
   "id": "73deb7bb",
   "metadata": {
    "papermill": {
     "duration": 0.108683,
     "end_time": "2022-02-04T10:13:05.202678",
     "exception": false,
     "start_time": "2022-02-04T10:13:05.093995",
     "status": "completed"
    },
    "tags": []
   },
   "source": [
    "**FOCUSING ON FREMANTLE DOCKERS**"
   ]
  },
  {
   "cell_type": "markdown",
   "id": "3a1d73ed",
   "metadata": {
    "papermill": {
     "duration": 0.109469,
     "end_time": "2022-02-04T10:13:05.420865",
     "exception": false,
     "start_time": "2022-02-04T10:13:05.311396",
     "status": "completed"
    },
    "tags": []
   },
   "source": [
    "Now that we have examined the data and made the appropriate changes in order to make it easier for us to perform some analysis, lets create a new dataframe which only considers the Fremantle Dockers (previously abbreviated to FRM). "
   ]
  },
  {
   "cell_type": "code",
   "execution_count": 15,
   "id": "14d3fb60",
   "metadata": {
    "execution": {
     "iopub.execute_input": "2022-02-04T10:13:05.651236Z",
     "iopub.status.busy": "2022-02-04T10:13:05.650299Z",
     "iopub.status.idle": "2022-02-04T10:13:05.684497Z",
     "shell.execute_reply": "2022-02-04T10:13:05.685017Z",
     "shell.execute_reply.started": "2022-02-04T10:05:00.175388Z"
    },
    "papermill": {
     "duration": 0.155642,
     "end_time": "2022-02-04T10:13:05.685241",
     "exception": false,
     "start_time": "2022-02-04T10:13:05.529599",
     "status": "completed"
    },
    "tags": []
   },
   "outputs": [],
   "source": [
    "df_FRM = df_afl[(df_afl['Team'] == 'FRM')]"
   ]
  },
  {
   "cell_type": "code",
   "execution_count": 16,
   "id": "1c950e73",
   "metadata": {
    "execution": {
     "iopub.execute_input": "2022-02-04T10:13:05.907702Z",
     "iopub.status.busy": "2022-02-04T10:13:05.907089Z",
     "iopub.status.idle": "2022-02-04T10:13:05.913737Z",
     "shell.execute_reply": "2022-02-04T10:13:05.913128Z",
     "shell.execute_reply.started": "2022-02-04T10:05:00.219352Z"
    },
    "papermill": {
     "duration": 0.119279,
     "end_time": "2022-02-04T10:13:05.913930",
     "exception": false,
     "start_time": "2022-02-04T10:13:05.794651",
     "status": "completed"
    },
    "tags": []
   },
   "outputs": [
    {
     "data": {
      "text/plain": [
       "1"
      ]
     },
     "execution_count": 16,
     "metadata": {},
     "output_type": "execute_result"
    }
   ],
   "source": [
    "#Lets quickly check that we have copied data over for a single team (FRM) only.\n",
    "df_FRM['Team'].nunique()"
   ]
  },
  {
   "cell_type": "code",
   "execution_count": 17,
   "id": "67ef4ed4",
   "metadata": {
    "execution": {
     "iopub.execute_input": "2022-02-04T10:13:06.140720Z",
     "iopub.status.busy": "2022-02-04T10:13:06.140106Z",
     "iopub.status.idle": "2022-02-04T10:13:06.161542Z",
     "shell.execute_reply": "2022-02-04T10:13:06.162171Z",
     "shell.execute_reply.started": "2022-02-04T10:05:00.229195Z"
    },
    "papermill": {
     "duration": 0.137628,
     "end_time": "2022-02-04T10:13:06.162386",
     "exception": false,
     "start_time": "2022-02-04T10:13:06.024758",
     "status": "completed"
    },
    "tags": []
   },
   "outputs": [
    {
     "name": "stdout",
     "output_type": "stream",
     "text": [
      "<class 'pandas.core.frame.DataFrame'>\n",
      "Int64Index: 4444 entries, 14410 to 49697\n",
      "Data columns (total 43 columns):\n",
      " #   Column                   Non-Null Count  Dtype         \n",
      "---  ------                   --------------  -----         \n",
      " 0   Year                     4444 non-null   int64         \n",
      " 1   Round                    4444 non-null   object        \n",
      " 2   Team                     4444 non-null   object        \n",
      " 3   Score                    4444 non-null   int64         \n",
      " 4   Margin                   4444 non-null   int64         \n",
      " 5   WinLoss                  4444 non-null   int64         \n",
      " 6   Opposition               4444 non-null   object        \n",
      " 7   Day                      4444 non-null   object        \n",
      " 8   Date                     4444 non-null   object        \n",
      " 9   Start Time               4444 non-null   object        \n",
      " 10  Venue                    4444 non-null   object        \n",
      " 11  Attendance               4444 non-null   object        \n",
      " 12  Rainfall(mm)             4378 non-null   float64       \n",
      " 13  Player                   4444 non-null   object        \n",
      " 14  DOB                      4444 non-null   object        \n",
      " 15  Height                   4444 non-null   int64         \n",
      " 16  Weight                   4444 non-null   int64         \n",
      " 17  Position                 4444 non-null   object        \n",
      " 18  Disposals                4444 non-null   int64         \n",
      " 19  Kicks                    4444 non-null   int64         \n",
      " 20  Marks                    4444 non-null   int64         \n",
      " 21  Handballs                4444 non-null   int64         \n",
      " 22  Goals                    4444 non-null   int64         \n",
      " 23  Behinds                  4444 non-null   int64         \n",
      " 24  Hit Outs                 4444 non-null   int64         \n",
      " 25  Tackles                  4444 non-null   int64         \n",
      " 26  Rebounds                 4444 non-null   int64         \n",
      " 27  Inside 50s               4444 non-null   int64         \n",
      " 28  Clearances               4444 non-null   int64         \n",
      " 29  Clangers                 4444 non-null   int64         \n",
      " 30  Frees                    4444 non-null   int64         \n",
      " 31  Frees Against            4444 non-null   int64         \n",
      " 32  Brownlow Votes           4444 non-null   int64         \n",
      " 33  Contested Possessions    4444 non-null   int64         \n",
      " 34  Uncontested Possessions  4444 non-null   int64         \n",
      " 35  Contested Marks          4444 non-null   int64         \n",
      " 36  Marks Inside 50          4444 non-null   int64         \n",
      " 37  One Percenters           4444 non-null   int64         \n",
      " 38  Bounces                  4444 non-null   int64         \n",
      " 39  Goal Assists             4444 non-null   int64         \n",
      " 40  % Played                 4444 non-null   int64         \n",
      " 41  Subs                     2134 non-null   object        \n",
      " 42  Date of Game             4444 non-null   datetime64[ns]\n",
      "dtypes: datetime64[ns](1), float64(1), int64(29), object(12)\n",
      "memory usage: 1.5+ MB\n"
     ]
    }
   ],
   "source": [
    "df_FRM.info()"
   ]
  },
  {
   "cell_type": "markdown",
   "id": "40485629",
   "metadata": {
    "papermill": {
     "duration": 0.109604,
     "end_time": "2022-02-04T10:13:06.382191",
     "exception": false,
     "start_time": "2022-02-04T10:13:06.272587",
     "status": "completed"
    },
    "tags": []
   },
   "source": [
    "**LETS BEGIN OUR ANALYSIS BY FOCUSING ON THE MAIN MEASURE OF SUCCESS: WINS**"
   ]
  },
  {
   "cell_type": "code",
   "execution_count": 18,
   "id": "9b280727",
   "metadata": {
    "execution": {
     "iopub.execute_input": "2022-02-04T10:13:06.608687Z",
     "iopub.status.busy": "2022-02-04T10:13:06.608028Z",
     "iopub.status.idle": "2022-02-04T10:13:06.614509Z",
     "shell.execute_reply": "2022-02-04T10:13:06.615065Z",
     "shell.execute_reply.started": "2022-02-04T10:05:00.257219Z"
    },
    "papermill": {
     "duration": 0.121564,
     "end_time": "2022-02-04T10:13:06.615237",
     "exception": false,
     "start_time": "2022-02-04T10:13:06.493673",
     "status": "completed"
    },
    "tags": []
   },
   "outputs": [
    {
     "data": {
      "text/plain": [
       "Year\n",
       "2012    330\n",
       "2013    396\n",
       "2014    352\n",
       "2015    396\n",
       "2016     88\n",
       "2017    176\n",
       "2018    176\n",
       "2019    198\n",
       "2020    154\n",
       "Name: WinLoss, dtype: int64"
      ]
     },
     "execution_count": 18,
     "metadata": {},
     "output_type": "execute_result"
    }
   ],
   "source": [
    "#Lets begin our analysis by investigating the matches won by Fremantle over the period 2012-2020\n",
    "\n",
    "df_FRM.groupby('Year')['WinLoss'].sum()"
   ]
  },
  {
   "cell_type": "code",
   "execution_count": 19,
   "id": "5d086cb1",
   "metadata": {
    "execution": {
     "iopub.execute_input": "2022-02-04T10:13:06.839468Z",
     "iopub.status.busy": "2022-02-04T10:13:06.838756Z",
     "iopub.status.idle": "2022-02-04T10:13:06.856154Z",
     "shell.execute_reply": "2022-02-04T10:13:06.856712Z",
     "shell.execute_reply.started": "2022-02-04T10:05:00.266752Z"
    },
    "papermill": {
     "duration": 0.131933,
     "end_time": "2022-02-04T10:13:06.856910",
     "exception": false,
     "start_time": "2022-02-04T10:13:06.724977",
     "status": "completed"
    },
    "tags": []
   },
   "outputs": [
    {
     "data": {
      "text/plain": [
       "Year  Date of Game\n",
       "2012  2012-03-31      22\n",
       "      2012-04-07      22\n",
       "      2012-04-14      22\n",
       "      2012-04-20      22\n",
       "      2012-04-27      22\n",
       "                      ..\n",
       "2020  2020-08-29      22\n",
       "      2020-09-02      22\n",
       "      2020-09-07      22\n",
       "      2020-09-12      22\n",
       "      2020-09-20      22\n",
       "Name: Player, Length: 202, dtype: int64"
      ]
     },
     "execution_count": 19,
     "metadata": {},
     "output_type": "execute_result"
    }
   ],
   "source": [
    "#Obviously FRM did not win 303 games in a single season. \n",
    "#It would seem that the sum of 'WinLoss' is counting every single player involved \n",
    "#So lets take a look at the number of players that took part in each match\n",
    "\n",
    "df_FRM.groupby(['Year', 'Date of Game'])['Player'].nunique()"
   ]
  },
  {
   "cell_type": "code",
   "execution_count": 20,
   "id": "9a027139",
   "metadata": {
    "execution": {
     "iopub.execute_input": "2022-02-04T10:13:07.080911Z",
     "iopub.status.busy": "2022-02-04T10:13:07.080287Z",
     "iopub.status.idle": "2022-02-04T10:13:07.090473Z",
     "shell.execute_reply": "2022-02-04T10:13:07.089979Z",
     "shell.execute_reply.started": "2022-02-04T10:05:00.289506Z"
    },
    "papermill": {
     "duration": 0.122946,
     "end_time": "2022-02-04T10:13:07.090614",
     "exception": false,
     "start_time": "2022-02-04T10:13:06.967668",
     "status": "completed"
    },
    "tags": []
   },
   "outputs": [
    {
     "data": {
      "text/plain": [
       "1"
      ]
     },
     "execution_count": 20,
     "metadata": {},
     "output_type": "execute_result"
    }
   ],
   "source": [
    "#It appears that there are always 22 players involved. Lets confirm this by checking the number of \n",
    "#unique values for the unique players\n",
    "\n",
    "df_FRM.groupby(['Year', 'Date of Game'])['Player'].nunique().nunique()"
   ]
  },
  {
   "cell_type": "code",
   "execution_count": 21,
   "id": "e872b1e0",
   "metadata": {
    "execution": {
     "iopub.execute_input": "2022-02-04T10:13:07.313829Z",
     "iopub.status.busy": "2022-02-04T10:13:07.313201Z",
     "iopub.status.idle": "2022-02-04T10:13:07.322225Z",
     "shell.execute_reply": "2022-02-04T10:13:07.322784Z",
     "shell.execute_reply.started": "2022-02-04T10:05:00.300394Z"
    },
    "papermill": {
     "duration": 0.122143,
     "end_time": "2022-02-04T10:13:07.322972",
     "exception": false,
     "start_time": "2022-02-04T10:13:07.200829",
     "status": "completed"
    },
    "tags": []
   },
   "outputs": [
    {
     "data": {
      "text/plain": [
       "Year\n",
       "2012    15.0\n",
       "2013    18.0\n",
       "2014    16.0\n",
       "2015    18.0\n",
       "2016     4.0\n",
       "2017     8.0\n",
       "2018     8.0\n",
       "2019     9.0\n",
       "2020     7.0\n",
       "Name: WinLoss, dtype: float64"
      ]
     },
     "execution_count": 21,
     "metadata": {},
     "output_type": "execute_result"
    }
   ],
   "source": [
    "#as there are always 22 players, we can divide by 22 to find the amount of matches won each season\n",
    "\n",
    "df_FRM.groupby('Year')['WinLoss'].sum().div(22)"
   ]
  },
  {
   "cell_type": "code",
   "execution_count": 22,
   "id": "baaff093",
   "metadata": {
    "execution": {
     "iopub.execute_input": "2022-02-04T10:13:07.547011Z",
     "iopub.status.busy": "2022-02-04T10:13:07.546379Z",
     "iopub.status.idle": "2022-02-04T10:13:07.564942Z",
     "shell.execute_reply": "2022-02-04T10:13:07.564412Z",
     "shell.execute_reply.started": "2022-02-04T10:05:00.313906Z"
    },
    "papermill": {
     "duration": 0.132088,
     "end_time": "2022-02-04T10:13:07.565085",
     "exception": false,
     "start_time": "2022-02-04T10:13:07.432997",
     "status": "completed"
    },
    "tags": []
   },
   "outputs": [
    {
     "data": {
      "text/html": [
       "<div>\n",
       "<style scoped>\n",
       "    .dataframe tbody tr th:only-of-type {\n",
       "        vertical-align: middle;\n",
       "    }\n",
       "\n",
       "    .dataframe tbody tr th {\n",
       "        vertical-align: top;\n",
       "    }\n",
       "\n",
       "    .dataframe thead th {\n",
       "        text-align: right;\n",
       "    }\n",
       "</style>\n",
       "<table border=\"1\" class=\"dataframe\">\n",
       "  <thead>\n",
       "    <tr style=\"text-align: right;\">\n",
       "      <th></th>\n",
       "      <th>Matches Won</th>\n",
       "      <th>Matches Played</th>\n",
       "    </tr>\n",
       "    <tr>\n",
       "      <th>Year</th>\n",
       "      <th></th>\n",
       "      <th></th>\n",
       "    </tr>\n",
       "  </thead>\n",
       "  <tbody>\n",
       "    <tr>\n",
       "      <th>2012</th>\n",
       "      <td>15</td>\n",
       "      <td>24</td>\n",
       "    </tr>\n",
       "    <tr>\n",
       "      <th>2013</th>\n",
       "      <td>18</td>\n",
       "      <td>25</td>\n",
       "    </tr>\n",
       "    <tr>\n",
       "      <th>2014</th>\n",
       "      <td>16</td>\n",
       "      <td>24</td>\n",
       "    </tr>\n",
       "    <tr>\n",
       "      <th>2015</th>\n",
       "      <td>18</td>\n",
       "      <td>24</td>\n",
       "    </tr>\n",
       "    <tr>\n",
       "      <th>2016</th>\n",
       "      <td>4</td>\n",
       "      <td>22</td>\n",
       "    </tr>\n",
       "    <tr>\n",
       "      <th>2017</th>\n",
       "      <td>8</td>\n",
       "      <td>22</td>\n",
       "    </tr>\n",
       "    <tr>\n",
       "      <th>2018</th>\n",
       "      <td>8</td>\n",
       "      <td>22</td>\n",
       "    </tr>\n",
       "    <tr>\n",
       "      <th>2019</th>\n",
       "      <td>9</td>\n",
       "      <td>22</td>\n",
       "    </tr>\n",
       "    <tr>\n",
       "      <th>2020</th>\n",
       "      <td>7</td>\n",
       "      <td>17</td>\n",
       "    </tr>\n",
       "  </tbody>\n",
       "</table>\n",
       "</div>"
      ],
      "text/plain": [
       "      Matches Won  Matches Played\n",
       "Year                             \n",
       "2012           15              24\n",
       "2013           18              25\n",
       "2014           16              24\n",
       "2015           18              24\n",
       "2016            4              22\n",
       "2017            8              22\n",
       "2018            8              22\n",
       "2019            9              22\n",
       "2020            7              17"
      ]
     },
     "execution_count": 22,
     "metadata": {},
     "output_type": "execute_result"
    }
   ],
   "source": [
    "#We can quickly compare the amount of matches won against the amount of matches played\n",
    "\n",
    "df_FRM.groupby('Year').agg({'WinLoss': lambda x: sum(x)/22, \n",
    "                           'Date of Game':'nunique'}).rename(columns={'WinLoss':'Matches Won', \n",
    "                                                                     'Date of Game':'Matches Played'})"
   ]
  },
  {
   "cell_type": "code",
   "execution_count": 23,
   "id": "7b13625b",
   "metadata": {
    "execution": {
     "iopub.execute_input": "2022-02-04T10:13:07.791386Z",
     "iopub.status.busy": "2022-02-04T10:13:07.790749Z",
     "iopub.status.idle": "2022-02-04T10:13:07.807265Z",
     "shell.execute_reply": "2022-02-04T10:13:07.807756Z",
     "shell.execute_reply.started": "2022-02-04T10:05:00.335042Z"
    },
    "papermill": {
     "duration": 0.13042,
     "end_time": "2022-02-04T10:13:07.808004",
     "exception": false,
     "start_time": "2022-02-04T10:13:07.677584",
     "status": "completed"
    },
    "tags": []
   },
   "outputs": [],
   "source": [
    "#Lets compare the number of wins each season for Fremantle against their AFL opposition\n",
    "#Carry the data over to a separate dataframe\n",
    "\n",
    "df_afl_wins = pd.DataFrame(df_afl.groupby(['Team', 'Year'])['WinLoss'].sum().div(22))"
   ]
  },
  {
   "cell_type": "code",
   "execution_count": 24,
   "id": "f439fe6f",
   "metadata": {
    "execution": {
     "iopub.execute_input": "2022-02-04T10:13:08.036107Z",
     "iopub.status.busy": "2022-02-04T10:13:08.035460Z",
     "iopub.status.idle": "2022-02-04T10:13:08.045980Z",
     "shell.execute_reply": "2022-02-04T10:13:08.046450Z",
     "shell.execute_reply.started": "2022-02-04T10:05:00.354364Z"
    },
    "papermill": {
     "duration": 0.125157,
     "end_time": "2022-02-04T10:13:08.046639",
     "exception": false,
     "start_time": "2022-02-04T10:13:07.921482",
     "status": "completed"
    },
    "tags": []
   },
   "outputs": [
    {
     "data": {
      "text/html": [
       "<div>\n",
       "<style scoped>\n",
       "    .dataframe tbody tr th:only-of-type {\n",
       "        vertical-align: middle;\n",
       "    }\n",
       "\n",
       "    .dataframe tbody tr th {\n",
       "        vertical-align: top;\n",
       "    }\n",
       "\n",
       "    .dataframe thead th {\n",
       "        text-align: right;\n",
       "    }\n",
       "</style>\n",
       "<table border=\"1\" class=\"dataframe\">\n",
       "  <thead>\n",
       "    <tr style=\"text-align: right;\">\n",
       "      <th></th>\n",
       "      <th></th>\n",
       "      <th>WinLoss</th>\n",
       "    </tr>\n",
       "    <tr>\n",
       "      <th>Team</th>\n",
       "      <th>Year</th>\n",
       "      <th></th>\n",
       "    </tr>\n",
       "  </thead>\n",
       "  <tbody>\n",
       "    <tr>\n",
       "      <th rowspan=\"9\" valign=\"top\">ADL</th>\n",
       "      <th>2012</th>\n",
       "      <td>18.0</td>\n",
       "    </tr>\n",
       "    <tr>\n",
       "      <th>2013</th>\n",
       "      <td>10.0</td>\n",
       "    </tr>\n",
       "    <tr>\n",
       "      <th>2014</th>\n",
       "      <td>11.0</td>\n",
       "    </tr>\n",
       "    <tr>\n",
       "      <th>2015</th>\n",
       "      <td>14.0</td>\n",
       "    </tr>\n",
       "    <tr>\n",
       "      <th>2016</th>\n",
       "      <td>17.0</td>\n",
       "    </tr>\n",
       "    <tr>\n",
       "      <th>2017</th>\n",
       "      <td>17.0</td>\n",
       "    </tr>\n",
       "    <tr>\n",
       "      <th>2018</th>\n",
       "      <td>12.0</td>\n",
       "    </tr>\n",
       "    <tr>\n",
       "      <th>2019</th>\n",
       "      <td>10.0</td>\n",
       "    </tr>\n",
       "    <tr>\n",
       "      <th>2020</th>\n",
       "      <td>3.0</td>\n",
       "    </tr>\n",
       "    <tr>\n",
       "      <th>BRS</th>\n",
       "      <th>2012</th>\n",
       "      <td>10.0</td>\n",
       "    </tr>\n",
       "  </tbody>\n",
       "</table>\n",
       "</div>"
      ],
      "text/plain": [
       "           WinLoss\n",
       "Team Year         \n",
       "ADL  2012     18.0\n",
       "     2013     10.0\n",
       "     2014     11.0\n",
       "     2015     14.0\n",
       "     2016     17.0\n",
       "     2017     17.0\n",
       "     2018     12.0\n",
       "     2019     10.0\n",
       "     2020      3.0\n",
       "BRS  2012     10.0"
      ]
     },
     "execution_count": 24,
     "metadata": {},
     "output_type": "execute_result"
    }
   ],
   "source": [
    "df_afl_wins.head(10)"
   ]
  },
  {
   "cell_type": "code",
   "execution_count": 25,
   "id": "19402f0e",
   "metadata": {
    "execution": {
     "iopub.execute_input": "2022-02-04T10:13:08.276051Z",
     "iopub.status.busy": "2022-02-04T10:13:08.275398Z",
     "iopub.status.idle": "2022-02-04T10:13:08.280364Z",
     "shell.execute_reply": "2022-02-04T10:13:08.280840Z",
     "shell.execute_reply.started": "2022-02-04T10:05:00.368391Z"
    },
    "papermill": {
     "duration": 0.121477,
     "end_time": "2022-02-04T10:13:08.281012",
     "exception": false,
     "start_time": "2022-02-04T10:13:08.159535",
     "status": "completed"
    },
    "tags": []
   },
   "outputs": [],
   "source": [
    "df_afl_wins.reset_index(inplace=True)"
   ]
  },
  {
   "cell_type": "code",
   "execution_count": 26,
   "id": "ef44d2f4",
   "metadata": {
    "execution": {
     "iopub.execute_input": "2022-02-04T10:13:08.510444Z",
     "iopub.status.busy": "2022-02-04T10:13:08.509821Z",
     "iopub.status.idle": "2022-02-04T10:13:08.522788Z",
     "shell.execute_reply": "2022-02-04T10:13:08.523316Z",
     "shell.execute_reply.started": "2022-02-04T10:05:00.378670Z"
    },
    "papermill": {
     "duration": 0.130373,
     "end_time": "2022-02-04T10:13:08.523482",
     "exception": false,
     "start_time": "2022-02-04T10:13:08.393109",
     "status": "completed"
    },
    "tags": []
   },
   "outputs": [
    {
     "data": {
      "text/html": [
       "<div>\n",
       "<style scoped>\n",
       "    .dataframe tbody tr th:only-of-type {\n",
       "        vertical-align: middle;\n",
       "    }\n",
       "\n",
       "    .dataframe tbody tr th {\n",
       "        vertical-align: top;\n",
       "    }\n",
       "\n",
       "    .dataframe thead th {\n",
       "        text-align: right;\n",
       "    }\n",
       "</style>\n",
       "<table border=\"1\" class=\"dataframe\">\n",
       "  <thead>\n",
       "    <tr style=\"text-align: right;\">\n",
       "      <th></th>\n",
       "      <th>Year</th>\n",
       "      <th>WinLoss</th>\n",
       "    </tr>\n",
       "    <tr>\n",
       "      <th>Team</th>\n",
       "      <th></th>\n",
       "      <th></th>\n",
       "    </tr>\n",
       "  </thead>\n",
       "  <tbody>\n",
       "    <tr>\n",
       "      <th>ADL</th>\n",
       "      <td>2012</td>\n",
       "      <td>18.0</td>\n",
       "    </tr>\n",
       "    <tr>\n",
       "      <th>ADL</th>\n",
       "      <td>2013</td>\n",
       "      <td>10.0</td>\n",
       "    </tr>\n",
       "    <tr>\n",
       "      <th>ADL</th>\n",
       "      <td>2014</td>\n",
       "      <td>11.0</td>\n",
       "    </tr>\n",
       "    <tr>\n",
       "      <th>ADL</th>\n",
       "      <td>2015</td>\n",
       "      <td>14.0</td>\n",
       "    </tr>\n",
       "    <tr>\n",
       "      <th>ADL</th>\n",
       "      <td>2016</td>\n",
       "      <td>17.0</td>\n",
       "    </tr>\n",
       "    <tr>\n",
       "      <th>...</th>\n",
       "      <td>...</td>\n",
       "      <td>...</td>\n",
       "    </tr>\n",
       "    <tr>\n",
       "      <th>WCE</th>\n",
       "      <td>2016</td>\n",
       "      <td>16.0</td>\n",
       "    </tr>\n",
       "    <tr>\n",
       "      <th>WCE</th>\n",
       "      <td>2017</td>\n",
       "      <td>13.0</td>\n",
       "    </tr>\n",
       "    <tr>\n",
       "      <th>WCE</th>\n",
       "      <td>2018</td>\n",
       "      <td>19.0</td>\n",
       "    </tr>\n",
       "    <tr>\n",
       "      <th>WCE</th>\n",
       "      <td>2019</td>\n",
       "      <td>16.0</td>\n",
       "    </tr>\n",
       "    <tr>\n",
       "      <th>WCE</th>\n",
       "      <td>2020</td>\n",
       "      <td>12.0</td>\n",
       "    </tr>\n",
       "  </tbody>\n",
       "</table>\n",
       "<p>162 rows × 2 columns</p>\n",
       "</div>"
      ],
      "text/plain": [
       "      Year  WinLoss\n",
       "Team               \n",
       "ADL   2012     18.0\n",
       "ADL   2013     10.0\n",
       "ADL   2014     11.0\n",
       "ADL   2015     14.0\n",
       "ADL   2016     17.0\n",
       "...    ...      ...\n",
       "WCE   2016     16.0\n",
       "WCE   2017     13.0\n",
       "WCE   2018     19.0\n",
       "WCE   2019     16.0\n",
       "WCE   2020     12.0\n",
       "\n",
       "[162 rows x 2 columns]"
      ]
     },
     "execution_count": 26,
     "metadata": {},
     "output_type": "execute_result"
    }
   ],
   "source": [
    "df_afl_wins.set_index('Team')"
   ]
  },
  {
   "cell_type": "code",
   "execution_count": 27,
   "id": "822ecd3b",
   "metadata": {
    "execution": {
     "iopub.execute_input": "2022-02-04T10:13:08.784742Z",
     "iopub.status.busy": "2022-02-04T10:13:08.783795Z",
     "iopub.status.idle": "2022-02-04T10:13:08.788663Z",
     "shell.execute_reply": "2022-02-04T10:13:08.789286Z",
     "shell.execute_reply.started": "2022-02-04T10:05:00.399217Z"
    },
    "papermill": {
     "duration": 0.149789,
     "end_time": "2022-02-04T10:13:08.789455",
     "exception": false,
     "start_time": "2022-02-04T10:13:08.639666",
     "status": "completed"
    },
    "tags": []
   },
   "outputs": [],
   "source": [
    "df_afl_wins.rename(columns={'WinLoss':'Matches Won'}, inplace = True)"
   ]
  },
  {
   "cell_type": "code",
   "execution_count": 28,
   "id": "950fb9d9",
   "metadata": {
    "execution": {
     "iopub.execute_input": "2022-02-04T10:13:09.019623Z",
     "iopub.status.busy": "2022-02-04T10:13:09.018644Z",
     "iopub.status.idle": "2022-02-04T10:13:09.960398Z",
     "shell.execute_reply": "2022-02-04T10:13:09.959780Z",
     "shell.execute_reply.started": "2022-02-04T10:05:00.404801Z"
    },
    "papermill": {
     "duration": 1.058205,
     "end_time": "2022-02-04T10:13:09.960558",
     "exception": false,
     "start_time": "2022-02-04T10:13:08.902353",
     "status": "completed"
    },
    "tags": []
   },
   "outputs": [
    {
     "data": {
      "image/png": "[encoded data removed]",
      "text/plain": [
       "<Figure size 1296x432 with 1 Axes>"
      ]
     },
     "metadata": {
      "needs_background": "light"
     },
     "output_type": "display_data"
    }
   ],
   "source": [
    "#Plot the data in order to quickly visualise how the amount of wins accumulated each season \n",
    "#by Fremantle compares to other teams in the AFL.\n",
    "\n",
    "plt.figure(figsize = (18,6))\n",
    "\n",
    "sns.barplot(data = df_afl_wins, x = 'Year', y = 'Matches Won', hue = 'Team', \n",
    "                  palette = {'ADL': 'lightgrey', \n",
    "                            'PDL' : 'lightgrey', \n",
    "                            'CAR' : 'lightgrey', \n",
    "                            'COL' : 'lightgrey', \n",
    "                            'RCH' : 'lightgrey',\n",
    "                            'BRS' : 'lightgrey', \n",
    "                            'WBL' : 'lightgrey',\n",
    "                            'GCS' : 'lightgrey', \n",
    "                            'MLB' : 'lightgrey',\n",
    "                            'GEE' : 'lightgrey', \n",
    "                            'FRM' : 'purple', \n",
    "                            'HTN' : 'lightgrey', \n",
    "                            'SYD' : 'lightgrey', \n",
    "                            'STK' : 'lightgrey',\n",
    "                            'GWS' : 'lightgrey', \n",
    "                            'NML' : 'lightgrey', \n",
    "                            'ESS' : 'lightgrey',\n",
    "                            'WCE' : 'lightgrey' })\n",
    "\n",
    "\n",
    "plt.legend(loc = 'center left', bbox_to_anchor = (1.0, 0.5))\n",
    "plt.xlabel('Year', fontsize=14)\n",
    "plt.xticks(fontsize=12)\n",
    "plt.ylabel('Matches Won', fontsize=14)\n",
    "plt.yticks(fontsize=12)\n",
    "plt.title('Matches Won Each Season From 2012 To 2020', fontsize=16)\n",
    "plt.show()"
   ]
  },
  {
   "cell_type": "markdown",
   "id": "25d4a82f",
   "metadata": {
    "papermill": {
     "duration": 0.112615,
     "end_time": "2022-02-04T10:13:10.187051",
     "exception": false,
     "start_time": "2022-02-04T10:13:10.074436",
     "status": "completed"
    },
    "tags": []
   },
   "source": [
    "As we have the total number of matches played and the number of matches won each season, we can also plot Fremantle's win percentage for each season. "
   ]
  },
  {
   "cell_type": "code",
   "execution_count": 29,
   "id": "a414fa70",
   "metadata": {
    "execution": {
     "iopub.execute_input": "2022-02-04T10:13:10.423245Z",
     "iopub.status.busy": "2022-02-04T10:13:10.420868Z",
     "iopub.status.idle": "2022-02-04T10:13:10.735731Z",
     "shell.execute_reply": "2022-02-04T10:13:10.736262Z",
     "shell.execute_reply.started": "2022-02-04T10:05:01.365035Z"
    },
    "papermill": {
     "duration": 0.43649,
     "end_time": "2022-02-04T10:13:10.736428",
     "exception": false,
     "start_time": "2022-02-04T10:13:10.299938",
     "status": "completed"
    },
    "tags": []
   },
   "outputs": [
    {
     "data": {
      "image/png": "[encoded data removed]",
      "text/plain": [
       "<Figure size 1296x432 with 1 Axes>"
      ]
     },
     "metadata": {
      "needs_background": "light"
     },
     "output_type": "display_data"
    }
   ],
   "source": [
    "plt.figure(figsize=(18,6))\n",
    "\n",
    "matches_won = df_FRM.groupby('Year')['WinLoss'].sum().div(22)\n",
    "matches_played = df_FRM.groupby('Year')['Date'].nunique()\n",
    "\n",
    "chart = matches_won.div(matches_played).mul(100).plot(kind='bar',color='purple')\n",
    "\n",
    "for p in chart.patches:\n",
    "             chart.annotate(\"%.0f\" % p.get_height(), (p.get_x() + p.get_width() / 2., p.get_height()),\n",
    "                 ha='center', va='center', fontsize=12, color='black', xytext=(0,5),\n",
    "                 textcoords='offset points')\n",
    "\n",
    "plt.xticks(rotation=0)\n",
    "plt.xlabel('Year', fontsize=14)\n",
    "plt.xticks(fontsize=12)\n",
    "plt.ylabel('Win %', fontsize=14)\n",
    "plt.yticks(fontsize=12)\n",
    "plt.title('Fremantle Win Percentage', fontsize=16)\n",
    "plt.show()"
   ]
  },
  {
   "cell_type": "markdown",
   "id": "4f6a724e",
   "metadata": {
    "papermill": {
     "duration": 0.114821,
     "end_time": "2022-02-04T10:13:10.966546",
     "exception": false,
     "start_time": "2022-02-04T10:13:10.851725",
     "status": "completed"
    },
    "tags": []
   },
   "source": [
    "What about the percentage of matches won by Fremantle against each AFL opposition? What does that look like?"
   ]
  },
  {
   "cell_type": "code",
   "execution_count": 30,
   "id": "55d335b0",
   "metadata": {
    "execution": {
     "iopub.execute_input": "2022-02-04T10:13:11.199731Z",
     "iopub.status.busy": "2022-02-04T10:13:11.198719Z",
     "iopub.status.idle": "2022-02-04T10:13:11.602296Z",
     "shell.execute_reply": "2022-02-04T10:13:11.602853Z",
     "shell.execute_reply.started": "2022-02-04T10:05:01.679521Z"
    },
    "papermill": {
     "duration": 0.521457,
     "end_time": "2022-02-04T10:13:11.603082",
     "exception": false,
     "start_time": "2022-02-04T10:13:11.081625",
     "status": "completed"
    },
    "tags": []
   },
   "outputs": [
    {
     "data": {
      "image/png": "[encoded data removed]",
      "text/plain": [
       "<Figure size 1296x432 with 1 Axes>"
      ]
     },
     "metadata": {
      "needs_background": "light"
     },
     "output_type": "display_data"
    }
   ],
   "source": [
    "#Fremantle win percentage against each opposition from 2012-2020 inclusive\n",
    "plt.figure(figsize=(18,6))\n",
    "\n",
    "matches_won = df_FRM.groupby('Opposition')['WinLoss'].sum().div(22)\n",
    "matches_against_opposition = df_FRM.groupby('Opposition')['Date'].nunique()\n",
    "\n",
    "chart = matches_won.div(matches_against_opposition).mul(100).plot(kind='bar',color='purple')\n",
    "\n",
    "for p in chart.patches:\n",
    "             chart.annotate(\"%.0f\" % p.get_height(), (p.get_x() + p.get_width() / 2., p.get_height()),\n",
    "                 ha='center', va='center', fontsize=12, color='black', xytext=(0,5),\n",
    "                 textcoords='offset points')\n",
    "\n",
    "plt.title('Fremantle Win Percentage Against AFL Opposition', \n",
    "         fontsize=16)\n",
    "plt.xticks(rotation=0)\n",
    "plt.xlabel('Opposition', fontsize=14)\n",
    "plt.xticks(fontsize=12)\n",
    "plt.ylabel('Win %', fontsize=14)\n",
    "plt.yticks(fontsize=12)\n",
    "\n",
    "plt.show()"
   ]
  },
  {
   "cell_type": "markdown",
   "id": "fea1b874",
   "metadata": {
    "papermill": {
     "duration": 0.115139,
     "end_time": "2022-02-04T10:13:11.836919",
     "exception": false,
     "start_time": "2022-02-04T10:13:11.721780",
     "status": "completed"
    },
    "tags": []
   },
   "source": [
    "As shown above, Fremantle's best win percentage is against MLB (Melbourne). The Dockers boast a win percentage of 75% against the Demons but, in sharp contrast, have manged to overcome HTN (Hawthorn) only 17% of the time. This incredibly low win percentage is more than half of their next lowest score, held against their bitter rivals WCE (West Coast Eagles) at 35%, and shows the Hawks to be a true thorn in the Dockers' side."
   ]
  },
  {
   "cell_type": "markdown",
   "id": "b094e633",
   "metadata": {
    "papermill": {
     "duration": 0.115921,
     "end_time": "2022-02-04T10:13:12.067908",
     "exception": false,
     "start_time": "2022-02-04T10:13:11.951987",
     "status": "completed"
    },
    "tags": []
   },
   "source": [
    "**HOME AND AWAY**"
   ]
  },
  {
   "cell_type": "markdown",
   "id": "e2274349",
   "metadata": {
    "papermill": {
     "duration": 0.117808,
     "end_time": "2022-02-04T10:13:12.301171",
     "exception": false,
     "start_time": "2022-02-04T10:13:12.183363",
     "status": "completed"
    },
    "tags": []
   },
   "source": [
    "In many sports, playing at home is seen as a great advantage. Lets see if this is true for Fremantle by analyising their winning record at home and away.\n",
    "\n",
    "In this case, I refer to 'playing at home' as playing in your home stadium regardless to whether a team is scheduled as the home or away team. As FRM and WCE share a stadium, although FRM may be regarded as the 'away' team due to how the fixture list is designed, given that when these two teams meet FRM is playing in its home stadium, the fixture is counted as being a home match for FRM. "
   ]
  },
  {
   "cell_type": "code",
   "execution_count": 31,
   "id": "cf18ab86",
   "metadata": {
    "execution": {
     "iopub.execute_input": "2022-02-04T10:13:12.537385Z",
     "iopub.status.busy": "2022-02-04T10:13:12.536678Z",
     "iopub.status.idle": "2022-02-04T10:13:12.543431Z",
     "shell.execute_reply": "2022-02-04T10:13:12.543984Z",
     "shell.execute_reply.started": "2022-02-04T10:05:02.095108Z"
    },
    "papermill": {
     "duration": 0.127941,
     "end_time": "2022-02-04T10:13:12.544159",
     "exception": false,
     "start_time": "2022-02-04T10:13:12.416218",
     "status": "completed"
    },
    "tags": []
   },
   "outputs": [],
   "source": [
    "#Venue column shows where the match was played. We can thus look at performance home and away. \n",
    "#Lets create an array where 1 represents a home match and 0 an away match.\n",
    "\n",
    "Home_or_away = []\n",
    "\n",
    "for venue in df_FRM['Venue']:\n",
    "    if venue == 'Subiaco':\n",
    "        i = 1\n",
    "        Home_or_away.append(i)\n",
    "    elif venue == 'Perth Stadium':\n",
    "        i = 1\n",
    "        Home_or_away.append(i)\n",
    "    #Between 2012 and 2020, both teams moved to a new stadium so both need to be account for as home grounds\n",
    "    else:\n",
    "        i = 0\n",
    "        Home_or_away.append(i)"
   ]
  },
  {
   "cell_type": "code",
   "execution_count": 32,
   "id": "2e7a1712",
   "metadata": {
    "execution": {
     "iopub.execute_input": "2022-02-04T10:13:12.783860Z",
     "iopub.status.busy": "2022-02-04T10:13:12.783135Z",
     "iopub.status.idle": "2022-02-04T10:13:12.785980Z",
     "shell.execute_reply": "2022-02-04T10:13:12.785353Z",
     "shell.execute_reply.started": "2022-02-04T10:05:02.104847Z"
    },
    "papermill": {
     "duration": 0.126705,
     "end_time": "2022-02-04T10:13:12.786169",
     "exception": false,
     "start_time": "2022-02-04T10:13:12.659464",
     "status": "completed"
    },
    "tags": []
   },
   "outputs": [],
   "source": [
    "Home_or_away_series = pd.Series([Home_or_away])"
   ]
  },
  {
   "cell_type": "code",
   "execution_count": 33,
   "id": "924ee427",
   "metadata": {
    "execution": {
     "iopub.execute_input": "2022-02-04T10:13:13.032017Z",
     "iopub.status.busy": "2022-02-04T10:13:13.031134Z",
     "iopub.status.idle": "2022-02-04T10:13:13.037766Z",
     "shell.execute_reply": "2022-02-04T10:13:13.037180Z",
     "shell.execute_reply.started": "2022-02-04T10:05:02.119743Z"
    },
    "papermill": {
     "duration": 0.129194,
     "end_time": "2022-02-04T10:13:13.037940",
     "exception": false,
     "start_time": "2022-02-04T10:13:12.908746",
     "status": "completed"
    },
    "tags": []
   },
   "outputs": [],
   "source": [
    "df_FRM = df_FRM.assign(Home = Home_or_away)"
   ]
  },
  {
   "cell_type": "code",
   "execution_count": 34,
   "id": "e74c3a65",
   "metadata": {
    "execution": {
     "iopub.execute_input": "2022-02-04T10:13:13.278607Z",
     "iopub.status.busy": "2022-02-04T10:13:13.277906Z",
     "iopub.status.idle": "2022-02-04T10:13:13.281649Z",
     "shell.execute_reply": "2022-02-04T10:13:13.281104Z",
     "shell.execute_reply.started": "2022-02-04T10:05:02.135206Z"
    },
    "papermill": {
     "duration": 0.126515,
     "end_time": "2022-02-04T10:13:13.281828",
     "exception": false,
     "start_time": "2022-02-04T10:13:13.155313",
     "status": "completed"
    },
    "tags": []
   },
   "outputs": [
    {
     "data": {
      "text/plain": [
       "array([0, 1])"
      ]
     },
     "execution_count": 34,
     "metadata": {},
     "output_type": "execute_result"
    }
   ],
   "source": [
    "df_FRM['Home'].unique()"
   ]
  },
  {
   "cell_type": "code",
   "execution_count": 35,
   "id": "0900fd04",
   "metadata": {
    "execution": {
     "iopub.execute_input": "2022-02-04T10:13:13.521918Z",
     "iopub.status.busy": "2022-02-04T10:13:13.521231Z",
     "iopub.status.idle": "2022-02-04T10:13:13.540459Z",
     "shell.execute_reply": "2022-02-04T10:13:13.540938Z",
     "shell.execute_reply.started": "2022-02-04T10:05:02.144232Z"
    },
    "papermill": {
     "duration": 0.140241,
     "end_time": "2022-02-04T10:13:13.541140",
     "exception": false,
     "start_time": "2022-02-04T10:13:13.400899",
     "status": "completed"
    },
    "tags": []
   },
   "outputs": [
    {
     "data": {
      "text/html": [
       "<div>\n",
       "<style scoped>\n",
       "    .dataframe tbody tr th:only-of-type {\n",
       "        vertical-align: middle;\n",
       "    }\n",
       "\n",
       "    .dataframe tbody tr th {\n",
       "        vertical-align: top;\n",
       "    }\n",
       "\n",
       "    .dataframe thead th {\n",
       "        text-align: right;\n",
       "    }\n",
       "</style>\n",
       "<table border=\"1\" class=\"dataframe\">\n",
       "  <thead>\n",
       "    <tr style=\"text-align: right;\">\n",
       "      <th></th>\n",
       "      <th></th>\n",
       "      <th>Matches Played</th>\n",
       "      <th>Matches Won</th>\n",
       "    </tr>\n",
       "    <tr>\n",
       "      <th>Opposition</th>\n",
       "      <th>Home</th>\n",
       "      <th></th>\n",
       "      <th></th>\n",
       "    </tr>\n",
       "  </thead>\n",
       "  <tbody>\n",
       "    <tr>\n",
       "      <th rowspan=\"2\" valign=\"top\">ADL</th>\n",
       "      <th>0</th>\n",
       "      <td>8</td>\n",
       "      <td>3</td>\n",
       "    </tr>\n",
       "    <tr>\n",
       "      <th>1</th>\n",
       "      <td>5</td>\n",
       "      <td>3</td>\n",
       "    </tr>\n",
       "    <tr>\n",
       "      <th rowspan=\"2\" valign=\"top\">BRS</th>\n",
       "      <th>0</th>\n",
       "      <td>4</td>\n",
       "      <td>2</td>\n",
       "    </tr>\n",
       "    <tr>\n",
       "      <th>1</th>\n",
       "      <td>6</td>\n",
       "      <td>5</td>\n",
       "    </tr>\n",
       "    <tr>\n",
       "      <th rowspan=\"2\" valign=\"top\">CAR</th>\n",
       "      <th>0</th>\n",
       "      <td>2</td>\n",
       "      <td>2</td>\n",
       "    </tr>\n",
       "    <tr>\n",
       "      <th>1</th>\n",
       "      <td>8</td>\n",
       "      <td>4</td>\n",
       "    </tr>\n",
       "    <tr>\n",
       "      <th rowspan=\"2\" valign=\"top\">COL</th>\n",
       "      <th>0</th>\n",
       "      <td>5</td>\n",
       "      <td>2</td>\n",
       "    </tr>\n",
       "    <tr>\n",
       "      <th>1</th>\n",
       "      <td>5</td>\n",
       "      <td>3</td>\n",
       "    </tr>\n",
       "    <tr>\n",
       "      <th rowspan=\"2\" valign=\"top\">ESS</th>\n",
       "      <th>0</th>\n",
       "      <td>4</td>\n",
       "      <td>0</td>\n",
       "    </tr>\n",
       "    <tr>\n",
       "      <th>1</th>\n",
       "      <td>8</td>\n",
       "      <td>5</td>\n",
       "    </tr>\n",
       "    <tr>\n",
       "      <th rowspan=\"2\" valign=\"top\">GCS</th>\n",
       "      <th>0</th>\n",
       "      <td>6</td>\n",
       "      <td>3</td>\n",
       "    </tr>\n",
       "    <tr>\n",
       "      <th>1</th>\n",
       "      <td>4</td>\n",
       "      <td>3</td>\n",
       "    </tr>\n",
       "    <tr>\n",
       "      <th rowspan=\"2\" valign=\"top\">GEE</th>\n",
       "      <th>0</th>\n",
       "      <td>7</td>\n",
       "      <td>3</td>\n",
       "    </tr>\n",
       "    <tr>\n",
       "      <th>1</th>\n",
       "      <td>6</td>\n",
       "      <td>3</td>\n",
       "    </tr>\n",
       "    <tr>\n",
       "      <th rowspan=\"2\" valign=\"top\">GWS</th>\n",
       "      <th>0</th>\n",
       "      <td>4</td>\n",
       "      <td>1</td>\n",
       "    </tr>\n",
       "    <tr>\n",
       "      <th>1</th>\n",
       "      <td>6</td>\n",
       "      <td>4</td>\n",
       "    </tr>\n",
       "    <tr>\n",
       "      <th rowspan=\"2\" valign=\"top\">HTN</th>\n",
       "      <th>0</th>\n",
       "      <td>7</td>\n",
       "      <td>0</td>\n",
       "    </tr>\n",
       "    <tr>\n",
       "      <th>1</th>\n",
       "      <td>5</td>\n",
       "      <td>2</td>\n",
       "    </tr>\n",
       "    <tr>\n",
       "      <th rowspan=\"2\" valign=\"top\">MLB</th>\n",
       "      <th>0</th>\n",
       "      <td>9</td>\n",
       "      <td>6</td>\n",
       "    </tr>\n",
       "    <tr>\n",
       "      <th>1</th>\n",
       "      <td>3</td>\n",
       "      <td>3</td>\n",
       "    </tr>\n",
       "    <tr>\n",
       "      <th rowspan=\"2\" valign=\"top\">NML</th>\n",
       "      <th>0</th>\n",
       "      <td>5</td>\n",
       "      <td>3</td>\n",
       "    </tr>\n",
       "    <tr>\n",
       "      <th>1</th>\n",
       "      <td>6</td>\n",
       "      <td>4</td>\n",
       "    </tr>\n",
       "    <tr>\n",
       "      <th rowspan=\"2\" valign=\"top\">PDL</th>\n",
       "      <th>0</th>\n",
       "      <td>7</td>\n",
       "      <td>1</td>\n",
       "    </tr>\n",
       "    <tr>\n",
       "      <th>1</th>\n",
       "      <td>8</td>\n",
       "      <td>7</td>\n",
       "    </tr>\n",
       "    <tr>\n",
       "      <th rowspan=\"2\" valign=\"top\">RCH</th>\n",
       "      <th>0</th>\n",
       "      <td>7</td>\n",
       "      <td>4</td>\n",
       "    </tr>\n",
       "    <tr>\n",
       "      <th>1</th>\n",
       "      <td>6</td>\n",
       "      <td>2</td>\n",
       "    </tr>\n",
       "    <tr>\n",
       "      <th rowspan=\"2\" valign=\"top\">STK</th>\n",
       "      <th>0</th>\n",
       "      <td>7</td>\n",
       "      <td>3</td>\n",
       "    </tr>\n",
       "    <tr>\n",
       "      <th>1</th>\n",
       "      <td>4</td>\n",
       "      <td>3</td>\n",
       "    </tr>\n",
       "    <tr>\n",
       "      <th rowspan=\"2\" valign=\"top\">SYD</th>\n",
       "      <th>0</th>\n",
       "      <td>6</td>\n",
       "      <td>0</td>\n",
       "    </tr>\n",
       "    <tr>\n",
       "      <th>1</th>\n",
       "      <td>6</td>\n",
       "      <td>5</td>\n",
       "    </tr>\n",
       "    <tr>\n",
       "      <th rowspan=\"2\" valign=\"top\">WBL</th>\n",
       "      <th>0</th>\n",
       "      <td>6</td>\n",
       "      <td>3</td>\n",
       "    </tr>\n",
       "    <tr>\n",
       "      <th>1</th>\n",
       "      <td>5</td>\n",
       "      <td>5</td>\n",
       "    </tr>\n",
       "    <tr>\n",
       "      <th>WCE</th>\n",
       "      <th>1</th>\n",
       "      <td>17</td>\n",
       "      <td>6</td>\n",
       "    </tr>\n",
       "  </tbody>\n",
       "</table>\n",
       "</div>"
      ],
      "text/plain": [
       "                 Matches Played  Matches Won\n",
       "Opposition Home                             \n",
       "ADL        0                  8            3\n",
       "           1                  5            3\n",
       "BRS        0                  4            2\n",
       "           1                  6            5\n",
       "CAR        0                  2            2\n",
       "           1                  8            4\n",
       "COL        0                  5            2\n",
       "           1                  5            3\n",
       "ESS        0                  4            0\n",
       "           1                  8            5\n",
       "GCS        0                  6            3\n",
       "           1                  4            3\n",
       "GEE        0                  7            3\n",
       "           1                  6            3\n",
       "GWS        0                  4            1\n",
       "           1                  6            4\n",
       "HTN        0                  7            0\n",
       "           1                  5            2\n",
       "MLB        0                  9            6\n",
       "           1                  3            3\n",
       "NML        0                  5            3\n",
       "           1                  6            4\n",
       "PDL        0                  7            1\n",
       "           1                  8            7\n",
       "RCH        0                  7            4\n",
       "           1                  6            2\n",
       "STK        0                  7            3\n",
       "           1                  4            3\n",
       "SYD        0                  6            0\n",
       "           1                  6            5\n",
       "WBL        0                  6            3\n",
       "           1                  5            5\n",
       "WCE        1                 17            6"
      ]
     },
     "execution_count": 35,
     "metadata": {},
     "output_type": "execute_result"
    }
   ],
   "source": [
    "#For each opposition that FRM faced, check whether the match was at home or away \n",
    "#How many matches were played and how many of those matches did FRM win?\n",
    "\n",
    "df_FRM.groupby(['Opposition', 'Home']).agg({'Date of Game':'nunique', \n",
    "                              'WinLoss': lambda x: sum(x)/22}).rename(columns = {'Date of Game':'Matches Played', \n",
    "                                                                                 'WinLoss': 'Matches Won'}).astype(int)"
   ]
  },
  {
   "cell_type": "code",
   "execution_count": 36,
   "id": "d67e8e32",
   "metadata": {
    "execution": {
     "iopub.execute_input": "2022-02-04T10:13:13.786638Z",
     "iopub.status.busy": "2022-02-04T10:13:13.785307Z",
     "iopub.status.idle": "2022-02-04T10:13:14.041270Z",
     "shell.execute_reply": "2022-02-04T10:13:14.041876Z",
     "shell.execute_reply.started": "2022-02-04T10:05:02.168843Z"
    },
    "papermill": {
     "duration": 0.383817,
     "end_time": "2022-02-04T10:13:14.042082",
     "exception": false,
     "start_time": "2022-02-04T10:13:13.658265",
     "status": "completed"
    },
    "tags": []
   },
   "outputs": [
    {
     "data": {
      "image/svg+xml": [
       "<svg class=\"main-svg\" xmlns=\"http://www.w3.org/2000/svg\" xmlns:xlink=\"http://www.w3.org/1999/xlink\" width=\"700\" height=\"450\" style=\"\" viewBox=\"0 0 700 450\"><rect x=\"0\" y=\"0\" width=\"700\" height=\"450\" style=\"fill: rgb(255, 255, 255); fill-opacity: 1;\"/><defs id=\"defs-33f651\"><g class=\"clips\"/><g class=\"gradients\"/></defs><g class=\"bglayer\"/><g class=\"layer-below\"><g class=\"imagelayer\"/><g class=\"shapelayer\"/></g><g class=\"cartesianlayer\"/><g class=\"polarlayer\"/><g class=\"ternarylayer\"/><g class=\"geolayer\"/><g class=\"funnelarealayer\"/><g class=\"pielayer\"><g class=\"trace\" stroke-linejoin=\"round\" style=\"opacity: 1;\"><g class=\"slice\"><path class=\"surface\" d=\"M350,235l0,-135a135,135 0 1 1 -29.162405966825226,266.812571776087Z\" style=\"pointer-events: all; stroke-width: 0; fill: rgb(128, 0, 128); fill-opacity: 1; stroke: rgb(68, 68, 68); stroke-opacity: 1;\"/><g class=\"slicetext\"><text data-notex=\"1\" class=\"slicetext\" transform=\"translate(417.10038858845354,238.58402013076952)\" text-anchor=\"middle\" x=\"0\" y=\"0\" style=\"font-family: 'Open Sans', verdana, arial, sans-serif; font-size: 15px; fill: rgb(255, 255, 255); fill-opacity: 1; white-space: pre;\"><tspan class=\"line\" dy=\"0em\" x=\"0\" y=\"0\">Home Match</tspan><tspan class=\"line\" dy=\"1.3em\" x=\"0\" y=\"0\">108</tspan></text></g></g><g class=\"slice\"><path class=\"surface\" d=\"M350,235l-29.162405966825318,131.81257177608694a135,135 0 0 1 29.162405966825318,-266.81257177608694Z\" style=\"pointer-events: all; stroke-width: 0; fill: rgb(211, 211, 211); fill-opacity: 1; stroke: rgb(68, 68, 68); stroke-opacity: 1;\"/><g class=\"slicetext\"><text data-notex=\"1\" class=\"slicetext\" transform=\"translate(282.7003989034672,223.89420609749396)\" text-anchor=\"middle\" x=\"0\" y=\"0\" style=\"font-family: 'Open Sans', verdana, arial, sans-serif; font-size: 15px; fill: rgb(68, 68, 68); fill-opacity: 1; white-space: pre;\"><tspan class=\"line\" dy=\"0em\" x=\"0\" y=\"0\">Away Match</tspan><tspan class=\"line\" dy=\"1.3em\" x=\"0\" y=\"0\">94</tspan></text></g></g></g></g><g class=\"treemaplayer\"/><g class=\"sunburstlayer\"/><g class=\"glimages\"/><defs id=\"topdefs-33f651\"><g class=\"clips\"/></defs><g class=\"layer-above\"><g class=\"imagelayer\"/><g class=\"shapelayer\"/></g><g class=\"infolayer\"><g class=\"g-gtitle\"><text class=\"gtitle\" x=\"350\" y=\"50\" text-anchor=\"middle\" dy=\"0em\" style=\"font-family: 'Open Sans', verdana, arial, sans-serif; font-size: 17px; fill: rgb(42, 63, 95); opacity: 1; font-weight: normal; white-space: pre;\">Split of Fremantle's Home and Away Matches</text></g></g></svg>"
      ]
     },
     "metadata": {},
     "output_type": "display_data"
    }
   ],
   "source": [
    "#home matches played\n",
    "homegame = df_FRM[df_FRM['Home']==1]\n",
    "#away matches played\n",
    "awaygame = df_FRM[df_FRM['Home']==0]\n",
    "\n",
    "vals = [len(homegame)/22, len(awaygame)/22]\n",
    "labels = ['Home Match', 'Away Match']\n",
    "cols = ['purple', 'lightgrey']\n",
    "\n",
    "fig = go.Figure(data = [go.Pie(labels=labels, values=vals)])\n",
    "fig.update_traces(hoverinfo='none', textfont_size=15, textinfo='label+value', \n",
    "                 marker=dict(colors=cols))\n",
    "fig.update_layout(title=\"Split of Fremantle's Home and Away Matches\", title_x=0.5,\n",
    "                 showlegend=False)\n",
    "fig.show()"
   ]
  },
  {
   "cell_type": "code",
   "execution_count": 37,
   "id": "316b235b",
   "metadata": {
    "execution": {
     "iopub.execute_input": "2022-02-04T10:13:14.286822Z",
     "iopub.status.busy": "2022-02-04T10:13:14.286180Z",
     "iopub.status.idle": "2022-02-04T10:13:14.316626Z",
     "shell.execute_reply": "2022-02-04T10:13:14.317362Z",
     "shell.execute_reply.started": "2022-02-04T10:05:02.353720Z"
    },
    "papermill": {
     "duration": 0.154004,
     "end_time": "2022-02-04T10:13:14.317613",
     "exception": false,
     "start_time": "2022-02-04T10:13:14.163609",
     "status": "completed"
    },
    "tags": []
   },
   "outputs": [
    {
     "data": {
      "image/svg+xml": [
       "<svg class=\"main-svg\" xmlns=\"http://www.w3.org/2000/svg\" xmlns:xlink=\"http://www.w3.org/1999/xlink\" width=\"700\" height=\"450\" style=\"\" viewBox=\"0 0 700 450\"><rect x=\"0\" y=\"0\" width=\"700\" height=\"450\" style=\"fill: rgb(255, 255, 255); fill-opacity: 1;\"/><defs id=\"defs-1f3434\"><g class=\"clips\"/><g class=\"gradients\"/></defs><g class=\"bglayer\"/><g class=\"layer-below\"><g class=\"imagelayer\"/><g class=\"shapelayer\"/></g><g class=\"cartesianlayer\"/><g class=\"polarlayer\"/><g class=\"ternarylayer\"/><g class=\"geolayer\"/><g class=\"funnelarealayer\"/><g class=\"pielayer\"><g class=\"trace\" stroke-linejoin=\"round\" style=\"opacity: 1;\"><g class=\"slice\"><path class=\"surface\" d=\"M382.2871980173104,225.17150346233024a33.75,33.75 0 0 0 -32.287198017310416,-23.921503462330243l0,-101.25a135,135 0 0 1 129.14879206924167,95.68601384932097Z\" style=\"pointer-events: all; stroke-width: 0; fill: rgb(221, 160, 221); fill-opacity: 1; stroke: rgb(68, 68, 68); stroke-opacity: 1;\"/><g class=\"slicetext\"><text data-notex=\"1\" class=\"slicetext\" transform=\"translate(400.3768884364529,163.255587566641)\" text-anchor=\"middle\" x=\"0\" y=\"0\" style=\"font-family: 'Open Sans', verdana, arial, sans-serif; font-size: 15px; fill: rgb(68, 68, 68); fill-opacity: 1; white-space: pre;\"><tspan class=\"line\" dy=\"0em\" x=\"0\" y=\"0\">Home Loss</tspan><tspan class=\"line\" dy=\"1.3em\" x=\"0\" y=\"0\">41</tspan></text></g></g><g class=\"slice\"><path class=\"surface\" d=\"M342.7093985082937,267.95314294402175a33.75,33.75 0 0 0 39.577799509016735,-42.78163948169149l96.86159405193125,-29.48548961300928a135,135 0 0 1 -158.31119803606694,171.12655792676597Z\" style=\"pointer-events: all; stroke-width: 0; fill: rgb(128, 0, 128); fill-opacity: 1; stroke: rgb(68, 68, 68); stroke-opacity: 1;\"/><g class=\"slicetext\"><text data-notex=\"1\" class=\"slicetext\" transform=\"translate(411.93618836407944,288.54789870430915)\" text-anchor=\"middle\" x=\"0\" y=\"0\" style=\"font-family: 'Open Sans', verdana, arial, sans-serif; font-size: 15px; fill: rgb(255, 255, 255); fill-opacity: 1; white-space: pre;\"><tspan class=\"line\" dy=\"0em\" x=\"0\" y=\"0\">Home Win</tspan><tspan class=\"line\" dy=\"1.3em\" x=\"0\" y=\"0\">67</tspan></text></g></g><g class=\"slice\"><path class=\"surface\" d=\"M319.6249104926871,220.2889008764562a33.75,33.75 0 0 0 23.084488015606567,47.664242067565525l-21.871804475118964,98.8594288320652a135,135 0 0 1 -92.33795206242627,-190.6569682702621Z\" style=\"pointer-events: all; stroke-width: 0; fill: rgb(211, 211, 211); fill-opacity: 1; stroke: rgb(68, 68, 68); stroke-opacity: 1;\"/><g class=\"slicetext\"><text data-notex=\"1\" class=\"slicetext\" transform=\"translate(274.06227623171776,268.02774780885943)\" text-anchor=\"middle\" x=\"0\" y=\"0\" style=\"font-family: 'Open Sans', verdana, arial, sans-serif; font-size: 15px; fill: rgb(68, 68, 68); fill-opacity: 1; white-space: pre;\"><tspan class=\"line\" dy=\"0em\" x=\"0\" y=\"0\">Away Loss</tspan><tspan class=\"line\" dy=\"1.3em\" x=\"0\" y=\"0\">58</tspan></text></g></g><g class=\"slice\"><path class=\"surface\" d=\"M350,201.25a33.75,33.75 0 0 0 -30.375089507312907,19.038900876456214l-91.12526852193866,-44.133297370631354a135,135 0 0 1 121.50035802925163,-76.15560350582486Z\" style=\"pointer-events: all; stroke-width: 0; fill: rgb(169, 169, 169); fill-opacity: 1; stroke: rgb(68, 68, 68); stroke-opacity: 1;\"/><g class=\"slicetext\"><text data-notex=\"1\" class=\"slicetext\" transform=\"translate(303.1724132259656,156.5402177020257)\" text-anchor=\"middle\" x=\"0\" y=\"0\" style=\"font-family: 'Open Sans', verdana, arial, sans-serif; font-size: 15px; fill: rgb(68, 68, 68); fill-opacity: 1; white-space: pre;\"><tspan class=\"line\" dy=\"0em\" x=\"0\" y=\"0\">Away Win</tspan><tspan class=\"line\" dy=\"1.3em\" x=\"0\" y=\"0\">36</tspan></text></g></g></g></g><g class=\"treemaplayer\"/><g class=\"sunburstlayer\"/><g class=\"glimages\"/><defs id=\"topdefs-1f3434\"><g class=\"clips\"/></defs><g class=\"layer-above\"><g class=\"imagelayer\"/><g class=\"shapelayer\"/></g><g class=\"infolayer\"><g class=\"g-gtitle\"><text class=\"gtitle\" x=\"350\" y=\"50\" text-anchor=\"middle\" dy=\"0em\" style=\"font-family: 'Open Sans', verdana, arial, sans-serif; font-size: 17px; fill: rgb(42, 63, 95); opacity: 1; font-weight: normal; white-space: pre;\">Fremantle's Wins and Losses - Home and Away</text></g></g></svg>"
      ]
     },
     "metadata": {},
     "output_type": "display_data"
    }
   ],
   "source": [
    "#separate home and away matches\n",
    "homegame = df_FRM[df_FRM['Home']==1]\n",
    "awaygame = df_FRM[df_FRM['Home']==0]\n",
    "#find home wins and home losses\n",
    "home_loss = homegame[df_FRM['WinLoss']==0]\n",
    "home_win = homegame[df_FRM['WinLoss']==1]\n",
    "#find away wins and away losses\n",
    "away_loss = awaygame[df_FRM['WinLoss']==0]\n",
    "away_win = awaygame[df_FRM['WinLoss']==1]\n",
    "\n",
    "#remember to divide values by the number of players involved i.e. 22\n",
    "vals = [len(home_loss)/22, len(home_win)/22, \n",
    "        len(away_loss)/22, len(away_win)/22]\n",
    "\n",
    "labels = ['Home Loss', 'Home Win', 'Away Loss', 'Away Win']\n",
    "\n",
    "cols = ['plum', 'purple', 'lightgrey', 'darkgrey']\n",
    "\n",
    "fig = go.Figure(data = [go.Pie(labels=labels, values=vals, hole=0.25)]) \n",
    "\n",
    "fig.update_traces(hoverinfo='none', textfont_size=15, textinfo='label+value', direction='clockwise', \n",
    "                  sort=False, marker=dict(colors=cols))\n",
    "fig.update_layout(title=\"Fremantle's Wins and Losses - Home and Away\", title_x=0.5, \n",
    "                  showlegend=False)\n",
    "fig.show()"
   ]
  },
  {
   "cell_type": "markdown",
   "id": "7530a75a",
   "metadata": {
    "papermill": {
     "duration": 0.122861,
     "end_time": "2022-02-04T10:13:14.562966",
     "exception": false,
     "start_time": "2022-02-04T10:13:14.440105",
     "status": "completed"
    },
    "tags": []
   },
   "source": [
    "It would appear that the home advantage factor holds true for Fremantle as they have won 31 more matches in their home stadium compared to when playing in their opposition's stadium. Given that Fremantle have not played an equal amount of home and away matches, lets consider how their wins and losses, both home and away, compare when considered as a percentages. "
   ]
  },
  {
   "cell_type": "code",
   "execution_count": 38,
   "id": "a9a46e90",
   "metadata": {
    "execution": {
     "iopub.execute_input": "2022-02-04T10:13:14.808781Z",
     "iopub.status.busy": "2022-02-04T10:13:14.808080Z",
     "iopub.status.idle": "2022-02-04T10:13:14.817638Z",
     "shell.execute_reply": "2022-02-04T10:13:14.818202Z",
     "shell.execute_reply.started": "2022-02-04T10:05:02.384633Z"
    },
    "papermill": {
     "duration": 0.133708,
     "end_time": "2022-02-04T10:13:14.818381",
     "exception": false,
     "start_time": "2022-02-04T10:13:14.684673",
     "status": "completed"
    },
    "tags": []
   },
   "outputs": [
    {
     "name": "stdout",
     "output_type": "stream",
     "text": [
      "Home Win %  Home Loss %\n",
      "62.0        38.0\n",
      "\n",
      "\n",
      "Away Win %  Away Loss %\n",
      "38.3        61.7\n"
     ]
    }
   ],
   "source": [
    "print('Home Win %','','Home Loss %')\n",
    "print(\"%.1f\"%(((len(home_win)/22) / (len(homegame)/22))*100),\n",
    "      '      ',  \n",
    "      \"%.1f\"%(((len(home_loss)/22) / (len(homegame)/22))*100))\n",
    "\n",
    "print('\\n')\n",
    "\n",
    "print('Away Win %','','Away Loss %')\n",
    "print(\"%.1f\"%(((len(away_win)/22) / (len(awaygame)/22))*100),\n",
    "      '      ',\n",
    "      \"%.1f\"%(((len(away_loss)/22) / (len(awaygame)/22))*100))"
   ]
  },
  {
   "cell_type": "markdown",
   "id": "21f961eb",
   "metadata": {
    "papermill": {
     "duration": 0.121943,
     "end_time": "2022-02-04T10:13:15.061295",
     "exception": false,
     "start_time": "2022-02-04T10:13:14.939352",
     "status": "completed"
    },
    "tags": []
   },
   "source": [
    "We can immediately see that although having played 14 more matches at home than away, Fremantle have almost the same percentage split for both matches won at home and lost away from home and matches lost at home and won away from home. It would seem that the Dockers win at home just as much as they lose away and lose at home just as much as they win away. \n",
    "\n",
    "As a result,we can infer that Fremnatle have an overall win percentage just over 50%. Lets confirm this."
   ]
  },
  {
   "cell_type": "code",
   "execution_count": 39,
   "id": "51f0ad6c",
   "metadata": {
    "execution": {
     "iopub.execute_input": "2022-02-04T10:13:15.303109Z",
     "iopub.status.busy": "2022-02-04T10:13:15.302185Z",
     "iopub.status.idle": "2022-02-04T10:13:15.311144Z",
     "shell.execute_reply": "2022-02-04T10:13:15.311967Z",
     "shell.execute_reply.started": "2022-02-04T10:05:02.402357Z"
    },
    "papermill": {
     "duration": 0.131891,
     "end_time": "2022-02-04T10:13:15.312198",
     "exception": false,
     "start_time": "2022-02-04T10:13:15.180307",
     "status": "completed"
    },
    "tags": []
   },
   "outputs": [
    {
     "name": "stdout",
     "output_type": "stream",
     "text": [
      "FRM Overall Win Percentage\n",
      "51.0 %\n"
     ]
    }
   ],
   "source": [
    "FRM_wins = df_FRM.groupby('Date of Game')['WinLoss'].sum().div(22).sum()  \n",
    "FRM_matches = df_FRM['Date of Game'].nunique()\n",
    "print('FRM Overall Win Percentage')\n",
    "print(\"%.1f\"%((FRM_wins/FRM_matches)*100),'%')"
   ]
  },
  {
   "cell_type": "markdown",
   "id": "962caa3e",
   "metadata": {
    "papermill": {
     "duration": 0.120705,
     "end_time": "2022-02-04T10:13:15.552857",
     "exception": false,
     "start_time": "2022-02-04T10:13:15.432152",
     "status": "completed"
    },
    "tags": []
   },
   "source": [
    "**ROUND BY ROUND**"
   ]
  },
  {
   "cell_type": "markdown",
   "id": "eb3378e1",
   "metadata": {
    "execution": {
     "iopub.execute_input": "2022-02-03T14:05:52.62807Z",
     "iopub.status.busy": "2022-02-03T14:05:52.627496Z",
     "iopub.status.idle": "2022-02-03T14:05:52.631368Z",
     "shell.execute_reply": "2022-02-03T14:05:52.630701Z",
     "shell.execute_reply.started": "2022-02-03T14:05:52.628032Z"
    },
    "papermill": {
     "duration": 0.119783,
     "end_time": "2022-02-04T10:13:15.796060",
     "exception": false,
     "start_time": "2022-02-04T10:13:15.676277",
     "status": "completed"
    },
    "tags": []
   },
   "source": [
    "We have seen how many wins and losses FRM have accumulated both at home and away. Lets now check how their performance holds on a round by round basis."
   ]
  },
  {
   "cell_type": "code",
   "execution_count": 40,
   "id": "78ebc493",
   "metadata": {
    "execution": {
     "iopub.execute_input": "2022-02-04T10:13:16.037985Z",
     "iopub.status.busy": "2022-02-04T10:13:16.037066Z",
     "iopub.status.idle": "2022-02-04T10:13:16.043240Z",
     "shell.execute_reply": "2022-02-04T10:13:16.043859Z",
     "shell.execute_reply.started": "2022-02-04T10:05:02.414993Z"
    },
    "papermill": {
     "duration": 0.128581,
     "end_time": "2022-02-04T10:13:16.044025",
     "exception": false,
     "start_time": "2022-02-04T10:13:15.915444",
     "status": "completed"
    },
    "tags": []
   },
   "outputs": [
    {
     "data": {
      "text/plain": [
       "array(['R1', 'R2', 'R3', 'R4', 'R5', 'R6', 'R7', 'R8', 'R9', 'R10', 'R11',\n",
       "       'R12', 'R13', 'R15', 'R16', 'R17', 'R18', 'R19', 'R20', 'R21',\n",
       "       'R22', 'R23', 'R14', 'QF', 'PF', 'SF', 'GF', 'EF'], dtype=object)"
      ]
     },
     "execution_count": 40,
     "metadata": {},
     "output_type": "execute_result"
    }
   ],
   "source": [
    "#Start off by checking how many rounds in an AFL season FRM have reached\n",
    "df_FRM['Round'].unique()"
   ]
  },
  {
   "cell_type": "code",
   "execution_count": 41,
   "id": "63e3c5f8",
   "metadata": {
    "execution": {
     "iopub.execute_input": "2022-02-04T10:13:16.286678Z",
     "iopub.status.busy": "2022-02-04T10:13:16.285739Z",
     "iopub.status.idle": "2022-02-04T10:13:16.290245Z",
     "shell.execute_reply": "2022-02-04T10:13:16.290861Z",
     "shell.execute_reply.started": "2022-02-04T10:05:02.425977Z"
    },
    "papermill": {
     "duration": 0.127537,
     "end_time": "2022-02-04T10:13:16.291023",
     "exception": false,
     "start_time": "2022-02-04T10:13:16.163486",
     "status": "completed"
    },
    "tags": []
   },
   "outputs": [],
   "source": [
    "#Premiership season goes from R1 to R23 and then Finals series begins. \n",
    "#Hence, rounds are in order of R1 to R23 followed by QF, EF, SF, PF, GF\n",
    "#QF = Qualifying Final, EF = Elimination Final, SF = Semi Final, PF = Preliminary Final, GF = Grand Final \n",
    "\n",
    "\n",
    "#as seen in array above, the rounds are not in order. To sort the values according to how they played in an\n",
    "#AFL season, lets create a list so that we can select specific elements within that list.\n",
    "roundslst = list(df_FRM['Round'].unique())"
   ]
  },
  {
   "cell_type": "code",
   "execution_count": 42,
   "id": "0590cae6",
   "metadata": {
    "execution": {
     "iopub.execute_input": "2022-02-04T10:13:16.534587Z",
     "iopub.status.busy": "2022-02-04T10:13:16.533667Z",
     "iopub.status.idle": "2022-02-04T10:13:16.541107Z",
     "shell.execute_reply": "2022-02-04T10:13:16.540581Z",
     "shell.execute_reply.started": "2022-02-04T10:05:02.436632Z"
    },
    "papermill": {
     "duration": 0.130806,
     "end_time": "2022-02-04T10:13:16.541253",
     "exception": false,
     "start_time": "2022-02-04T10:13:16.410447",
     "status": "completed"
    },
    "tags": []
   },
   "outputs": [
    {
     "data": {
      "text/plain": [
       "['R1',\n",
       " 'R2',\n",
       " 'R3',\n",
       " 'R4',\n",
       " 'R5',\n",
       " 'R6',\n",
       " 'R7',\n",
       " 'R8',\n",
       " 'R9',\n",
       " 'R10',\n",
       " 'R11',\n",
       " 'R12',\n",
       " 'R13',\n",
       " 'R15',\n",
       " 'R16',\n",
       " 'R17',\n",
       " 'R18',\n",
       " 'R19',\n",
       " 'R20',\n",
       " 'R21',\n",
       " 'R22',\n",
       " 'R23',\n",
       " 'R14',\n",
       " 'QF',\n",
       " 'PF',\n",
       " 'SF',\n",
       " 'GF',\n",
       " 'EF']"
      ]
     },
     "execution_count": 42,
     "metadata": {},
     "output_type": "execute_result"
    }
   ],
   "source": [
    "roundslst"
   ]
  },
  {
   "cell_type": "code",
   "execution_count": 43,
   "id": "9c6ac690",
   "metadata": {
    "execution": {
     "iopub.execute_input": "2022-02-04T10:13:16.828076Z",
     "iopub.status.busy": "2022-02-04T10:13:16.827382Z",
     "iopub.status.idle": "2022-02-04T10:13:16.830660Z",
     "shell.execute_reply": "2022-02-04T10:13:16.830035Z",
     "shell.execute_reply.started": "2022-02-04T10:05:02.452391Z"
    },
    "papermill": {
     "duration": 0.139473,
     "end_time": "2022-02-04T10:13:16.830852",
     "exception": false,
     "start_time": "2022-02-04T10:13:16.691379",
     "status": "completed"
    },
    "tags": []
   },
   "outputs": [],
   "source": [
    "#Break up list and put it back together into the correct order\n",
    "orderedlst= roundslst[:13] + roundslst[22:23]+ roundslst[13:22] + roundslst[-5:-4] + roundslst[-1:] + roundslst[-3:-2] + roundslst[-4:-3] + roundslst[-2:-1]"
   ]
  },
  {
   "cell_type": "code",
   "execution_count": 44,
   "id": "689b210b",
   "metadata": {
    "execution": {
     "iopub.execute_input": "2022-02-04T10:13:17.101996Z",
     "iopub.status.busy": "2022-02-04T10:13:17.101297Z",
     "iopub.status.idle": "2022-02-04T10:13:17.104907Z",
     "shell.execute_reply": "2022-02-04T10:13:17.105530Z",
     "shell.execute_reply.started": "2022-02-04T10:05:02.463049Z"
    },
    "papermill": {
     "duration": 0.132168,
     "end_time": "2022-02-04T10:13:17.105697",
     "exception": false,
     "start_time": "2022-02-04T10:13:16.973529",
     "status": "completed"
    },
    "tags": []
   },
   "outputs": [
    {
     "data": {
      "text/plain": [
       "['R1',\n",
       " 'R2',\n",
       " 'R3',\n",
       " 'R4',\n",
       " 'R5',\n",
       " 'R6',\n",
       " 'R7',\n",
       " 'R8',\n",
       " 'R9',\n",
       " 'R10',\n",
       " 'R11',\n",
       " 'R12',\n",
       " 'R13',\n",
       " 'R14',\n",
       " 'R15',\n",
       " 'R16',\n",
       " 'R17',\n",
       " 'R18',\n",
       " 'R19',\n",
       " 'R20',\n",
       " 'R21',\n",
       " 'R22',\n",
       " 'R23',\n",
       " 'QF',\n",
       " 'EF',\n",
       " 'SF',\n",
       " 'PF',\n",
       " 'GF']"
      ]
     },
     "execution_count": 44,
     "metadata": {},
     "output_type": "execute_result"
    }
   ],
   "source": [
    "orderedlst"
   ]
  },
  {
   "cell_type": "code",
   "execution_count": 45,
   "id": "0026ab73",
   "metadata": {
    "execution": {
     "iopub.execute_input": "2022-02-04T10:13:17.361006Z",
     "iopub.status.busy": "2022-02-04T10:13:17.360319Z",
     "iopub.status.idle": "2022-02-04T10:13:17.372522Z",
     "shell.execute_reply": "2022-02-04T10:13:17.373038Z",
     "shell.execute_reply.started": "2022-02-04T10:05:02.478875Z"
    },
    "papermill": {
     "duration": 0.144802,
     "end_time": "2022-02-04T10:13:17.373222",
     "exception": false,
     "start_time": "2022-02-04T10:13:17.228420",
     "status": "completed"
    },
    "tags": []
   },
   "outputs": [],
   "source": [
    "#create new dataframe for the ordered list of rounds\n",
    "roundsord = pd.DataFrame({'Round':orderedlst})\n",
    "\n",
    "#create new dataframe for the amount of matches played and the amount of wins in each round from 2012 to 2020\n",
    "FRM_roundwins = df_FRM.groupby('Round').agg({ 'Date of Game':'nunique', \n",
    "                                            'WinLoss': lambda x : sum(x)/22,}).rename(columns={'Date of Game':'Matches Played', \n",
    "                                                                                      'WinLoss':'Matches Won'})"
   ]
  },
  {
   "cell_type": "code",
   "execution_count": 46,
   "id": "e9da28e4",
   "metadata": {
    "execution": {
     "iopub.execute_input": "2022-02-04T10:13:17.629568Z",
     "iopub.status.busy": "2022-02-04T10:13:17.628515Z",
     "iopub.status.idle": "2022-02-04T10:13:17.630710Z",
     "shell.execute_reply": "2022-02-04T10:13:17.631218Z",
     "shell.execute_reply.started": "2022-02-04T10:05:02.495125Z"
    },
    "papermill": {
     "duration": 0.137556,
     "end_time": "2022-02-04T10:13:17.631385",
     "exception": false,
     "start_time": "2022-02-04T10:13:17.493829",
     "status": "completed"
    },
    "tags": []
   },
   "outputs": [],
   "source": [
    "#combine roundsord with FRM_roundwins to have a dataframe sorted by the order in which the rounds are played\n",
    "#can achieve this by merging the two datframes on a column they have in common i.e. Round\n",
    "\n",
    "FRM_rounds = roundsord.merge(FRM_roundwins, on='Round')"
   ]
  },
  {
   "cell_type": "code",
   "execution_count": 47,
   "id": "85e469f7",
   "metadata": {
    "execution": {
     "iopub.execute_input": "2022-02-04T10:13:17.878932Z",
     "iopub.status.busy": "2022-02-04T10:13:17.877959Z",
     "iopub.status.idle": "2022-02-04T10:13:17.892001Z",
     "shell.execute_reply": "2022-02-04T10:13:17.892524Z",
     "shell.execute_reply.started": "2022-02-04T10:05:02.504823Z"
    },
    "papermill": {
     "duration": 0.141134,
     "end_time": "2022-02-04T10:13:17.892726",
     "exception": false,
     "start_time": "2022-02-04T10:13:17.751592",
     "status": "completed"
    },
    "tags": []
   },
   "outputs": [
    {
     "data": {
      "text/html": [
       "<div>\n",
       "<style scoped>\n",
       "    .dataframe tbody tr th:only-of-type {\n",
       "        vertical-align: middle;\n",
       "    }\n",
       "\n",
       "    .dataframe tbody tr th {\n",
       "        vertical-align: top;\n",
       "    }\n",
       "\n",
       "    .dataframe thead th {\n",
       "        text-align: right;\n",
       "    }\n",
       "</style>\n",
       "<table border=\"1\" class=\"dataframe\">\n",
       "  <thead>\n",
       "    <tr style=\"text-align: right;\">\n",
       "      <th></th>\n",
       "      <th>Round</th>\n",
       "      <th>Matches Played</th>\n",
       "      <th>Matches Won</th>\n",
       "    </tr>\n",
       "  </thead>\n",
       "  <tbody>\n",
       "    <tr>\n",
       "      <th>0</th>\n",
       "      <td>R1</td>\n",
       "      <td>9</td>\n",
       "      <td>5</td>\n",
       "    </tr>\n",
       "    <tr>\n",
       "      <th>1</th>\n",
       "      <td>R2</td>\n",
       "      <td>9</td>\n",
       "      <td>4</td>\n",
       "    </tr>\n",
       "    <tr>\n",
       "      <th>2</th>\n",
       "      <td>R3</td>\n",
       "      <td>9</td>\n",
       "      <td>5</td>\n",
       "    </tr>\n",
       "    <tr>\n",
       "      <th>3</th>\n",
       "      <td>R4</td>\n",
       "      <td>9</td>\n",
       "      <td>4</td>\n",
       "    </tr>\n",
       "    <tr>\n",
       "      <th>4</th>\n",
       "      <td>R5</td>\n",
       "      <td>9</td>\n",
       "      <td>6</td>\n",
       "    </tr>\n",
       "    <tr>\n",
       "      <th>5</th>\n",
       "      <td>R6</td>\n",
       "      <td>9</td>\n",
       "      <td>5</td>\n",
       "    </tr>\n",
       "    <tr>\n",
       "      <th>6</th>\n",
       "      <td>R7</td>\n",
       "      <td>9</td>\n",
       "      <td>5</td>\n",
       "    </tr>\n",
       "    <tr>\n",
       "      <th>7</th>\n",
       "      <td>R8</td>\n",
       "      <td>9</td>\n",
       "      <td>3</td>\n",
       "    </tr>\n",
       "    <tr>\n",
       "      <th>8</th>\n",
       "      <td>R9</td>\n",
       "      <td>9</td>\n",
       "      <td>5</td>\n",
       "    </tr>\n",
       "    <tr>\n",
       "      <th>9</th>\n",
       "      <td>R10</td>\n",
       "      <td>7</td>\n",
       "      <td>2</td>\n",
       "    </tr>\n",
       "    <tr>\n",
       "      <th>10</th>\n",
       "      <td>R11</td>\n",
       "      <td>8</td>\n",
       "      <td>6</td>\n",
       "    </tr>\n",
       "    <tr>\n",
       "      <th>11</th>\n",
       "      <td>R12</td>\n",
       "      <td>6</td>\n",
       "      <td>4</td>\n",
       "    </tr>\n",
       "    <tr>\n",
       "      <th>12</th>\n",
       "      <td>R13</td>\n",
       "      <td>8</td>\n",
       "      <td>7</td>\n",
       "    </tr>\n",
       "    <tr>\n",
       "      <th>13</th>\n",
       "      <td>R14</td>\n",
       "      <td>8</td>\n",
       "      <td>2</td>\n",
       "    </tr>\n",
       "    <tr>\n",
       "      <th>14</th>\n",
       "      <td>R15</td>\n",
       "      <td>8</td>\n",
       "      <td>3</td>\n",
       "    </tr>\n",
       "    <tr>\n",
       "      <th>15</th>\n",
       "      <td>R16</td>\n",
       "      <td>9</td>\n",
       "      <td>6</td>\n",
       "    </tr>\n",
       "    <tr>\n",
       "      <th>16</th>\n",
       "      <td>R17</td>\n",
       "      <td>9</td>\n",
       "      <td>5</td>\n",
       "    </tr>\n",
       "    <tr>\n",
       "      <th>17</th>\n",
       "      <td>R18</td>\n",
       "      <td>9</td>\n",
       "      <td>4</td>\n",
       "    </tr>\n",
       "    <tr>\n",
       "      <th>18</th>\n",
       "      <td>R19</td>\n",
       "      <td>8</td>\n",
       "      <td>4</td>\n",
       "    </tr>\n",
       "    <tr>\n",
       "      <th>19</th>\n",
       "      <td>R20</td>\n",
       "      <td>8</td>\n",
       "      <td>3</td>\n",
       "    </tr>\n",
       "    <tr>\n",
       "      <th>20</th>\n",
       "      <td>R21</td>\n",
       "      <td>8</td>\n",
       "      <td>4</td>\n",
       "    </tr>\n",
       "    <tr>\n",
       "      <th>21</th>\n",
       "      <td>R22</td>\n",
       "      <td>8</td>\n",
       "      <td>4</td>\n",
       "    </tr>\n",
       "    <tr>\n",
       "      <th>22</th>\n",
       "      <td>R23</td>\n",
       "      <td>8</td>\n",
       "      <td>3</td>\n",
       "    </tr>\n",
       "    <tr>\n",
       "      <th>23</th>\n",
       "      <td>QF</td>\n",
       "      <td>3</td>\n",
       "      <td>2</td>\n",
       "    </tr>\n",
       "    <tr>\n",
       "      <th>24</th>\n",
       "      <td>EF</td>\n",
       "      <td>1</td>\n",
       "      <td>1</td>\n",
       "    </tr>\n",
       "    <tr>\n",
       "      <th>25</th>\n",
       "      <td>SF</td>\n",
       "      <td>2</td>\n",
       "      <td>0</td>\n",
       "    </tr>\n",
       "    <tr>\n",
       "      <th>26</th>\n",
       "      <td>PF</td>\n",
       "      <td>2</td>\n",
       "      <td>1</td>\n",
       "    </tr>\n",
       "    <tr>\n",
       "      <th>27</th>\n",
       "      <td>GF</td>\n",
       "      <td>1</td>\n",
       "      <td>0</td>\n",
       "    </tr>\n",
       "  </tbody>\n",
       "</table>\n",
       "</div>"
      ],
      "text/plain": [
       "   Round  Matches Played  Matches Won\n",
       "0     R1               9            5\n",
       "1     R2               9            4\n",
       "2     R3               9            5\n",
       "3     R4               9            4\n",
       "4     R5               9            6\n",
       "5     R6               9            5\n",
       "6     R7               9            5\n",
       "7     R8               9            3\n",
       "8     R9               9            5\n",
       "9    R10               7            2\n",
       "10   R11               8            6\n",
       "11   R12               6            4\n",
       "12   R13               8            7\n",
       "13   R14               8            2\n",
       "14   R15               8            3\n",
       "15   R16               9            6\n",
       "16   R17               9            5\n",
       "17   R18               9            4\n",
       "18   R19               8            4\n",
       "19   R20               8            3\n",
       "20   R21               8            4\n",
       "21   R22               8            4\n",
       "22   R23               8            3\n",
       "23    QF               3            2\n",
       "24    EF               1            1\n",
       "25    SF               2            0\n",
       "26    PF               2            1\n",
       "27    GF               1            0"
      ]
     },
     "execution_count": 47,
     "metadata": {},
     "output_type": "execute_result"
    }
   ],
   "source": [
    "FRM_rounds"
   ]
  },
  {
   "cell_type": "code",
   "execution_count": 48,
   "id": "a74276b7",
   "metadata": {
    "execution": {
     "iopub.execute_input": "2022-02-04T10:13:18.147187Z",
     "iopub.status.busy": "2022-02-04T10:13:18.146144Z",
     "iopub.status.idle": "2022-02-04T10:13:18.796254Z",
     "shell.execute_reply": "2022-02-04T10:13:18.796758Z",
     "shell.execute_reply.started": "2022-02-04T10:05:02.526388Z"
    },
    "papermill": {
     "duration": 0.781321,
     "end_time": "2022-02-04T10:13:18.796971",
     "exception": false,
     "start_time": "2022-02-04T10:13:18.015650",
     "status": "completed"
    },
    "tags": []
   },
   "outputs": [
    {
     "data": {
      "image/png": "[encoded data removed]",
      "text/plain": [
       "<Figure size 1296x432 with 1 Axes>"
      ]
     },
     "metadata": {
      "needs_background": "light"
     },
     "output_type": "display_data"
    }
   ],
   "source": [
    "import matplotlib.patches as mpatches\n",
    "\n",
    "plt.figure(figsize=(18,6))\n",
    "\n",
    "played = sns.barplot(data=FRM_rounds, x='Round', y='Matches Played', color='plum')\n",
    "wins = sns.barplot(data=FRM_rounds, x='Round', y='Matches Won', color='purple')\n",
    "\n",
    "played = mpatches.Patch(color='plum', label='Played')\n",
    "wins = mpatches.Patch(color='purple', label='Won')\n",
    "\n",
    "plt.legend(handles=[played, wins])\n",
    "plt.ylabel(ylabel='Number of Matches', fontsize=14)\n",
    "plt.xlabel(xlabel = 'Round', fontsize=14)\n",
    "plt.xticks(fontsize=12)\n",
    "plt.yticks(fontsize=12)\n",
    "plt.title('Fremantle Matches Split by Round', fontsize=18)\n",
    "plt.show()"
   ]
  },
  {
   "cell_type": "markdown",
   "id": "29b6db36",
   "metadata": {
    "papermill": {
     "duration": 0.12219,
     "end_time": "2022-02-04T10:13:19.041210",
     "exception": false,
     "start_time": "2022-02-04T10:13:18.919020",
     "status": "completed"
    },
    "tags": []
   },
   "source": [
    "From the plot produced above, we can see that the Fremantle Dockers have reached the Grand Final only once and, unfortunately, have lost. They appear to have an almost even split in terms of wins and losses in their first 7 rounds, with form fluctuating a lot more from R8. Lets take a closer look and find the percentage of matches won overall in each round. "
   ]
  },
  {
   "cell_type": "code",
   "execution_count": 49,
   "id": "4b4eaa2e",
   "metadata": {
    "execution": {
     "iopub.execute_input": "2022-02-04T10:13:19.306629Z",
     "iopub.status.busy": "2022-02-04T10:13:19.304277Z",
     "iopub.status.idle": "2022-02-04T10:13:19.877187Z",
     "shell.execute_reply": "2022-02-04T10:13:19.876245Z",
     "shell.execute_reply.started": "2022-02-04T10:05:03.162768Z"
    },
    "papermill": {
     "duration": 0.710961,
     "end_time": "2022-02-04T10:13:19.877332",
     "exception": false,
     "start_time": "2022-02-04T10:13:19.166371",
     "status": "completed"
    },
    "tags": []
   },
   "outputs": [
    {
     "data": {
      "image/png": "[encoded data removed]",
      "text/plain": [
       "<Figure size 1296x432 with 1 Axes>"
      ]
     },
     "metadata": {
      "needs_background": "light"
     },
     "output_type": "display_data"
    }
   ],
   "source": [
    "plt.figure(figsize=(18,6))\n",
    "\n",
    "chart = sns.barplot(x= FRM_rounds['Round'].unique(), \n",
    "                    y=(FRM_rounds['Matches Won']/FRM_rounds['Matches Played']).mul(100).astype(int), \n",
    "                    color = 'purple')\n",
    "\n",
    "for p in chart.patches:\n",
    "             chart.annotate(\"%.0f\" % p.get_height(), (p.get_x() + p.get_width() / 2., p.get_height()),\n",
    "                 ha='center', va='center', fontsize=12, color='black', xytext=(0,5),\n",
    "                 textcoords='offset points')\n",
    "\n",
    "plt.title('Fremantle Win Percentage by Round', fontsize=18)\n",
    "plt.xticks(rotation=0)\n",
    "plt.xlabel('Round', fontsize=14)\n",
    "plt.xticks(fontsize=12)\n",
    "plt.ylabel('Win %', fontsize=14)\n",
    "plt.yticks(fontsize=12)\n",
    "plt.show()"
   ]
  },
  {
   "cell_type": "markdown",
   "id": "f75f145f",
   "metadata": {
    "papermill": {
     "duration": 0.124165,
     "end_time": "2022-02-04T10:13:20.125615",
     "exception": false,
     "start_time": "2022-02-04T10:13:20.001450",
     "status": "completed"
    },
    "tags": []
   },
   "source": [
    "In terms of the Premiership Season (Round 1 through to Round 23), Fremantle has won the greatest percentage of games in Round 13 (87%) and, interestingly, has lost the most in the following round, with a win percentage of only 25%. \n",
    "\n",
    "In the Finals Series, Fremantle boast a 100% record in the Elimination Final (EF), albeit making only 1 appearance, and have won 2 out of the 3 Qualifying Final (QF) matches they have played. Fremantle made it to the Preliminary Final (PF) on 2 occasions and in this particular round they have an even split between wins and losses. Following their PF win, they faced Hawthorn in the 2013 Grand Final but there would be no celebrations as they fell short of a first premiership title. "
   ]
  },
  {
   "cell_type": "markdown",
   "id": "f5bcc612",
   "metadata": {
    "papermill": {
     "duration": 0.123485,
     "end_time": "2022-02-04T10:13:20.371452",
     "exception": false,
     "start_time": "2022-02-04T10:13:20.247967",
     "status": "completed"
    },
    "tags": []
   },
   "source": [
    "**DAY BY DAY**"
   ]
  },
  {
   "cell_type": "markdown",
   "id": "fb1f7712",
   "metadata": {
    "papermill": {
     "duration": 0.123811,
     "end_time": "2022-02-04T10:13:20.618516",
     "exception": false,
     "start_time": "2022-02-04T10:13:20.494705",
     "status": "completed"
    },
    "tags": []
   },
   "source": [
    "We have seen how the wins for Fremantle are split by round. Now lets look at how they are spread throughout the days of the week."
   ]
  },
  {
   "cell_type": "code",
   "execution_count": 50,
   "id": "7f4507ee",
   "metadata": {
    "execution": {
     "iopub.execute_input": "2022-02-04T10:13:20.873549Z",
     "iopub.status.busy": "2022-02-04T10:13:20.872912Z",
     "iopub.status.idle": "2022-02-04T10:13:20.880111Z",
     "shell.execute_reply": "2022-02-04T10:13:20.880880Z",
     "shell.execute_reply.started": "2022-02-04T10:05:03.754267Z"
    },
    "papermill": {
     "duration": 0.138428,
     "end_time": "2022-02-04T10:13:20.881068",
     "exception": false,
     "start_time": "2022-02-04T10:13:20.742640",
     "status": "completed"
    },
    "tags": []
   },
   "outputs": [
    {
     "data": {
      "text/plain": [
       "Day\n",
       "Fri     3.0\n",
       "Mon     2.0\n",
       "Sat    56.0\n",
       "Sun    40.0\n",
       "Thu     2.0\n",
       "Wed     0.0\n",
       "Name: WinLoss, dtype: float64"
      ]
     },
     "execution_count": 50,
     "metadata": {},
     "output_type": "execute_result"
    }
   ],
   "source": [
    "df_FRM.groupby('Day')['WinLoss'].sum().div(22)"
   ]
  },
  {
   "cell_type": "code",
   "execution_count": 51,
   "id": "4dde6d32",
   "metadata": {
    "execution": {
     "iopub.execute_input": "2022-02-04T10:13:21.132989Z",
     "iopub.status.busy": "2022-02-04T10:13:21.132336Z",
     "iopub.status.idle": "2022-02-04T10:13:21.136488Z",
     "shell.execute_reply": "2022-02-04T10:13:21.137086Z",
     "shell.execute_reply.started": "2022-02-04T10:05:03.764417Z"
    },
    "papermill": {
     "duration": 0.132749,
     "end_time": "2022-02-04T10:13:21.137253",
     "exception": false,
     "start_time": "2022-02-04T10:13:21.004504",
     "status": "completed"
    },
    "tags": []
   },
   "outputs": [],
   "source": [
    "days = list(df_FRM['Day'].unique())"
   ]
  },
  {
   "cell_type": "code",
   "execution_count": 52,
   "id": "b2d3adb5",
   "metadata": {
    "execution": {
     "iopub.execute_input": "2022-02-04T10:13:21.388329Z",
     "iopub.status.busy": "2022-02-04T10:13:21.387524Z",
     "iopub.status.idle": "2022-02-04T10:13:21.390631Z",
     "shell.execute_reply": "2022-02-04T10:13:21.391154Z",
     "shell.execute_reply.started": "2022-02-04T10:05:03.776990Z"
    },
    "papermill": {
     "duration": 0.131405,
     "end_time": "2022-02-04T10:13:21.391322",
     "exception": false,
     "start_time": "2022-02-04T10:13:21.259917",
     "status": "completed"
    },
    "tags": []
   },
   "outputs": [
    {
     "data": {
      "text/plain": [
       "['Sat', 'Sun', 'Fri', 'Thu', 'Mon', 'Wed']"
      ]
     },
     "execution_count": 52,
     "metadata": {},
     "output_type": "execute_result"
    }
   ],
   "source": [
    "days"
   ]
  },
  {
   "cell_type": "code",
   "execution_count": 53,
   "id": "d64317d3",
   "metadata": {
    "execution": {
     "iopub.execute_input": "2022-02-04T10:13:21.642850Z",
     "iopub.status.busy": "2022-02-04T10:13:21.642199Z",
     "iopub.status.idle": "2022-02-04T10:13:21.646260Z",
     "shell.execute_reply": "2022-02-04T10:13:21.646829Z",
     "shell.execute_reply.started": "2022-02-04T10:05:03.789669Z"
    },
    "papermill": {
     "duration": 0.131969,
     "end_time": "2022-02-04T10:13:21.646994",
     "exception": false,
     "start_time": "2022-02-04T10:13:21.515025",
     "status": "completed"
    },
    "tags": []
   },
   "outputs": [],
   "source": [
    "days_ord = days[4:5]+days[5:6]+days[3:4]+days[2:3]+days[0:1]+days[1:2]"
   ]
  },
  {
   "cell_type": "code",
   "execution_count": 54,
   "id": "0b59ad37",
   "metadata": {
    "execution": {
     "iopub.execute_input": "2022-02-04T10:13:21.899534Z",
     "iopub.status.busy": "2022-02-04T10:13:21.898907Z",
     "iopub.status.idle": "2022-02-04T10:13:21.904291Z",
     "shell.execute_reply": "2022-02-04T10:13:21.904902Z",
     "shell.execute_reply.started": "2022-02-04T10:05:03.799428Z"
    },
    "papermill": {
     "duration": 0.133723,
     "end_time": "2022-02-04T10:13:21.905120",
     "exception": false,
     "start_time": "2022-02-04T10:13:21.771397",
     "status": "completed"
    },
    "tags": []
   },
   "outputs": [
    {
     "data": {
      "text/plain": [
       "['Mon', 'Wed', 'Thu', 'Fri', 'Sat', 'Sun']"
      ]
     },
     "execution_count": 54,
     "metadata": {},
     "output_type": "execute_result"
    }
   ],
   "source": [
    "days_ord"
   ]
  },
  {
   "cell_type": "code",
   "execution_count": 55,
   "id": "26f49f72",
   "metadata": {
    "execution": {
     "iopub.execute_input": "2022-02-04T10:13:22.164556Z",
     "iopub.status.busy": "2022-02-04T10:13:22.163481Z",
     "iopub.status.idle": "2022-02-04T10:13:22.168164Z",
     "shell.execute_reply": "2022-02-04T10:13:22.168755Z",
     "shell.execute_reply.started": "2022-02-04T10:05:03.811787Z"
    },
    "papermill": {
     "duration": 0.13624,
     "end_time": "2022-02-04T10:13:22.168964",
     "exception": false,
     "start_time": "2022-02-04T10:13:22.032724",
     "status": "completed"
    },
    "tags": []
   },
   "outputs": [],
   "source": [
    "days_ordered = pd.DataFrame({'Day':days_ord})"
   ]
  },
  {
   "cell_type": "code",
   "execution_count": 56,
   "id": "e760a7bf",
   "metadata": {
    "execution": {
     "iopub.execute_input": "2022-02-04T10:13:22.424127Z",
     "iopub.status.busy": "2022-02-04T10:13:22.423026Z",
     "iopub.status.idle": "2022-02-04T10:13:22.435414Z",
     "shell.execute_reply": "2022-02-04T10:13:22.434825Z",
     "shell.execute_reply.started": "2022-02-04T10:05:03.822032Z"
    },
    "papermill": {
     "duration": 0.141897,
     "end_time": "2022-02-04T10:13:22.435570",
     "exception": false,
     "start_time": "2022-02-04T10:13:22.293673",
     "status": "completed"
    },
    "tags": []
   },
   "outputs": [],
   "source": [
    "days_wins = df_FRM.groupby('Day').agg({'WinLoss':lambda x:sum(x)/22, \n",
    "                           'Date':'nunique'}).rename(columns={'WinLoss':'Matches Won', \n",
    "                                                             'Date': 'Matches Played'})"
   ]
  },
  {
   "cell_type": "code",
   "execution_count": 57,
   "id": "237146ad",
   "metadata": {
    "execution": {
     "iopub.execute_input": "2022-02-04T10:13:22.695256Z",
     "iopub.status.busy": "2022-02-04T10:13:22.694528Z",
     "iopub.status.idle": "2022-02-04T10:13:22.695868Z",
     "shell.execute_reply": "2022-02-04T10:13:22.696478Z",
     "shell.execute_reply.started": "2022-02-04T10:05:03.840646Z"
    },
    "papermill": {
     "duration": 0.135164,
     "end_time": "2022-02-04T10:13:22.696670",
     "exception": false,
     "start_time": "2022-02-04T10:13:22.561506",
     "status": "completed"
    },
    "tags": []
   },
   "outputs": [],
   "source": [
    "FRM_days = days_ordered.merge(days_wins, on='Day')"
   ]
  },
  {
   "cell_type": "code",
   "execution_count": 58,
   "id": "2d24f389",
   "metadata": {
    "execution": {
     "iopub.execute_input": "2022-02-04T10:13:22.956080Z",
     "iopub.status.busy": "2022-02-04T10:13:22.955369Z",
     "iopub.status.idle": "2022-02-04T10:13:22.964756Z",
     "shell.execute_reply": "2022-02-04T10:13:22.965375Z",
     "shell.execute_reply.started": "2022-02-04T10:05:03.849926Z"
    },
    "papermill": {
     "duration": 0.142987,
     "end_time": "2022-02-04T10:13:22.965561",
     "exception": false,
     "start_time": "2022-02-04T10:13:22.822574",
     "status": "completed"
    },
    "tags": []
   },
   "outputs": [
    {
     "data": {
      "text/html": [
       "<div>\n",
       "<style scoped>\n",
       "    .dataframe tbody tr th:only-of-type {\n",
       "        vertical-align: middle;\n",
       "    }\n",
       "\n",
       "    .dataframe tbody tr th {\n",
       "        vertical-align: top;\n",
       "    }\n",
       "\n",
       "    .dataframe thead th {\n",
       "        text-align: right;\n",
       "    }\n",
       "</style>\n",
       "<table border=\"1\" class=\"dataframe\">\n",
       "  <thead>\n",
       "    <tr style=\"text-align: right;\">\n",
       "      <th></th>\n",
       "      <th>Day</th>\n",
       "      <th>Matches Won</th>\n",
       "      <th>Matches Played</th>\n",
       "    </tr>\n",
       "  </thead>\n",
       "  <tbody>\n",
       "    <tr>\n",
       "      <th>0</th>\n",
       "      <td>Mon</td>\n",
       "      <td>2</td>\n",
       "      <td>3</td>\n",
       "    </tr>\n",
       "    <tr>\n",
       "      <th>1</th>\n",
       "      <td>Wed</td>\n",
       "      <td>0</td>\n",
       "      <td>1</td>\n",
       "    </tr>\n",
       "    <tr>\n",
       "      <th>2</th>\n",
       "      <td>Thu</td>\n",
       "      <td>2</td>\n",
       "      <td>2</td>\n",
       "    </tr>\n",
       "    <tr>\n",
       "      <th>3</th>\n",
       "      <td>Fri</td>\n",
       "      <td>3</td>\n",
       "      <td>12</td>\n",
       "    </tr>\n",
       "    <tr>\n",
       "      <th>4</th>\n",
       "      <td>Sat</td>\n",
       "      <td>56</td>\n",
       "      <td>108</td>\n",
       "    </tr>\n",
       "    <tr>\n",
       "      <th>5</th>\n",
       "      <td>Sun</td>\n",
       "      <td>40</td>\n",
       "      <td>76</td>\n",
       "    </tr>\n",
       "  </tbody>\n",
       "</table>\n",
       "</div>"
      ],
      "text/plain": [
       "   Day  Matches Won  Matches Played\n",
       "0  Mon            2               3\n",
       "1  Wed            0               1\n",
       "2  Thu            2               2\n",
       "3  Fri            3              12\n",
       "4  Sat           56             108\n",
       "5  Sun           40              76"
      ]
     },
     "execution_count": 58,
     "metadata": {},
     "output_type": "execute_result"
    }
   ],
   "source": [
    "FRM_days"
   ]
  },
  {
   "cell_type": "code",
   "execution_count": 59,
   "id": "adbf111f",
   "metadata": {
    "execution": {
     "iopub.execute_input": "2022-02-04T10:13:23.234575Z",
     "iopub.status.busy": "2022-02-04T10:13:23.233463Z",
     "iopub.status.idle": "2022-02-04T10:13:23.419995Z",
     "shell.execute_reply": "2022-02-04T10:13:23.419324Z",
     "shell.execute_reply.started": "2022-02-04T10:05:03.865561Z"
    },
    "papermill": {
     "duration": 0.325951,
     "end_time": "2022-02-04T10:13:23.420167",
     "exception": false,
     "start_time": "2022-02-04T10:13:23.094216",
     "status": "completed"
    },
    "tags": []
   },
   "outputs": [
    {
     "data": {
      "image/svg+xml": [
       "<svg class=\"main-svg\" xmlns=\"http://www.w3.org/2000/svg\" xmlns:xlink=\"http://www.w3.org/1999/xlink\" width=\"700\" height=\"450\" style=\"\" viewBox=\"0 0 700 450\"><rect x=\"0\" y=\"0\" width=\"700\" height=\"450\" style=\"fill: rgb(255, 255, 255); fill-opacity: 1;\"/><defs id=\"defs-5f199b\"><g class=\"clips\"/><g class=\"gradients\"/></defs><g class=\"bglayer\"/><g class=\"layer-below\"><g class=\"imagelayer\"/><g class=\"shapelayer\"/></g><g class=\"cartesianlayer\"/><g class=\"polarlayer\"/><g class=\"ternarylayer\"/><g class=\"geolayer\"/><g class=\"funnelarealayer\"/><g class=\"pielayer\"><g class=\"trace\" stroke-linejoin=\"round\" style=\"opacity: 1;\"><g class=\"slice\"><path class=\"surface\" d=\"M202.52772038862238,187.95556830846385a47.25,47.25 0 0 0 -4.402720388622382,-0.20556830846387017l0,-70.875a118.125,118.125 0 0 1 11.006800971555954,0.5139207711596754Z\" style=\"pointer-events: all; stroke-width: 1; fill: rgb(99, 110, 250); fill-opacity: 1; stroke: rgb(0, 0, 0); stroke-opacity: 1;\"/><g class=\"slicetext\"><text data-notex=\"1\" class=\"slicetext\" transform=\"translate(225.2828336145137,97.63254721981134)\" text-anchor=\"middle\" x=\"0\" y=\"0\" style=\"font-family: 'Open Sans', verdana, arial, sans-serif; font-size: 13px; fill: rgb(42, 63, 95); fill-opacity: 1; white-space: pre;\"><tspan class=\"line\" dy=\"0em\" x=\"0\" y=\"0\">Mon</tspan><tspan class=\"line\" dy=\"1.3em\" x=\"0\" y=\"0\">3</tspan></text></g></g><g class=\"slice\"><path class=\"surface\" d=\"M198.125,187.75a47.25,47.25 0 0 0 -1.4694684922497945,0.022855661703562194l-2.2042027383746916,-70.84071650744465a118.125,118.125 0 0 1 3.673671230624486,-0.05713915425890548Z\" style=\"pointer-events: all; stroke-width: 1; fill: rgb(239, 85, 59); fill-opacity: 1; stroke: rgb(0, 0, 0); stroke-opacity: 1;\"/><g class=\"slicetext\"><text data-notex=\"1\" class=\"slicetext\" transform=\"translate(173.82700471690856,65.35362745077606)\" text-anchor=\"middle\" x=\"0\" y=\"0\" style=\"font-family: 'Open Sans', verdana, arial, sans-serif; font-size: 13px; fill: rgb(42, 63, 95); fill-opacity: 1; white-space: pre;\"><tspan class=\"line\" dy=\"0em\" x=\"0\" y=\"0\">Wed</tspan><tspan class=\"line\" dy=\"1.3em\" x=\"0\" y=\"0\">1</tspan></text></g><path class=\"textline\" stroke-width=\"1.625\" d=\"M196.28794221690856,116.88928565239483V68.55675245077606h-8.1015625\" fill=\"none\" style=\"stroke: rgb(42, 63, 95); stroke-opacity: 1;\"/></g><g class=\"slice\"><path class=\"surface\" d=\"M196.6555315077502,187.77285566170355a47.25,47.25 0 0 0 -2.9332518963725875,0.18271264676030796l-6.604080582933572,-70.56664753730419a118.125,118.125 0 0 1 7.333129740931469,-0.4567816169007699Z\" style=\"pointer-events: all; stroke-width: 1; fill: rgb(0, 204, 150); fill-opacity: 1; stroke: rgb(0, 0, 0); stroke-opacity: 1;\"/><g class=\"slicetext\"><text data-notex=\"1\" class=\"slicetext\" transform=\"translate(170.44527407840636,97.75987745077606)\" text-anchor=\"middle\" x=\"0\" y=\"0\" style=\"font-family: 'Open Sans', verdana, arial, sans-serif; font-size: 13px; fill: rgb(42, 63, 95); fill-opacity: 1; white-space: pre;\"><tspan class=\"line\" dy=\"0em\" x=\"0\" y=\"0\">Thu</tspan><tspan class=\"line\" dy=\"1.3em\" x=\"0\" y=\"0\">2</tspan></text></g></g><g class=\"slice\"><path class=\"surface\" d=\"M193.72227961137762,187.95556830846385a47.25,47.25 0 0 0 -16.85167037773841,4.844747176710229l-31.881586149541185,-63.29952677223885a118.125,118.125 0 0 1 42.129175944346024,-12.111867941775571Z\" style=\"pointer-events: all; stroke-width: 1; fill: rgb(171, 99, 250); fill-opacity: 1; stroke: rgb(0, 0, 0); stroke-opacity: 1;\"/><g class=\"slicetext\"><text data-notex=\"1\" class=\"slicetext\" transform=\"translate(170.59498944094338,136.03818078638267)\" text-anchor=\"middle\" x=\"0\" y=\"0\" style=\"font-family: 'Open Sans', verdana, arial, sans-serif; font-size: 13px; fill: rgb(68, 68, 68); fill-opacity: 1; white-space: pre;\"><tspan class=\"line\" dy=\"0em\" x=\"0\" y=\"0\">Fri</tspan><tspan class=\"line\" dy=\"1.3em\" x=\"0\" y=\"0\">12</tspan></text></g></g><g class=\"slice\"><path class=\"surface\" d=\"M176.87060923363921,192.8003154851741a47.25,47.25 0 1 0 51.12283698814771,78.81168282543746l44.802669332680374,54.91799746591732a118.125,118.125 0 1 1 -127.80709247036927,-197.02920706359362Z\" style=\"pointer-events: all; stroke-width: 1; fill: rgb(255, 161, 90); fill-opacity: 1; stroke: rgb(0, 0, 0); stroke-opacity: 1;\"/><g class=\"slicetext\"><text data-notex=\"1\" class=\"slicetext\" transform=\"translate(128.75409001277546,276.795758361639)\" text-anchor=\"middle\" x=\"0\" y=\"0\" style=\"font-family: 'Open Sans', verdana, arial, sans-serif; font-size: 13px; fill: rgb(68, 68, 68); fill-opacity: 1; white-space: pre;\"><tspan class=\"line\" dy=\"0em\" x=\"0\" y=\"0\">Sat</tspan><tspan class=\"line\" dy=\"1.3em\" x=\"0\" y=\"0\">108</tspan></text></g></g><g class=\"slice\"><path class=\"surface\" d=\"M227.9934462217869,271.61199831061157a47.25,47.25 0 0 0 -25.465725833164502,-83.65643000214767l6.604080582933622,-70.56664753730418a118.125,118.125 0 0 1 63.66431458291125,209.14107500536917Z\" style=\"pointer-events: all; stroke-width: 1; fill: rgb(25, 211, 243); fill-opacity: 1; stroke: rgb(0, 0, 0); stroke-opacity: 1;\"/><g class=\"slicetext\"><text data-notex=\"1\" class=\"slicetext\" transform=\"translate(277.22863514241055,207.71705848270912)\" text-anchor=\"middle\" x=\"0\" y=\"0\" style=\"font-family: 'Open Sans', verdana, arial, sans-serif; font-size: 13px; fill: rgb(68, 68, 68); fill-opacity: 1; white-space: pre;\"><tspan class=\"line\" dy=\"0em\" x=\"0\" y=\"0\">Sun</tspan><tspan class=\"line\" dy=\"1.3em\" x=\"0\" y=\"0\">76</tspan></text></g></g></g><g class=\"trace\" stroke-linejoin=\"round\" style=\"opacity: 1;\"><g class=\"slice\"><path class=\"surface\" d=\"M492.6253795862633,188.10121926303535a47.25,47.25 0 0 0 -5.750379586263297,-0.3512192630353525l0,-70.87499999999999a118.12499999999999,118.12499999999999 0 0 1 14.375948965658242,0.8780481575883812Z\" style=\"pointer-events: all; stroke-width: 1; fill: rgb(99, 110, 250); fill-opacity: 1; stroke: rgb(0, 0, 0); stroke-opacity: 1;\"/><g class=\"slicetext\"><text data-notex=\"1\" class=\"slicetext\" transform=\"translate(515.7248067661578,97.74868701015151)\" text-anchor=\"middle\" x=\"0\" y=\"0\" style=\"font-family: 'Open Sans', verdana, arial, sans-serif; font-size: 13px; fill: rgb(42, 63, 95); fill-opacity: 1; white-space: pre;\"><tspan class=\"line\" dy=\"0em\" x=\"0\" y=\"0\">Mon</tspan><tspan class=\"line\" dy=\"1.3em\" x=\"0\" y=\"0\">2</tspan></text></g></g><g class=\"slice\"><path class=\"surface\" d=\"M486.875,187.75a47.25,47.25 0 0 0 0,0l0,-70.87499999999999a118.12499999999999,118.12499999999999 0 0 1 0,0Z\" style=\"pointer-events: all; stroke-width: 1; fill: rgb(239, 85, 59); fill-opacity: 1; stroke: rgb(0, 0, 0); stroke-opacity: 1;\"/><g class=\"slicetext\"><text data-notex=\"1\" class=\"slicetext\" transform=\"translate(509.3359375,65.34243701015151)\" text-anchor=\"middle\" x=\"0\" y=\"0\" style=\"font-family: 'Open Sans', verdana, arial, sans-serif; font-size: 13px; fill: rgb(42, 63, 95); fill-opacity: 1; white-space: pre;\"><tspan class=\"line\" dy=\"0em\" x=\"0\" y=\"0\">Wed</tspan><tspan class=\"line\" dy=\"1.3em\" x=\"0\" y=\"0\">0</tspan></text></g><path class=\"textline\" stroke-width=\"1.625\" d=\"M486.875,116.87500000000001V68.54556201015151h8.1015625\" fill=\"none\" style=\"stroke: rgb(42, 63, 95); stroke-opacity: 1;\"/></g><g class=\"slice\"><path class=\"surface\" d=\"M486.875,187.75a47.25,47.25 0 0 0 -5.750379586263297,0.3512192630353525l-8.625569379394944,-70.34817110544697a118.12499999999999,118.12499999999999 0 0 1 14.375948965658242,-0.8780481575883812Z\" style=\"pointer-events: all; stroke-width: 1; fill: rgb(0, 204, 150); fill-opacity: 1; stroke: rgb(0, 0, 0); stroke-opacity: 1;\"/><g class=\"slicetext\"><text data-notex=\"1\" class=\"slicetext\" transform=\"translate(459.3376932338421,68.47211154743795)\" text-anchor=\"middle\" x=\"0\" y=\"0\" style=\"font-family: 'Open Sans', verdana, arial, sans-serif; font-size: 13px; fill: rgb(42, 63, 95); fill-opacity: 1; white-space: pre;\"><tspan class=\"line\" dy=\"0em\" x=\"0\" y=\"0\">Thu</tspan><tspan class=\"line\" dy=\"1.3em\" x=\"0\" y=\"0\">2</tspan></text></g><path class=\"textline\" stroke-width=\"1.625\" d=\"M479.6736307338421,117.09471637923755V71.67523654743795h-8.1015625\" fill=\"none\" style=\"stroke: rgb(42, 63, 95); stroke-opacity: 1;\"/></g><g class=\"slice\"><path class=\"surface\" d=\"M481.1246204137367,188.10121926303535a47.25,47.25 0 0 0 -8.438878362141658,1.829639865703001l-21.283886922607433,-67.60371130689246a118.12499999999999,118.12499999999999 0 0 1 21.097195905354145,-4.574099664257503Z\" style=\"pointer-events: all; stroke-width: 1; fill: rgb(171, 99, 250); fill-opacity: 1; stroke: rgb(0, 0, 0); stroke-opacity: 1;\"/><g class=\"slicetext\"><text data-notex=\"1\" class=\"slicetext\" transform=\"translate(445.44730689742687,100.87836154743795)\" text-anchor=\"middle\" x=\"0\" y=\"0\" style=\"font-family: 'Open Sans', verdana, arial, sans-serif; font-size: 13px; fill: rgb(42, 63, 95); fill-opacity: 1; white-space: pre;\"><tspan class=\"line\" dy=\"0em\" x=\"0\" y=\"0\">Fri</tspan><tspan class=\"line\" dy=\"1.3em\" x=\"0\" y=\"0\">3</tspan></text></g></g><g class=\"slice\"><path class=\"surface\" d=\"M472.68574205159507,189.93085912873835a47.25,47.25 0 1 0 40.0643000157443,84.60450096843817l38.81256310100901,59.303040145764804a118.12499999999999,118.12499999999999 0 1 1 -100.16075003936075,-211.51125242109543Z\" style=\"pointer-events: all; stroke-width: 1; fill: rgb(255, 161, 90); fill-opacity: 1; stroke: rgb(0, 0, 0); stroke-opacity: 1;\"/><g class=\"slicetext\"><text data-notex=\"1\" class=\"slicetext\" transform=\"translate(412.14324244390735,267.185956209144)\" text-anchor=\"middle\" x=\"0\" y=\"0\" style=\"font-family: 'Open Sans', verdana, arial, sans-serif; font-size: 13px; fill: rgb(68, 68, 68); fill-opacity: 1; white-space: pre;\"><tspan class=\"line\" dy=\"0em\" x=\"0\" y=\"0\">Sat</tspan><tspan class=\"line\" dy=\"1.3em\" x=\"0\" y=\"0\">56</tspan></text></g></g><g class=\"slice\"><path class=\"surface\" d=\"M512.7500420673393,274.5353600971765a47.25,47.25 0 0 0 -20.12466248107601,-86.43414083414119l8.625569379394998,-70.34817110544697a118.12499999999999,118.12499999999999 0 0 1 50.311656202690024,216.08535208535295Z\" style=\"pointer-events: all; stroke-width: 1; fill: rgb(25, 211, 243); fill-opacity: 1; stroke: rgb(0, 0, 0); stroke-opacity: 1;\"/><g class=\"slicetext\"><text data-notex=\"1\" class=\"slicetext\" transform=\"translate(567.4084142441733,213.0460924449602)\" text-anchor=\"middle\" x=\"0\" y=\"0\" style=\"font-family: 'Open Sans', verdana, arial, sans-serif; font-size: 13px; fill: rgb(68, 68, 68); fill-opacity: 1; white-space: pre;\"><tspan class=\"line\" dy=\"0em\" x=\"0\" y=\"0\">Sun</tspan><tspan class=\"line\" dy=\"1.3em\" x=\"0\" y=\"0\">40</tspan></text></g></g></g></g><g class=\"treemaplayer\"/><g class=\"sunburstlayer\"/><g class=\"glimages\"/><defs id=\"topdefs-5f199b\"><g class=\"clips\"/><clipPath id=\"legend5f199b\"><rect width=\"72\" height=\"124\" x=\"0\" y=\"0\"/></clipPath></defs><g class=\"layer-above\"><g class=\"imagelayer\"/><g class=\"shapelayer\"/></g><g class=\"infolayer\"><g class=\"legend\" pointer-events=\"all\" transform=\"translate(615.5, 100)\"><rect class=\"bg\" shape-rendering=\"crispEdges\" style=\"stroke: rgb(68, 68, 68); stroke-opacity: 1; fill: rgb(255, 255, 255); fill-opacity: 1; stroke-width: 0px;\" width=\"72\" height=\"124\" x=\"0\" y=\"0\"/><g class=\"scrollbox\" transform=\"translate(0, 0)\" clip-path=\"url('#legend5f199b')\"><g class=\"groups\"><g class=\"traces\" transform=\"translate(0, 14.5)\" style=\"opacity: 1;\"><text class=\"legendtext user-select-none\" text-anchor=\"start\" x=\"40\" y=\"4.680000000000001\" style=\"font-family: 'Open Sans', verdana, arial, sans-serif; font-size: 12px; fill: rgb(42, 63, 95); fill-opacity: 1; white-space: pre;\">Mon</text><g class=\"layers\" style=\"opacity: 1;\"><g class=\"legendfill\"/><g class=\"legendlines\"/><g class=\"legendsymbols\"><g class=\"legendpoints\"><path class=\"legendpie\" d=\"M6,6H-6V-6H6Z\" transform=\"translate(20,0)\" style=\"stroke-width: 1; fill: rgb(99, 110, 250); fill-opacity: 1; stroke: rgb(0, 0, 0); stroke-opacity: 1;\"/></g></g></g><rect class=\"legendtoggle\" pointer-events=\"all\" x=\"0\" y=\"-9.5\" width=\"66.5\" height=\"19\" style=\"cursor: pointer; fill: rgb(0, 0, 0); fill-opacity: 0;\"/></g><g class=\"traces\" transform=\"translate(0, 33.5)\" style=\"opacity: 1;\"><text class=\"legendtext user-select-none\" text-anchor=\"start\" x=\"40\" y=\"4.680000000000001\" style=\"font-family: 'Open Sans', verdana, arial, sans-serif; font-size: 12px; fill: rgb(42, 63, 95); fill-opacity: 1; white-space: pre;\">Wed</text><g class=\"layers\" style=\"opacity: 1;\"><g class=\"legendfill\"/><g class=\"legendlines\"/><g class=\"legendsymbols\"><g class=\"legendpoints\"><path class=\"legendpie\" d=\"M6,6H-6V-6H6Z\" transform=\"translate(20,0)\" style=\"stroke-width: 1; fill: rgb(239, 85, 59); fill-opacity: 1; stroke: rgb(0, 0, 0); stroke-opacity: 1;\"/></g></g></g><rect class=\"legendtoggle\" pointer-events=\"all\" x=\"0\" y=\"-9.5\" width=\"66.5\" height=\"19\" style=\"cursor: pointer; fill: rgb(0, 0, 0); fill-opacity: 0;\"/></g><g class=\"traces\" transform=\"translate(0, 52.5)\" style=\"opacity: 1;\"><text class=\"legendtext user-select-none\" text-anchor=\"start\" x=\"40\" y=\"4.680000000000001\" style=\"font-family: 'Open Sans', verdana, arial, sans-serif; font-size: 12px; fill: rgb(42, 63, 95); fill-opacity: 1; white-space: pre;\">Thu</text><g class=\"layers\" style=\"opacity: 1;\"><g class=\"legendfill\"/><g class=\"legendlines\"/><g class=\"legendsymbols\"><g class=\"legendpoints\"><path class=\"legendpie\" d=\"M6,6H-6V-6H6Z\" transform=\"translate(20,0)\" style=\"stroke-width: 1; fill: rgb(0, 204, 150); fill-opacity: 1; stroke: rgb(0, 0, 0); stroke-opacity: 1;\"/></g></g></g><rect class=\"legendtoggle\" pointer-events=\"all\" x=\"0\" y=\"-9.5\" width=\"66.5\" height=\"19\" style=\"cursor: pointer; fill: rgb(0, 0, 0); fill-opacity: 0;\"/></g><g class=\"traces\" transform=\"translate(0, 71.5)\" style=\"opacity: 1;\"><text class=\"legendtext user-select-none\" text-anchor=\"start\" x=\"40\" y=\"4.680000000000001\" style=\"font-family: 'Open Sans', verdana, arial, sans-serif; font-size: 12px; fill: rgb(42, 63, 95); fill-opacity: 1; white-space: pre;\">Fri</text><g class=\"layers\" style=\"opacity: 1;\"><g class=\"legendfill\"/><g class=\"legendlines\"/><g class=\"legendsymbols\"><g class=\"legendpoints\"><path class=\"legendpie\" d=\"M6,6H-6V-6H6Z\" transform=\"translate(20,0)\" style=\"stroke-width: 1; fill: rgb(171, 99, 250); fill-opacity: 1; stroke: rgb(0, 0, 0); stroke-opacity: 1;\"/></g></g></g><rect class=\"legendtoggle\" pointer-events=\"all\" x=\"0\" y=\"-9.5\" width=\"66.5\" height=\"19\" style=\"cursor: pointer; fill: rgb(0, 0, 0); fill-opacity: 0;\"/></g><g class=\"traces\" transform=\"translate(0, 90.5)\" style=\"opacity: 1;\"><text class=\"legendtext user-select-none\" text-anchor=\"start\" x=\"40\" y=\"4.680000000000001\" style=\"font-family: 'Open Sans', verdana, arial, sans-serif; font-size: 12px; fill: rgb(42, 63, 95); fill-opacity: 1; white-space: pre;\">Sat</text><g class=\"layers\" style=\"opacity: 1;\"><g class=\"legendfill\"/><g class=\"legendlines\"/><g class=\"legendsymbols\"><g class=\"legendpoints\"><path class=\"legendpie\" d=\"M6,6H-6V-6H6Z\" transform=\"translate(20,0)\" style=\"stroke-width: 1; fill: rgb(255, 161, 90); fill-opacity: 1; stroke: rgb(0, 0, 0); stroke-opacity: 1;\"/></g></g></g><rect class=\"legendtoggle\" pointer-events=\"all\" x=\"0\" y=\"-9.5\" width=\"66.5\" height=\"19\" style=\"cursor: pointer; fill: rgb(0, 0, 0); fill-opacity: 0;\"/></g><g class=\"traces\" transform=\"translate(0, 109.5)\" style=\"opacity: 1;\"><text class=\"legendtext user-select-none\" text-anchor=\"start\" x=\"40\" y=\"4.680000000000001\" style=\"font-family: 'Open Sans', verdana, arial, sans-serif; font-size: 12px; fill: rgb(42, 63, 95); fill-opacity: 1; white-space: pre;\">Sun</text><g class=\"layers\" style=\"opacity: 1;\"><g class=\"legendfill\"/><g class=\"legendlines\"/><g class=\"legendsymbols\"><g class=\"legendpoints\"><path class=\"legendpie\" d=\"M6,6H-6V-6H6Z\" transform=\"translate(20,0)\" style=\"stroke-width: 1; fill: rgb(25, 211, 243); fill-opacity: 1; stroke: rgb(0, 0, 0); stroke-opacity: 1;\"/></g></g></g><rect class=\"legendtoggle\" pointer-events=\"all\" x=\"0\" y=\"-9.5\" width=\"66.5\" height=\"19\" style=\"cursor: pointer; fill: rgb(0, 0, 0); fill-opacity: 0;\"/></g></g></g><rect class=\"scrollbar\" rx=\"20\" ry=\"3\" width=\"0\" height=\"0\" style=\"fill: rgb(128, 139, 164); fill-opacity: 1;\" x=\"0\" y=\"0\"/></g><g class=\"g-gtitle\"><text class=\"gtitle\" x=\"350\" y=\"50\" text-anchor=\"middle\" dy=\"0em\" style=\"font-family: 'Open Sans', verdana, arial, sans-serif; font-size: 17px; fill: rgb(42, 63, 95); opacity: 1; font-weight: normal; white-space: pre;\">Fremantle Matches Split by Day</text></g><g class=\"annotation\" data-index=\"0\" style=\"opacity: 1;\"><g class=\"annotation-text-g\" transform=\"rotate(0,198.125,228.75)\"><g class=\"cursor-pointer\" transform=\"translate(167, 216)\"><rect class=\"bg\" x=\"0.5\" y=\"0.5\" width=\"62\" height=\"25\" style=\"stroke-width: 1px; stroke: rgb(0, 0, 0); stroke-opacity: 0; fill: rgb(0, 0, 0); fill-opacity: 0;\"/><text class=\"annotation-text\" text-anchor=\"middle\" x=\"31.609375\" y=\"20\" style=\"font-family: 'Open Sans', verdana, arial, sans-serif; font-size: 18px; fill: rgb(42, 63, 95); fill-opacity: 1; white-space: pre;\">Played</text></g></g></g><g class=\"annotation\" data-index=\"1\" style=\"opacity: 1;\"><g class=\"annotation-text-g\" transform=\"rotate(0,486.875,228.75)\"><g class=\"cursor-pointer\" transform=\"translate(465, 216)\"><rect class=\"bg\" x=\"0.5\" y=\"0.5\" width=\"43\" height=\"25\" style=\"stroke-width: 1px; stroke: rgb(0, 0, 0); stroke-opacity: 0; fill: rgb(0, 0, 0); fill-opacity: 0;\"/><text class=\"annotation-text\" text-anchor=\"middle\" x=\"22.0625\" y=\"20\" style=\"font-family: 'Open Sans', verdana, arial, sans-serif; font-size: 18px; fill: rgb(42, 63, 95); fill-opacity: 1; white-space: pre;\">Won</text></g></g></g></g></svg>"
      ]
     },
     "metadata": {},
     "output_type": "display_data"
    }
   ],
   "source": [
    "fig = make_subplots(rows=1, cols=2, specs=[[{'type':'domain'}, {'type':'domain'}]], \n",
    "                   subplot_titles = ['Matches Played', 'Matches Won'])\n",
    "\n",
    "\n",
    "fig.add_trace(go.Pie(labels=FRM_days['Day'], \n",
    "                               values=FRM_days['Matches Played'], \n",
    "                               sort=False,\n",
    "                               textinfo = 'label+value', \n",
    "                               hoverinfo = 'none',\n",
    "                               direction = 'counterclockwise',\n",
    "                               textfont_size=13,\n",
    "                               marker = dict(line=dict(color='black', width=1)), \n",
    "                               name = 'Matches Played'\n",
    "                              ),1,1 \n",
    "                       )\n",
    "\n",
    "fig.add_trace(go.Pie(labels=FRM_days['Day'], \n",
    "                               values=FRM_days['Matches Won'], \n",
    "                               sort=False,\n",
    "                               textinfo = 'label+value', \n",
    "                               hoverinfo = 'none',\n",
    "                               direction='counterclockwise',\n",
    "                               textfont_size=13,\n",
    "                               marker = dict(line=dict(color='black', width=1)), \n",
    "                               name = 'Matches Won'\n",
    "                              ),1,2 \n",
    "                       )\n",
    "\n",
    "fig.update_traces(hole=0.4, insidetextorientation='auto')\n",
    "fig.update_layout(title = 'Fremantle Matches Split by Day', title_x=0.5, \n",
    "                  annotations=[dict(text='Played', x=0.225, y=0.475, font_size=18, showarrow=False),\n",
    "                  dict(text='Won', x=0.775, y=0.475, font_size=18, showarrow=False)])\n",
    "fig.show()"
   ]
  },
  {
   "cell_type": "markdown",
   "id": "7fdd67d8",
   "metadata": {
    "papermill": {
     "duration": 0.126377,
     "end_time": "2022-02-04T10:13:23.761285",
     "exception": false,
     "start_time": "2022-02-04T10:13:23.634908",
     "status": "completed"
    },
    "tags": []
   },
   "source": [
    "**FREMANTLE PERFORMANCE: GOALS**"
   ]
  },
  {
   "cell_type": "markdown",
   "id": "fe3d22b2",
   "metadata": {
    "papermill": {
     "duration": 0.127149,
     "end_time": "2022-02-04T10:13:24.016377",
     "exception": false,
     "start_time": "2022-02-04T10:13:23.889228",
     "status": "completed"
    },
    "tags": []
   },
   "source": [
    "We have explored how Fremantle's wins are spread. Lets now look at what bringa a win: scoring points via a goal (worth 6 points) or a behind (worth 1 point).  \n",
    "\n",
    "Which of the two is scored is dependent on how the ball gets through the posts and which posts it goes through. For the definitions behind the terminology used you can use the AFL's official page: https://www.afl.com.au/news/144837/stats-glossary-every-stat-explained\n",
    "\n",
    "Lets start by looking at the amount of goals scored by each AFL team and quickly compare that to Fremantle."
   ]
  },
  {
   "cell_type": "code",
   "execution_count": 60,
   "id": "ac5d016d",
   "metadata": {
    "execution": {
     "iopub.execute_input": "2022-02-04T10:13:24.275636Z",
     "iopub.status.busy": "2022-02-04T10:13:24.274581Z",
     "iopub.status.idle": "2022-02-04T10:13:24.292729Z",
     "shell.execute_reply": "2022-02-04T10:13:24.292088Z",
     "shell.execute_reply.started": "2022-02-04T10:05:03.957955Z"
    },
    "papermill": {
     "duration": 0.148554,
     "end_time": "2022-02-04T10:13:24.292931",
     "exception": false,
     "start_time": "2022-02-04T10:13:24.144377",
     "status": "completed"
    },
    "tags": []
   },
   "outputs": [],
   "source": [
    "#Find the amount of goals scored for each team in each season \n",
    "df_afl_goals=pd.DataFrame(df_afl.groupby(['Team', 'Year'])['Goals'].sum())"
   ]
  },
  {
   "cell_type": "code",
   "execution_count": 61,
   "id": "6d3e5677",
   "metadata": {
    "execution": {
     "iopub.execute_input": "2022-02-04T10:13:24.555654Z",
     "iopub.status.busy": "2022-02-04T10:13:24.554743Z",
     "iopub.status.idle": "2022-02-04T10:13:24.557615Z",
     "shell.execute_reply": "2022-02-04T10:13:24.557099Z",
     "shell.execute_reply.started": "2022-02-04T10:05:03.978736Z"
    },
    "papermill": {
     "duration": 0.138378,
     "end_time": "2022-02-04T10:13:24.557774",
     "exception": false,
     "start_time": "2022-02-04T10:13:24.419396",
     "status": "completed"
    },
    "tags": []
   },
   "outputs": [],
   "source": [
    "df_afl_goals.reset_index(inplace=True)"
   ]
  },
  {
   "cell_type": "code",
   "execution_count": 62,
   "id": "ee8f19e0",
   "metadata": {
    "execution": {
     "iopub.execute_input": "2022-02-04T10:13:24.819168Z",
     "iopub.status.busy": "2022-02-04T10:13:24.816842Z",
     "iopub.status.idle": "2022-02-04T10:13:24.827572Z",
     "shell.execute_reply": "2022-02-04T10:13:24.828075Z",
     "shell.execute_reply.started": "2022-02-04T10:05:03.986769Z"
    },
    "papermill": {
     "duration": 0.14105,
     "end_time": "2022-02-04T10:13:24.828278",
     "exception": false,
     "start_time": "2022-02-04T10:13:24.687228",
     "status": "completed"
    },
    "tags": []
   },
   "outputs": [
    {
     "data": {
      "text/html": [
       "<div>\n",
       "<style scoped>\n",
       "    .dataframe tbody tr th:only-of-type {\n",
       "        vertical-align: middle;\n",
       "    }\n",
       "\n",
       "    .dataframe tbody tr th {\n",
       "        vertical-align: top;\n",
       "    }\n",
       "\n",
       "    .dataframe thead th {\n",
       "        text-align: right;\n",
       "    }\n",
       "</style>\n",
       "<table border=\"1\" class=\"dataframe\">\n",
       "  <thead>\n",
       "    <tr style=\"text-align: right;\">\n",
       "      <th></th>\n",
       "      <th>Team</th>\n",
       "      <th>Year</th>\n",
       "      <th>Goals</th>\n",
       "    </tr>\n",
       "  </thead>\n",
       "  <tbody>\n",
       "    <tr>\n",
       "      <th>0</th>\n",
       "      <td>ADL</td>\n",
       "      <td>2012</td>\n",
       "      <td>388</td>\n",
       "    </tr>\n",
       "    <tr>\n",
       "      <th>1</th>\n",
       "      <td>ADL</td>\n",
       "      <td>2013</td>\n",
       "      <td>297</td>\n",
       "    </tr>\n",
       "    <tr>\n",
       "      <th>2</th>\n",
       "      <td>ADL</td>\n",
       "      <td>2014</td>\n",
       "      <td>315</td>\n",
       "    </tr>\n",
       "    <tr>\n",
       "      <th>3</th>\n",
       "      <td>ADL</td>\n",
       "      <td>2015</td>\n",
       "      <td>332</td>\n",
       "    </tr>\n",
       "    <tr>\n",
       "      <th>4</th>\n",
       "      <td>ADL</td>\n",
       "      <td>2016</td>\n",
       "      <td>396</td>\n",
       "    </tr>\n",
       "    <tr>\n",
       "      <th>...</th>\n",
       "      <td>...</td>\n",
       "      <td>...</td>\n",
       "      <td>...</td>\n",
       "    </tr>\n",
       "    <tr>\n",
       "      <th>157</th>\n",
       "      <td>WCE</td>\n",
       "      <td>2016</td>\n",
       "      <td>330</td>\n",
       "    </tr>\n",
       "    <tr>\n",
       "      <th>158</th>\n",
       "      <td>WCE</td>\n",
       "      <td>2017</td>\n",
       "      <td>309</td>\n",
       "    </tr>\n",
       "    <tr>\n",
       "      <th>159</th>\n",
       "      <td>WCE</td>\n",
       "      <td>2018</td>\n",
       "      <td>336</td>\n",
       "    </tr>\n",
       "    <tr>\n",
       "      <th>160</th>\n",
       "      <td>WCE</td>\n",
       "      <td>2019</td>\n",
       "      <td>309</td>\n",
       "    </tr>\n",
       "    <tr>\n",
       "      <th>161</th>\n",
       "      <td>WCE</td>\n",
       "      <td>2020</td>\n",
       "      <td>173</td>\n",
       "    </tr>\n",
       "  </tbody>\n",
       "</table>\n",
       "<p>162 rows × 3 columns</p>\n",
       "</div>"
      ],
      "text/plain": [
       "    Team  Year  Goals\n",
       "0    ADL  2012    388\n",
       "1    ADL  2013    297\n",
       "2    ADL  2014    315\n",
       "3    ADL  2015    332\n",
       "4    ADL  2016    396\n",
       "..   ...   ...    ...\n",
       "157  WCE  2016    330\n",
       "158  WCE  2017    309\n",
       "159  WCE  2018    336\n",
       "160  WCE  2019    309\n",
       "161  WCE  2020    173\n",
       "\n",
       "[162 rows x 3 columns]"
      ]
     },
     "execution_count": 62,
     "metadata": {},
     "output_type": "execute_result"
    }
   ],
   "source": [
    "df_afl_goals"
   ]
  },
  {
   "cell_type": "code",
   "execution_count": 63,
   "id": "412c13c4",
   "metadata": {
    "execution": {
     "iopub.execute_input": "2022-02-04T10:13:25.088748Z",
     "iopub.status.busy": "2022-02-04T10:13:25.088095Z",
     "iopub.status.idle": "2022-02-04T10:13:25.100456Z",
     "shell.execute_reply": "2022-02-04T10:13:25.100957Z",
     "shell.execute_reply.started": "2022-02-04T10:05:04.005941Z"
    },
    "papermill": {
     "duration": 0.144192,
     "end_time": "2022-02-04T10:13:25.101146",
     "exception": false,
     "start_time": "2022-02-04T10:13:24.956954",
     "status": "completed"
    },
    "tags": []
   },
   "outputs": [
    {
     "data": {
      "text/html": [
       "<div>\n",
       "<style scoped>\n",
       "    .dataframe tbody tr th:only-of-type {\n",
       "        vertical-align: middle;\n",
       "    }\n",
       "\n",
       "    .dataframe tbody tr th {\n",
       "        vertical-align: top;\n",
       "    }\n",
       "\n",
       "    .dataframe thead th {\n",
       "        text-align: right;\n",
       "    }\n",
       "</style>\n",
       "<table border=\"1\" class=\"dataframe\">\n",
       "  <thead>\n",
       "    <tr style=\"text-align: right;\">\n",
       "      <th></th>\n",
       "      <th>Year</th>\n",
       "      <th>Goals</th>\n",
       "    </tr>\n",
       "    <tr>\n",
       "      <th>Team</th>\n",
       "      <th></th>\n",
       "      <th></th>\n",
       "    </tr>\n",
       "  </thead>\n",
       "  <tbody>\n",
       "    <tr>\n",
       "      <th>ADL</th>\n",
       "      <td>2012</td>\n",
       "      <td>388</td>\n",
       "    </tr>\n",
       "    <tr>\n",
       "      <th>ADL</th>\n",
       "      <td>2013</td>\n",
       "      <td>297</td>\n",
       "    </tr>\n",
       "    <tr>\n",
       "      <th>ADL</th>\n",
       "      <td>2014</td>\n",
       "      <td>315</td>\n",
       "    </tr>\n",
       "    <tr>\n",
       "      <th>ADL</th>\n",
       "      <td>2015</td>\n",
       "      <td>332</td>\n",
       "    </tr>\n",
       "    <tr>\n",
       "      <th>ADL</th>\n",
       "      <td>2016</td>\n",
       "      <td>396</td>\n",
       "    </tr>\n",
       "    <tr>\n",
       "      <th>...</th>\n",
       "      <td>...</td>\n",
       "      <td>...</td>\n",
       "    </tr>\n",
       "    <tr>\n",
       "      <th>WCE</th>\n",
       "      <td>2016</td>\n",
       "      <td>330</td>\n",
       "    </tr>\n",
       "    <tr>\n",
       "      <th>WCE</th>\n",
       "      <td>2017</td>\n",
       "      <td>309</td>\n",
       "    </tr>\n",
       "    <tr>\n",
       "      <th>WCE</th>\n",
       "      <td>2018</td>\n",
       "      <td>336</td>\n",
       "    </tr>\n",
       "    <tr>\n",
       "      <th>WCE</th>\n",
       "      <td>2019</td>\n",
       "      <td>309</td>\n",
       "    </tr>\n",
       "    <tr>\n",
       "      <th>WCE</th>\n",
       "      <td>2020</td>\n",
       "      <td>173</td>\n",
       "    </tr>\n",
       "  </tbody>\n",
       "</table>\n",
       "<p>162 rows × 2 columns</p>\n",
       "</div>"
      ],
      "text/plain": [
       "      Year  Goals\n",
       "Team             \n",
       "ADL   2012    388\n",
       "ADL   2013    297\n",
       "ADL   2014    315\n",
       "ADL   2015    332\n",
       "ADL   2016    396\n",
       "...    ...    ...\n",
       "WCE   2016    330\n",
       "WCE   2017    309\n",
       "WCE   2018    336\n",
       "WCE   2019    309\n",
       "WCE   2020    173\n",
       "\n",
       "[162 rows x 2 columns]"
      ]
     },
     "execution_count": 63,
     "metadata": {},
     "output_type": "execute_result"
    }
   ],
   "source": [
    "df_afl_goals.set_index('Team')"
   ]
  },
  {
   "cell_type": "code",
   "execution_count": 64,
   "id": "45f9c823",
   "metadata": {
    "execution": {
     "iopub.execute_input": "2022-02-04T10:13:25.367097Z",
     "iopub.status.busy": "2022-02-04T10:13:25.366368Z",
     "iopub.status.idle": "2022-02-04T10:13:25.373964Z",
     "shell.execute_reply": "2022-02-04T10:13:25.374412Z",
     "shell.execute_reply.started": "2022-02-04T10:05:04.023900Z"
    },
    "papermill": {
     "duration": 0.14176,
     "end_time": "2022-02-04T10:13:25.374580",
     "exception": false,
     "start_time": "2022-02-04T10:13:25.232820",
     "status": "completed"
    },
    "tags": []
   },
   "outputs": [
    {
     "data": {
      "text/plain": [
       "Team\n",
       "HTN    3008\n",
       "GEE    2842\n",
       "WCE    2784\n",
       "ADL    2774\n",
       "SYD    2749\n",
       "RCH    2649\n",
       "NML    2626\n",
       "PDL    2545\n",
       "COL    2543\n",
       "GWS    2392\n",
       "WBL    2345\n",
       "ESS    2302\n",
       "FRM    2292\n",
       "BRS    2284\n",
       "STK    2251\n",
       "MLB    2183\n",
       "CAR    2149\n",
       "GCS    2036\n",
       "Name: Goals, dtype: int64"
      ]
     },
     "execution_count": 64,
     "metadata": {},
     "output_type": "execute_result"
    }
   ],
   "source": [
    "#Display total goals scored in descending order\n",
    "df_afl_goals.groupby('Team')['Goals'].sum().sort_values(ascending=False)"
   ]
  },
  {
   "cell_type": "code",
   "execution_count": 65,
   "id": "2d090c80",
   "metadata": {
    "execution": {
     "iopub.execute_input": "2022-02-04T10:13:25.642984Z",
     "iopub.status.busy": "2022-02-04T10:13:25.642254Z",
     "iopub.status.idle": "2022-02-04T10:13:25.654065Z",
     "shell.execute_reply": "2022-02-04T10:13:25.654524Z",
     "shell.execute_reply.started": "2022-02-04T10:05:04.039087Z"
    },
    "papermill": {
     "duration": 0.152497,
     "end_time": "2022-02-04T10:13:25.654689",
     "exception": false,
     "start_time": "2022-02-04T10:13:25.502192",
     "status": "completed"
    },
    "tags": []
   },
   "outputs": [
    {
     "data": {
      "image/svg+xml": [
       "<svg class=\"main-svg\" xmlns=\"http://www.w3.org/2000/svg\" xmlns:xlink=\"http://www.w3.org/1999/xlink\" width=\"700\" height=\"450\" style=\"\" viewBox=\"0 0 700 450\"><rect x=\"0\" y=\"0\" width=\"700\" height=\"450\" style=\"fill: rgb(255, 255, 255); fill-opacity: 1;\"/><defs id=\"defs-2ba6e9\"><g class=\"clips\"/><g class=\"gradients\"/></defs><g class=\"bglayer\"/><g class=\"layer-below\"><g class=\"imagelayer\"/><g class=\"shapelayer\"/></g><g class=\"cartesianlayer\"/><g class=\"polarlayer\"/><g class=\"ternarylayer\"/><g class=\"geolayer\"/><g class=\"funnelarealayer\"/><g class=\"pielayer\"><g class=\"trace\" stroke-linejoin=\"round\" style=\"opacity: 1;\"><g class=\"slice\"><path class=\"surface\" d=\"M361.5,235l0,-112.5a112.5,112.5 0 0 1 46.10966628888007,9.88348731939817Z\" style=\"pointer-events: all; stroke-width: 1; fill: rgb(99, 110, 250); fill-opacity: 1; stroke: rgb(0, 0, 0); stroke-opacity: 1;\"/><g class=\"slicetext\"><text data-notex=\"1\" class=\"slicetext\" transform=\"translate(378.30166585273656,142.03998102886314)rotate(-77.90186352057913)\" text-anchor=\"middle\" x=\"0\" y=\"0\" style=\"font-family: 'Open Sans', verdana, arial, sans-serif; font-size: 12px; fill: rgb(255, 255, 255); fill-opacity: 1; white-space: pre;\"><tspan class=\"line\" dy=\"0em\" x=\"0\" y=\"0\">HTN</tspan><tspan class=\"line\" dy=\"1.3em\" x=\"0\" y=\"0\">3008</tspan></text></g></g><g class=\"slice\"><path class=\"surface\" d=\"M361.5,235l46.10966628888007,-102.61651268060183a112.5,112.5 0 0 1 36.24424259315605,25.97394166521059Z\" style=\"pointer-events: all; stroke-width: 1; fill: rgb(239, 85, 59); fill-opacity: 1; stroke: rgb(0, 0, 0); stroke-opacity: 1;\"/><g class=\"slicetext\"><text data-notex=\"1\" class=\"slicetext\" transform=\"translate(414.45714735655986,155.85910508472523)rotate(-54.37324038074803)\" text-anchor=\"middle\" x=\"0\" y=\"0\" style=\"font-family: 'Open Sans', verdana, arial, sans-serif; font-size: 12px; fill: rgb(68, 68, 68); fill-opacity: 1; white-space: pre;\"><tspan class=\"line\" dy=\"0em\" x=\"0\" y=\"0\">GEE</tspan><tspan class=\"line\" dy=\"1.3em\" x=\"0\" y=\"0\">2842</tspan></text></g></g><g class=\"slice\"><path class=\"surface\" d=\"M361.5,235l82.35390888203612,-76.64257101539124a112.5,112.5 0 0 1 22.988441134291236,37.15536684698277Z\" style=\"pointer-events: all; stroke-width: 1; fill: rgb(0, 204, 150); fill-opacity: 1; stroke: rgb(0, 0, 0); stroke-opacity: 1;\"/><g class=\"slicetext\"><text data-notex=\"1\" class=\"slicetext\" transform=\"translate(479.9621995532935,168.58607787365844)\" text-anchor=\"middle\" x=\"0\" y=\"0\" style=\"font-family: 'Open Sans', verdana, arial, sans-serif; font-size: 12px; fill: rgb(42, 63, 95); fill-opacity: 1; white-space: pre;\"><tspan class=\"line\" dy=\"0em\" x=\"0\" y=\"0\">WCE</tspan><tspan class=\"line\" dy=\"1.3em\" x=\"0\" y=\"0\">2784</tspan></text></g></g><g class=\"slice\"><path class=\"surface\" d=\"M361.5,235l105.34235001632736,-39.48720416840847a112.5,112.5 0 0 1 7.104236214139647,42.953505527804204Z\" style=\"pointer-events: all; stroke-width: 1; fill: rgb(171, 99, 250); fill-opacity: 1; stroke: rgb(0, 0, 0); stroke-opacity: 1;\"/><g class=\"slicetext\"><text data-notex=\"1\" class=\"slicetext\" transform=\"translate(495.28511305381704,213.18706248914359)\" text-anchor=\"middle\" x=\"0\" y=\"0\" style=\"font-family: 'Open Sans', verdana, arial, sans-serif; font-size: 12px; fill: rgb(42, 63, 95); fill-opacity: 1; white-space: pre;\"><tspan class=\"line\" dy=\"0em\" x=\"0\" y=\"0\">ADL</tspan><tspan class=\"line\" dy=\"1.3em\" x=\"0\" y=\"0\">2774</tspan></text></g></g><g class=\"slice\"><path class=\"surface\" d=\"M361.5,235l112.446586230467,3.466301359395733a112.5,112.5 0 0 1 -9.575949005993621,42.073593206037664Z\" style=\"pointer-events: all; stroke-width: 1; fill: rgb(255, 161, 90); fill-opacity: 1; stroke: rgb(0, 0, 0); stroke-opacity: 1;\"/><g class=\"slicetext\"><text data-notex=\"1\" class=\"slicetext\" transform=\"translate(493.9876518043895,257.65327098819444)\" text-anchor=\"middle\" x=\"0\" y=\"0\" style=\"font-family: 'Open Sans', verdana, arial, sans-serif; font-size: 12px; fill: rgb(42, 63, 95); fill-opacity: 1; white-space: pre;\"><tspan class=\"line\" dy=\"0em\" x=\"0\" y=\"0\">SYD</tspan><tspan class=\"line\" dy=\"1.3em\" x=\"0\" y=\"0\">2749</tspan></text></g></g><g class=\"slice\"><path class=\"surface\" d=\"M361.5,235l102.87063722447338,45.5398945654334a112.5,112.5 0 0 1 -23.581209724987175,34.26885612522534Z\" style=\"pointer-events: all; stroke-width: 1; fill: rgb(25, 211, 243); fill-opacity: 1; stroke: rgb(0, 0, 0); stroke-opacity: 1;\"/><g class=\"slicetext\"><text data-notex=\"1\" class=\"slicetext\" transform=\"translate(476.97069487711286,300.55687352980766)\" text-anchor=\"middle\" x=\"0\" y=\"0\" style=\"font-family: 'Open Sans', verdana, arial, sans-serif; font-size: 12px; fill: rgb(42, 63, 95); fill-opacity: 1; white-space: pre;\"><tspan class=\"line\" dy=\"0em\" x=\"0\" y=\"0\">RCH</tspan><tspan class=\"line\" dy=\"1.3em\" x=\"0\" y=\"0\">2649</tspan></text></g></g><g class=\"slice\"><path class=\"surface\" d=\"M361.5,235l79.28942749948621,79.80875069065874a112.5,112.5 0 0 1 -34.089176626921734,23.211574105263125Z\" style=\"pointer-events: all; stroke-width: 1; fill: rgb(255, 102, 146); fill-opacity: 1; stroke: rgb(0, 0, 0); stroke-opacity: 1;\"/><g class=\"slicetext\"><text data-notex=\"1\" class=\"slicetext\" transform=\"translate(447.6105358100599,335.2211101445422)\" text-anchor=\"middle\" x=\"0\" y=\"0\" style=\"font-family: 'Open Sans', verdana, arial, sans-serif; font-size: 12px; fill: rgb(42, 63, 95); fill-opacity: 1; white-space: pre;\"><tspan class=\"line\" dy=\"0em\" x=\"0\" y=\"0\">NML</tspan><tspan class=\"line\" dy=\"1.3em\" x=\"0\" y=\"0\">2626</tspan></text></g></g><g class=\"slice\"><path class=\"surface\" d=\"M361.5,235l45.200250872564474,103.02032479592187a112.5,112.5 0 0 1 -38.88584882714794,9.302327980839237Z\" style=\"pointer-events: all; stroke-width: 1; fill: rgb(182, 232, 128); fill-opacity: 1; stroke: rgb(0, 0, 0); stroke-opacity: 1;\"/><g class=\"slicetext\"><text data-notex=\"1\" class=\"slicetext\" transform=\"translate(410.46687164545654,365.3304851445422)\" text-anchor=\"middle\" x=\"0\" y=\"0\" style=\"font-family: 'Open Sans', verdana, arial, sans-serif; font-size: 12px; fill: rgb(42, 63, 95); fill-opacity: 1; white-space: pre;\"><tspan class=\"line\" dy=\"0em\" x=\"0\" y=\"0\">PDL</tspan><tspan class=\"line\" dy=\"1.3em\" x=\"0\" y=\"0\">2545</tspan></text></g><path class=\"textline\" stroke-width=\"1.5\" d=\"M387.67390289545654,344.41287313300575V368.3851726445422h7.52734375\" fill=\"none\" style=\"stroke: rgb(42, 63, 95); stroke-opacity: 1;\"/></g><g class=\"slice\"><path class=\"surface\" d=\"M361.5,235l6.314402045416534,112.3226527767611a112.5,112.5 0 0 1 -39.653268357372404,-4.876061425366743Z\" style=\"pointer-events: all; stroke-width: 1; fill: rgb(255, 151, 255); fill-opacity: 1; stroke: rgb(0, 0, 0); stroke-opacity: 1;\"/><g class=\"slicetext\"><text data-notex=\"1\" class=\"slicetext\" transform=\"translate(324.9766120655995,377.7267889975098)\" text-anchor=\"middle\" x=\"0\" y=\"0\" style=\"font-family: 'Open Sans', verdana, arial, sans-serif; font-size: 12px; fill: rgb(42, 63, 95); fill-opacity: 1; white-space: pre;\"><tspan class=\"line\" dy=\"0em\" x=\"0\" y=\"0\">COL</tspan><tspan class=\"line\" dy=\"1.3em\" x=\"0\" y=\"0\">2543</tspan></text></g><path class=\"textline\" stroke-width=\"1.5\" d=\"M347.7695808155995,346.6589700338519V380.7814764975098h-7.52734375\" fill=\"none\" style=\"stroke: rgb(42, 63, 95); stroke-opacity: 1;\"/></g><g class=\"slice\"><path class=\"surface\" d=\"M361.5,235l-33.33886631195587,107.44659135139436a112.5,112.5 0 0 1 -33.546211358804555,-16.98866530300242Z\" style=\"pointer-events: all; stroke-width: 1; fill: rgb(254, 203, 82); fill-opacity: 1; stroke: rgb(0, 0, 0); stroke-opacity: 1;\"/><g class=\"slicetext\"><text data-notex=\"1\" class=\"slicetext\" transform=\"translate(287.8802329634954,347.6174139975098)\" text-anchor=\"middle\" x=\"0\" y=\"0\" style=\"font-family: 'Open Sans', verdana, arial, sans-serif; font-size: 12px; fill: rgb(42, 63, 95); fill-opacity: 1; white-space: pre;\"><tspan class=\"line\" dy=\"0em\" x=\"0\" y=\"0\">GWS</tspan><tspan class=\"line\" dy=\"1.3em\" x=\"0\" y=\"0\">2392</tspan></text></g><path class=\"textline\" stroke-width=\"1.5\" d=\"M310.6732017134954,335.3637712321681V350.6721014975098h-7.52734375\" fill=\"none\" style=\"stroke: rgb(42, 63, 95); stroke-opacity: 1;\"/></g><g class=\"slice\"><path class=\"surface\" d=\"M361.5,235l-66.88507767076042,90.45792604839194a112.5,112.5 0 0 1 -25.653650835312632,-26.48266734255082Z\" style=\"pointer-events: all; stroke-width: 1; fill: rgb(198, 202, 253); fill-opacity: 1; stroke: rgb(0, 0, 0); stroke-opacity: 1;\"/><g class=\"slicetext\"><text data-notex=\"1\" class=\"slicetext\" transform=\"translate(257.9028208932915,317.5080389975098)\" text-anchor=\"middle\" x=\"0\" y=\"0\" style=\"font-family: 'Open Sans', verdana, arial, sans-serif; font-size: 12px; fill: rgb(42, 63, 95); fill-opacity: 1; white-space: pre;\"><tspan class=\"line\" dy=\"0em\" x=\"0\" y=\"0\">WBL</tspan><tspan class=\"line\" dy=\"1.3em\" x=\"0\" y=\"0\">2345</tspan></text></g></g><g class=\"slice\"><path class=\"surface\" d=\"M361.5,235l-92.53872850607306,63.97525870584112a112.5,112.5 0 0 1 -15.526992428312056,-32.70146841857983Z\" style=\"pointer-events: all; stroke-width: 1; fill: rgb(247, 167, 153); fill-opacity: 1; stroke: rgb(0, 0, 0); stroke-opacity: 1;\"/><g class=\"slicetext\"><text data-notex=\"1\" class=\"slicetext\" transform=\"translate(237.08083977845968,282.96807714742533)\" text-anchor=\"middle\" x=\"0\" y=\"0\" style=\"font-family: 'Open Sans', verdana, arial, sans-serif; font-size: 12px; fill: rgb(42, 63, 95); fill-opacity: 1; white-space: pre;\"><tspan class=\"line\" dy=\"0em\" x=\"0\" y=\"0\">ESS</tspan><tspan class=\"line\" dy=\"1.3em\" x=\"0\" y=\"0\">2302</tspan></text></g></g><g class=\"slice\"><path class=\"surface\" d=\"M339.1639917597531,237.7115928698137l-108.06572093438511,31.273790287261292a112.5,112.5 0 0 1 -4.3439198134459645,-35.781857161605075Z\" style=\"pointer-events: all; stroke-width: 1; fill: rgb(51, 255, 201); fill-opacity: 1; stroke: rgb(0, 0, 0); stroke-opacity: 1;\"/><g class=\"slicetext\"><text data-notex=\"1\" class=\"slicetext\" transform=\"translate(204.6909818085188,248.43352283714086)\" text-anchor=\"middle\" x=\"0\" y=\"0\" style=\"font-family: 'Open Sans', verdana, arial, sans-serif; font-size: 12px; fill: rgb(42, 63, 95); fill-opacity: 1; white-space: pre;\"><tspan class=\"line\" dy=\"0em\" x=\"0\" y=\"0\">FRM</tspan><tspan class=\"line\" dy=\"1.3em\" x=\"0\" y=\"0\">2292</tspan></text></g></g><g class=\"slice\"><path class=\"surface\" d=\"M361.5,235l-112.40964074783108,-4.5080668743437835a112.5,112.5 0 0 1 7.150680653812756,-35.20089080431933Z\" style=\"pointer-events: all; stroke-width: 1; fill: rgb(224, 198, 253); fill-opacity: 1; stroke: rgb(0, 0, 0); stroke-opacity: 1;\"/><g class=\"slicetext\"><text data-notex=\"1\" class=\"slicetext\" transform=\"translate(228.4587631163622,208.95294809334757)\" text-anchor=\"middle\" x=\"0\" y=\"0\" style=\"font-family: 'Open Sans', verdana, arial, sans-serif; font-size: 12px; fill: rgb(42, 63, 95); fill-opacity: 1; white-space: pre;\"><tspan class=\"line\" dy=\"0em\" x=\"0\" y=\"0\">BRS</tspan><tspan class=\"line\" dy=\"1.3em\" x=\"0\" y=\"0\">2284</tspan></text></g></g><g class=\"slice\"><path class=\"surface\" d=\"M361.5,235l-105.25896009401832,-39.70895767866311a112.5,112.5 0 0 1 17.553888388612677,-30.747201719573Z\" style=\"pointer-events: all; stroke-width: 1; fill: rgb(255, 219, 192); fill-opacity: 1; stroke: rgb(0, 0, 0); stroke-opacity: 1;\"/><g class=\"slicetext\"><text data-notex=\"1\" class=\"slicetext\" transform=\"translate(241.0078654630379,172.46717076430267)\" text-anchor=\"middle\" x=\"0\" y=\"0\" style=\"font-family: 'Open Sans', verdana, arial, sans-serif; font-size: 12px; fill: rgb(42, 63, 95); fill-opacity: 1; white-space: pre;\"><tspan class=\"line\" dy=\"0em\" x=\"0\" y=\"0\">STK</tspan><tspan class=\"line\" dy=\"1.3em\" x=\"0\" y=\"0\">2251</tspan></text></g></g><g class=\"slice\"><path class=\"surface\" d=\"M361.5,235l-87.70507170540564,-70.45615939823611a112.5,112.5 0 0 1 25.343844229357742,-23.177847819657785Z\" style=\"pointer-events: all; stroke-width: 1; fill: rgb(122, 230, 248); fill-opacity: 1; stroke: rgb(0, 0, 0); stroke-opacity: 1;\"/><g class=\"slicetext\"><text data-notex=\"1\" class=\"slicetext\" transform=\"translate(262.7841974324179,140.72935816621572)\" text-anchor=\"middle\" x=\"0\" y=\"0\" style=\"font-family: 'Open Sans', verdana, arial, sans-serif; font-size: 12px; fill: rgb(42, 63, 95); fill-opacity: 1; white-space: pre;\"><tspan class=\"line\" dy=\"0em\" x=\"0\" y=\"0\">MLB</tspan><tspan class=\"line\" dy=\"1.3em\" x=\"0\" y=\"0\">2183</tspan></text></g></g><g class=\"slice\"><path class=\"surface\" d=\"M361.5,235l-62.3612274760479,-93.6340072178939a112.5,112.5 0 0 1 30.640139765621846,-14.301263173519203Z\" style=\"pointer-events: all; stroke-width: 1; fill: rgb(255, 204, 219); fill-opacity: 1; stroke: rgb(0, 0, 0); stroke-opacity: 1;\"/><g class=\"slicetext\"><text data-notex=\"1\" class=\"slicetext\" transform=\"translate(291.1255008017124,110.61998316621572)\" text-anchor=\"middle\" x=\"0\" y=\"0\" style=\"font-family: 'Open Sans', verdana, arial, sans-serif; font-size: 12px; fill: rgb(42, 63, 95); fill-opacity: 1; white-space: pre;\"><tspan class=\"line\" dy=\"0em\" x=\"0\" y=\"0\">CAR</tspan><tspan class=\"line\" dy=\"1.3em\" x=\"0\" y=\"0\">2149</tspan></text></g><path class=\"textline\" stroke-width=\"1.5\" d=\"M313.9184695517124,133.05762431550517V113.67467066621572h-7.52734375\" fill=\"none\" style=\"stroke: rgb(42, 63, 95); stroke-opacity: 1;\"/></g><g class=\"slice\"><path class=\"surface\" d=\"M361.5,235l-31.721087710426055,-107.9352703914131a112.5,112.5 0 0 1 31.721087710426126,-4.564729608586902Z\" style=\"pointer-events: all; stroke-width: 1; fill: rgb(232, 248, 214); fill-opacity: 1; stroke: rgb(0, 0, 0); stroke-opacity: 1;\"/><g class=\"slicetext\"><text data-notex=\"1\" class=\"slicetext\" transform=\"translate(322.68311036642683,80.51060816621572)\" text-anchor=\"middle\" x=\"0\" y=\"0\" style=\"font-family: 'Open Sans', verdana, arial, sans-serif; font-size: 12px; fill: rgb(42, 63, 95); fill-opacity: 1; white-space: pre;\"><tspan class=\"line\" dy=\"0em\" x=\"0\" y=\"0\">GCS</tspan><tspan class=\"line\" dy=\"1.3em\" x=\"0\" y=\"0\">2036</tspan></text></g><path class=\"textline\" stroke-width=\"1.5\" d=\"M345.47607911642683,123.6470298576774V83.56529566621572h-7.52734375\" fill=\"none\" style=\"stroke: rgb(42, 63, 95); stroke-opacity: 1;\"/></g></g></g><g class=\"treemaplayer\"/><g class=\"sunburstlayer\"/><g class=\"glimages\"/><defs id=\"topdefs-2ba6e9\"><g class=\"clips\"/></defs><g class=\"layer-above\"><g class=\"imagelayer\"/><g class=\"shapelayer\"/></g><g class=\"infolayer\"><g class=\"g-gtitle\"><text class=\"gtitle\" x=\"350\" y=\"50\" text-anchor=\"middle\" dy=\"0em\" style=\"font-family: 'Open Sans', verdana, arial, sans-serif; font-size: 17px; fill: rgb(42, 63, 95); opacity: 1; font-weight: normal; white-space: pre;\">Total Goals Scored From 2012 To 2020</text></g></g></svg>"
      ]
     },
     "metadata": {},
     "output_type": "display_data"
    }
   ],
   "source": [
    "labels = df_afl_goals['Team'].unique()\n",
    "\n",
    "vals = df_afl_goals.groupby('Team')['Goals'].sum()\n",
    "\n",
    "fig = go.Figure(data = [go.Pie(labels=labels, \n",
    "                              values=vals, \n",
    "                              sort=True, \n",
    "                              textinfo = 'label+value', \n",
    "                              textfont_size = 12, \n",
    "                              hoverinfo = 'label+percent', \n",
    "                              direction = 'clockwise', \n",
    "                              marker = dict(line=dict(color='black', width=1)),\n",
    "                              pull=[0, 0, 0, 0, 0, 0.2, \n",
    "                                    0, 0, 0, 0, 0, 0, \n",
    "                                    0, 0, 0, 0, 0, 0])])\n",
    "\n",
    "\n",
    "fig.update_layout(title='Total Goals Scored From 2012 To 2020', title_x=0.5, showlegend=False)\n",
    "fig.show()"
   ]
  },
  {
   "cell_type": "markdown",
   "id": "b53e9b55",
   "metadata": {
    "papermill": {
     "duration": 0.128033,
     "end_time": "2022-02-04T10:13:25.910789",
     "exception": false,
     "start_time": "2022-02-04T10:13:25.782756",
     "status": "completed"
    },
    "tags": []
   },
   "source": [
    "Fremantle have scored a total of 2292 goals from the start of 2012 to the end of 2020. \n",
    "How is this total distributed over this 9 year peiod and how does it compare to other teams?"
   ]
  },
  {
   "cell_type": "code",
   "execution_count": 66,
   "id": "7bf9f0c0",
   "metadata": {
    "execution": {
     "iopub.execute_input": "2022-02-04T10:13:26.174270Z",
     "iopub.status.busy": "2022-02-04T10:13:26.173587Z",
     "iopub.status.idle": "2022-02-04T10:13:27.103126Z",
     "shell.execute_reply": "2022-02-04T10:13:27.102448Z",
     "shell.execute_reply.started": "2022-02-04T10:05:04.064545Z"
    },
    "papermill": {
     "duration": 1.063198,
     "end_time": "2022-02-04T10:13:27.103270",
     "exception": false,
     "start_time": "2022-02-04T10:13:26.040072",
     "status": "completed"
    },
    "tags": []
   },
   "outputs": [
    {
     "data": {
      "image/png": "[encoded data removed]",
      "text/plain": [
       "<Figure size 1296x432 with 1 Axes>"
      ]
     },
     "metadata": {
      "needs_background": "light"
     },
     "output_type": "display_data"
    }
   ],
   "source": [
    "plt.figure(figsize = (18,6))\n",
    "\n",
    "sns.barplot(data = df_afl_goals, x = 'Year', y = 'Goals', hue = 'Team', \n",
    "           palette = {'ADL': 'lightgrey', \n",
    "                            'PDL' : 'lightgrey', \n",
    "                            'CAR' : 'lightgrey', \n",
    "                            'COL' : 'lightgrey', \n",
    "                            'RCH' : 'lightgrey',\n",
    "                            'BRS' : 'lightgrey', \n",
    "                            'WBL' : 'lightgrey',\n",
    "                            'GCS' : 'lightgrey', \n",
    "                            'MLB' : 'lightgrey',\n",
    "                            'GEE' : 'lightgrey', \n",
    "                            'FRM' : 'purple', \n",
    "                            'HTN' : 'lightgrey', \n",
    "                            'SYD' : 'lightgrey', \n",
    "                            'STK' : 'lightgrey',\n",
    "                            'GWS' : 'lightgrey', \n",
    "                            'NML' : 'lightgrey', \n",
    "                            'ESS' : 'lightgrey',\n",
    "                            'WCE' : 'lightgrey' })\n",
    "\n",
    "\n",
    "plt.legend(loc = 'center left', bbox_to_anchor = (1.0, 0.5))\n",
    "plt.xlabel('Year', fontsize=14)\n",
    "plt.xticks(fontsize=12)\n",
    "plt.ylabel('Goals Scored', fontsize=14)\n",
    "plt.yticks(fontsize=12)\n",
    "plt.title('Goals Scored Each Season From 2012 To 2020', fontsize=16)\n",
    "plt.show()"
   ]
  },
  {
   "cell_type": "markdown",
   "id": "ac78c227",
   "metadata": {
    "papermill": {
     "duration": 0.12923,
     "end_time": "2022-02-04T10:13:27.363914",
     "exception": false,
     "start_time": "2022-02-04T10:13:27.234684",
     "status": "completed"
    },
    "tags": []
   },
   "source": [
    "We can transfrom the barplot above into a heatmap to better visualise the amount of goals scored by each team from 2012 to 2020. Doing so will also give us the opportunity to more readily compare Fremantle's total to that achieved by their opponents. "
   ]
  },
  {
   "cell_type": "code",
   "execution_count": 67,
   "id": "076d014e",
   "metadata": {
    "execution": {
     "iopub.execute_input": "2022-02-04T10:13:27.627011Z",
     "iopub.status.busy": "2022-02-04T10:13:27.626023Z",
     "iopub.status.idle": "2022-02-04T10:13:28.519009Z",
     "shell.execute_reply": "2022-02-04T10:13:28.519532Z",
     "shell.execute_reply.started": "2022-02-04T10:05:04.983928Z"
    },
    "papermill": {
     "duration": 1.026486,
     "end_time": "2022-02-04T10:13:28.519694",
     "exception": false,
     "start_time": "2022-02-04T10:13:27.493208",
     "status": "completed"
    },
    "tags": []
   },
   "outputs": [
    {
     "data": {
      "image/png": "[encoded data removed]",
      "text/plain": [
       "<Figure size 1296x504 with 1 Axes>"
      ]
     },
     "metadata": {
      "needs_background": "light"
     },
     "output_type": "display_data"
    }
   ],
   "source": [
    "plt.figure(figsize=(18,7))\n",
    "\n",
    "sns.heatmap(data=df_afl.groupby(['Team', 'Year'])['Goals'].sum().astype(int).unstack(), \n",
    "            cmap='coolwarm', cbar=False, annot=True, fmt='.3g')\n",
    "\n",
    "plt.title('Number of Goals Scored by AFL Teams Each Season', fontsize=18)\n",
    "plt.ylabel(ylabel='Team', fontsize=14)\n",
    "plt.yticks(fontsize=11)\n",
    "plt.xlabel(xlabel='Year', fontsize=14)\n",
    "plt.xticks(fontsize=11)\n",
    "plt.show()"
   ]
  },
  {
   "cell_type": "markdown",
   "id": "47f0bd4f",
   "metadata": {
    "papermill": {
     "duration": 0.13048,
     "end_time": "2022-02-04T10:13:28.782040",
     "exception": false,
     "start_time": "2022-02-04T10:13:28.651560",
     "status": "completed"
    },
    "tags": []
   },
   "source": [
    "The heatmap above displays the total number of goals scored by the AFL teams each year. The color scheme used varies between blue and red, with blue indicating lower values and red higher ones. Focusing on Fremantle, we can see that until 2015 they were scoring a high amount of goals, placing them among the highest ranked teams for goals scored. However, from 2016 onwards we can see that they have been scoring considerably less goals with their best total between 2016 and 2020 trailing their pre 2016 total by more than 100 goals. \n",
    "\n",
    "2020 was a low scoring year for all teams. This is a result of every team playing fewer games compared to previous seasons due to a partial stop in the season that took place in response to the outbreak of Coronavirus around Australia and, of course, the world. "
   ]
  },
  {
   "cell_type": "markdown",
   "id": "e32da472",
   "metadata": {
    "papermill": {
     "duration": 0.131495,
     "end_time": "2022-02-04T10:13:29.045039",
     "exception": false,
     "start_time": "2022-02-04T10:13:28.913544",
     "status": "completed"
    },
    "tags": []
   },
   "source": [
    "**FREMANTLE PERFORMANCE: GOALS AND BEHINDS**"
   ]
  },
  {
   "cell_type": "markdown",
   "id": "92e61cb3",
   "metadata": {
    "papermill": {
     "duration": 0.131184,
     "end_time": "2022-02-04T10:13:29.307613",
     "exception": false,
     "start_time": "2022-02-04T10:13:29.176429",
     "status": "completed"
    },
    "tags": []
   },
   "source": [
    "We have looked at the number of goals scored by each team. Lets now turn our attention to how many behinds each team has scored and how this compares to the amount of goals scored. "
   ]
  },
  {
   "cell_type": "code",
   "execution_count": 68,
   "id": "b39e7c9b",
   "metadata": {
    "execution": {
     "iopub.execute_input": "2022-02-04T10:13:29.573978Z",
     "iopub.status.busy": "2022-02-04T10:13:29.573272Z",
     "iopub.status.idle": "2022-02-04T10:13:30.385256Z",
     "shell.execute_reply": "2022-02-04T10:13:30.384621Z",
     "shell.execute_reply.started": "2022-02-04T10:05:06.056406Z"
    },
    "papermill": {
     "duration": 0.946824,
     "end_time": "2022-02-04T10:13:30.385412",
     "exception": false,
     "start_time": "2022-02-04T10:13:29.438588",
     "status": "completed"
    },
    "tags": []
   },
   "outputs": [
    {
     "data": {
      "image/png": "[encoded data removed]",
      "text/plain": [
       "<Figure size 1008x432 with 1 Axes>"
      ]
     },
     "metadata": {
      "needs_background": "light"
     },
     "output_type": "display_data"
    }
   ],
   "source": [
    "plt.figure(figsize=(14,6))\n",
    "\n",
    "goals=sns.barplot(x = df_afl_goals['Team'].unique(), \n",
    "                  y = df_afl_goals.groupby('Team')['Goals'].sum(), color='khaki')\n",
    "behinds=sns.barplot(x = df_afl_goals['Team'].unique(), \n",
    "                    y = df_afl.groupby('Team')['Behinds'].sum(), color='olive')\n",
    "\n",
    "for p in goals.patches:\n",
    "             goals.annotate(\"%.0f\" % p.get_height(), (p.get_x() + p.get_width() / 2., p.get_height()),\n",
    "                 ha='center', va='center', fontsize=12, color='black', xytext=(0,5),\n",
    "                 textcoords='offset points')\n",
    "\n",
    "goals= mpatches.Patch(color='khaki', label='Goals Scored')\n",
    "behinds = mpatches.Patch(color='olive', label='Behinds Scored')\n",
    "\n",
    "plt.title('Total Goals and Behinds Scored From 2012 to 2020', fontsize=18)\n",
    "plt.legend(handles=[goals, behinds], loc = 'center left', bbox_to_anchor = (1.0, 0.5), fontsize=12)\n",
    "plt.xlabel(xlabel='Team', fontsize=14)\n",
    "plt.xticks(fontsize=12)\n",
    "plt.ylabel(ylabel='Total', fontsize=14)\n",
    "plt.yticks(fontsize=12)\n",
    "\n",
    "plt.show()"
   ]
  },
  {
   "cell_type": "markdown",
   "id": "78d05193",
   "metadata": {
    "papermill": {
     "duration": 0.141395,
     "end_time": "2022-02-04T10:13:30.662395",
     "exception": false,
     "start_time": "2022-02-04T10:13:30.521000",
     "status": "completed"
    },
    "tags": []
   },
   "source": [
    "From the simple barplot we can immediately see that Fremantle have scored the fewest amount of behinds and rank 13th for goals scored. Lets see against what teams Fremantle have scored their goals and behinds."
   ]
  },
  {
   "cell_type": "code",
   "execution_count": 69,
   "id": "df2cdb05",
   "metadata": {
    "execution": {
     "iopub.execute_input": "2022-02-04T10:13:30.955765Z",
     "iopub.status.busy": "2022-02-04T10:13:30.952602Z",
     "iopub.status.idle": "2022-02-04T10:13:30.958600Z",
     "shell.execute_reply": "2022-02-04T10:13:30.957978Z",
     "shell.execute_reply.started": "2022-02-04T10:05:06.727510Z"
    },
    "papermill": {
     "duration": 0.145661,
     "end_time": "2022-02-04T10:13:30.958737",
     "exception": false,
     "start_time": "2022-02-04T10:13:30.813076",
     "status": "completed"
    },
    "tags": []
   },
   "outputs": [],
   "source": [
    "FRM_gls = pd.DataFrame(df_FRM.groupby('Opposition')['Goals'].sum())\n",
    "FRM_gls.reset_index(inplace=True)"
   ]
  },
  {
   "cell_type": "code",
   "execution_count": 70,
   "id": "9820c289",
   "metadata": {
    "execution": {
     "iopub.execute_input": "2022-02-04T10:13:31.237445Z",
     "iopub.status.busy": "2022-02-04T10:13:31.236713Z",
     "iopub.status.idle": "2022-02-04T10:13:31.242567Z",
     "shell.execute_reply": "2022-02-04T10:13:31.241898Z",
     "shell.execute_reply.started": "2022-02-04T10:05:06.736986Z"
    },
    "papermill": {
     "duration": 0.148832,
     "end_time": "2022-02-04T10:13:31.242730",
     "exception": false,
     "start_time": "2022-02-04T10:13:31.093898",
     "status": "completed"
    },
    "tags": []
   },
   "outputs": [],
   "source": [
    "FRM_bds = pd.DataFrame(df_FRM.groupby('Opposition')['Behinds'].sum())\n",
    "FRM_bds.reset_index(inplace=True)"
   ]
  },
  {
   "cell_type": "code",
   "execution_count": 71,
   "id": "4e544751",
   "metadata": {
    "execution": {
     "iopub.execute_input": "2022-02-04T10:13:31.521443Z",
     "iopub.status.busy": "2022-02-04T10:13:31.520369Z",
     "iopub.status.idle": "2022-02-04T10:13:31.523275Z",
     "shell.execute_reply": "2022-02-04T10:13:31.522581Z",
     "shell.execute_reply.started": "2022-02-04T10:05:06.753197Z"
    },
    "papermill": {
     "duration": 0.145694,
     "end_time": "2022-02-04T10:13:31.523432",
     "exception": false,
     "start_time": "2022-02-04T10:13:31.377738",
     "status": "completed"
    },
    "tags": []
   },
   "outputs": [],
   "source": [
    "FRM_glsbds = FRM_gls.merge(FRM_bds, on='Opposition')"
   ]
  },
  {
   "cell_type": "code",
   "execution_count": 72,
   "id": "3890a558",
   "metadata": {
    "execution": {
     "iopub.execute_input": "2022-02-04T10:13:31.804672Z",
     "iopub.status.busy": "2022-02-04T10:13:31.803977Z",
     "iopub.status.idle": "2022-02-04T10:13:32.424343Z",
     "shell.execute_reply": "2022-02-04T10:13:32.423640Z",
     "shell.execute_reply.started": "2022-02-04T10:05:06.762767Z"
    },
    "papermill": {
     "duration": 0.766122,
     "end_time": "2022-02-04T10:13:32.424507",
     "exception": false,
     "start_time": "2022-02-04T10:13:31.658385",
     "status": "completed"
    },
    "tags": []
   },
   "outputs": [
    {
     "data": {
      "image/png": "[encoded data removed]",
      "text/plain": [
       "<Figure size 1008x432 with 1 Axes>"
      ]
     },
     "metadata": {
      "needs_background": "light"
     },
     "output_type": "display_data"
    }
   ],
   "source": [
    "plt.figure(figsize=(14,6))\n",
    "\n",
    "g=sns.barplot(data=FRM_glsbds, x = 'Opposition', y = 'Goals', color='mediumorchid')\n",
    "b=sns.barplot(data=FRM_glsbds, x = 'Opposition', y = 'Behinds', color='mediumpurple')\n",
    "\n",
    "for p in g.patches:\n",
    "             g.annotate(\"%.0f\" % p.get_height(), (p.get_x() + p.get_width() / 2., p.get_height()),\n",
    "                 ha='center', va='center', fontsize=12, color='black', xytext=(0,5),\n",
    "                 textcoords='offset points')\n",
    "\n",
    "g= mpatches.Patch(color='mediumorchid', label='Goals Scored')\n",
    "b= mpatches.Patch(color='mediumpurple', label='Behinds Scored')\n",
    "\n",
    "plt.title('Goals and Behinds Scored Against AFL Opposition by Fremantle From 2012 to 2020', fontsize=18)\n",
    "plt.legend(handles=[g, b], loc = 'center left', bbox_to_anchor = (1.0, 0.5), fontsize=12)\n",
    "plt.xlabel(xlabel='Opposition', fontsize=14)\n",
    "plt.xticks(fontsize=12)\n",
    "plt.ylabel(ylabel='Total', fontsize=14)\n",
    "plt.yticks(fontsize=12)\n",
    "\n",
    "plt.show()"
   ]
  },
  {
   "cell_type": "markdown",
   "id": "9296cce3",
   "metadata": {
    "papermill": {
     "duration": 0.13503,
     "end_time": "2022-02-04T10:13:32.694884",
     "exception": false,
     "start_time": "2022-02-04T10:13:32.559854",
     "status": "completed"
    },
    "tags": []
   },
   "source": [
    "Here we have the split of total goals and behinds scored by the Dockers against their opposition. From this, we can obtain the total score that Fremantle have reached by giving the amount of goals and behinds their appropriate values. "
   ]
  },
  {
   "cell_type": "code",
   "execution_count": 73,
   "id": "dd5a34d4",
   "metadata": {
    "execution": {
     "iopub.execute_input": "2022-02-04T10:13:32.976238Z",
     "iopub.status.busy": "2022-02-04T10:13:32.975570Z",
     "iopub.status.idle": "2022-02-04T10:13:33.331486Z",
     "shell.execute_reply": "2022-02-04T10:13:33.330633Z",
     "shell.execute_reply.started": "2022-02-04T10:05:07.389159Z"
    },
    "papermill": {
     "duration": 0.502499,
     "end_time": "2022-02-04T10:13:33.331637",
     "exception": false,
     "start_time": "2022-02-04T10:13:32.829138",
     "status": "completed"
    },
    "tags": []
   },
   "outputs": [
    {
     "name": "stdout",
     "output_type": "stream",
     "text": [
      "ADL 858\n",
      "BRS 839\n",
      "CAR 792\n",
      "COL 768\n",
      "ESS 1005\n",
      "GCS 781\n",
      "GEE 922\n",
      "GWS 901\n",
      "HTN 754\n",
      "MLB 1103\n",
      "NML 976\n",
      "PDL 1137\n",
      "RCH 861\n",
      "STK 824\n",
      "SYD 745\n",
      "WBL 877\n",
      "WCE 1215\n"
     ]
    }
   ],
   "source": [
    "#create loop to calculate total score accumulated against each team\n",
    "\n",
    "#for each team faced by Fremantle\n",
    "for team in FRM_glsbds['Opposition'].unique():\n",
    "    i = 0\n",
    "    #start at team indexed 0, go on until index 16 (17 opposition teams)\n",
    "    while i < len(FRM_glsbds['Opposition'].unique()):\n",
    "        #for each opponent, find total amount of goals and multiply by 6 as goal = 6 points \n",
    "        g = (FRM_glsbds[FRM_glsbds['Opposition']==team]['Goals'].sum())*6\n",
    "        #for each opponent, find total amount of behinds\n",
    "        b = FRM_glsbds[FRM_glsbds['Opposition']==team]['Behinds'].sum()\n",
    "        #sum value of goals and behinds\n",
    "        total = g + b\n",
    "        #move onto next index i.e. team\n",
    "        i+=1\n",
    "    #return the team and the total score     \n",
    "    print(team, total)"
   ]
  },
  {
   "cell_type": "code",
   "execution_count": 74,
   "id": "efb6dd47",
   "metadata": {
    "execution": {
     "iopub.execute_input": "2022-02-04T10:13:33.612643Z",
     "iopub.status.busy": "2022-02-04T10:13:33.611982Z",
     "iopub.status.idle": "2022-02-04T10:13:33.614126Z",
     "shell.execute_reply": "2022-02-04T10:13:33.614641Z",
     "shell.execute_reply.started": "2022-02-04T10:05:07.764259Z"
    },
    "papermill": {
     "duration": 0.146517,
     "end_time": "2022-02-04T10:13:33.614840",
     "exception": false,
     "start_time": "2022-02-04T10:13:33.468323",
     "status": "completed"
    },
    "tags": []
   },
   "outputs": [],
   "source": [
    "#Put data from loop into a dataframe to then join with the original dataframe\n",
    "\n",
    "scores = {'Opposition': ['ADL', 'BRS', 'CAR', 'COL', 'ESS', 'GCS', \n",
    "                         'GEE', 'GWS', 'HTN', 'MLB','NML', 'PDL', \n",
    "                         'RCH', 'STK', 'SYD', 'WBL','WCE'], \n",
    "          'Total Score':[858, 839, 792, 768, 1005, 781, \n",
    "                         922, 901, 754, 1103, 976, 1137, \n",
    "                         861, 824, 745, 877, 1215]}\n",
    "\n",
    "df_scores = pd.DataFrame(data=scores)"
   ]
  },
  {
   "cell_type": "code",
   "execution_count": 75,
   "id": "9366d599",
   "metadata": {
    "execution": {
     "iopub.execute_input": "2022-02-04T10:13:33.899910Z",
     "iopub.status.busy": "2022-02-04T10:13:33.898958Z",
     "iopub.status.idle": "2022-02-04T10:13:33.902958Z",
     "shell.execute_reply": "2022-02-04T10:13:33.902369Z",
     "shell.execute_reply.started": "2022-02-04T10:05:07.772537Z"
    },
    "papermill": {
     "duration": 0.151854,
     "end_time": "2022-02-04T10:13:33.903100",
     "exception": false,
     "start_time": "2022-02-04T10:13:33.751246",
     "status": "completed"
    },
    "tags": []
   },
   "outputs": [
    {
     "data": {
      "text/html": [
       "<div>\n",
       "<style scoped>\n",
       "    .dataframe tbody tr th:only-of-type {\n",
       "        vertical-align: middle;\n",
       "    }\n",
       "\n",
       "    .dataframe tbody tr th {\n",
       "        vertical-align: top;\n",
       "    }\n",
       "\n",
       "    .dataframe thead th {\n",
       "        text-align: right;\n",
       "    }\n",
       "</style>\n",
       "<table border=\"1\" class=\"dataframe\">\n",
       "  <thead>\n",
       "    <tr style=\"text-align: right;\">\n",
       "      <th></th>\n",
       "      <th>Opposition</th>\n",
       "      <th>Total Score</th>\n",
       "    </tr>\n",
       "  </thead>\n",
       "  <tbody>\n",
       "    <tr>\n",
       "      <th>16</th>\n",
       "      <td>WCE</td>\n",
       "      <td>1215</td>\n",
       "    </tr>\n",
       "    <tr>\n",
       "      <th>11</th>\n",
       "      <td>PDL</td>\n",
       "      <td>1137</td>\n",
       "    </tr>\n",
       "    <tr>\n",
       "      <th>9</th>\n",
       "      <td>MLB</td>\n",
       "      <td>1103</td>\n",
       "    </tr>\n",
       "    <tr>\n",
       "      <th>4</th>\n",
       "      <td>ESS</td>\n",
       "      <td>1005</td>\n",
       "    </tr>\n",
       "    <tr>\n",
       "      <th>10</th>\n",
       "      <td>NML</td>\n",
       "      <td>976</td>\n",
       "    </tr>\n",
       "    <tr>\n",
       "      <th>6</th>\n",
       "      <td>GEE</td>\n",
       "      <td>922</td>\n",
       "    </tr>\n",
       "    <tr>\n",
       "      <th>7</th>\n",
       "      <td>GWS</td>\n",
       "      <td>901</td>\n",
       "    </tr>\n",
       "    <tr>\n",
       "      <th>15</th>\n",
       "      <td>WBL</td>\n",
       "      <td>877</td>\n",
       "    </tr>\n",
       "    <tr>\n",
       "      <th>12</th>\n",
       "      <td>RCH</td>\n",
       "      <td>861</td>\n",
       "    </tr>\n",
       "    <tr>\n",
       "      <th>0</th>\n",
       "      <td>ADL</td>\n",
       "      <td>858</td>\n",
       "    </tr>\n",
       "    <tr>\n",
       "      <th>1</th>\n",
       "      <td>BRS</td>\n",
       "      <td>839</td>\n",
       "    </tr>\n",
       "    <tr>\n",
       "      <th>13</th>\n",
       "      <td>STK</td>\n",
       "      <td>824</td>\n",
       "    </tr>\n",
       "    <tr>\n",
       "      <th>2</th>\n",
       "      <td>CAR</td>\n",
       "      <td>792</td>\n",
       "    </tr>\n",
       "    <tr>\n",
       "      <th>5</th>\n",
       "      <td>GCS</td>\n",
       "      <td>781</td>\n",
       "    </tr>\n",
       "    <tr>\n",
       "      <th>3</th>\n",
       "      <td>COL</td>\n",
       "      <td>768</td>\n",
       "    </tr>\n",
       "    <tr>\n",
       "      <th>8</th>\n",
       "      <td>HTN</td>\n",
       "      <td>754</td>\n",
       "    </tr>\n",
       "    <tr>\n",
       "      <th>14</th>\n",
       "      <td>SYD</td>\n",
       "      <td>745</td>\n",
       "    </tr>\n",
       "  </tbody>\n",
       "</table>\n",
       "</div>"
      ],
      "text/plain": [
       "   Opposition  Total Score\n",
       "16        WCE         1215\n",
       "11        PDL         1137\n",
       "9         MLB         1103\n",
       "4         ESS         1005\n",
       "10        NML          976\n",
       "6         GEE          922\n",
       "7         GWS          901\n",
       "15        WBL          877\n",
       "12        RCH          861\n",
       "0         ADL          858\n",
       "1         BRS          839\n",
       "13        STK          824\n",
       "2         CAR          792\n",
       "5         GCS          781\n",
       "3         COL          768\n",
       "8         HTN          754\n",
       "14        SYD          745"
      ]
     },
     "execution_count": 75,
     "metadata": {},
     "output_type": "execute_result"
    }
   ],
   "source": [
    "df_scores.sort_values('Total Score',ascending=False)"
   ]
  },
  {
   "cell_type": "markdown",
   "id": "b6981c1e",
   "metadata": {
    "papermill": {
     "duration": 0.135519,
     "end_time": "2022-02-04T10:13:34.175628",
     "exception": false,
     "start_time": "2022-02-04T10:13:34.040109",
     "status": "completed"
    },
    "tags": []
   },
   "source": [
    "As is shown in the table above, Fremantle have managed to total their largest overall score against their local rivals WCE (West Coast Eagles). This total, however, was achieved by playing a total of 17  matches - 2 more compared to their second most faced and scored against opposition in PDL (Port Adelaide). \n",
    "\n",
    "Fremantle seem to have struggled to affect the scoreboard the most against SYD (Sydney), with the Dockers being kept to a total score of 745 in 12 matches. Despite being a low scoring match on average, Fremantle have won 42% of matches against SYD (5 wins out of 12 games). This is a much more positive outcome compared to the win percentage held against WCE; a mere 37% with 6 wins out of 17 matches played although reaching a total score greater to that against SYD by 470 points. "
   ]
  },
  {
   "cell_type": "markdown",
   "id": "425ac4b4",
   "metadata": {
    "papermill": {
     "duration": 0.143362,
     "end_time": "2022-02-04T10:13:34.457365",
     "exception": false,
     "start_time": "2022-02-04T10:13:34.314003",
     "status": "completed"
    },
    "tags": []
   },
   "source": [
    "**CONVERTING CHANCES INTO POINTS**"
   ]
  },
  {
   "cell_type": "markdown",
   "id": "6c5a8b72",
   "metadata": {
    "papermill": {
     "duration": 0.142707,
     "end_time": "2022-02-04T10:13:34.739539",
     "exception": false,
     "start_time": "2022-02-04T10:13:34.596832",
     "status": "completed"
    },
    "tags": []
   },
   "source": [
    "Clearly the amount of goals and behinds a team makes depends on how good a kicking opportunity they can create. It is very uncommon for a team to score, defined here as converting a goal or a behind, from a distance greater than the 50 meter mark. As a result, can measure how effectively a team has converted their chances. I'll call this the Conversion Percentage. To do so, we can divide the amount of goals and behinds by the amount of Inside 50s - the act of running or passing the ball inside the 50m arc - each team has tallied. As the team in focus is Fremantle, lets begin with seeing what percentage of their inside 50s they have turned into points.\n",
    "\n",
    "Obviously there is a limit to how effective our new variable is. Mearly entering the 50m arc does necessarily mean you are able to have a shot on goal, there is still a long way to go! Players may chose to pass the ball to a teammate that finds themselves in a more favourable position. However, the data only tells us how many times the ball crosses into the 50m arc and how many goals were scored. We cannot analyse the passes themselves as we have no way of knowing which of those were passes that moved the footy closer to the posts, we only have the amount of passes completed. As such, we will assume that a completed pass into the opposition's 50m arc presents them with a scoring opportunity."
   ]
  },
  {
   "cell_type": "code",
   "execution_count": 76,
   "id": "f3fceb0d",
   "metadata": {
    "execution": {
     "iopub.execute_input": "2022-02-04T10:13:35.026774Z",
     "iopub.status.busy": "2022-02-04T10:13:35.026102Z",
     "iopub.status.idle": "2022-02-04T10:13:35.034318Z",
     "shell.execute_reply": "2022-02-04T10:13:35.034867Z",
     "shell.execute_reply.started": "2022-02-04T10:05:07.794896Z"
    },
    "papermill": {
     "duration": 0.156597,
     "end_time": "2022-02-04T10:13:35.035060",
     "exception": false,
     "start_time": "2022-02-04T10:13:34.878463",
     "status": "completed"
    },
    "tags": []
   },
   "outputs": [],
   "source": [
    "#Gather relevant columns and information to create new dataframe\n",
    "FRM_stats = df_FRM.groupby('Opposition').agg({'Date of Game':'nunique', \n",
    "                                  'WinLoss':lambda x:sum(x)/22,\n",
    "                                  'Inside 50s':'sum',\n",
    "                                 'Goals':'sum', \n",
    "                                 'Behinds':'sum'}).rename(columns={'Date of Game':'Matches Played', \n",
    "                                                                  'WinLoss':'Matches Won'})"
   ]
  },
  {
   "cell_type": "code",
   "execution_count": 77,
   "id": "c933ff2d",
   "metadata": {
    "execution": {
     "iopub.execute_input": "2022-02-04T10:13:35.320157Z",
     "iopub.status.busy": "2022-02-04T10:13:35.319462Z",
     "iopub.status.idle": "2022-02-04T10:13:35.326136Z",
     "shell.execute_reply": "2022-02-04T10:13:35.326646Z",
     "shell.execute_reply.started": "2022-02-04T10:05:07.814072Z"
    },
    "papermill": {
     "duration": 0.155201,
     "end_time": "2022-02-04T10:13:35.326863",
     "exception": false,
     "start_time": "2022-02-04T10:13:35.171662",
     "status": "completed"
    },
    "tags": []
   },
   "outputs": [],
   "source": [
    "#Merge new datframe with the dataframe showing total score achieved\n",
    "FRM_stats = FRM_stats.merge(df_scores, on='Opposition')"
   ]
  },
  {
   "cell_type": "code",
   "execution_count": 78,
   "id": "4ccf2fa4",
   "metadata": {
    "execution": {
     "iopub.execute_input": "2022-02-04T10:13:35.618488Z",
     "iopub.status.busy": "2022-02-04T10:13:35.617550Z",
     "iopub.status.idle": "2022-02-04T10:13:35.632541Z",
     "shell.execute_reply": "2022-02-04T10:13:35.633089Z",
     "shell.execute_reply.started": "2022-02-04T10:05:07.824670Z"
    },
    "papermill": {
     "duration": 0.161522,
     "end_time": "2022-02-04T10:13:35.633298",
     "exception": false,
     "start_time": "2022-02-04T10:13:35.471776",
     "status": "completed"
    },
    "tags": []
   },
   "outputs": [
    {
     "data": {
      "text/plain": [
       "Opposition\n",
       "ADL    0.363\n",
       "BRS    0.420\n",
       "CAR    0.409\n",
       "COL    0.438\n",
       "ESS    0.404\n",
       "GCS    0.423\n",
       "GEE    0.408\n",
       "GWS    0.448\n",
       "HTN    0.380\n",
       "MLB    0.416\n",
       "NML    0.424\n",
       "PDL    0.430\n",
       "RCH    0.402\n",
       "STK    0.365\n",
       "SYD    0.343\n",
       "WBL    0.434\n",
       "WCE    0.402\n",
       "dtype: float64"
      ]
     },
     "execution_count": 78,
     "metadata": {},
     "output_type": "execute_result"
    }
   ],
   "source": [
    "#Find conversion percentage\n",
    "((FRM_stats.groupby('Opposition')['Goals'].sum()+FRM_stats.groupby('Opposition')['Behinds'].sum())/FRM_stats.groupby('Opposition')['Inside 50s'].sum()).round(3)"
   ]
  },
  {
   "cell_type": "code",
   "execution_count": 79,
   "id": "3da21406",
   "metadata": {
    "execution": {
     "iopub.execute_input": "2022-02-04T10:13:35.922285Z",
     "iopub.status.busy": "2022-02-04T10:13:35.916636Z",
     "iopub.status.idle": "2022-02-04T10:13:36.339621Z",
     "shell.execute_reply": "2022-02-04T10:13:36.338972Z",
     "shell.execute_reply.started": "2022-02-04T10:05:07.841832Z"
    },
    "papermill": {
     "duration": 0.564579,
     "end_time": "2022-02-04T10:13:36.339778",
     "exception": false,
     "start_time": "2022-02-04T10:13:35.775199",
     "status": "completed"
    },
    "tags": []
   },
   "outputs": [
    {
     "data": {
      "image/png": "[encoded data removed]",
      "text/plain": [
       "<Figure size 1296x432 with 1 Axes>"
      ]
     },
     "metadata": {
      "needs_background": "light"
     },
     "output_type": "display_data"
    }
   ],
   "source": [
    "#Plot conversion percentage\n",
    "\n",
    "plt.figure(figsize=(18,6))\n",
    "\n",
    "conv_perc = sns.barplot(x=FRM_stats['Opposition'].unique(), \n",
    "            y=(((FRM_stats.groupby('Opposition')['Goals'].sum()+FRM_stats.groupby('Opposition')['Behinds'].sum())/FRM_stats.groupby('Opposition')['Inside 50s'].sum()))*100,\n",
    "            color='purple')\n",
    "\n",
    "for p in conv_perc.patches:\n",
    "             conv_perc.annotate(\"%.1f\" % p.get_height(), (p.get_x() + p.get_width() / 2., p.get_height()),\n",
    "                 ha='center', va='center', fontsize=12, color='black', xytext=(0,5),\n",
    "                 textcoords='offset points')\n",
    "        \n",
    "plt.title('Fremantle Overall Conversion Percentage Against AFL Opposition', fontsize=18)\n",
    "#plt.legend(handles=[g, b], loc = 'center left', bbox_to_anchor = (1.0, 0.5), fontsize=12)\n",
    "plt.xlabel(xlabel='Opposition', fontsize=14)\n",
    "plt.xticks(fontsize=12)\n",
    "plt.ylabel(ylabel='Chances Converted (%)', fontsize=14)\n",
    "plt.yticks(fontsize=12)\n",
    "plt.show()"
   ]
  },
  {
   "cell_type": "markdown",
   "id": "908cd2f2",
   "metadata": {
    "papermill": {
     "duration": 0.13909,
     "end_time": "2022-02-04T10:13:36.619000",
     "exception": false,
     "start_time": "2022-02-04T10:13:36.479910",
     "status": "completed"
    },
    "tags": []
   },
   "source": [
    "From our newly created variable, we notice that although totalling their highest score against WCE, Fremantle have converted just 40.2% of the chances created within the 50m arc. This is the same percentage as that against Richmond (RCH), where they have scored 53 goals and 36 behinds less compared to those recorded against WCE and accumulated a total of 861 compared to the 1215 against WCE. As a result, we can see that Fremantle could have accumulated a larger score total over the last 9 seasons against their local rivals.\n",
    "\n",
    "While the conversion percentage against WCE shows a lot of missed opportunities, given that FRM reached such a high total with a considerably low conversion of times they were inside the 50m arc, that against SYD does not paint a prettier picture. Against SYD, Fremantle have only managed to score 110 goals and 85 behinds, thus reaching a total of 745 points, and have been inside SYD's 50m arc 569 times - that is more than 200 times less than the number of times inside WCE's 50m arc. This starc difference exposes SYD to be one of the hardest opposition for Fremantle in terms of both progressing the ball into the 50m arc converting a kick. "
   ]
  },
  {
   "cell_type": "code",
   "execution_count": 80,
   "id": "718b7d8f",
   "metadata": {
    "execution": {
     "iopub.execute_input": "2022-02-04T10:13:36.903998Z",
     "iopub.status.busy": "2022-02-04T10:13:36.903240Z",
     "iopub.status.idle": "2022-02-04T10:13:36.906567Z",
     "shell.execute_reply": "2022-02-04T10:13:36.907104Z",
     "shell.execute_reply.started": "2022-02-04T10:05:08.272828Z"
    },
    "papermill": {
     "duration": 0.148361,
     "end_time": "2022-02-04T10:13:36.907270",
     "exception": false,
     "start_time": "2022-02-04T10:13:36.758909",
     "status": "completed"
    },
    "tags": []
   },
   "outputs": [],
   "source": [
    "FRM_stats = FRM_stats.assign(Conv=[0.363,0.420,0.409,0.438,0.404,0.423,\n",
    "                                            0.408,0.448,0.380,0.416,0.424,0.430,\n",
    "                                            0.402,0.365,0.343,0.434,0.402])"
   ]
  },
  {
   "cell_type": "code",
   "execution_count": 81,
   "id": "7a7381b4",
   "metadata": {
    "execution": {
     "iopub.execute_input": "2022-02-04T10:13:37.192003Z",
     "iopub.status.busy": "2022-02-04T10:13:37.191342Z",
     "iopub.status.idle": "2022-02-04T10:13:37.194114Z",
     "shell.execute_reply": "2022-02-04T10:13:37.193409Z",
     "shell.execute_reply.started": "2022-02-04T10:05:08.283100Z"
    },
    "papermill": {
     "duration": 0.147671,
     "end_time": "2022-02-04T10:13:37.194259",
     "exception": false,
     "start_time": "2022-02-04T10:13:37.046588",
     "status": "completed"
    },
    "tags": []
   },
   "outputs": [],
   "source": [
    "FRM_stats.rename(columns={'Conv':'Conversion Percentage'}, inplace=True)"
   ]
  },
  {
   "cell_type": "code",
   "execution_count": 82,
   "id": "7a026ae3",
   "metadata": {
    "execution": {
     "iopub.execute_input": "2022-02-04T10:13:37.491474Z",
     "iopub.status.busy": "2022-02-04T10:13:37.490775Z",
     "iopub.status.idle": "2022-02-04T10:13:37.493621Z",
     "shell.execute_reply": "2022-02-04T10:13:37.494129Z",
     "shell.execute_reply.started": "2022-02-04T10:05:08.294805Z"
    },
    "papermill": {
     "duration": 0.160792,
     "end_time": "2022-02-04T10:13:37.494320",
     "exception": false,
     "start_time": "2022-02-04T10:13:37.333528",
     "status": "completed"
    },
    "tags": []
   },
   "outputs": [
    {
     "data": {
      "text/html": [
       "<div>\n",
       "<style scoped>\n",
       "    .dataframe tbody tr th:only-of-type {\n",
       "        vertical-align: middle;\n",
       "    }\n",
       "\n",
       "    .dataframe tbody tr th {\n",
       "        vertical-align: top;\n",
       "    }\n",
       "\n",
       "    .dataframe thead th {\n",
       "        text-align: right;\n",
       "    }\n",
       "</style>\n",
       "<table border=\"1\" class=\"dataframe\">\n",
       "  <thead>\n",
       "    <tr style=\"text-align: right;\">\n",
       "      <th></th>\n",
       "      <th>Goals</th>\n",
       "      <th>Behinds</th>\n",
       "      <th>Inside 50s</th>\n",
       "      <th>Conversion Percentage</th>\n",
       "    </tr>\n",
       "    <tr>\n",
       "      <th>Opposition</th>\n",
       "      <th></th>\n",
       "      <th></th>\n",
       "      <th></th>\n",
       "      <th></th>\n",
       "    </tr>\n",
       "  </thead>\n",
       "  <tbody>\n",
       "    <tr>\n",
       "      <th>COL</th>\n",
       "      <td>115</td>\n",
       "      <td>78</td>\n",
       "      <td>441</td>\n",
       "      <td>0.438</td>\n",
       "    </tr>\n",
       "    <tr>\n",
       "      <th>GCS</th>\n",
       "      <td>114</td>\n",
       "      <td>97</td>\n",
       "      <td>499</td>\n",
       "      <td>0.423</td>\n",
       "    </tr>\n",
       "    <tr>\n",
       "      <th>GWS</th>\n",
       "      <td>135</td>\n",
       "      <td>91</td>\n",
       "      <td>504</td>\n",
       "      <td>0.448</td>\n",
       "    </tr>\n",
       "    <tr>\n",
       "      <th>CAR</th>\n",
       "      <td>117</td>\n",
       "      <td>90</td>\n",
       "      <td>506</td>\n",
       "      <td>0.409</td>\n",
       "    </tr>\n",
       "    <tr>\n",
       "      <th>HTN</th>\n",
       "      <td>112</td>\n",
       "      <td>82</td>\n",
       "      <td>511</td>\n",
       "      <td>0.380</td>\n",
       "    </tr>\n",
       "    <tr>\n",
       "      <th>STK</th>\n",
       "      <td>127</td>\n",
       "      <td>62</td>\n",
       "      <td>518</td>\n",
       "      <td>0.365</td>\n",
       "    </tr>\n",
       "    <tr>\n",
       "      <th>BRS</th>\n",
       "      <td>124</td>\n",
       "      <td>95</td>\n",
       "      <td>522</td>\n",
       "      <td>0.420</td>\n",
       "    </tr>\n",
       "    <tr>\n",
       "      <th>WBL</th>\n",
       "      <td>130</td>\n",
       "      <td>97</td>\n",
       "      <td>523</td>\n",
       "      <td>0.434</td>\n",
       "    </tr>\n",
       "    <tr>\n",
       "      <th>SYD</th>\n",
       "      <td>110</td>\n",
       "      <td>85</td>\n",
       "      <td>569</td>\n",
       "      <td>0.343</td>\n",
       "    </tr>\n",
       "    <tr>\n",
       "      <th>NML</th>\n",
       "      <td>147</td>\n",
       "      <td>94</td>\n",
       "      <td>569</td>\n",
       "      <td>0.424</td>\n",
       "    </tr>\n",
       "    <tr>\n",
       "      <th>RCH</th>\n",
       "      <td>126</td>\n",
       "      <td>105</td>\n",
       "      <td>575</td>\n",
       "      <td>0.402</td>\n",
       "    </tr>\n",
       "    <tr>\n",
       "      <th>GEE</th>\n",
       "      <td>137</td>\n",
       "      <td>100</td>\n",
       "      <td>581</td>\n",
       "      <td>0.408</td>\n",
       "    </tr>\n",
       "    <tr>\n",
       "      <th>ESS</th>\n",
       "      <td>153</td>\n",
       "      <td>87</td>\n",
       "      <td>594</td>\n",
       "      <td>0.404</td>\n",
       "    </tr>\n",
       "    <tr>\n",
       "      <th>ADL</th>\n",
       "      <td>128</td>\n",
       "      <td>90</td>\n",
       "      <td>601</td>\n",
       "      <td>0.363</td>\n",
       "    </tr>\n",
       "    <tr>\n",
       "      <th>MLB</th>\n",
       "      <td>169</td>\n",
       "      <td>89</td>\n",
       "      <td>620</td>\n",
       "      <td>0.416</td>\n",
       "    </tr>\n",
       "    <tr>\n",
       "      <th>PDL</th>\n",
       "      <td>169</td>\n",
       "      <td>123</td>\n",
       "      <td>679</td>\n",
       "      <td>0.430</td>\n",
       "    </tr>\n",
       "    <tr>\n",
       "      <th>WCE</th>\n",
       "      <td>179</td>\n",
       "      <td>141</td>\n",
       "      <td>797</td>\n",
       "      <td>0.402</td>\n",
       "    </tr>\n",
       "  </tbody>\n",
       "</table>\n",
       "</div>"
      ],
      "text/plain": [
       "            Goals  Behinds  Inside 50s  Conversion Percentage\n",
       "Opposition                                                   \n",
       "COL           115       78         441                  0.438\n",
       "GCS           114       97         499                  0.423\n",
       "GWS           135       91         504                  0.448\n",
       "CAR           117       90         506                  0.409\n",
       "HTN           112       82         511                  0.380\n",
       "STK           127       62         518                  0.365\n",
       "BRS           124       95         522                  0.420\n",
       "WBL           130       97         523                  0.434\n",
       "SYD           110       85         569                  0.343\n",
       "NML           147       94         569                  0.424\n",
       "RCH           126      105         575                  0.402\n",
       "GEE           137      100         581                  0.408\n",
       "ESS           153       87         594                  0.404\n",
       "ADL           128       90         601                  0.363\n",
       "MLB           169       89         620                  0.416\n",
       "PDL           169      123         679                  0.430\n",
       "WCE           179      141         797                  0.402"
      ]
     },
     "execution_count": 82,
     "metadata": {},
     "output_type": "execute_result"
    }
   ],
   "source": [
    "FRM_stats.groupby('Opposition').agg({'Goals':'sum', \n",
    "                                     'Behinds':'sum', \n",
    "                                     'Inside 50s':'sum', \n",
    "                                     'Conversion Percentage':'sum'}).sort_values('Inside 50s', ascending=True)"
   ]
  },
  {
   "cell_type": "markdown",
   "id": "f5c20e1d",
   "metadata": {
    "papermill": {
     "duration": 0.141692,
     "end_time": "2022-02-04T10:13:37.777710",
     "exception": false,
     "start_time": "2022-02-04T10:13:37.636018",
     "status": "completed"
    },
    "tags": []
   },
   "source": [
    "**SCORING AGAINST FREMANTLE**"
   ]
  },
  {
   "cell_type": "markdown",
   "id": "de67204d",
   "metadata": {
    "papermill": {
     "duration": 0.14219,
     "end_time": "2022-02-04T10:13:38.061261",
     "exception": false,
     "start_time": "2022-02-04T10:13:37.919071",
     "status": "completed"
    },
    "tags": []
   },
   "source": [
    "We have seen how Fremantle performs against its opponents. What about the reserve? How do teams perform against Fremantle? \n"
   ]
  },
  {
   "cell_type": "code",
   "execution_count": 83,
   "id": "a12d1c23",
   "metadata": {
    "execution": {
     "iopub.execute_input": "2022-02-04T10:13:38.365456Z",
     "iopub.status.busy": "2022-02-04T10:13:38.364757Z",
     "iopub.status.idle": "2022-02-04T10:13:38.370403Z",
     "shell.execute_reply": "2022-02-04T10:13:38.369827Z",
     "shell.execute_reply.started": "2022-02-04T10:05:08.322220Z"
    },
    "papermill": {
     "duration": 0.165237,
     "end_time": "2022-02-04T10:13:38.370557",
     "exception": false,
     "start_time": "2022-02-04T10:13:38.205320",
     "status": "completed"
    },
    "tags": []
   },
   "outputs": [],
   "source": [
    "#Lets start by creating a new dataframe specific for when AFL teams face Fremantle i.e. Opposition = FRM\n",
    "df_FRM_Opps = df_afl[(df_afl['Opposition']=='FRM')]"
   ]
  },
  {
   "cell_type": "code",
   "execution_count": 84,
   "id": "51bd8948",
   "metadata": {
    "execution": {
     "iopub.execute_input": "2022-02-04T10:13:38.663149Z",
     "iopub.status.busy": "2022-02-04T10:13:38.662401Z",
     "iopub.status.idle": "2022-02-04T10:13:39.603710Z",
     "shell.execute_reply": "2022-02-04T10:13:39.602783Z",
     "shell.execute_reply.started": "2022-02-04T10:05:08.343930Z"
    },
    "papermill": {
     "duration": 1.092312,
     "end_time": "2022-02-04T10:13:39.603955",
     "exception": false,
     "start_time": "2022-02-04T10:13:38.511643",
     "status": "completed"
    },
    "tags": []
   },
   "outputs": [
    {
     "name": "stdout",
     "output_type": "stream",
     "text": [
      "ADL 1034\n",
      "CAR 622\n",
      "COL 793\n",
      "BRS 632\n",
      "WBL 788\n",
      "GCS 701\n",
      "MLB 729\n",
      "GEE 1044\n",
      "HTN 1166\n",
      "SYD 983\n",
      "STK 873\n",
      "GWS 759\n",
      "NML 745\n",
      "ESS 904\n",
      "RCH 1111\n",
      "PDL 1242\n",
      "WCE 1452\n"
     ]
    }
   ],
   "source": [
    "#create loop to calculate total score by each team when facing FRM\n",
    "\n",
    "for opp in df_FRM_Opps['Team'].unique():\n",
    "    i = 0\n",
    "    \n",
    "    while i < len(df_FRM_Opps['Team'].unique()):\n",
    "        opp_g = (df_FRM_Opps[df_FRM_Opps['Team']==opp]['Goals'].sum())*6\n",
    "        opp_b = df_FRM_Opps[df_FRM_Opps['Team']==opp]['Behinds'].sum()\n",
    "        opp_tot = opp_g + opp_b\n",
    "        \n",
    "        i+=1\n",
    "\n",
    "    print(opp, opp_tot)"
   ]
  },
  {
   "cell_type": "code",
   "execution_count": 85,
   "id": "3ccc9205",
   "metadata": {
    "execution": {
     "iopub.execute_input": "2022-02-04T10:13:39.897671Z",
     "iopub.status.busy": "2022-02-04T10:13:39.896891Z",
     "iopub.status.idle": "2022-02-04T10:13:39.899082Z",
     "shell.execute_reply": "2022-02-04T10:13:39.898531Z",
     "shell.execute_reply.started": "2022-02-04T10:05:09.290740Z"
    },
    "papermill": {
     "duration": 0.151834,
     "end_time": "2022-02-04T10:13:39.899246",
     "exception": false,
     "start_time": "2022-02-04T10:13:39.747412",
     "status": "completed"
    },
    "tags": []
   },
   "outputs": [],
   "source": [
    "opps_scores = {'Team': ['ADL', 'CAR', 'COL', 'BRS', 'WBL', 'GCS', \n",
    "                         'MLB', 'GEE', 'HTN', 'SYD','STK', 'GWS', \n",
    "                         'NML', 'ESS', 'RCH', 'PDL','WCE'], \n",
    "               \n",
    "          'Total Score':[1034,622,793,632,788,701,\n",
    "                         729,1044,1166,983,873,759,\n",
    "                         745,904,1111,1242,1452]}\n",
    "\n",
    "df_opps_scores = pd.DataFrame(data=opps_scores)"
   ]
  },
  {
   "cell_type": "code",
   "execution_count": 86,
   "id": "ac32ee53",
   "metadata": {
    "execution": {
     "iopub.execute_input": "2022-02-04T10:13:40.196376Z",
     "iopub.status.busy": "2022-02-04T10:13:40.195667Z",
     "iopub.status.idle": "2022-02-04T10:13:40.203041Z",
     "shell.execute_reply": "2022-02-04T10:13:40.203523Z",
     "shell.execute_reply.started": "2022-02-04T10:05:09.300099Z"
    },
    "papermill": {
     "duration": 0.158141,
     "end_time": "2022-02-04T10:13:40.203752",
     "exception": false,
     "start_time": "2022-02-04T10:13:40.045611",
     "status": "completed"
    },
    "tags": []
   },
   "outputs": [],
   "source": [
    "FRM_Opps_stats = df_FRM_Opps.groupby('Team').agg({'WinLoss':lambda x:sum(x)/22,\n",
    "                                                  'Inside 50s':'sum',\n",
    "                                                  'Goals':'sum', \n",
    "                                                  'Behinds':'sum'}).rename(columns={'WinLoss':'Matches Won'})"
   ]
  },
  {
   "cell_type": "code",
   "execution_count": 87,
   "id": "a162a032",
   "metadata": {
    "execution": {
     "iopub.execute_input": "2022-02-04T10:13:40.497713Z",
     "iopub.status.busy": "2022-02-04T10:13:40.492248Z",
     "iopub.status.idle": "2022-02-04T10:13:40.499537Z",
     "shell.execute_reply": "2022-02-04T10:13:40.500017Z",
     "shell.execute_reply.started": "2022-02-04T10:05:09.315169Z"
    },
    "papermill": {
     "duration": 0.154197,
     "end_time": "2022-02-04T10:13:40.500217",
     "exception": false,
     "start_time": "2022-02-04T10:13:40.346020",
     "status": "completed"
    },
    "tags": []
   },
   "outputs": [],
   "source": [
    "FRM_Opps_stats = FRM_Opps_stats.merge(df_opps_scores, on='Team')"
   ]
  },
  {
   "cell_type": "code",
   "execution_count": 88,
   "id": "6ced7439",
   "metadata": {
    "execution": {
     "iopub.execute_input": "2022-02-04T10:13:40.809105Z",
     "iopub.status.busy": "2022-02-04T10:13:40.808142Z",
     "iopub.status.idle": "2022-02-04T10:13:40.811753Z",
     "shell.execute_reply": "2022-02-04T10:13:40.812281Z",
     "shell.execute_reply.started": "2022-02-04T10:05:09.325158Z"
    },
    "papermill": {
     "duration": 0.167591,
     "end_time": "2022-02-04T10:13:40.812488",
     "exception": false,
     "start_time": "2022-02-04T10:13:40.644897",
     "status": "completed"
    },
    "tags": []
   },
   "outputs": [
    {
     "data": {
      "text/plain": [
       "Team\n",
       "ADL    0.418\n",
       "BRS    0.407\n",
       "CAR    0.395\n",
       "COL    0.385\n",
       "ESS    0.425\n",
       "GCS    0.364\n",
       "GEE    0.413\n",
       "GWS    0.478\n",
       "HTN    0.468\n",
       "MLB    0.388\n",
       "NML    0.367\n",
       "PDL    0.424\n",
       "RCH    0.433\n",
       "STK    0.426\n",
       "SYD    0.411\n",
       "WBL    0.399\n",
       "WCE    0.456\n",
       "dtype: float64"
      ]
     },
     "execution_count": 88,
     "metadata": {},
     "output_type": "execute_result"
    }
   ],
   "source": [
    "((FRM_Opps_stats.groupby('Team')['Goals'].sum()+FRM_Opps_stats.groupby('Team')['Behinds'].sum())/FRM_Opps_stats.groupby('Team')['Inside 50s'].sum()).round(3)"
   ]
  },
  {
   "cell_type": "code",
   "execution_count": 89,
   "id": "5b73a718",
   "metadata": {
    "execution": {
     "iopub.execute_input": "2022-02-04T10:13:41.106851Z",
     "iopub.status.busy": "2022-02-04T10:13:41.105828Z",
     "iopub.status.idle": "2022-02-04T10:13:41.112734Z",
     "shell.execute_reply": "2022-02-04T10:13:41.113275Z",
     "shell.execute_reply.started": "2022-02-04T10:05:09.341681Z"
    },
    "papermill": {
     "duration": 0.154421,
     "end_time": "2022-02-04T10:13:41.113468",
     "exception": false,
     "start_time": "2022-02-04T10:13:40.959047",
     "status": "completed"
    },
    "tags": []
   },
   "outputs": [],
   "source": [
    "FRM_Opps_stats = FRM_Opps_stats.assign(Conv=[0.418,0.407,0.395,0.385,0.425,0.364,\n",
    "                                             0.413,0.478,0.468,0.388,0.367,0.424,\n",
    "                                             0.433,0.426,0.411,0.399,0.456])\n",
    "\n",
    "FRM_Opps_stats.rename(columns={'Conv':'Conversion Percentage'}, inplace=True)"
   ]
  },
  {
   "cell_type": "code",
   "execution_count": 90,
   "id": "f3b9fbe8",
   "metadata": {
    "execution": {
     "iopub.execute_input": "2022-02-04T10:13:41.402488Z",
     "iopub.status.busy": "2022-02-04T10:13:41.401509Z",
     "iopub.status.idle": "2022-02-04T10:13:41.406912Z",
     "shell.execute_reply": "2022-02-04T10:13:41.407409Z",
     "shell.execute_reply.started": "2022-02-04T10:05:09.352054Z"
    },
    "papermill": {
     "duration": 0.151479,
     "end_time": "2022-02-04T10:13:41.407598",
     "exception": false,
     "start_time": "2022-02-04T10:13:41.256119",
     "status": "completed"
    },
    "tags": []
   },
   "outputs": [],
   "source": [
    "FRM_Opps_stats.rename(columns = {'Team':'Opposition', \n",
    "                                'Matches Won':'Matches Lost', \n",
    "                                'Inside 50s':'Inside 50s Conceded', \n",
    "                                'Goals':'Goals Conceded', \n",
    "                                'Behinds':'Behinds Conceded', \n",
    "                                'Total Score':'Total Score Against', \n",
    "                                'Conversion Percentage':'Conversion Percentage Against'}, inplace=True)"
   ]
  },
  {
   "cell_type": "code",
   "execution_count": 91,
   "id": "6fbd5734",
   "metadata": {
    "execution": {
     "iopub.execute_input": "2022-02-04T10:13:41.725063Z",
     "iopub.status.busy": "2022-02-04T10:13:41.724252Z",
     "iopub.status.idle": "2022-02-04T10:13:41.744706Z",
     "shell.execute_reply": "2022-02-04T10:13:41.745330Z",
     "shell.execute_reply.started": "2022-02-04T10:05:09.361086Z"
    },
    "papermill": {
     "duration": 0.195886,
     "end_time": "2022-02-04T10:13:41.745572",
     "exception": false,
     "start_time": "2022-02-04T10:13:41.549686",
     "status": "completed"
    },
    "tags": []
   },
   "outputs": [
    {
     "data": {
      "text/html": [
       "<div>\n",
       "<style scoped>\n",
       "    .dataframe tbody tr th:only-of-type {\n",
       "        vertical-align: middle;\n",
       "    }\n",
       "\n",
       "    .dataframe tbody tr th {\n",
       "        vertical-align: top;\n",
       "    }\n",
       "\n",
       "    .dataframe thead th {\n",
       "        text-align: right;\n",
       "    }\n",
       "</style>\n",
       "<table border=\"1\" class=\"dataframe\">\n",
       "  <thead>\n",
       "    <tr style=\"text-align: right;\">\n",
       "      <th></th>\n",
       "      <th>Opposition</th>\n",
       "      <th>Matches Lost</th>\n",
       "      <th>Inside 50s Conceded</th>\n",
       "      <th>Goals Conceded</th>\n",
       "      <th>Behinds Conceded</th>\n",
       "      <th>Total Score Against</th>\n",
       "      <th>Conversion Percentage Against</th>\n",
       "    </tr>\n",
       "  </thead>\n",
       "  <tbody>\n",
       "    <tr>\n",
       "      <th>0</th>\n",
       "      <td>ADL</td>\n",
       "      <td>7</td>\n",
       "      <td>679</td>\n",
       "      <td>150</td>\n",
       "      <td>134</td>\n",
       "      <td>1034</td>\n",
       "      <td>0.418</td>\n",
       "    </tr>\n",
       "    <tr>\n",
       "      <th>1</th>\n",
       "      <td>BRS</td>\n",
       "      <td>3</td>\n",
       "      <td>398</td>\n",
       "      <td>94</td>\n",
       "      <td>68</td>\n",
       "      <td>632</td>\n",
       "      <td>0.407</td>\n",
       "    </tr>\n",
       "    <tr>\n",
       "      <th>2</th>\n",
       "      <td>CAR</td>\n",
       "      <td>4</td>\n",
       "      <td>435</td>\n",
       "      <td>90</td>\n",
       "      <td>82</td>\n",
       "      <td>622</td>\n",
       "      <td>0.395</td>\n",
       "    </tr>\n",
       "    <tr>\n",
       "      <th>3</th>\n",
       "      <td>COL</td>\n",
       "      <td>5</td>\n",
       "      <td>527</td>\n",
       "      <td>118</td>\n",
       "      <td>85</td>\n",
       "      <td>793</td>\n",
       "      <td>0.385</td>\n",
       "    </tr>\n",
       "    <tr>\n",
       "      <th>4</th>\n",
       "      <td>ESS</td>\n",
       "      <td>7</td>\n",
       "      <td>563</td>\n",
       "      <td>133</td>\n",
       "      <td>106</td>\n",
       "      <td>904</td>\n",
       "      <td>0.425</td>\n",
       "    </tr>\n",
       "    <tr>\n",
       "      <th>5</th>\n",
       "      <td>GCS</td>\n",
       "      <td>4</td>\n",
       "      <td>483</td>\n",
       "      <td>105</td>\n",
       "      <td>71</td>\n",
       "      <td>701</td>\n",
       "      <td>0.364</td>\n",
       "    </tr>\n",
       "    <tr>\n",
       "      <th>6</th>\n",
       "      <td>GEE</td>\n",
       "      <td>7</td>\n",
       "      <td>664</td>\n",
       "      <td>154</td>\n",
       "      <td>120</td>\n",
       "      <td>1044</td>\n",
       "      <td>0.413</td>\n",
       "    </tr>\n",
       "    <tr>\n",
       "      <th>7</th>\n",
       "      <td>GWS</td>\n",
       "      <td>5</td>\n",
       "      <td>427</td>\n",
       "      <td>111</td>\n",
       "      <td>93</td>\n",
       "      <td>759</td>\n",
       "      <td>0.478</td>\n",
       "    </tr>\n",
       "    <tr>\n",
       "      <th>8</th>\n",
       "      <td>HTN</td>\n",
       "      <td>10</td>\n",
       "      <td>601</td>\n",
       "      <td>177</td>\n",
       "      <td>104</td>\n",
       "      <td>1166</td>\n",
       "      <td>0.468</td>\n",
       "    </tr>\n",
       "    <tr>\n",
       "      <th>9</th>\n",
       "      <td>MLB</td>\n",
       "      <td>3</td>\n",
       "      <td>551</td>\n",
       "      <td>103</td>\n",
       "      <td>111</td>\n",
       "      <td>729</td>\n",
       "      <td>0.388</td>\n",
       "    </tr>\n",
       "    <tr>\n",
       "      <th>10</th>\n",
       "      <td>NML</td>\n",
       "      <td>4</td>\n",
       "      <td>504</td>\n",
       "      <td>112</td>\n",
       "      <td>73</td>\n",
       "      <td>745</td>\n",
       "      <td>0.367</td>\n",
       "    </tr>\n",
       "    <tr>\n",
       "      <th>11</th>\n",
       "      <td>PDL</td>\n",
       "      <td>7</td>\n",
       "      <td>771</td>\n",
       "      <td>183</td>\n",
       "      <td>144</td>\n",
       "      <td>1242</td>\n",
       "      <td>0.424</td>\n",
       "    </tr>\n",
       "    <tr>\n",
       "      <th>12</th>\n",
       "      <td>RCH</td>\n",
       "      <td>7</td>\n",
       "      <td>637</td>\n",
       "      <td>167</td>\n",
       "      <td>109</td>\n",
       "      <td>1111</td>\n",
       "      <td>0.433</td>\n",
       "    </tr>\n",
       "    <tr>\n",
       "      <th>13</th>\n",
       "      <td>STK</td>\n",
       "      <td>5</td>\n",
       "      <td>547</td>\n",
       "      <td>128</td>\n",
       "      <td>105</td>\n",
       "      <td>873</td>\n",
       "      <td>0.426</td>\n",
       "    </tr>\n",
       "    <tr>\n",
       "      <th>14</th>\n",
       "      <td>SYD</td>\n",
       "      <td>6</td>\n",
       "      <td>615</td>\n",
       "      <td>146</td>\n",
       "      <td>107</td>\n",
       "      <td>983</td>\n",
       "      <td>0.411</td>\n",
       "    </tr>\n",
       "    <tr>\n",
       "      <th>15</th>\n",
       "      <td>WBL</td>\n",
       "      <td>3</td>\n",
       "      <td>546</td>\n",
       "      <td>114</td>\n",
       "      <td>104</td>\n",
       "      <td>788</td>\n",
       "      <td>0.399</td>\n",
       "    </tr>\n",
       "    <tr>\n",
       "      <th>16</th>\n",
       "      <td>WCE</td>\n",
       "      <td>11</td>\n",
       "      <td>826</td>\n",
       "      <td>215</td>\n",
       "      <td>162</td>\n",
       "      <td>1452</td>\n",
       "      <td>0.456</td>\n",
       "    </tr>\n",
       "  </tbody>\n",
       "</table>\n",
       "</div>"
      ],
      "text/plain": [
       "   Opposition  Matches Lost  Inside 50s Conceded  Goals Conceded  \\\n",
       "0         ADL             7                  679             150   \n",
       "1         BRS             3                  398              94   \n",
       "2         CAR             4                  435              90   \n",
       "3         COL             5                  527             118   \n",
       "4         ESS             7                  563             133   \n",
       "5         GCS             4                  483             105   \n",
       "6         GEE             7                  664             154   \n",
       "7         GWS             5                  427             111   \n",
       "8         HTN            10                  601             177   \n",
       "9         MLB             3                  551             103   \n",
       "10        NML             4                  504             112   \n",
       "11        PDL             7                  771             183   \n",
       "12        RCH             7                  637             167   \n",
       "13        STK             5                  547             128   \n",
       "14        SYD             6                  615             146   \n",
       "15        WBL             3                  546             114   \n",
       "16        WCE            11                  826             215   \n",
       "\n",
       "    Behinds Conceded  Total Score Against  Conversion Percentage Against  \n",
       "0                134                 1034                          0.418  \n",
       "1                 68                  632                          0.407  \n",
       "2                 82                  622                          0.395  \n",
       "3                 85                  793                          0.385  \n",
       "4                106                  904                          0.425  \n",
       "5                 71                  701                          0.364  \n",
       "6                120                 1044                          0.413  \n",
       "7                 93                  759                          0.478  \n",
       "8                104                 1166                          0.468  \n",
       "9                111                  729                          0.388  \n",
       "10                73                  745                          0.367  \n",
       "11               144                 1242                          0.424  \n",
       "12               109                 1111                          0.433  \n",
       "13               105                  873                          0.426  \n",
       "14               107                  983                          0.411  \n",
       "15               104                  788                          0.399  \n",
       "16               162                 1452                          0.456  "
      ]
     },
     "execution_count": 91,
     "metadata": {},
     "output_type": "execute_result"
    }
   ],
   "source": [
    "FRM_Opps_stats"
   ]
  },
  {
   "cell_type": "code",
   "execution_count": 92,
   "id": "8570e0c5",
   "metadata": {
    "execution": {
     "iopub.execute_input": "2022-02-04T10:13:42.038333Z",
     "iopub.status.busy": "2022-02-04T10:13:42.037624Z",
     "iopub.status.idle": "2022-02-04T10:13:42.044761Z",
     "shell.execute_reply": "2022-02-04T10:13:42.045335Z",
     "shell.execute_reply.started": "2022-02-04T10:05:09.387247Z"
    },
    "papermill": {
     "duration": 0.154165,
     "end_time": "2022-02-04T10:13:42.045533",
     "exception": false,
     "start_time": "2022-02-04T10:13:41.891368",
     "status": "completed"
    },
    "tags": []
   },
   "outputs": [],
   "source": [
    "FRM_fullstats = FRM_stats.merge(FRM_Opps_stats, on='Opposition')"
   ]
  },
  {
   "cell_type": "code",
   "execution_count": 93,
   "id": "30c9d4c0",
   "metadata": {
    "execution": {
     "iopub.execute_input": "2022-02-04T10:13:42.337347Z",
     "iopub.status.busy": "2022-02-04T10:13:42.336639Z",
     "iopub.status.idle": "2022-02-04T10:13:42.358525Z",
     "shell.execute_reply": "2022-02-04T10:13:42.359069Z",
     "shell.execute_reply.started": "2022-02-04T10:05:09.401936Z"
    },
    "papermill": {
     "duration": 0.168853,
     "end_time": "2022-02-04T10:13:42.359270",
     "exception": false,
     "start_time": "2022-02-04T10:13:42.190417",
     "status": "completed"
    },
    "tags": []
   },
   "outputs": [
    {
     "data": {
      "text/html": [
       "<div>\n",
       "<style scoped>\n",
       "    .dataframe tbody tr th:only-of-type {\n",
       "        vertical-align: middle;\n",
       "    }\n",
       "\n",
       "    .dataframe tbody tr th {\n",
       "        vertical-align: top;\n",
       "    }\n",
       "\n",
       "    .dataframe thead th {\n",
       "        text-align: right;\n",
       "    }\n",
       "</style>\n",
       "<table border=\"1\" class=\"dataframe\">\n",
       "  <thead>\n",
       "    <tr style=\"text-align: right;\">\n",
       "      <th></th>\n",
       "      <th>Opposition</th>\n",
       "      <th>Matches Played</th>\n",
       "      <th>Matches Won</th>\n",
       "      <th>Inside 50s</th>\n",
       "      <th>Goals</th>\n",
       "      <th>Behinds</th>\n",
       "      <th>Total Score</th>\n",
       "      <th>Conversion Percentage</th>\n",
       "      <th>Matches Lost</th>\n",
       "      <th>Inside 50s Conceded</th>\n",
       "      <th>Goals Conceded</th>\n",
       "      <th>Behinds Conceded</th>\n",
       "      <th>Total Score Against</th>\n",
       "      <th>Conversion Percentage Against</th>\n",
       "    </tr>\n",
       "  </thead>\n",
       "  <tbody>\n",
       "    <tr>\n",
       "      <th>0</th>\n",
       "      <td>ADL</td>\n",
       "      <td>13</td>\n",
       "      <td>6</td>\n",
       "      <td>601</td>\n",
       "      <td>128</td>\n",
       "      <td>90</td>\n",
       "      <td>858</td>\n",
       "      <td>0.363</td>\n",
       "      <td>7</td>\n",
       "      <td>679</td>\n",
       "      <td>150</td>\n",
       "      <td>134</td>\n",
       "      <td>1034</td>\n",
       "      <td>0.418</td>\n",
       "    </tr>\n",
       "    <tr>\n",
       "      <th>1</th>\n",
       "      <td>BRS</td>\n",
       "      <td>10</td>\n",
       "      <td>7</td>\n",
       "      <td>522</td>\n",
       "      <td>124</td>\n",
       "      <td>95</td>\n",
       "      <td>839</td>\n",
       "      <td>0.420</td>\n",
       "      <td>3</td>\n",
       "      <td>398</td>\n",
       "      <td>94</td>\n",
       "      <td>68</td>\n",
       "      <td>632</td>\n",
       "      <td>0.407</td>\n",
       "    </tr>\n",
       "    <tr>\n",
       "      <th>2</th>\n",
       "      <td>CAR</td>\n",
       "      <td>10</td>\n",
       "      <td>6</td>\n",
       "      <td>506</td>\n",
       "      <td>117</td>\n",
       "      <td>90</td>\n",
       "      <td>792</td>\n",
       "      <td>0.409</td>\n",
       "      <td>4</td>\n",
       "      <td>435</td>\n",
       "      <td>90</td>\n",
       "      <td>82</td>\n",
       "      <td>622</td>\n",
       "      <td>0.395</td>\n",
       "    </tr>\n",
       "    <tr>\n",
       "      <th>3</th>\n",
       "      <td>COL</td>\n",
       "      <td>10</td>\n",
       "      <td>5</td>\n",
       "      <td>441</td>\n",
       "      <td>115</td>\n",
       "      <td>78</td>\n",
       "      <td>768</td>\n",
       "      <td>0.438</td>\n",
       "      <td>5</td>\n",
       "      <td>527</td>\n",
       "      <td>118</td>\n",
       "      <td>85</td>\n",
       "      <td>793</td>\n",
       "      <td>0.385</td>\n",
       "    </tr>\n",
       "    <tr>\n",
       "      <th>4</th>\n",
       "      <td>ESS</td>\n",
       "      <td>12</td>\n",
       "      <td>5</td>\n",
       "      <td>594</td>\n",
       "      <td>153</td>\n",
       "      <td>87</td>\n",
       "      <td>1005</td>\n",
       "      <td>0.404</td>\n",
       "      <td>7</td>\n",
       "      <td>563</td>\n",
       "      <td>133</td>\n",
       "      <td>106</td>\n",
       "      <td>904</td>\n",
       "      <td>0.425</td>\n",
       "    </tr>\n",
       "    <tr>\n",
       "      <th>5</th>\n",
       "      <td>GCS</td>\n",
       "      <td>10</td>\n",
       "      <td>6</td>\n",
       "      <td>499</td>\n",
       "      <td>114</td>\n",
       "      <td>97</td>\n",
       "      <td>781</td>\n",
       "      <td>0.423</td>\n",
       "      <td>4</td>\n",
       "      <td>483</td>\n",
       "      <td>105</td>\n",
       "      <td>71</td>\n",
       "      <td>701</td>\n",
       "      <td>0.364</td>\n",
       "    </tr>\n",
       "    <tr>\n",
       "      <th>6</th>\n",
       "      <td>GEE</td>\n",
       "      <td>13</td>\n",
       "      <td>6</td>\n",
       "      <td>581</td>\n",
       "      <td>137</td>\n",
       "      <td>100</td>\n",
       "      <td>922</td>\n",
       "      <td>0.408</td>\n",
       "      <td>7</td>\n",
       "      <td>664</td>\n",
       "      <td>154</td>\n",
       "      <td>120</td>\n",
       "      <td>1044</td>\n",
       "      <td>0.413</td>\n",
       "    </tr>\n",
       "    <tr>\n",
       "      <th>7</th>\n",
       "      <td>GWS</td>\n",
       "      <td>10</td>\n",
       "      <td>5</td>\n",
       "      <td>504</td>\n",
       "      <td>135</td>\n",
       "      <td>91</td>\n",
       "      <td>901</td>\n",
       "      <td>0.448</td>\n",
       "      <td>5</td>\n",
       "      <td>427</td>\n",
       "      <td>111</td>\n",
       "      <td>93</td>\n",
       "      <td>759</td>\n",
       "      <td>0.478</td>\n",
       "    </tr>\n",
       "    <tr>\n",
       "      <th>8</th>\n",
       "      <td>HTN</td>\n",
       "      <td>12</td>\n",
       "      <td>2</td>\n",
       "      <td>511</td>\n",
       "      <td>112</td>\n",
       "      <td>82</td>\n",
       "      <td>754</td>\n",
       "      <td>0.380</td>\n",
       "      <td>10</td>\n",
       "      <td>601</td>\n",
       "      <td>177</td>\n",
       "      <td>104</td>\n",
       "      <td>1166</td>\n",
       "      <td>0.468</td>\n",
       "    </tr>\n",
       "    <tr>\n",
       "      <th>9</th>\n",
       "      <td>MLB</td>\n",
       "      <td>12</td>\n",
       "      <td>9</td>\n",
       "      <td>620</td>\n",
       "      <td>169</td>\n",
       "      <td>89</td>\n",
       "      <td>1103</td>\n",
       "      <td>0.416</td>\n",
       "      <td>3</td>\n",
       "      <td>551</td>\n",
       "      <td>103</td>\n",
       "      <td>111</td>\n",
       "      <td>729</td>\n",
       "      <td>0.388</td>\n",
       "    </tr>\n",
       "    <tr>\n",
       "      <th>10</th>\n",
       "      <td>NML</td>\n",
       "      <td>11</td>\n",
       "      <td>7</td>\n",
       "      <td>569</td>\n",
       "      <td>147</td>\n",
       "      <td>94</td>\n",
       "      <td>976</td>\n",
       "      <td>0.424</td>\n",
       "      <td>4</td>\n",
       "      <td>504</td>\n",
       "      <td>112</td>\n",
       "      <td>73</td>\n",
       "      <td>745</td>\n",
       "      <td>0.367</td>\n",
       "    </tr>\n",
       "    <tr>\n",
       "      <th>11</th>\n",
       "      <td>PDL</td>\n",
       "      <td>15</td>\n",
       "      <td>8</td>\n",
       "      <td>679</td>\n",
       "      <td>169</td>\n",
       "      <td>123</td>\n",
       "      <td>1137</td>\n",
       "      <td>0.430</td>\n",
       "      <td>7</td>\n",
       "      <td>771</td>\n",
       "      <td>183</td>\n",
       "      <td>144</td>\n",
       "      <td>1242</td>\n",
       "      <td>0.424</td>\n",
       "    </tr>\n",
       "    <tr>\n",
       "      <th>12</th>\n",
       "      <td>RCH</td>\n",
       "      <td>13</td>\n",
       "      <td>6</td>\n",
       "      <td>575</td>\n",
       "      <td>126</td>\n",
       "      <td>105</td>\n",
       "      <td>861</td>\n",
       "      <td>0.402</td>\n",
       "      <td>7</td>\n",
       "      <td>637</td>\n",
       "      <td>167</td>\n",
       "      <td>109</td>\n",
       "      <td>1111</td>\n",
       "      <td>0.433</td>\n",
       "    </tr>\n",
       "    <tr>\n",
       "      <th>13</th>\n",
       "      <td>STK</td>\n",
       "      <td>11</td>\n",
       "      <td>6</td>\n",
       "      <td>518</td>\n",
       "      <td>127</td>\n",
       "      <td>62</td>\n",
       "      <td>824</td>\n",
       "      <td>0.365</td>\n",
       "      <td>5</td>\n",
       "      <td>547</td>\n",
       "      <td>128</td>\n",
       "      <td>105</td>\n",
       "      <td>873</td>\n",
       "      <td>0.426</td>\n",
       "    </tr>\n",
       "    <tr>\n",
       "      <th>14</th>\n",
       "      <td>SYD</td>\n",
       "      <td>12</td>\n",
       "      <td>5</td>\n",
       "      <td>569</td>\n",
       "      <td>110</td>\n",
       "      <td>85</td>\n",
       "      <td>745</td>\n",
       "      <td>0.343</td>\n",
       "      <td>6</td>\n",
       "      <td>615</td>\n",
       "      <td>146</td>\n",
       "      <td>107</td>\n",
       "      <td>983</td>\n",
       "      <td>0.411</td>\n",
       "    </tr>\n",
       "    <tr>\n",
       "      <th>15</th>\n",
       "      <td>WBL</td>\n",
       "      <td>11</td>\n",
       "      <td>8</td>\n",
       "      <td>523</td>\n",
       "      <td>130</td>\n",
       "      <td>97</td>\n",
       "      <td>877</td>\n",
       "      <td>0.434</td>\n",
       "      <td>3</td>\n",
       "      <td>546</td>\n",
       "      <td>114</td>\n",
       "      <td>104</td>\n",
       "      <td>788</td>\n",
       "      <td>0.399</td>\n",
       "    </tr>\n",
       "    <tr>\n",
       "      <th>16</th>\n",
       "      <td>WCE</td>\n",
       "      <td>17</td>\n",
       "      <td>6</td>\n",
       "      <td>797</td>\n",
       "      <td>179</td>\n",
       "      <td>141</td>\n",
       "      <td>1215</td>\n",
       "      <td>0.402</td>\n",
       "      <td>11</td>\n",
       "      <td>826</td>\n",
       "      <td>215</td>\n",
       "      <td>162</td>\n",
       "      <td>1452</td>\n",
       "      <td>0.456</td>\n",
       "    </tr>\n",
       "  </tbody>\n",
       "</table>\n",
       "</div>"
      ],
      "text/plain": [
       "   Opposition  Matches Played  Matches Won  Inside 50s  Goals  Behinds  \\\n",
       "0         ADL              13            6         601    128       90   \n",
       "1         BRS              10            7         522    124       95   \n",
       "2         CAR              10            6         506    117       90   \n",
       "3         COL              10            5         441    115       78   \n",
       "4         ESS              12            5         594    153       87   \n",
       "5         GCS              10            6         499    114       97   \n",
       "6         GEE              13            6         581    137      100   \n",
       "7         GWS              10            5         504    135       91   \n",
       "8         HTN              12            2         511    112       82   \n",
       "9         MLB              12            9         620    169       89   \n",
       "10        NML              11            7         569    147       94   \n",
       "11        PDL              15            8         679    169      123   \n",
       "12        RCH              13            6         575    126      105   \n",
       "13        STK              11            6         518    127       62   \n",
       "14        SYD              12            5         569    110       85   \n",
       "15        WBL              11            8         523    130       97   \n",
       "16        WCE              17            6         797    179      141   \n",
       "\n",
       "    Total Score  Conversion Percentage  Matches Lost  Inside 50s Conceded  \\\n",
       "0           858                  0.363             7                  679   \n",
       "1           839                  0.420             3                  398   \n",
       "2           792                  0.409             4                  435   \n",
       "3           768                  0.438             5                  527   \n",
       "4          1005                  0.404             7                  563   \n",
       "5           781                  0.423             4                  483   \n",
       "6           922                  0.408             7                  664   \n",
       "7           901                  0.448             5                  427   \n",
       "8           754                  0.380            10                  601   \n",
       "9          1103                  0.416             3                  551   \n",
       "10          976                  0.424             4                  504   \n",
       "11         1137                  0.430             7                  771   \n",
       "12          861                  0.402             7                  637   \n",
       "13          824                  0.365             5                  547   \n",
       "14          745                  0.343             6                  615   \n",
       "15          877                  0.434             3                  546   \n",
       "16         1215                  0.402            11                  826   \n",
       "\n",
       "    Goals Conceded  Behinds Conceded  Total Score Against  \\\n",
       "0              150               134                 1034   \n",
       "1               94                68                  632   \n",
       "2               90                82                  622   \n",
       "3              118                85                  793   \n",
       "4              133               106                  904   \n",
       "5              105                71                  701   \n",
       "6              154               120                 1044   \n",
       "7              111                93                  759   \n",
       "8              177               104                 1166   \n",
       "9              103               111                  729   \n",
       "10             112                73                  745   \n",
       "11             183               144                 1242   \n",
       "12             167               109                 1111   \n",
       "13             128               105                  873   \n",
       "14             146               107                  983   \n",
       "15             114               104                  788   \n",
       "16             215               162                 1452   \n",
       "\n",
       "    Conversion Percentage Against  \n",
       "0                           0.418  \n",
       "1                           0.407  \n",
       "2                           0.395  \n",
       "3                           0.385  \n",
       "4                           0.425  \n",
       "5                           0.364  \n",
       "6                           0.413  \n",
       "7                           0.478  \n",
       "8                           0.468  \n",
       "9                           0.388  \n",
       "10                          0.367  \n",
       "11                          0.424  \n",
       "12                          0.433  \n",
       "13                          0.426  \n",
       "14                          0.411  \n",
       "15                          0.399  \n",
       "16                          0.456  "
      ]
     },
     "execution_count": 93,
     "metadata": {},
     "output_type": "execute_result"
    }
   ],
   "source": [
    "FRM_fullstats"
   ]
  },
  {
   "cell_type": "markdown",
   "id": "53154555",
   "metadata": {
    "papermill": {
     "duration": 0.144242,
     "end_time": "2022-02-04T10:13:42.648513",
     "exception": false,
     "start_time": "2022-02-04T10:13:42.504271",
     "status": "completed"
    },
    "tags": []
   },
   "source": [
    "Above we have a dataframe detailing the performance by Fremantle when facing its AFL opponents. The table is divised so that columns with 'conceded' or 'against' in their name indicate that how that AFL team has performed against Fremantle. All others indicate Fremantle's performance against that specific oppenent. \n",
    "\n",
    "Lets take a look at how many of the chances created against Fremantle each team has converted into points. "
   ]
  },
  {
   "cell_type": "code",
   "execution_count": 94,
   "id": "83d9367b",
   "metadata": {
    "execution": {
     "iopub.execute_input": "2022-02-04T10:13:42.947158Z",
     "iopub.status.busy": "2022-02-04T10:13:42.946125Z",
     "iopub.status.idle": "2022-02-04T10:13:43.369217Z",
     "shell.execute_reply": "2022-02-04T10:13:43.368645Z",
     "shell.execute_reply.started": "2022-02-04T10:05:09.431691Z"
    },
    "papermill": {
     "duration": 0.572744,
     "end_time": "2022-02-04T10:13:43.369372",
     "exception": false,
     "start_time": "2022-02-04T10:13:42.796628",
     "status": "completed"
    },
    "tags": []
   },
   "outputs": [
    {
     "data": {
      "image/png": "[encoded data removed]",
      "text/plain": [
       "<Figure size 1296x432 with 1 Axes>"
      ]
     },
     "metadata": {
      "needs_background": "light"
     },
     "output_type": "display_data"
    }
   ],
   "source": [
    "plt.figure(figsize=(18,6))\n",
    "\n",
    "conv_perc_ag = sns.barplot(x=FRM_fullstats['Opposition'].unique(), \n",
    "                           y=FRM_fullstats.groupby('Opposition')['Conversion Percentage Against'].sum()*100, \n",
    "                           palette = {'ADL': '#002b5c', \n",
    "                                'PDL' : '#008aab', \n",
    "                                'CAR' : '#031a29', \n",
    "                                'COL' : '#000000', \n",
    "                                'RCH' : '#ffd200',\n",
    "                                'BRS' : '#fdbe57', \n",
    "                                'WBL' : '#1a529e',\n",
    "                                'GCS' : '#ee3728', \n",
    "                                'MLB' : '#0f1131',\n",
    "                                'GEE' : '#002b5c', \n",
    "                                'HTN' : '#4d2004', \n",
    "                                'SYD' : '#ed171f', \n",
    "                                'STK' : '#ed0f05',\n",
    "                                'GWS' : '#f47920', \n",
    "                                'NML' : '#1a3b8e', \n",
    "                                'ESS' : '#bdbec0',\n",
    "                                'WCE' : '#f2a900',})\n",
    "\n",
    "for p in conv_perc_ag.patches:\n",
    "             conv_perc_ag.annotate(\"%.1f\" % p.get_height(), (p.get_x() + p.get_width() / 2., p.get_height()),\n",
    "                 ha='center', va='center', fontsize=12, color='black', xytext=(0,5),\n",
    "                 textcoords='offset points')\n",
    "        \n",
    "plt.title('AFL Opposition Overall Conversion Against Fremantle', fontsize=18)\n",
    "#plt.legend(handles=[g, b], loc = 'center left', bbox_to_anchor = (1.0, 0.5), fontsize=12)\n",
    "plt.xlabel(xlabel='Opposition', fontsize=14)\n",
    "plt.xticks(fontsize=12)\n",
    "plt.ylabel(ylabel='Chances Converted (%)', fontsize=14)\n",
    "plt.yticks(fontsize=12)\n",
    "plt.show()"
   ]
  },
  {
   "cell_type": "markdown",
   "id": "25790864",
   "metadata": {
    "papermill": {
     "duration": 0.14495,
     "end_time": "2022-02-04T10:13:43.658193",
     "exception": false,
     "start_time": "2022-02-04T10:13:43.513243",
     "status": "completed"
    },
    "tags": []
   },
   "source": [
    "Interestingly, the team which has converted entry into the 50m arc into points, whether that be a goal or a behind, most effecitently is GWS (Greater Western Sydney) with almost 50% of Inside 50s resulting into points on the board. \n",
    "\n",
    "I say this is interesting as, from FRM_fullstats, we can see that Fremantle have conceded only 427 inside 50s against GWS, their second lowest total. This is completely different compared to the case of HTN and WCE as they hold a conversion percentage of 46.8% and 45.6% respectively, having each penetrated Fremantle's 50m arc a total of 601 and 826 times. \n",
    "\n",
    "In the case of GWS, it might be that they are more prolific against Fremantle compared to other teams. If we were to analyse the amount of goals and behinds scored given the amount of times they have an entered a different opponent's 50m arc, it is possible we might find a significantly lower conversion percentage. GWS seem to be a team, against Fremantle that is, that does not make many mistakes to improve the scoreboard when given the opportunity. HTN and WCE appear to make it inside Fremantle's 50m arc a lot more often but have been slightly less efficient at making those opportunities count. "
   ]
  },
  {
   "cell_type": "markdown",
   "id": "4a362e3f",
   "metadata": {
    "papermill": {
     "duration": 0.143205,
     "end_time": "2022-02-04T10:13:43.946921",
     "exception": false,
     "start_time": "2022-02-04T10:13:43.803716",
     "status": "completed"
    },
    "tags": []
   },
   "source": [
    "**FREMANTLE SCORE MARGIN**"
   ]
  },
  {
   "cell_type": "markdown",
   "id": "58fe45da",
   "metadata": {
    "papermill": {
     "duration": 0.144512,
     "end_time": "2022-02-04T10:13:44.237474",
     "exception": false,
     "start_time": "2022-02-04T10:13:44.092962",
     "status": "completed"
    },
    "tags": []
   },
   "source": [
    "After 9 seasons, what teams has Fremantle managed to outscore? "
   ]
  },
  {
   "cell_type": "code",
   "execution_count": 95,
   "id": "8b43935d",
   "metadata": {
    "execution": {
     "iopub.execute_input": "2022-02-04T10:13:44.540463Z",
     "iopub.status.busy": "2022-02-04T10:13:44.534325Z",
     "iopub.status.idle": "2022-02-04T10:13:44.974575Z",
     "shell.execute_reply": "2022-02-04T10:13:44.973693Z",
     "shell.execute_reply.started": "2022-02-04T10:05:09.859839Z"
    },
    "papermill": {
     "duration": 0.592644,
     "end_time": "2022-02-04T10:13:44.974745",
     "exception": false,
     "start_time": "2022-02-04T10:13:44.382101",
     "status": "completed"
    },
    "tags": []
   },
   "outputs": [
    {
     "data": {
      "image/png": "[encoded data removed]",
      "text/plain": [
       "<Figure size 1296x432 with 1 Axes>"
      ]
     },
     "metadata": {
      "needs_background": "light"
     },
     "output_type": "display_data"
    }
   ],
   "source": [
    "plt.figure(figsize=(18,6))\n",
    "\n",
    "chart = sns.barplot(data = FRM_fullstats, x = 'Opposition', \n",
    "           y = ((FRM_fullstats['Total Score'])-(FRM_fullstats['Total Score Against'])), \n",
    "           palette = 'tab20_r')\n",
    "\n",
    "for p in chart.patches:\n",
    "             chart.annotate(\"%.0f\" % p.get_height(), (p.get_x() + p.get_width() / 2., p.get_height()),\n",
    "                 ha='center', va='center', fontsize=12, color='black', xytext=(0,5),\n",
    "                 textcoords='offset points')\n",
    "\n",
    "plt.title('Fremantle Overall Score Margin', fontsize=18)\n",
    "plt.ylabel(ylabel='Score Margin', fontsize=14)\n",
    "plt.yticks(fontsize=12)\n",
    "plt.xlabel(xlabel='Opposition', fontsize=14)\n",
    "plt.xticks(fontsize=12)\n",
    "plt.show()"
   ]
  },
  {
   "cell_type": "markdown",
   "id": "9d359a9a",
   "metadata": {
    "papermill": {
     "duration": 0.150312,
     "end_time": "2022-02-04T10:13:45.271740",
     "exception": false,
     "start_time": "2022-02-04T10:13:45.121428",
     "status": "completed"
    },
    "tags": []
   },
   "source": [
    "Over a time period spanning 9 seasons, Fremantle has accumulated a positive score margin against 8 teams. Their best result sees them outscoring MLB by a total of 374 points by the end of the the 2020 seson. After the same timespan, however, Fremantle are left trailing HTN (Hawthorn) by a total of 412 points. Moreover, they end the 2020 season having a negative score margin against a total of 9 teams. \n",
    "\n",
    "It is important to note that a negative overall score margin doesn't necessarily mean that Fremantle hold a negative record (more losses than wins) against that specific opposition. A prime example of this is STK. As shown, Fremantle have an overall score margin of -49, indicating that they have conceded more points against STK than they have managed to score. However, using FRM_fullstats, we can see that out of the total matches played between the two teams, Fremantle have accumulated more wins (6 compared to STK's 5). The same is true for the matches played against PDL. Fremantle have an overall score margin of -105 but have won 8 times out of the 15 they have faced PDL. \n",
    "\n",
    "Of course, the same logic can be applied in the opposite sense. That is to say that a positive score margin does not always indicate a positive (more wins than losses) overall record against a specific opposition. For example, we see that Fremantle have a total score margin of 101 against ESS (Essendon). Nevertheless, when looking at the results of the matches played, we find that Fremantle, although outscoring their opponents from  northern Melbourne overall, have lost 2 more times than they have won; leaving them with a record of 5W-7L.   \n",
    "\n",
    "These exeptions are obviously harder to find once the score margin grows too large in either direction. It is very difficult to hold a positive record against a team that has outscored you by a total of 412 points. It would mean losing a few games by quite literally an extraordinary amount of points, probably in the 100s, and winning others by a very small margin. Likewise, it is very unlikely to hold a negative record against a team that has been outscored by 374 points. Such a scenario implies losing by very fine margins most of the time and winning a few games by a considerably large margins. \n",
    "\n",
    "Taking from Fremantle's overall score margin against HTN and MLB, we see that they have been outscored by HTN by 412 points and hold an overall record of 2W-10L whereas they have outscored MLB by 374 points and hold an overall record of 9W-3L. "
   ]
  },
  {
   "cell_type": "markdown",
   "id": "dbdd9543",
   "metadata": {
    "papermill": {
     "duration": 0.14462,
     "end_time": "2022-02-04T10:13:45.561712",
     "exception": false,
     "start_time": "2022-02-04T10:13:45.417092",
     "status": "completed"
    },
    "tags": []
   },
   "source": [
    "**MATCH BY MATCH MARGIN**"
   ]
  },
  {
   "cell_type": "markdown",
   "id": "553d9751",
   "metadata": {
    "papermill": {
     "duration": 0.145266,
     "end_time": "2022-02-04T10:13:45.855328",
     "exception": false,
     "start_time": "2022-02-04T10:13:45.710062",
     "status": "completed"
    },
    "tags": []
   },
   "source": [
    "Lets take a closer look at Fremantle's score margin. We can do this by taking the data on a match by match basis rather than looking at the final, overall picture. To do so, we can use the 'Margin' column directly provided in the data. However, to make things easier when plotting, we need to manipulate the 'Date of Game' column."
   ]
  },
  {
   "cell_type": "code",
   "execution_count": 96,
   "id": "e457740f",
   "metadata": {
    "execution": {
     "iopub.execute_input": "2022-02-04T10:13:46.148704Z",
     "iopub.status.busy": "2022-02-04T10:13:46.147696Z",
     "iopub.status.idle": "2022-02-04T10:13:46.154396Z",
     "shell.execute_reply": "2022-02-04T10:13:46.153455Z",
     "shell.execute_reply.started": "2022-02-04T10:05:10.300128Z"
    },
    "papermill": {
     "duration": 0.154407,
     "end_time": "2022-02-04T10:13:46.154587",
     "exception": false,
     "start_time": "2022-02-04T10:13:46.000180",
     "status": "completed"
    },
    "tags": []
   },
   "outputs": [
    {
     "data": {
      "text/plain": [
       "dtype('<M8[ns]')"
      ]
     },
     "execution_count": 96,
     "metadata": {},
     "output_type": "execute_result"
    }
   ],
   "source": [
    "#Check what type of data 'Date of Game' holds\n",
    "df_FRM['Date of Game'].dtype"
   ]
  },
  {
   "cell_type": "code",
   "execution_count": 97,
   "id": "d514027a",
   "metadata": {
    "execution": {
     "iopub.execute_input": "2022-02-04T10:13:46.458445Z",
     "iopub.status.busy": "2022-02-04T10:13:46.457695Z",
     "iopub.status.idle": "2022-02-04T10:13:46.468902Z",
     "shell.execute_reply": "2022-02-04T10:13:46.468205Z",
     "shell.execute_reply.started": "2022-02-04T10:05:10.308126Z"
    },
    "papermill": {
     "duration": 0.166228,
     "end_time": "2022-02-04T10:13:46.469066",
     "exception": false,
     "start_time": "2022-02-04T10:13:46.302838",
     "status": "completed"
    },
    "tags": []
   },
   "outputs": [
    {
     "data": {
      "text/plain": [
       "array(['14-Mar', '29-Mar', '04-Apr', '13-Apr', '19-Apr', '25-Apr',\n",
       "       '04-May', '10-May', '17-May', '01-Jun', '08-Jun', '14-Jun',\n",
       "       '21-Jun', '28-Jun', '05-Jul', '13-Jul', '19-Jul', '31-Jul',\n",
       "       '09-Aug', '17-Aug', '24-Aug', '30-Aug', '06-Sep', '13-Sep'],\n",
       "      dtype=object)"
      ]
     },
     "execution_count": 97,
     "metadata": {},
     "output_type": "execute_result"
    }
   ],
   "source": [
    "#Only want month and day value so to stack data when plotting season by season\n",
    "df_FRM[df_FRM['Year']==2014].sort_values('Date of Game')['Date of Game'].dt.strftime('%d-%b').unique()"
   ]
  },
  {
   "cell_type": "code",
   "execution_count": 98,
   "id": "f0926be9",
   "metadata": {
    "execution": {
     "iopub.execute_input": "2022-02-04T10:13:46.766172Z",
     "iopub.status.busy": "2022-02-04T10:13:46.765165Z",
     "iopub.status.idle": "2022-02-04T10:13:46.776691Z",
     "shell.execute_reply": "2022-02-04T10:13:46.777234Z",
     "shell.execute_reply.started": "2022-02-04T10:05:10.330004Z"
    },
    "papermill": {
     "duration": 0.16087,
     "end_time": "2022-02-04T10:13:46.777406",
     "exception": false,
     "start_time": "2022-02-04T10:13:46.616536",
     "status": "completed"
    },
    "tags": []
   },
   "outputs": [],
   "source": [
    "#Create new dataframe grouping by 'Year' and 'Day and Month of Game' \n",
    "#Find sum of margin for each subgroup\n",
    "agg_FRM = df_FRM.groupby(['Year','Date of Game'], as_index=False).agg({'Margin':'sum'})"
   ]
  },
  {
   "cell_type": "code",
   "execution_count": 99,
   "id": "2e061d9c",
   "metadata": {
    "execution": {
     "iopub.execute_input": "2022-02-04T10:13:47.077424Z",
     "iopub.status.busy": "2022-02-04T10:13:47.076725Z",
     "iopub.status.idle": "2022-02-04T10:13:47.080010Z",
     "shell.execute_reply": "2022-02-04T10:13:47.079358Z",
     "shell.execute_reply.started": "2022-02-04T10:05:10.341157Z"
    },
    "papermill": {
     "duration": 0.155107,
     "end_time": "2022-02-04T10:13:47.080150",
     "exception": false,
     "start_time": "2022-02-04T10:13:46.925043",
     "status": "completed"
    },
    "tags": []
   },
   "outputs": [],
   "source": [
    "#Divide margin by 22 as each match has 22 FRM players\n",
    "agg_FRM['Margin'] = agg_FRM['Margin'].div(22)"
   ]
  },
  {
   "cell_type": "code",
   "execution_count": 100,
   "id": "562b9882",
   "metadata": {
    "execution": {
     "iopub.execute_input": "2022-02-04T10:13:47.379972Z",
     "iopub.status.busy": "2022-02-04T10:13:47.378930Z",
     "iopub.status.idle": "2022-02-04T10:13:47.380998Z",
     "shell.execute_reply": "2022-02-04T10:13:47.381536Z",
     "shell.execute_reply.started": "2022-02-04T10:05:10.350175Z"
    },
    "papermill": {
     "duration": 0.156369,
     "end_time": "2022-02-04T10:13:47.381701",
     "exception": false,
     "start_time": "2022-02-04T10:13:47.225332",
     "status": "completed"
    },
    "tags": []
   },
   "outputs": [],
   "source": [
    "#Replace year with 2000 in order to standardise data\n",
    "agg_FRM['Standard-Date'] = agg_FRM['Date of Game'].apply(lambda x: x.replace(2000))"
   ]
  },
  {
   "cell_type": "code",
   "execution_count": 101,
   "id": "bc98bd82",
   "metadata": {
    "execution": {
     "iopub.execute_input": "2022-02-04T10:13:47.690549Z",
     "iopub.status.busy": "2022-02-04T10:13:47.677018Z",
     "iopub.status.idle": "2022-02-04T10:13:47.694689Z",
     "shell.execute_reply": "2022-02-04T10:13:47.693948Z",
     "shell.execute_reply.started": "2022-02-04T10:05:10.366219Z"
    },
    "papermill": {
     "duration": 0.166427,
     "end_time": "2022-02-04T10:13:47.694849",
     "exception": false,
     "start_time": "2022-02-04T10:13:47.528422",
     "status": "completed"
    },
    "tags": []
   },
   "outputs": [
    {
     "data": {
      "text/html": [
       "<div>\n",
       "<style scoped>\n",
       "    .dataframe tbody tr th:only-of-type {\n",
       "        vertical-align: middle;\n",
       "    }\n",
       "\n",
       "    .dataframe tbody tr th {\n",
       "        vertical-align: top;\n",
       "    }\n",
       "\n",
       "    .dataframe thead th {\n",
       "        text-align: right;\n",
       "    }\n",
       "</style>\n",
       "<table border=\"1\" class=\"dataframe\">\n",
       "  <thead>\n",
       "    <tr style=\"text-align: right;\">\n",
       "      <th></th>\n",
       "      <th>Year</th>\n",
       "      <th>Date of Game</th>\n",
       "      <th>Margin</th>\n",
       "      <th>Standard-Date</th>\n",
       "    </tr>\n",
       "  </thead>\n",
       "  <tbody>\n",
       "    <tr>\n",
       "      <th>0</th>\n",
       "      <td>2012</td>\n",
       "      <td>2012-03-31</td>\n",
       "      <td>4.0</td>\n",
       "      <td>2000-03-31</td>\n",
       "    </tr>\n",
       "    <tr>\n",
       "      <th>1</th>\n",
       "      <td>2012</td>\n",
       "      <td>2012-04-07</td>\n",
       "      <td>-13.0</td>\n",
       "      <td>2000-04-07</td>\n",
       "    </tr>\n",
       "    <tr>\n",
       "      <th>2</th>\n",
       "      <td>2012</td>\n",
       "      <td>2012-04-14</td>\n",
       "      <td>29.0</td>\n",
       "      <td>2000-04-14</td>\n",
       "    </tr>\n",
       "    <tr>\n",
       "      <th>3</th>\n",
       "      <td>2012</td>\n",
       "      <td>2012-04-20</td>\n",
       "      <td>13.0</td>\n",
       "      <td>2000-04-20</td>\n",
       "    </tr>\n",
       "    <tr>\n",
       "      <th>4</th>\n",
       "      <td>2012</td>\n",
       "      <td>2012-04-27</td>\n",
       "      <td>-8.0</td>\n",
       "      <td>2000-04-27</td>\n",
       "    </tr>\n",
       "    <tr>\n",
       "      <th>...</th>\n",
       "      <td>...</td>\n",
       "      <td>...</td>\n",
       "      <td>...</td>\n",
       "      <td>...</td>\n",
       "    </tr>\n",
       "    <tr>\n",
       "      <th>197</th>\n",
       "      <td>2020</td>\n",
       "      <td>2020-08-29</td>\n",
       "      <td>-38.0</td>\n",
       "      <td>2000-08-29</td>\n",
       "    </tr>\n",
       "    <tr>\n",
       "      <th>198</th>\n",
       "      <td>2020</td>\n",
       "      <td>2020-09-02</td>\n",
       "      <td>-27.0</td>\n",
       "      <td>2000-09-02</td>\n",
       "    </tr>\n",
       "    <tr>\n",
       "      <th>199</th>\n",
       "      <td>2020</td>\n",
       "      <td>2020-09-07</td>\n",
       "      <td>14.0</td>\n",
       "      <td>2000-09-07</td>\n",
       "    </tr>\n",
       "    <tr>\n",
       "      <th>200</th>\n",
       "      <td>2020</td>\n",
       "      <td>2020-09-12</td>\n",
       "      <td>64.0</td>\n",
       "      <td>2000-09-12</td>\n",
       "    </tr>\n",
       "    <tr>\n",
       "      <th>201</th>\n",
       "      <td>2020</td>\n",
       "      <td>2020-09-20</td>\n",
       "      <td>-30.0</td>\n",
       "      <td>2000-09-20</td>\n",
       "    </tr>\n",
       "  </tbody>\n",
       "</table>\n",
       "<p>202 rows × 4 columns</p>\n",
       "</div>"
      ],
      "text/plain": [
       "     Year Date of Game  Margin Standard-Date\n",
       "0    2012   2012-03-31     4.0    2000-03-31\n",
       "1    2012   2012-04-07   -13.0    2000-04-07\n",
       "2    2012   2012-04-14    29.0    2000-04-14\n",
       "3    2012   2012-04-20    13.0    2000-04-20\n",
       "4    2012   2012-04-27    -8.0    2000-04-27\n",
       "..    ...          ...     ...           ...\n",
       "197  2020   2020-08-29   -38.0    2000-08-29\n",
       "198  2020   2020-09-02   -27.0    2000-09-02\n",
       "199  2020   2020-09-07    14.0    2000-09-07\n",
       "200  2020   2020-09-12    64.0    2000-09-12\n",
       "201  2020   2020-09-20   -30.0    2000-09-20\n",
       "\n",
       "[202 rows x 4 columns]"
      ]
     },
     "execution_count": 101,
     "metadata": {},
     "output_type": "execute_result"
    }
   ],
   "source": [
    "#Check to see if new column is there and holds the data in the format we want \n",
    "agg_FRM"
   ]
  },
  {
   "cell_type": "code",
   "execution_count": 102,
   "id": "051aa232",
   "metadata": {
    "execution": {
     "iopub.execute_input": "2022-02-04T10:13:47.993891Z",
     "iopub.status.busy": "2022-02-04T10:13:47.993234Z",
     "iopub.status.idle": "2022-02-04T10:13:48.000931Z",
     "shell.execute_reply": "2022-02-04T10:13:48.001445Z",
     "shell.execute_reply.started": "2022-02-04T10:05:10.389858Z"
    },
    "papermill": {
     "duration": 0.158126,
     "end_time": "2022-02-04T10:13:48.001622",
     "exception": false,
     "start_time": "2022-02-04T10:13:47.843496",
     "status": "completed"
    },
    "tags": []
   },
   "outputs": [],
   "source": [
    "#create new column that holds day and month from value of 'Date of Game' as a string\n",
    "#For example, if date is '2012-03-31', we want to transform that to 31-Mar \n",
    "agg_FRM['date_string'] = agg_FRM['Date of Game'].dt.strftime('%d-%b')"
   ]
  },
  {
   "cell_type": "code",
   "execution_count": 103,
   "id": "b023dd3f",
   "metadata": {
    "execution": {
     "iopub.execute_input": "2022-02-04T10:13:48.300712Z",
     "iopub.status.busy": "2022-02-04T10:13:48.300094Z",
     "iopub.status.idle": "2022-02-04T10:13:48.392177Z",
     "shell.execute_reply": "2022-02-04T10:13:48.391413Z",
     "shell.execute_reply.started": "2022-02-04T10:05:10.398179Z"
    },
    "papermill": {
     "duration": 0.241856,
     "end_time": "2022-02-04T10:13:48.392340",
     "exception": false,
     "start_time": "2022-02-04T10:13:48.150484",
     "status": "completed"
    },
    "tags": []
   },
   "outputs": [
    {
     "data": {
      "image/svg+xml": [
       "<svg class=\"main-svg\" xmlns=\"http://www.w3.org/2000/svg\" xmlns:xlink=\"http://www.w3.org/1999/xlink\" width=\"700\" height=\"450\" style=\"\" viewBox=\"0 0 700 450\"><rect x=\"0\" y=\"0\" width=\"700\" height=\"450\" style=\"fill: rgb(255, 255, 255); fill-opacity: 1;\"/><defs id=\"defs-aa3be5\"><g class=\"clips\"><clipPath id=\"clipaa3be5xyplot\" class=\"plotclip\"><rect width=\"475\" height=\"270\"/></clipPath><clipPath class=\"axesclip\" id=\"clipaa3be5x\"><rect x=\"80\" y=\"0\" width=\"475\" height=\"450\"/></clipPath><clipPath class=\"axesclip\" id=\"clipaa3be5y\"><rect x=\"0\" y=\"100\" width=\"700\" height=\"270\"/></clipPath><clipPath class=\"axesclip\" id=\"clipaa3be5xy\"><rect x=\"80\" y=\"100\" width=\"475\" height=\"270\"/></clipPath></g><g class=\"gradients\"/></defs><g class=\"bglayer\"><rect class=\"bg\" x=\"80\" y=\"100\" width=\"475\" height=\"270\" style=\"fill: rgb(229, 236, 246); fill-opacity: 1; stroke-width: 0;\"/></g><g class=\"layer-below\"><g class=\"imagelayer\"/><g class=\"shapelayer\"/></g><g class=\"cartesianlayer\"><g class=\"subplot xy\"><g class=\"layer-subplot\"><g class=\"shapelayer\"/><g class=\"imagelayer\"/></g><g class=\"gridlayer\"><g class=\"x\"><path class=\"xgrid crisp\" transform=\"translate(145.68,0)\" d=\"M0,100v270\" style=\"stroke: rgb(255, 255, 255); stroke-opacity: 1; stroke-width: 1px;\"/><path class=\"xgrid crisp\" transform=\"translate(209.32,0)\" d=\"M0,100v270\" style=\"stroke: rgb(255, 255, 255); stroke-opacity: 1; stroke-width: 1px;\"/><path class=\"xgrid crisp\" transform=\"translate(275.08000000000004,0)\" d=\"M0,100v270\" style=\"stroke: rgb(255, 255, 255); stroke-opacity: 1; stroke-width: 1px;\"/><path class=\"xgrid crisp\" transform=\"translate(338.71,0)\" d=\"M0,100v270\" style=\"stroke: rgb(255, 255, 255); stroke-opacity: 1; stroke-width: 1px;\"/><path class=\"xgrid crisp\" transform=\"translate(404.47,0)\" d=\"M0,100v270\" style=\"stroke: rgb(255, 255, 255); stroke-opacity: 1; stroke-width: 1px;\"/><path class=\"xgrid crisp\" transform=\"translate(470.23,0)\" d=\"M0,100v270\" style=\"stroke: rgb(255, 255, 255); stroke-opacity: 1; stroke-width: 1px;\"/></g><g class=\"y\"><path class=\"ygrid crisp\" transform=\"translate(0,321.15999999999997)\" d=\"M80,0h475\" style=\"stroke: rgb(255, 255, 255); stroke-opacity: 1; stroke-width: 1px;\"/><path class=\"ygrid crisp\" transform=\"translate(0,273.28999999999996)\" d=\"M80,0h475\" style=\"stroke: rgb(255, 255, 255); stroke-opacity: 1; stroke-width: 1px;\"/><path class=\"ygrid crisp\" transform=\"translate(0,177.56)\" d=\"M80,0h475\" style=\"stroke: rgb(255, 255, 255); stroke-opacity: 1; stroke-width: 1px;\"/><path class=\"ygrid crisp\" transform=\"translate(0,129.7)\" d=\"M80,0h475\" style=\"stroke: rgb(255, 255, 255); stroke-opacity: 1; stroke-width: 1px;\"/></g></g><g class=\"zerolinelayer\"><path class=\"yzl zl crisp\" transform=\"translate(0,225.43)\" d=\"M80,0h475\" style=\"stroke: rgb(255, 255, 255); stroke-opacity: 1; stroke-width: 2px;\"/></g><path class=\"xlines-below\"/><path class=\"ylines-below\"/><g class=\"overlines-below\"/><g class=\"xaxislayer-below\"/><g class=\"yaxislayer-below\"/><g class=\"overaxes-below\"/><g class=\"plot\" transform=\"translate(80, 100)\" clip-path=\"url('#clipaa3be5xyplot')\"><g class=\"scatterlayer mlayer\"><g class=\"trace scatter trace5b7e75\" style=\"stroke-miterlimit: 2; opacity: 1;\"><g class=\"fills\"/><g class=\"errorbars\"/><g class=\"lines\"><path class=\"js-line\" d=\"M63.56,121.6L78.41,137.87L93.26,97.66L105.98,112.98L120.83,133.09L137.8,118.73L154.77,87.13L167.5,179.04L184.47,171.38L197.2,153.19L212.05,113.94L241.74,148.4L256.59,153.19L273.56,89.05L286.29,92.88L303.26,34.48L318.11,99.58L330.83,63.2L345.68,152.23L360.53,104.37L377.5,74.69L390.23,67.03L405.08,110.11L417.8,135\" style=\"vector-effect: non-scaling-stroke; fill: none; stroke: rgb(99, 110, 250); stroke-opacity: 1; stroke-width: 2px; opacity: 1;\"/></g><g class=\"points\"><path class=\"point\" transform=\"translate(63.56,121.6)\" d=\"M3,0A3,3 0 1,1 0,-3A3,3 0 0,1 3,0Z\" style=\"opacity: 1; stroke-width: 0px; fill: rgb(99, 110, 250); fill-opacity: 1;\"/><path class=\"point\" transform=\"translate(78.41,137.87)\" d=\"M3,0A3,3 0 1,1 0,-3A3,3 0 0,1 3,0Z\" style=\"opacity: 1; stroke-width: 0px; fill: rgb(99, 110, 250); fill-opacity: 1;\"/><path class=\"point\" transform=\"translate(93.26,97.66)\" d=\"M3,0A3,3 0 1,1 0,-3A3,3 0 0,1 3,0Z\" style=\"opacity: 1; stroke-width: 0px; fill: rgb(99, 110, 250); fill-opacity: 1;\"/><path class=\"point\" transform=\"translate(105.98,112.98)\" d=\"M3,0A3,3 0 1,1 0,-3A3,3 0 0,1 3,0Z\" style=\"opacity: 1; stroke-width: 0px; fill: rgb(99, 110, 250); fill-opacity: 1;\"/><path class=\"point\" transform=\"translate(120.83,133.09)\" d=\"M3,0A3,3 0 1,1 0,-3A3,3 0 0,1 3,0Z\" style=\"opacity: 1; stroke-width: 0px; fill: rgb(99, 110, 250); fill-opacity: 1;\"/><path class=\"point\" transform=\"translate(137.8,118.73)\" d=\"M3,0A3,3 0 1,1 0,-3A3,3 0 0,1 3,0Z\" style=\"opacity: 1; stroke-width: 0px; fill: rgb(99, 110, 250); fill-opacity: 1;\"/><path class=\"point\" transform=\"translate(154.77,87.13)\" d=\"M3,0A3,3 0 1,1 0,-3A3,3 0 0,1 3,0Z\" style=\"opacity: 1; stroke-width: 0px; fill: rgb(99, 110, 250); fill-opacity: 1;\"/><path class=\"point\" transform=\"translate(167.5,179.04)\" d=\"M3,0A3,3 0 1,1 0,-3A3,3 0 0,1 3,0Z\" style=\"opacity: 1; stroke-width: 0px; fill: rgb(99, 110, 250); fill-opacity: 1;\"/><path class=\"point\" transform=\"translate(184.47,171.38)\" d=\"M3,0A3,3 0 1,1 0,-3A3,3 0 0,1 3,0Z\" style=\"opacity: 1; stroke-width: 0px; fill: rgb(99, 110, 250); fill-opacity: 1;\"/><path class=\"point\" transform=\"translate(197.2,153.19)\" d=\"M3,0A3,3 0 1,1 0,-3A3,3 0 0,1 3,0Z\" style=\"opacity: 1; stroke-width: 0px; fill: rgb(99, 110, 250); fill-opacity: 1;\"/><path class=\"point\" transform=\"translate(212.05,113.94)\" d=\"M3,0A3,3 0 1,1 0,-3A3,3 0 0,1 3,0Z\" style=\"opacity: 1; stroke-width: 0px; fill: rgb(99, 110, 250); fill-opacity: 1;\"/><path class=\"point\" transform=\"translate(241.74,148.4)\" d=\"M3,0A3,3 0 1,1 0,-3A3,3 0 0,1 3,0Z\" style=\"opacity: 1; stroke-width: 0px; fill: rgb(99, 110, 250); fill-opacity: 1;\"/><path class=\"point\" transform=\"translate(256.59,153.19)\" d=\"M3,0A3,3 0 1,1 0,-3A3,3 0 0,1 3,0Z\" style=\"opacity: 1; stroke-width: 0px; fill: rgb(99, 110, 250); fill-opacity: 1;\"/><path class=\"point\" transform=\"translate(273.56,89.05)\" d=\"M3,0A3,3 0 1,1 0,-3A3,3 0 0,1 3,0Z\" style=\"opacity: 1; stroke-width: 0px; fill: rgb(99, 110, 250); fill-opacity: 1;\"/><path class=\"point\" transform=\"translate(286.29,92.88)\" d=\"M3,0A3,3 0 1,1 0,-3A3,3 0 0,1 3,0Z\" style=\"opacity: 1; stroke-width: 0px; fill: rgb(99, 110, 250); fill-opacity: 1;\"/><path class=\"point\" transform=\"translate(303.26,34.48)\" d=\"M3,0A3,3 0 1,1 0,-3A3,3 0 0,1 3,0Z\" style=\"opacity: 1; stroke-width: 0px; fill: rgb(99, 110, 250); fill-opacity: 1;\"/><path class=\"point\" transform=\"translate(318.11,99.58)\" d=\"M3,0A3,3 0 1,1 0,-3A3,3 0 0,1 3,0Z\" style=\"opacity: 1; stroke-width: 0px; fill: rgb(99, 110, 250); fill-opacity: 1;\"/><path class=\"point\" transform=\"translate(330.83,63.2)\" d=\"M3,0A3,3 0 1,1 0,-3A3,3 0 0,1 3,0Z\" style=\"opacity: 1; stroke-width: 0px; fill: rgb(99, 110, 250); fill-opacity: 1;\"/><path class=\"point\" transform=\"translate(345.68,152.23)\" d=\"M3,0A3,3 0 1,1 0,-3A3,3 0 0,1 3,0Z\" style=\"opacity: 1; stroke-width: 0px; fill: rgb(99, 110, 250); fill-opacity: 1;\"/><path class=\"point\" transform=\"translate(360.53,104.37)\" d=\"M3,0A3,3 0 1,1 0,-3A3,3 0 0,1 3,0Z\" style=\"opacity: 1; stroke-width: 0px; fill: rgb(99, 110, 250); fill-opacity: 1;\"/><path class=\"point\" transform=\"translate(377.5,74.69)\" d=\"M3,0A3,3 0 1,1 0,-3A3,3 0 0,1 3,0Z\" style=\"opacity: 1; stroke-width: 0px; fill: rgb(99, 110, 250); fill-opacity: 1;\"/><path class=\"point\" transform=\"translate(390.23,67.03)\" d=\"M3,0A3,3 0 1,1 0,-3A3,3 0 0,1 3,0Z\" style=\"opacity: 1; stroke-width: 0px; fill: rgb(99, 110, 250); fill-opacity: 1;\"/><path class=\"point\" transform=\"translate(405.08,110.11)\" d=\"M3,0A3,3 0 1,1 0,-3A3,3 0 0,1 3,0Z\" style=\"opacity: 1; stroke-width: 0px; fill: rgb(99, 110, 250); fill-opacity: 1;\"/><path class=\"point\" transform=\"translate(417.8,135)\" d=\"M3,0A3,3 0 1,1 0,-3A3,3 0 0,1 3,0Z\" style=\"opacity: 1; stroke-width: 0px; fill: rgb(99, 110, 250); fill-opacity: 1;\"/></g><g class=\"text\"/></g><g class=\"trace scatter trace1fc882\" style=\"stroke-miterlimit: 2; opacity: 1;\"><g class=\"fills\"/><g class=\"errorbars\"/><g class=\"lines\"><path class=\"js-line\" d=\"M46.59,98.62L76.29,98.62L89.02,129.26L105.98,165.63L118.71,124.47L135.68,82.35L150.53,99.58L165.38,125.43L182.35,39.27L195.08,118.73L224.77,87.13L241.74,89.05L254.47,164.68L271.44,96.71L286.29,98.62L301.14,151.27L313.86,104.37L328.71,90.96L345.68,17.25L360.53,34.48L373.26,54.59L388.11,193.4L402.95,111.07L432.65,101.49L447.5,139.79\" style=\"vector-effect: non-scaling-stroke; fill: none; stroke: rgb(239, 85, 59); stroke-opacity: 1; stroke-width: 2px; opacity: 1;\"/></g><g class=\"points\"><path class=\"point\" transform=\"translate(46.59,98.62)\" d=\"M3,0A3,3 0 1,1 0,-3A3,3 0 0,1 3,0Z\" style=\"opacity: 1; stroke-width: 0px; fill: rgb(239, 85, 59); fill-opacity: 1;\"/><path class=\"point\" transform=\"translate(76.29,98.62)\" d=\"M3,0A3,3 0 1,1 0,-3A3,3 0 0,1 3,0Z\" style=\"opacity: 1; stroke-width: 0px; fill: rgb(239, 85, 59); fill-opacity: 1;\"/><path class=\"point\" transform=\"translate(89.02,129.26)\" d=\"M3,0A3,3 0 1,1 0,-3A3,3 0 0,1 3,0Z\" style=\"opacity: 1; stroke-width: 0px; fill: rgb(239, 85, 59); fill-opacity: 1;\"/><path class=\"point\" transform=\"translate(105.98,165.63)\" d=\"M3,0A3,3 0 1,1 0,-3A3,3 0 0,1 3,0Z\" style=\"opacity: 1; stroke-width: 0px; fill: rgb(239, 85, 59); fill-opacity: 1;\"/><path class=\"point\" transform=\"translate(118.71,124.47)\" d=\"M3,0A3,3 0 1,1 0,-3A3,3 0 0,1 3,0Z\" style=\"opacity: 1; stroke-width: 0px; fill: rgb(239, 85, 59); fill-opacity: 1;\"/><path class=\"point\" transform=\"translate(135.68,82.35)\" d=\"M3,0A3,3 0 1,1 0,-3A3,3 0 0,1 3,0Z\" style=\"opacity: 1; stroke-width: 0px; fill: rgb(239, 85, 59); fill-opacity: 1;\"/><path class=\"point\" transform=\"translate(150.53,99.58)\" d=\"M3,0A3,3 0 1,1 0,-3A3,3 0 0,1 3,0Z\" style=\"opacity: 1; stroke-width: 0px; fill: rgb(239, 85, 59); fill-opacity: 1;\"/><path class=\"point\" transform=\"translate(165.38,125.43)\" d=\"M3,0A3,3 0 1,1 0,-3A3,3 0 0,1 3,0Z\" style=\"opacity: 1; stroke-width: 0px; fill: rgb(239, 85, 59); fill-opacity: 1;\"/><path class=\"point\" transform=\"translate(182.35,39.27)\" d=\"M3,0A3,3 0 1,1 0,-3A3,3 0 0,1 3,0Z\" style=\"opacity: 1; stroke-width: 0px; fill: rgb(239, 85, 59); fill-opacity: 1;\"/><path class=\"point\" transform=\"translate(195.08,118.73)\" d=\"M3,0A3,3 0 1,1 0,-3A3,3 0 0,1 3,0Z\" style=\"opacity: 1; stroke-width: 0px; fill: rgb(239, 85, 59); fill-opacity: 1;\"/><path class=\"point\" transform=\"translate(224.77,87.13)\" d=\"M3,0A3,3 0 1,1 0,-3A3,3 0 0,1 3,0Z\" style=\"opacity: 1; stroke-width: 0px; fill: rgb(239, 85, 59); fill-opacity: 1;\"/><path class=\"point\" transform=\"translate(241.74,89.05)\" d=\"M3,0A3,3 0 1,1 0,-3A3,3 0 0,1 3,0Z\" style=\"opacity: 1; stroke-width: 0px; fill: rgb(239, 85, 59); fill-opacity: 1;\"/><path class=\"point\" transform=\"translate(254.47,164.68)\" d=\"M3,0A3,3 0 1,1 0,-3A3,3 0 0,1 3,0Z\" style=\"opacity: 1; stroke-width: 0px; fill: rgb(239, 85, 59); fill-opacity: 1;\"/><path class=\"point\" transform=\"translate(271.44,96.71)\" d=\"M3,0A3,3 0 1,1 0,-3A3,3 0 0,1 3,0Z\" style=\"opacity: 1; stroke-width: 0px; fill: rgb(239, 85, 59); fill-opacity: 1;\"/><path class=\"point\" transform=\"translate(286.29,98.62)\" d=\"M3,0A3,3 0 1,1 0,-3A3,3 0 0,1 3,0Z\" style=\"opacity: 1; stroke-width: 0px; fill: rgb(239, 85, 59); fill-opacity: 1;\"/><path class=\"point\" transform=\"translate(301.14,151.27)\" d=\"M3,0A3,3 0 1,1 0,-3A3,3 0 0,1 3,0Z\" style=\"opacity: 1; stroke-width: 0px; fill: rgb(239, 85, 59); fill-opacity: 1;\"/><path class=\"point\" transform=\"translate(313.86,104.37)\" d=\"M3,0A3,3 0 1,1 0,-3A3,3 0 0,1 3,0Z\" style=\"opacity: 1; stroke-width: 0px; fill: rgb(239, 85, 59); fill-opacity: 1;\"/><path class=\"point\" transform=\"translate(328.71,90.96)\" d=\"M3,0A3,3 0 1,1 0,-3A3,3 0 0,1 3,0Z\" style=\"opacity: 1; stroke-width: 0px; fill: rgb(239, 85, 59); fill-opacity: 1;\"/><path class=\"point\" transform=\"translate(345.68,17.25)\" d=\"M3,0A3,3 0 1,1 0,-3A3,3 0 0,1 3,0Z\" style=\"opacity: 1; stroke-width: 0px; fill: rgb(239, 85, 59); fill-opacity: 1;\"/><path class=\"point\" transform=\"translate(360.53,34.48)\" d=\"M3,0A3,3 0 1,1 0,-3A3,3 0 0,1 3,0Z\" style=\"opacity: 1; stroke-width: 0px; fill: rgb(239, 85, 59); fill-opacity: 1;\"/><path class=\"point\" transform=\"translate(373.26,54.59)\" d=\"M3,0A3,3 0 1,1 0,-3A3,3 0 0,1 3,0Z\" style=\"opacity: 1; stroke-width: 0px; fill: rgb(239, 85, 59); fill-opacity: 1;\"/><path class=\"point\" transform=\"translate(388.11,193.4)\" d=\"M3,0A3,3 0 1,1 0,-3A3,3 0 0,1 3,0Z\" style=\"opacity: 1; stroke-width: 0px; fill: rgb(239, 85, 59); fill-opacity: 1;\"/><path class=\"point\" transform=\"translate(402.95,111.07)\" d=\"M3,0A3,3 0 1,1 0,-3A3,3 0 0,1 3,0Z\" style=\"opacity: 1; stroke-width: 0px; fill: rgb(239, 85, 59); fill-opacity: 1;\"/><path class=\"point\" transform=\"translate(432.65,101.49)\" d=\"M3,0A3,3 0 1,1 0,-3A3,3 0 0,1 3,0Z\" style=\"opacity: 1; stroke-width: 0px; fill: rgb(239, 85, 59); fill-opacity: 1;\"/><path class=\"point\" transform=\"translate(447.5,139.79)\" d=\"M3,0A3,3 0 1,1 0,-3A3,3 0 0,1 3,0Z\" style=\"opacity: 1; stroke-width: 0px; fill: rgb(239, 85, 59); fill-opacity: 1;\"/></g><g class=\"text\"/></g><g class=\"trace scatter trace67ca85\" style=\"stroke-miterlimit: 2; opacity: 1;\"><g class=\"fills\"/><g class=\"errorbars\"/><g class=\"lines\"><path class=\"js-line\" d=\"M27.5,58.41L59.32,79.48L72.05,180.95L91.14,74.69L103.86,141.7L116.59,137.87L135.68,107.24L148.41,142.66L163.26,94.79L209.92,87.13L222.65,106.28L237.5,45.97L252.35,118.73L267.2,65.12L284.17,52.67L296.89,180.95L322.35,120.64L341.44,127.34L358.41,107.24L373.26,69.9L385.98,117.77L400.83,148.4L415.68,146.49\" style=\"vector-effect: non-scaling-stroke; fill: none; stroke: rgb(0, 204, 150); stroke-opacity: 1; stroke-width: 2px; opacity: 1;\"/></g><g class=\"points\"><path class=\"point\" transform=\"translate(27.5,58.41)\" d=\"M3,0A3,3 0 1,1 0,-3A3,3 0 0,1 3,0Z\" style=\"opacity: 1; stroke-width: 0px; fill: rgb(0, 204, 150); fill-opacity: 1;\"/><path class=\"point\" transform=\"translate(59.32,79.48)\" d=\"M3,0A3,3 0 1,1 0,-3A3,3 0 0,1 3,0Z\" style=\"opacity: 1; stroke-width: 0px; fill: rgb(0, 204, 150); fill-opacity: 1;\"/><path class=\"point\" transform=\"translate(72.05,180.95)\" d=\"M3,0A3,3 0 1,1 0,-3A3,3 0 0,1 3,0Z\" style=\"opacity: 1; stroke-width: 0px; fill: rgb(0, 204, 150); fill-opacity: 1;\"/><path class=\"point\" transform=\"translate(91.14,74.69)\" d=\"M3,0A3,3 0 1,1 0,-3A3,3 0 0,1 3,0Z\" style=\"opacity: 1; stroke-width: 0px; fill: rgb(0, 204, 150); fill-opacity: 1;\"/><path class=\"point\" transform=\"translate(103.86,141.7)\" d=\"M3,0A3,3 0 1,1 0,-3A3,3 0 0,1 3,0Z\" style=\"opacity: 1; stroke-width: 0px; fill: rgb(0, 204, 150); fill-opacity: 1;\"/><path class=\"point\" transform=\"translate(116.59,137.87)\" d=\"M3,0A3,3 0 1,1 0,-3A3,3 0 0,1 3,0Z\" style=\"opacity: 1; stroke-width: 0px; fill: rgb(0, 204, 150); fill-opacity: 1;\"/><path class=\"point\" transform=\"translate(135.68,107.24)\" d=\"M3,0A3,3 0 1,1 0,-3A3,3 0 0,1 3,0Z\" style=\"opacity: 1; stroke-width: 0px; fill: rgb(0, 204, 150); fill-opacity: 1;\"/><path class=\"point\" transform=\"translate(148.41,142.66)\" d=\"M3,0A3,3 0 1,1 0,-3A3,3 0 0,1 3,0Z\" style=\"opacity: 1; stroke-width: 0px; fill: rgb(0, 204, 150); fill-opacity: 1;\"/><path class=\"point\" transform=\"translate(163.26,94.79)\" d=\"M3,0A3,3 0 1,1 0,-3A3,3 0 0,1 3,0Z\" style=\"opacity: 1; stroke-width: 0px; fill: rgb(0, 204, 150); fill-opacity: 1;\"/><path class=\"point\" transform=\"translate(195.08,89.05)\" d=\"M3,0A3,3 0 1,1 0,-3A3,3 0 0,1 3,0Z\" style=\"opacity: 1; stroke-width: 0px; fill: rgb(0, 204, 150); fill-opacity: 1;\"/><path class=\"point\" transform=\"translate(209.92,87.13)\" d=\"M3,0A3,3 0 1,1 0,-3A3,3 0 0,1 3,0Z\" style=\"opacity: 1; stroke-width: 0px; fill: rgb(0, 204, 150); fill-opacity: 1;\"/><path class=\"point\" transform=\"translate(222.65,106.28)\" d=\"M3,0A3,3 0 1,1 0,-3A3,3 0 0,1 3,0Z\" style=\"opacity: 1; stroke-width: 0px; fill: rgb(0, 204, 150); fill-opacity: 1;\"/><path class=\"point\" transform=\"translate(237.5,45.97)\" d=\"M3,0A3,3 0 1,1 0,-3A3,3 0 0,1 3,0Z\" style=\"opacity: 1; stroke-width: 0px; fill: rgb(0, 204, 150); fill-opacity: 1;\"/><path class=\"point\" transform=\"translate(252.35,118.73)\" d=\"M3,0A3,3 0 1,1 0,-3A3,3 0 0,1 3,0Z\" style=\"opacity: 1; stroke-width: 0px; fill: rgb(0, 204, 150); fill-opacity: 1;\"/><path class=\"point\" transform=\"translate(267.2,65.12)\" d=\"M3,0A3,3 0 1,1 0,-3A3,3 0 0,1 3,0Z\" style=\"opacity: 1; stroke-width: 0px; fill: rgb(0, 204, 150); fill-opacity: 1;\"/><path class=\"point\" transform=\"translate(284.17,52.67)\" d=\"M3,0A3,3 0 1,1 0,-3A3,3 0 0,1 3,0Z\" style=\"opacity: 1; stroke-width: 0px; fill: rgb(0, 204, 150); fill-opacity: 1;\"/><path class=\"point\" transform=\"translate(296.89,180.95)\" d=\"M3,0A3,3 0 1,1 0,-3A3,3 0 0,1 3,0Z\" style=\"opacity: 1; stroke-width: 0px; fill: rgb(0, 204, 150); fill-opacity: 1;\"/><path class=\"point\" transform=\"translate(322.35,120.64)\" d=\"M3,0A3,3 0 1,1 0,-3A3,3 0 0,1 3,0Z\" style=\"opacity: 1; stroke-width: 0px; fill: rgb(0, 204, 150); fill-opacity: 1;\"/><path class=\"point\" transform=\"translate(341.44,127.34)\" d=\"M3,0A3,3 0 1,1 0,-3A3,3 0 0,1 3,0Z\" style=\"opacity: 1; stroke-width: 0px; fill: rgb(0, 204, 150); fill-opacity: 1;\"/><path class=\"point\" transform=\"translate(358.41,107.24)\" d=\"M3,0A3,3 0 1,1 0,-3A3,3 0 0,1 3,0Z\" style=\"opacity: 1; stroke-width: 0px; fill: rgb(0, 204, 150); fill-opacity: 1;\"/><path class=\"point\" transform=\"translate(373.26,69.9)\" d=\"M3,0A3,3 0 1,1 0,-3A3,3 0 0,1 3,0Z\" style=\"opacity: 1; stroke-width: 0px; fill: rgb(0, 204, 150); fill-opacity: 1;\"/><path class=\"point\" transform=\"translate(385.98,117.77)\" d=\"M3,0A3,3 0 1,1 0,-3A3,3 0 0,1 3,0Z\" style=\"opacity: 1; stroke-width: 0px; fill: rgb(0, 204, 150); fill-opacity: 1;\"/><path class=\"point\" transform=\"translate(400.83,148.4)\" d=\"M3,0A3,3 0 1,1 0,-3A3,3 0 0,1 3,0Z\" style=\"opacity: 1; stroke-width: 0px; fill: rgb(0, 204, 150); fill-opacity: 1;\"/><path class=\"point\" transform=\"translate(415.68,146.49)\" d=\"M3,0A3,3 0 1,1 0,-3A3,3 0 0,1 3,0Z\" style=\"opacity: 1; stroke-width: 0px; fill: rgb(0, 204, 150); fill-opacity: 1;\"/></g><g class=\"text\"/></g><g class=\"trace scatter tracec17aeb\" style=\"stroke-miterlimit: 2; opacity: 1;\"><g class=\"fills\"/><g class=\"errorbars\"/><g class=\"lines\"><path class=\"js-line\" d=\"M74.17,118.73L89.02,83.3L103.86,96.71L116.59,112.02L133.56,60.33L146.29,98.62L163.26,112.98L175.98,55.54L190.83,114.9L203.56,151.27L220.53,118.73L245.98,118.73L267.2,90.96L282.05,194.35L294.77,85.22L309.62,121.6L326.59,105.32L341.44,90.01L356.29,148.4L371.14,135.96L385.98,73.73L398.71,191.48L413.56,116.81L441.14,151.27\" style=\"vector-effect: non-scaling-stroke; fill: none; stroke: rgb(171, 99, 250); stroke-opacity: 1; stroke-width: 2px; opacity: 1;\"/></g><g class=\"points\"><path class=\"point\" transform=\"translate(74.17,118.73)\" d=\"M3,0A3,3 0 1,1 0,-3A3,3 0 0,1 3,0Z\" style=\"opacity: 1; stroke-width: 0px; fill: rgb(171, 99, 250); fill-opacity: 1;\"/><path class=\"point\" transform=\"translate(89.02,83.3)\" d=\"M3,0A3,3 0 1,1 0,-3A3,3 0 0,1 3,0Z\" style=\"opacity: 1; stroke-width: 0px; fill: rgb(171, 99, 250); fill-opacity: 1;\"/><path class=\"point\" transform=\"translate(103.86,96.71)\" d=\"M3,0A3,3 0 1,1 0,-3A3,3 0 0,1 3,0Z\" style=\"opacity: 1; stroke-width: 0px; fill: rgb(171, 99, 250); fill-opacity: 1;\"/><path class=\"point\" transform=\"translate(116.59,112.02)\" d=\"M3,0A3,3 0 1,1 0,-3A3,3 0 0,1 3,0Z\" style=\"opacity: 1; stroke-width: 0px; fill: rgb(171, 99, 250); fill-opacity: 1;\"/><path class=\"point\" transform=\"translate(133.56,60.33)\" d=\"M3,0A3,3 0 1,1 0,-3A3,3 0 0,1 3,0Z\" style=\"opacity: 1; stroke-width: 0px; fill: rgb(171, 99, 250); fill-opacity: 1;\"/><path class=\"point\" transform=\"translate(146.29,98.62)\" d=\"M3,0A3,3 0 1,1 0,-3A3,3 0 0,1 3,0Z\" style=\"opacity: 1; stroke-width: 0px; fill: rgb(171, 99, 250); fill-opacity: 1;\"/><path class=\"point\" transform=\"translate(163.26,112.98)\" d=\"M3,0A3,3 0 1,1 0,-3A3,3 0 0,1 3,0Z\" style=\"opacity: 1; stroke-width: 0px; fill: rgb(171, 99, 250); fill-opacity: 1;\"/><path class=\"point\" transform=\"translate(175.98,55.54)\" d=\"M3,0A3,3 0 1,1 0,-3A3,3 0 0,1 3,0Z\" style=\"opacity: 1; stroke-width: 0px; fill: rgb(171, 99, 250); fill-opacity: 1;\"/><path class=\"point\" transform=\"translate(190.83,114.9)\" d=\"M3,0A3,3 0 1,1 0,-3A3,3 0 0,1 3,0Z\" style=\"opacity: 1; stroke-width: 0px; fill: rgb(171, 99, 250); fill-opacity: 1;\"/><path class=\"point\" transform=\"translate(203.56,151.27)\" d=\"M3,0A3,3 0 1,1 0,-3A3,3 0 0,1 3,0Z\" style=\"opacity: 1; stroke-width: 0px; fill: rgb(171, 99, 250); fill-opacity: 1;\"/><path class=\"point\" transform=\"translate(220.53,118.73)\" d=\"M3,0A3,3 0 1,1 0,-3A3,3 0 0,1 3,0Z\" style=\"opacity: 1; stroke-width: 0px; fill: rgb(171, 99, 250); fill-opacity: 1;\"/><path class=\"point\" transform=\"translate(245.98,118.73)\" d=\"M3,0A3,3 0 1,1 0,-3A3,3 0 0,1 3,0Z\" style=\"opacity: 1; stroke-width: 0px; fill: rgb(171, 99, 250); fill-opacity: 1;\"/><path class=\"point\" transform=\"translate(267.2,90.96)\" d=\"M3,0A3,3 0 1,1 0,-3A3,3 0 0,1 3,0Z\" style=\"opacity: 1; stroke-width: 0px; fill: rgb(171, 99, 250); fill-opacity: 1;\"/><path class=\"point\" transform=\"translate(282.05,194.35)\" d=\"M3,0A3,3 0 1,1 0,-3A3,3 0 0,1 3,0Z\" style=\"opacity: 1; stroke-width: 0px; fill: rgb(171, 99, 250); fill-opacity: 1;\"/><path class=\"point\" transform=\"translate(294.77,85.22)\" d=\"M3,0A3,3 0 1,1 0,-3A3,3 0 0,1 3,0Z\" style=\"opacity: 1; stroke-width: 0px; fill: rgb(171, 99, 250); fill-opacity: 1;\"/><path class=\"point\" transform=\"translate(309.62,121.6)\" d=\"M3,0A3,3 0 1,1 0,-3A3,3 0 0,1 3,0Z\" style=\"opacity: 1; stroke-width: 0px; fill: rgb(171, 99, 250); fill-opacity: 1;\"/><path class=\"point\" transform=\"translate(326.59,105.32)\" d=\"M3,0A3,3 0 1,1 0,-3A3,3 0 0,1 3,0Z\" style=\"opacity: 1; stroke-width: 0px; fill: rgb(171, 99, 250); fill-opacity: 1;\"/><path class=\"point\" transform=\"translate(341.44,90.01)\" d=\"M3,0A3,3 0 1,1 0,-3A3,3 0 0,1 3,0Z\" style=\"opacity: 1; stroke-width: 0px; fill: rgb(171, 99, 250); fill-opacity: 1;\"/><path class=\"point\" transform=\"translate(356.29,148.4)\" d=\"M3,0A3,3 0 1,1 0,-3A3,3 0 0,1 3,0Z\" style=\"opacity: 1; stroke-width: 0px; fill: rgb(171, 99, 250); fill-opacity: 1;\"/><path class=\"point\" transform=\"translate(371.14,135.96)\" d=\"M3,0A3,3 0 1,1 0,-3A3,3 0 0,1 3,0Z\" style=\"opacity: 1; stroke-width: 0px; fill: rgb(171, 99, 250); fill-opacity: 1;\"/><path class=\"point\" transform=\"translate(385.98,73.73)\" d=\"M3,0A3,3 0 1,1 0,-3A3,3 0 0,1 3,0Z\" style=\"opacity: 1; stroke-width: 0px; fill: rgb(171, 99, 250); fill-opacity: 1;\"/><path class=\"point\" transform=\"translate(398.71,191.48)\" d=\"M3,0A3,3 0 1,1 0,-3A3,3 0 0,1 3,0Z\" style=\"opacity: 1; stroke-width: 0px; fill: rgb(171, 99, 250); fill-opacity: 1;\"/><path class=\"point\" transform=\"translate(413.56,116.81)\" d=\"M3,0A3,3 0 1,1 0,-3A3,3 0 0,1 3,0Z\" style=\"opacity: 1; stroke-width: 0px; fill: rgb(171, 99, 250); fill-opacity: 1;\"/><path class=\"point\" transform=\"translate(441.14,151.27)\" d=\"M3,0A3,3 0 1,1 0,-3A3,3 0 0,1 3,0Z\" style=\"opacity: 1; stroke-width: 0px; fill: rgb(171, 99, 250); fill-opacity: 1;\"/></g><g class=\"text\"/></g><g class=\"trace scatter tracebce1a6\" style=\"stroke-miterlimit: 2; opacity: 1;\"><g class=\"fills\"/><g class=\"errorbars\"/><g class=\"lines\"><path class=\"js-line\" d=\"M55.08,187.65L67.8,150.32L82.65,157.02L99.62,155.1L114.47,129.26L127.2,157.02L142.05,142.66L156.89,164.68L171.74,161.8L186.59,157.98L201.44,49.8L216.29,45.97L231.14,109.15L243.86,171.38L275.68,156.06L288.41,141.7L305.38,148.4L322.35,211.59L337.2,169.46L352.05,194.35L364.77,213.5L381.74,106.28\" style=\"vector-effect: non-scaling-stroke; fill: none; stroke: rgb(255, 161, 90); stroke-opacity: 1; stroke-width: 2px; opacity: 1;\"/></g><g class=\"points\"><path class=\"point\" transform=\"translate(55.08,187.65)\" d=\"M3,0A3,3 0 1,1 0,-3A3,3 0 0,1 3,0Z\" style=\"opacity: 1; stroke-width: 0px; fill: rgb(255, 161, 90); fill-opacity: 1;\"/><path class=\"point\" transform=\"translate(67.8,150.32)\" d=\"M3,0A3,3 0 1,1 0,-3A3,3 0 0,1 3,0Z\" style=\"opacity: 1; stroke-width: 0px; fill: rgb(255, 161, 90); fill-opacity: 1;\"/><path class=\"point\" transform=\"translate(82.65,157.02)\" d=\"M3,0A3,3 0 1,1 0,-3A3,3 0 0,1 3,0Z\" style=\"opacity: 1; stroke-width: 0px; fill: rgb(255, 161, 90); fill-opacity: 1;\"/><path class=\"point\" transform=\"translate(99.62,155.1)\" d=\"M3,0A3,3 0 1,1 0,-3A3,3 0 0,1 3,0Z\" style=\"opacity: 1; stroke-width: 0px; fill: rgb(255, 161, 90); fill-opacity: 1;\"/><path class=\"point\" transform=\"translate(114.47,129.26)\" d=\"M3,0A3,3 0 1,1 0,-3A3,3 0 0,1 3,0Z\" style=\"opacity: 1; stroke-width: 0px; fill: rgb(255, 161, 90); fill-opacity: 1;\"/><path class=\"point\" transform=\"translate(127.2,157.02)\" d=\"M3,0A3,3 0 1,1 0,-3A3,3 0 0,1 3,0Z\" style=\"opacity: 1; stroke-width: 0px; fill: rgb(255, 161, 90); fill-opacity: 1;\"/><path class=\"point\" transform=\"translate(142.05,142.66)\" d=\"M3,0A3,3 0 1,1 0,-3A3,3 0 0,1 3,0Z\" style=\"opacity: 1; stroke-width: 0px; fill: rgb(255, 161, 90); fill-opacity: 1;\"/><path class=\"point\" transform=\"translate(156.89,164.68)\" d=\"M3,0A3,3 0 1,1 0,-3A3,3 0 0,1 3,0Z\" style=\"opacity: 1; stroke-width: 0px; fill: rgb(255, 161, 90); fill-opacity: 1;\"/><path class=\"point\" transform=\"translate(171.74,161.8)\" d=\"M3,0A3,3 0 1,1 0,-3A3,3 0 0,1 3,0Z\" style=\"opacity: 1; stroke-width: 0px; fill: rgb(255, 161, 90); fill-opacity: 1;\"/><path class=\"point\" transform=\"translate(186.59,157.98)\" d=\"M3,0A3,3 0 1,1 0,-3A3,3 0 0,1 3,0Z\" style=\"opacity: 1; stroke-width: 0px; fill: rgb(255, 161, 90); fill-opacity: 1;\"/><path class=\"point\" transform=\"translate(201.44,49.8)\" d=\"M3,0A3,3 0 1,1 0,-3A3,3 0 0,1 3,0Z\" style=\"opacity: 1; stroke-width: 0px; fill: rgb(255, 161, 90); fill-opacity: 1;\"/><path class=\"point\" transform=\"translate(216.29,45.97)\" d=\"M3,0A3,3 0 1,1 0,-3A3,3 0 0,1 3,0Z\" style=\"opacity: 1; stroke-width: 0px; fill: rgb(255, 161, 90); fill-opacity: 1;\"/><path class=\"point\" transform=\"translate(231.14,109.15)\" d=\"M3,0A3,3 0 1,1 0,-3A3,3 0 0,1 3,0Z\" style=\"opacity: 1; stroke-width: 0px; fill: rgb(255, 161, 90); fill-opacity: 1;\"/><path class=\"point\" transform=\"translate(243.86,171.38)\" d=\"M3,0A3,3 0 1,1 0,-3A3,3 0 0,1 3,0Z\" style=\"opacity: 1; stroke-width: 0px; fill: rgb(255, 161, 90); fill-opacity: 1;\"/><path class=\"point\" transform=\"translate(275.68,156.06)\" d=\"M3,0A3,3 0 1,1 0,-3A3,3 0 0,1 3,0Z\" style=\"opacity: 1; stroke-width: 0px; fill: rgb(255, 161, 90); fill-opacity: 1;\"/><path class=\"point\" transform=\"translate(288.41,141.7)\" d=\"M3,0A3,3 0 1,1 0,-3A3,3 0 0,1 3,0Z\" style=\"opacity: 1; stroke-width: 0px; fill: rgb(255, 161, 90); fill-opacity: 1;\"/><path class=\"point\" transform=\"translate(305.38,148.4)\" d=\"M3,0A3,3 0 1,1 0,-3A3,3 0 0,1 3,0Z\" style=\"opacity: 1; stroke-width: 0px; fill: rgb(255, 161, 90); fill-opacity: 1;\"/><path class=\"point\" transform=\"translate(322.35,211.59)\" d=\"M3,0A3,3 0 1,1 0,-3A3,3 0 0,1 3,0Z\" style=\"opacity: 1; stroke-width: 0px; fill: rgb(255, 161, 90); fill-opacity: 1;\"/><path class=\"point\" transform=\"translate(337.2,169.46)\" d=\"M3,0A3,3 0 1,1 0,-3A3,3 0 0,1 3,0Z\" style=\"opacity: 1; stroke-width: 0px; fill: rgb(255, 161, 90); fill-opacity: 1;\"/><path class=\"point\" transform=\"translate(352.05,194.35)\" d=\"M3,0A3,3 0 1,1 0,-3A3,3 0 0,1 3,0Z\" style=\"opacity: 1; stroke-width: 0px; fill: rgb(255, 161, 90); fill-opacity: 1;\"/><path class=\"point\" transform=\"translate(364.77,213.5)\" d=\"M3,0A3,3 0 1,1 0,-3A3,3 0 0,1 3,0Z\" style=\"opacity: 1; stroke-width: 0px; fill: rgb(255, 161, 90); fill-opacity: 1;\"/><path class=\"point\" transform=\"translate(381.74,106.28)\" d=\"M3,0A3,3 0 1,1 0,-3A3,3 0 0,1 3,0Z\" style=\"opacity: 1; stroke-width: 0px; fill: rgb(255, 161, 90); fill-opacity: 1;\"/></g><g class=\"text\"/></g><g class=\"trace scatter traceec0f02\" style=\"stroke-miterlimit: 2; opacity: 1;\"><g class=\"fills\"/><g class=\"errorbars\"/><g class=\"lines\"><path class=\"js-line\" d=\"M52.95,165.63L67.8,210.63L80.53,110.11L95.38,123.51L110.23,120.64L125.08,164.68L142.05,90.01L156.89,123.51L171.74,91.92L184.47,221.16L201.44,144.57L214.17,179.99L245.98,127.34L260.83,134.04L275.68,121.6L290.53,154.15L303.26,175.21L318.11,136.91L332.95,103.41L347.8,224.99L364.77,224.99L379.62,139.79\" style=\"vector-effect: non-scaling-stroke; fill: none; stroke: rgb(25, 211, 243); stroke-opacity: 1; stroke-width: 2px; opacity: 1;\"/></g><g class=\"points\"><path class=\"point\" transform=\"translate(52.95,165.63)\" d=\"M3,0A3,3 0 1,1 0,-3A3,3 0 0,1 3,0Z\" style=\"opacity: 1; stroke-width: 0px; fill: rgb(25, 211, 243); fill-opacity: 1;\"/><path class=\"point\" transform=\"translate(67.8,210.63)\" d=\"M3,0A3,3 0 1,1 0,-3A3,3 0 0,1 3,0Z\" style=\"opacity: 1; stroke-width: 0px; fill: rgb(25, 211, 243); fill-opacity: 1;\"/><path class=\"point\" transform=\"translate(80.53,110.11)\" d=\"M3,0A3,3 0 1,1 0,-3A3,3 0 0,1 3,0Z\" style=\"opacity: 1; stroke-width: 0px; fill: rgb(25, 211, 243); fill-opacity: 1;\"/><path class=\"point\" transform=\"translate(95.38,123.51)\" d=\"M3,0A3,3 0 1,1 0,-3A3,3 0 0,1 3,0Z\" style=\"opacity: 1; stroke-width: 0px; fill: rgb(25, 211, 243); fill-opacity: 1;\"/><path class=\"point\" transform=\"translate(110.23,120.64)\" d=\"M3,0A3,3 0 1,1 0,-3A3,3 0 0,1 3,0Z\" style=\"opacity: 1; stroke-width: 0px; fill: rgb(25, 211, 243); fill-opacity: 1;\"/><path class=\"point\" transform=\"translate(125.08,164.68)\" d=\"M3,0A3,3 0 1,1 0,-3A3,3 0 0,1 3,0Z\" style=\"opacity: 1; stroke-width: 0px; fill: rgb(25, 211, 243); fill-opacity: 1;\"/><path class=\"point\" transform=\"translate(142.05,90.01)\" d=\"M3,0A3,3 0 1,1 0,-3A3,3 0 0,1 3,0Z\" style=\"opacity: 1; stroke-width: 0px; fill: rgb(25, 211, 243); fill-opacity: 1;\"/><path class=\"point\" transform=\"translate(156.89,123.51)\" d=\"M3,0A3,3 0 1,1 0,-3A3,3 0 0,1 3,0Z\" style=\"opacity: 1; stroke-width: 0px; fill: rgb(25, 211, 243); fill-opacity: 1;\"/><path class=\"point\" transform=\"translate(171.74,91.92)\" d=\"M3,0A3,3 0 1,1 0,-3A3,3 0 0,1 3,0Z\" style=\"opacity: 1; stroke-width: 0px; fill: rgb(25, 211, 243); fill-opacity: 1;\"/><path class=\"point\" transform=\"translate(184.47,221.16)\" d=\"M3,0A3,3 0 1,1 0,-3A3,3 0 0,1 3,0Z\" style=\"opacity: 1; stroke-width: 0px; fill: rgb(25, 211, 243); fill-opacity: 1;\"/><path class=\"point\" transform=\"translate(201.44,144.57)\" d=\"M3,0A3,3 0 1,1 0,-3A3,3 0 0,1 3,0Z\" style=\"opacity: 1; stroke-width: 0px; fill: rgb(25, 211, 243); fill-opacity: 1;\"/><path class=\"point\" transform=\"translate(214.17,179.99)\" d=\"M3,0A3,3 0 1,1 0,-3A3,3 0 0,1 3,0Z\" style=\"opacity: 1; stroke-width: 0px; fill: rgb(25, 211, 243); fill-opacity: 1;\"/><path class=\"point\" transform=\"translate(245.98,127.34)\" d=\"M3,0A3,3 0 1,1 0,-3A3,3 0 0,1 3,0Z\" style=\"opacity: 1; stroke-width: 0px; fill: rgb(25, 211, 243); fill-opacity: 1;\"/><path class=\"point\" transform=\"translate(260.83,134.04)\" d=\"M3,0A3,3 0 1,1 0,-3A3,3 0 0,1 3,0Z\" style=\"opacity: 1; stroke-width: 0px; fill: rgb(25, 211, 243); fill-opacity: 1;\"/><path class=\"point\" transform=\"translate(275.68,121.6)\" d=\"M3,0A3,3 0 1,1 0,-3A3,3 0 0,1 3,0Z\" style=\"opacity: 1; stroke-width: 0px; fill: rgb(25, 211, 243); fill-opacity: 1;\"/><path class=\"point\" transform=\"translate(290.53,154.15)\" d=\"M3,0A3,3 0 1,1 0,-3A3,3 0 0,1 3,0Z\" style=\"opacity: 1; stroke-width: 0px; fill: rgb(25, 211, 243); fill-opacity: 1;\"/><path class=\"point\" transform=\"translate(303.26,175.21)\" d=\"M3,0A3,3 0 1,1 0,-3A3,3 0 0,1 3,0Z\" style=\"opacity: 1; stroke-width: 0px; fill: rgb(25, 211, 243); fill-opacity: 1;\"/><path class=\"point\" transform=\"translate(318.11,136.91)\" d=\"M3,0A3,3 0 1,1 0,-3A3,3 0 0,1 3,0Z\" style=\"opacity: 1; stroke-width: 0px; fill: rgb(25, 211, 243); fill-opacity: 1;\"/><path class=\"point\" transform=\"translate(332.95,103.41)\" d=\"M3,0A3,3 0 1,1 0,-3A3,3 0 0,1 3,0Z\" style=\"opacity: 1; stroke-width: 0px; fill: rgb(25, 211, 243); fill-opacity: 1;\"/><path class=\"point\" transform=\"translate(347.8,224.99)\" d=\"M3,0A3,3 0 1,1 0,-3A3,3 0 0,1 3,0Z\" style=\"opacity: 1; stroke-width: 0px; fill: rgb(25, 211, 243); fill-opacity: 1;\"/><path class=\"point\" transform=\"translate(364.77,224.99)\" d=\"M3,0A3,3 0 1,1 0,-3A3,3 0 0,1 3,0Z\" style=\"opacity: 1; stroke-width: 0px; fill: rgb(25, 211, 243); fill-opacity: 1;\"/><path class=\"point\" transform=\"translate(379.62,139.79)\" d=\"M3,0A3,3 0 1,1 0,-3A3,3 0 0,1 3,0Z\" style=\"opacity: 1; stroke-width: 0px; fill: rgb(25, 211, 243); fill-opacity: 1;\"/></g><g class=\"text\"/></g><g class=\"trace scatter trace39863f\" style=\"stroke-miterlimit: 2; opacity: 1;\"><g class=\"fills\"/><g class=\"errorbars\"/><g class=\"lines\"><path class=\"js-line\" d=\"M48.71,173.29L63.56,110.11L78.41,98.62L93.26,155.1L108.11,73.73L125.08,133.09L139.92,199.14L152.65,96.71L167.5,181.91L184.47,152.23L199.32,183.82L226.89,70.86L258.71,178.08L271.44,177.12L288.41,116.81L301.14,153.19L318.11,181.91L332.95,180.95L347.8,97.66L360.53,252.75L375.38,134.04\" style=\"vector-effect: non-scaling-stroke; fill: none; stroke: rgb(255, 102, 146); stroke-opacity: 1; stroke-width: 2px; opacity: 1;\"/></g><g class=\"points\"><path class=\"point\" transform=\"translate(48.71,173.29)\" d=\"M3,0A3,3 0 1,1 0,-3A3,3 0 0,1 3,0Z\" style=\"opacity: 1; stroke-width: 0px; fill: rgb(255, 102, 146); fill-opacity: 1;\"/><path class=\"point\" transform=\"translate(63.56,110.11)\" d=\"M3,0A3,3 0 1,1 0,-3A3,3 0 0,1 3,0Z\" style=\"opacity: 1; stroke-width: 0px; fill: rgb(255, 102, 146); fill-opacity: 1;\"/><path class=\"point\" transform=\"translate(78.41,98.62)\" d=\"M3,0A3,3 0 1,1 0,-3A3,3 0 0,1 3,0Z\" style=\"opacity: 1; stroke-width: 0px; fill: rgb(255, 102, 146); fill-opacity: 1;\"/><path class=\"point\" transform=\"translate(93.26,155.1)\" d=\"M3,0A3,3 0 1,1 0,-3A3,3 0 0,1 3,0Z\" style=\"opacity: 1; stroke-width: 0px; fill: rgb(255, 102, 146); fill-opacity: 1;\"/><path class=\"point\" transform=\"translate(108.11,73.73)\" d=\"M3,0A3,3 0 1,1 0,-3A3,3 0 0,1 3,0Z\" style=\"opacity: 1; stroke-width: 0px; fill: rgb(255, 102, 146); fill-opacity: 1;\"/><path class=\"point\" transform=\"translate(125.08,133.09)\" d=\"M3,0A3,3 0 1,1 0,-3A3,3 0 0,1 3,0Z\" style=\"opacity: 1; stroke-width: 0px; fill: rgb(255, 102, 146); fill-opacity: 1;\"/><path class=\"point\" transform=\"translate(139.92,199.14)\" d=\"M3,0A3,3 0 1,1 0,-3A3,3 0 0,1 3,0Z\" style=\"opacity: 1; stroke-width: 0px; fill: rgb(255, 102, 146); fill-opacity: 1;\"/><path class=\"point\" transform=\"translate(152.65,96.71)\" d=\"M3,0A3,3 0 1,1 0,-3A3,3 0 0,1 3,0Z\" style=\"opacity: 1; stroke-width: 0px; fill: rgb(255, 102, 146); fill-opacity: 1;\"/><path class=\"point\" transform=\"translate(167.5,181.91)\" d=\"M3,0A3,3 0 1,1 0,-3A3,3 0 0,1 3,0Z\" style=\"opacity: 1; stroke-width: 0px; fill: rgb(255, 102, 146); fill-opacity: 1;\"/><path class=\"point\" transform=\"translate(184.47,152.23)\" d=\"M3,0A3,3 0 1,1 0,-3A3,3 0 0,1 3,0Z\" style=\"opacity: 1; stroke-width: 0px; fill: rgb(255, 102, 146); fill-opacity: 1;\"/><path class=\"point\" transform=\"translate(199.32,183.82)\" d=\"M3,0A3,3 0 1,1 0,-3A3,3 0 0,1 3,0Z\" style=\"opacity: 1; stroke-width: 0px; fill: rgb(255, 102, 146); fill-opacity: 1;\"/><path class=\"point\" transform=\"translate(214.17,122.55)\" d=\"M3,0A3,3 0 1,1 0,-3A3,3 0 0,1 3,0Z\" style=\"opacity: 1; stroke-width: 0px; fill: rgb(255, 102, 146); fill-opacity: 1;\"/><path class=\"point\" transform=\"translate(226.89,70.86)\" d=\"M3,0A3,3 0 1,1 0,-3A3,3 0 0,1 3,0Z\" style=\"opacity: 1; stroke-width: 0px; fill: rgb(255, 102, 146); fill-opacity: 1;\"/><path class=\"point\" transform=\"translate(258.71,178.08)\" d=\"M3,0A3,3 0 1,1 0,-3A3,3 0 0,1 3,0Z\" style=\"opacity: 1; stroke-width: 0px; fill: rgb(255, 102, 146); fill-opacity: 1;\"/><path class=\"point\" transform=\"translate(271.44,177.12)\" d=\"M3,0A3,3 0 1,1 0,-3A3,3 0 0,1 3,0Z\" style=\"opacity: 1; stroke-width: 0px; fill: rgb(255, 102, 146); fill-opacity: 1;\"/><path class=\"point\" transform=\"translate(288.41,116.81)\" d=\"M3,0A3,3 0 1,1 0,-3A3,3 0 0,1 3,0Z\" style=\"opacity: 1; stroke-width: 0px; fill: rgb(255, 102, 146); fill-opacity: 1;\"/><path class=\"point\" transform=\"translate(301.14,153.19)\" d=\"M3,0A3,3 0 1,1 0,-3A3,3 0 0,1 3,0Z\" style=\"opacity: 1; stroke-width: 0px; fill: rgb(255, 102, 146); fill-opacity: 1;\"/><path class=\"point\" transform=\"translate(318.11,181.91)\" d=\"M3,0A3,3 0 1,1 0,-3A3,3 0 0,1 3,0Z\" style=\"opacity: 1; stroke-width: 0px; fill: rgb(255, 102, 146); fill-opacity: 1;\"/><path class=\"point\" transform=\"translate(332.95,180.95)\" d=\"M3,0A3,3 0 1,1 0,-3A3,3 0 0,1 3,0Z\" style=\"opacity: 1; stroke-width: 0px; fill: rgb(255, 102, 146); fill-opacity: 1;\"/><path class=\"point\" transform=\"translate(347.8,97.66)\" d=\"M3,0A3,3 0 1,1 0,-3A3,3 0 0,1 3,0Z\" style=\"opacity: 1; stroke-width: 0px; fill: rgb(255, 102, 146); fill-opacity: 1;\"/><path class=\"point\" transform=\"translate(360.53,252.75)\" d=\"M3,0A3,3 0 1,1 0,-3A3,3 0 0,1 3,0Z\" style=\"opacity: 1; stroke-width: 0px; fill: rgb(255, 102, 146); fill-opacity: 1;\"/><path class=\"point\" transform=\"translate(375.38,134.04)\" d=\"M3,0A3,3 0 1,1 0,-3A3,3 0 0,1 3,0Z\" style=\"opacity: 1; stroke-width: 0px; fill: rgb(255, 102, 146); fill-opacity: 1;\"/></g><g class=\"text\"/></g><g class=\"trace scatter trace8501ec\" style=\"stroke-miterlimit: 2; opacity: 1;\"><g class=\"fills\"/><g class=\"errorbars\"/><g class=\"lines\"><path class=\"js-line\" d=\"M48.71,46.93L63.56,128.3L78.41,120.64L91.14,137.87L105.98,102.45L120.83,107.24L137.8,141.7L152.65,149.36L165.38,132.13L182.35,124.47L195.08,121.6L224.77,105.32L239.62,138.83L256.59,129.26L269.32,212.54L284.17,155.1L299.02,124.47L315.98,170.42L328.71,92.88L358.41,156.06L375.38,166.59\" style=\"vector-effect: non-scaling-stroke; fill: none; stroke: rgb(182, 232, 128); stroke-opacity: 1; stroke-width: 2px; opacity: 1;\"/></g><g class=\"points\"><path class=\"point\" transform=\"translate(48.71,46.93)\" d=\"M3,0A3,3 0 1,1 0,-3A3,3 0 0,1 3,0Z\" style=\"opacity: 1; stroke-width: 0px; fill: rgb(182, 232, 128); fill-opacity: 1;\"/><path class=\"point\" transform=\"translate(63.56,128.3)\" d=\"M3,0A3,3 0 1,1 0,-3A3,3 0 0,1 3,0Z\" style=\"opacity: 1; stroke-width: 0px; fill: rgb(182, 232, 128); fill-opacity: 1;\"/><path class=\"point\" transform=\"translate(78.41,120.64)\" d=\"M3,0A3,3 0 1,1 0,-3A3,3 0 0,1 3,0Z\" style=\"opacity: 1; stroke-width: 0px; fill: rgb(182, 232, 128); fill-opacity: 1;\"/><path class=\"point\" transform=\"translate(91.14,137.87)\" d=\"M3,0A3,3 0 1,1 0,-3A3,3 0 0,1 3,0Z\" style=\"opacity: 1; stroke-width: 0px; fill: rgb(182, 232, 128); fill-opacity: 1;\"/><path class=\"point\" transform=\"translate(105.98,102.45)\" d=\"M3,0A3,3 0 1,1 0,-3A3,3 0 0,1 3,0Z\" style=\"opacity: 1; stroke-width: 0px; fill: rgb(182, 232, 128); fill-opacity: 1;\"/><path class=\"point\" transform=\"translate(120.83,107.24)\" d=\"M3,0A3,3 0 1,1 0,-3A3,3 0 0,1 3,0Z\" style=\"opacity: 1; stroke-width: 0px; fill: rgb(182, 232, 128); fill-opacity: 1;\"/><path class=\"point\" transform=\"translate(137.8,141.7)\" d=\"M3,0A3,3 0 1,1 0,-3A3,3 0 0,1 3,0Z\" style=\"opacity: 1; stroke-width: 0px; fill: rgb(182, 232, 128); fill-opacity: 1;\"/><path class=\"point\" transform=\"translate(152.65,149.36)\" d=\"M3,0A3,3 0 1,1 0,-3A3,3 0 0,1 3,0Z\" style=\"opacity: 1; stroke-width: 0px; fill: rgb(182, 232, 128); fill-opacity: 1;\"/><path class=\"point\" transform=\"translate(165.38,132.13)\" d=\"M3,0A3,3 0 1,1 0,-3A3,3 0 0,1 3,0Z\" style=\"opacity: 1; stroke-width: 0px; fill: rgb(182, 232, 128); fill-opacity: 1;\"/><path class=\"point\" transform=\"translate(182.35,124.47)\" d=\"M3,0A3,3 0 1,1 0,-3A3,3 0 0,1 3,0Z\" style=\"opacity: 1; stroke-width: 0px; fill: rgb(182, 232, 128); fill-opacity: 1;\"/><path class=\"point\" transform=\"translate(195.08,121.6)\" d=\"M3,0A3,3 0 1,1 0,-3A3,3 0 0,1 3,0Z\" style=\"opacity: 1; stroke-width: 0px; fill: rgb(182, 232, 128); fill-opacity: 1;\"/><path class=\"point\" transform=\"translate(224.77,105.32)\" d=\"M3,0A3,3 0 1,1 0,-3A3,3 0 0,1 3,0Z\" style=\"opacity: 1; stroke-width: 0px; fill: rgb(182, 232, 128); fill-opacity: 1;\"/><path class=\"point\" transform=\"translate(239.62,138.83)\" d=\"M3,0A3,3 0 1,1 0,-3A3,3 0 0,1 3,0Z\" style=\"opacity: 1; stroke-width: 0px; fill: rgb(182, 232, 128); fill-opacity: 1;\"/><path class=\"point\" transform=\"translate(256.59,129.26)\" d=\"M3,0A3,3 0 1,1 0,-3A3,3 0 0,1 3,0Z\" style=\"opacity: 1; stroke-width: 0px; fill: rgb(182, 232, 128); fill-opacity: 1;\"/><path class=\"point\" transform=\"translate(269.32,212.54)\" d=\"M3,0A3,3 0 1,1 0,-3A3,3 0 0,1 3,0Z\" style=\"opacity: 1; stroke-width: 0px; fill: rgb(182, 232, 128); fill-opacity: 1;\"/><path class=\"point\" transform=\"translate(284.17,155.1)\" d=\"M3,0A3,3 0 1,1 0,-3A3,3 0 0,1 3,0Z\" style=\"opacity: 1; stroke-width: 0px; fill: rgb(182, 232, 128); fill-opacity: 1;\"/><path class=\"point\" transform=\"translate(299.02,124.47)\" d=\"M3,0A3,3 0 1,1 0,-3A3,3 0 0,1 3,0Z\" style=\"opacity: 1; stroke-width: 0px; fill: rgb(182, 232, 128); fill-opacity: 1;\"/><path class=\"point\" transform=\"translate(315.98,170.42)\" d=\"M3,0A3,3 0 1,1 0,-3A3,3 0 0,1 3,0Z\" style=\"opacity: 1; stroke-width: 0px; fill: rgb(182, 232, 128); fill-opacity: 1;\"/><path class=\"point\" transform=\"translate(328.71,92.88)\" d=\"M3,0A3,3 0 1,1 0,-3A3,3 0 0,1 3,0Z\" style=\"opacity: 1; stroke-width: 0px; fill: rgb(182, 232, 128); fill-opacity: 1;\"/><path class=\"point\" transform=\"translate(345.68,128.3)\" d=\"M3,0A3,3 0 1,1 0,-3A3,3 0 0,1 3,0Z\" style=\"opacity: 1; stroke-width: 0px; fill: rgb(182, 232, 128); fill-opacity: 1;\"/><path class=\"point\" transform=\"translate(358.41,156.06)\" d=\"M3,0A3,3 0 1,1 0,-3A3,3 0 0,1 3,0Z\" style=\"opacity: 1; stroke-width: 0px; fill: rgb(182, 232, 128); fill-opacity: 1;\"/><path class=\"point\" transform=\"translate(375.38,166.59)\" d=\"M3,0A3,3 0 1,1 0,-3A3,3 0 0,1 3,0Z\" style=\"opacity: 1; stroke-width: 0px; fill: rgb(182, 232, 128); fill-opacity: 1;\"/></g><g class=\"text\"/></g><g class=\"trace scatter tracea02e14\" style=\"stroke-miterlimit: 2; opacity: 1;\"><g class=\"fills\"/><g class=\"errorbars\"/><g class=\"lines\"><path class=\"js-line\" d=\"M42.35,131.17L220.53,136.91L237.5,153.19L250.23,137.87L267.2,106.28L279.92,119.68L296.89,154.15L313.86,156.06L326.59,113.94L343.56,110.11L354.17,129.26L369.02,95.75L383.86,161.8L392.35,151.27L402.95,112.02L413.56,64.16L430.53,154.15\" style=\"vector-effect: non-scaling-stroke; fill: none; stroke: rgb(255, 151, 255); stroke-opacity: 1; stroke-width: 2px; opacity: 1;\"/></g><g class=\"points\"><path class=\"point\" transform=\"translate(42.35,131.17)\" d=\"M3,0A3,3 0 1,1 0,-3A3,3 0 0,1 3,0Z\" style=\"opacity: 1; stroke-width: 0px; fill: rgb(255, 151, 255); fill-opacity: 1;\"/><path class=\"point\" transform=\"translate(220.53,136.91)\" d=\"M3,0A3,3 0 1,1 0,-3A3,3 0 0,1 3,0Z\" style=\"opacity: 1; stroke-width: 0px; fill: rgb(255, 151, 255); fill-opacity: 1;\"/><path class=\"point\" transform=\"translate(237.5,153.19)\" d=\"M3,0A3,3 0 1,1 0,-3A3,3 0 0,1 3,0Z\" style=\"opacity: 1; stroke-width: 0px; fill: rgb(255, 151, 255); fill-opacity: 1;\"/><path class=\"point\" transform=\"translate(250.23,137.87)\" d=\"M3,0A3,3 0 1,1 0,-3A3,3 0 0,1 3,0Z\" style=\"opacity: 1; stroke-width: 0px; fill: rgb(255, 151, 255); fill-opacity: 1;\"/><path class=\"point\" transform=\"translate(267.2,106.28)\" d=\"M3,0A3,3 0 1,1 0,-3A3,3 0 0,1 3,0Z\" style=\"opacity: 1; stroke-width: 0px; fill: rgb(255, 151, 255); fill-opacity: 1;\"/><path class=\"point\" transform=\"translate(279.92,119.68)\" d=\"M3,0A3,3 0 1,1 0,-3A3,3 0 0,1 3,0Z\" style=\"opacity: 1; stroke-width: 0px; fill: rgb(255, 151, 255); fill-opacity: 1;\"/><path class=\"point\" transform=\"translate(296.89,154.15)\" d=\"M3,0A3,3 0 1,1 0,-3A3,3 0 0,1 3,0Z\" style=\"opacity: 1; stroke-width: 0px; fill: rgb(255, 151, 255); fill-opacity: 1;\"/><path class=\"point\" transform=\"translate(313.86,156.06)\" d=\"M3,0A3,3 0 1,1 0,-3A3,3 0 0,1 3,0Z\" style=\"opacity: 1; stroke-width: 0px; fill: rgb(255, 151, 255); fill-opacity: 1;\"/><path class=\"point\" transform=\"translate(326.59,113.94)\" d=\"M3,0A3,3 0 1,1 0,-3A3,3 0 0,1 3,0Z\" style=\"opacity: 1; stroke-width: 0px; fill: rgb(255, 151, 255); fill-opacity: 1;\"/><path class=\"point\" transform=\"translate(343.56,110.11)\" d=\"M3,0A3,3 0 1,1 0,-3A3,3 0 0,1 3,0Z\" style=\"opacity: 1; stroke-width: 0px; fill: rgb(255, 151, 255); fill-opacity: 1;\"/><path class=\"point\" transform=\"translate(354.17,129.26)\" d=\"M3,0A3,3 0 1,1 0,-3A3,3 0 0,1 3,0Z\" style=\"opacity: 1; stroke-width: 0px; fill: rgb(255, 151, 255); fill-opacity: 1;\"/><path class=\"point\" transform=\"translate(369.02,95.75)\" d=\"M3,0A3,3 0 1,1 0,-3A3,3 0 0,1 3,0Z\" style=\"opacity: 1; stroke-width: 0px; fill: rgb(255, 151, 255); fill-opacity: 1;\"/><path class=\"point\" transform=\"translate(383.86,161.8)\" d=\"M3,0A3,3 0 1,1 0,-3A3,3 0 0,1 3,0Z\" style=\"opacity: 1; stroke-width: 0px; fill: rgb(255, 151, 255); fill-opacity: 1;\"/><path class=\"point\" transform=\"translate(392.35,151.27)\" d=\"M3,0A3,3 0 1,1 0,-3A3,3 0 0,1 3,0Z\" style=\"opacity: 1; stroke-width: 0px; fill: rgb(255, 151, 255); fill-opacity: 1;\"/><path class=\"point\" transform=\"translate(402.95,112.02)\" d=\"M3,0A3,3 0 1,1 0,-3A3,3 0 0,1 3,0Z\" style=\"opacity: 1; stroke-width: 0px; fill: rgb(255, 151, 255); fill-opacity: 1;\"/><path class=\"point\" transform=\"translate(413.56,64.16)\" d=\"M3,0A3,3 0 1,1 0,-3A3,3 0 0,1 3,0Z\" style=\"opacity: 1; stroke-width: 0px; fill: rgb(255, 151, 255); fill-opacity: 1;\"/><path class=\"point\" transform=\"translate(430.53,154.15)\" d=\"M3,0A3,3 0 1,1 0,-3A3,3 0 0,1 3,0Z\" style=\"opacity: 1; stroke-width: 0px; fill: rgb(255, 151, 255); fill-opacity: 1;\"/></g><g class=\"text\"/></g></g></g><g class=\"overplot\"/><path class=\"xlines-above crisp\" d=\"M79,370.5H555\" style=\"fill: none; stroke-width: 1px; stroke: rgb(255, 255, 255); stroke-opacity: 1;\"/><path class=\"ylines-above crisp\" d=\"M79.5,100V370\" style=\"fill: none; stroke-width: 1px; stroke: rgb(255, 255, 255); stroke-opacity: 1;\"/><g class=\"overlines-above\"/><g class=\"xaxislayer-above\"><g class=\"xtick\"><text text-anchor=\"middle\" x=\"0\" y=\"385.4\" transform=\"translate(145.68,0)\" style=\"font-family: 'Open Sans', verdana, arial, sans-serif; font-size: 12px; fill: rgb(42, 63, 95); fill-opacity: 1; white-space: pre;\">01-Apr</text></g><g class=\"xtick\"><text text-anchor=\"middle\" x=\"0\" y=\"385.4\" transform=\"translate(209.32,0)\" style=\"font-family: 'Open Sans', verdana, arial, sans-serif; font-size: 12px; fill: rgb(42, 63, 95); fill-opacity: 1; white-space: pre;\">01-May</text></g><g class=\"xtick\"><text text-anchor=\"middle\" x=\"0\" y=\"385.4\" transform=\"translate(275.08000000000004,0)\" style=\"font-family: 'Open Sans', verdana, arial, sans-serif; font-size: 12px; fill: rgb(42, 63, 95); fill-opacity: 1; white-space: pre;\">01-Jun</text></g><g class=\"xtick\"><text text-anchor=\"middle\" x=\"0\" y=\"385.4\" transform=\"translate(338.71,0)\" style=\"font-family: 'Open Sans', verdana, arial, sans-serif; font-size: 12px; fill: rgb(42, 63, 95); fill-opacity: 1; white-space: pre;\">01-Jul</text></g><g class=\"xtick\"><text text-anchor=\"middle\" x=\"0\" y=\"385.4\" transform=\"translate(404.47,0)\" style=\"font-family: 'Open Sans', verdana, arial, sans-serif; font-size: 12px; fill: rgb(42, 63, 95); fill-opacity: 1; white-space: pre;\">01-Aug</text></g><g class=\"xtick\"><text text-anchor=\"middle\" x=\"0\" y=\"385.4\" transform=\"translate(470.23,0)\" style=\"font-family: 'Open Sans', verdana, arial, sans-serif; font-size: 12px; fill: rgb(42, 63, 95); fill-opacity: 1; white-space: pre;\">01-Sep</text></g></g><g class=\"yaxislayer-above\"><g class=\"ytick\"><text text-anchor=\"end\" x=\"76.6\" y=\"4.199999999999999\" transform=\"translate(0,369.02)\" style=\"font-family: 'Open Sans', verdana, arial, sans-serif; font-size: 12px; fill: rgb(42, 63, 95); fill-opacity: 1; white-space: pre;\">−150</text></g><g class=\"ytick\"><text text-anchor=\"end\" x=\"76.6\" y=\"4.199999999999999\" transform=\"translate(0,321.15999999999997)\" style=\"font-family: 'Open Sans', verdana, arial, sans-serif; font-size: 12px; fill: rgb(42, 63, 95); fill-opacity: 1; white-space: pre;\">−100</text></g><g class=\"ytick\"><text text-anchor=\"end\" x=\"76.6\" y=\"4.199999999999999\" transform=\"translate(0,273.28999999999996)\" style=\"font-family: 'Open Sans', verdana, arial, sans-serif; font-size: 12px; fill: rgb(42, 63, 95); fill-opacity: 1; white-space: pre;\">−50</text></g><g class=\"ytick\"><text text-anchor=\"end\" x=\"76.6\" y=\"4.199999999999999\" transform=\"translate(0,225.43)\" style=\"font-family: 'Open Sans', verdana, arial, sans-serif; font-size: 12px; fill: rgb(42, 63, 95); fill-opacity: 1; white-space: pre;\">0</text></g><g class=\"ytick\"><text text-anchor=\"end\" x=\"76.6\" y=\"4.199999999999999\" transform=\"translate(0,177.56)\" style=\"font-family: 'Open Sans', verdana, arial, sans-serif; font-size: 12px; fill: rgb(42, 63, 95); fill-opacity: 1; white-space: pre;\">50</text></g><g class=\"ytick\"><text text-anchor=\"end\" x=\"76.6\" y=\"4.199999999999999\" transform=\"translate(0,129.7)\" style=\"font-family: 'Open Sans', verdana, arial, sans-serif; font-size: 12px; fill: rgb(42, 63, 95); fill-opacity: 1; white-space: pre;\">100</text></g></g><g class=\"overaxes-above\"/></g></g><g class=\"polarlayer\"/><g class=\"ternarylayer\"/><g class=\"geolayer\"/><g class=\"funnelarealayer\"/><g class=\"pielayer\"/><g class=\"treemaplayer\"/><g class=\"sunburstlayer\"/><g class=\"glimages\"/><defs id=\"topdefs-aa3be5\"><g class=\"clips\"/><clipPath id=\"legendaa3be5\"><rect width=\"124\" height=\"181\" x=\"0\" y=\"0\"/></clipPath></defs><g class=\"layer-above\"><g class=\"imagelayer\"/><g class=\"shapelayer\"/></g><g class=\"infolayer\"><g class=\"legend\" pointer-events=\"all\" transform=\"translate(564.5, 100)\"><rect class=\"bg\" shape-rendering=\"crispEdges\" style=\"stroke: rgb(68, 68, 68); stroke-opacity: 1; fill: rgb(255, 255, 255); fill-opacity: 1; stroke-width: 0px;\" width=\"124\" height=\"181\" x=\"0\" y=\"0\"/><g class=\"scrollbox\" transform=\"translate(0, 0)\" clip-path=\"url('#legendaa3be5')\"><g class=\"groups\"><g class=\"traces\" transform=\"translate(0, 14.5)\" style=\"opacity: 1;\"><text class=\"legendtext user-select-none\" text-anchor=\"start\" x=\"40\" y=\"4.680000000000001\" style=\"font-family: 'Open Sans', verdana, arial, sans-serif; font-size: 12px; fill: rgb(42, 63, 95); fill-opacity: 1; white-space: pre;\">2012 Season</text><g class=\"layers\" style=\"opacity: 1;\"><g class=\"legendfill\"/><g class=\"legendlines\"><path class=\"js-line\" d=\"M5,0h30\" style=\"fill: none; stroke: rgb(99, 110, 250); stroke-opacity: 1; stroke-width: 2px;\"/></g><g class=\"legendsymbols\"><g class=\"legendpoints\"><path class=\"scatterpts\" transform=\"translate(20,0)\" d=\"M3,0A3,3 0 1,1 0,-3A3,3 0 0,1 3,0Z\" style=\"opacity: 1; stroke-width: 0px; fill: rgb(99, 110, 250); fill-opacity: 1;\"/></g></g></g><rect class=\"legendtoggle\" pointer-events=\"all\" x=\"0\" y=\"-9.5\" width=\"118.421875\" height=\"19\" style=\"cursor: pointer; fill: rgb(0, 0, 0); fill-opacity: 0;\"/></g><g class=\"traces\" transform=\"translate(0, 33.5)\" style=\"opacity: 1;\"><text class=\"legendtext user-select-none\" text-anchor=\"start\" x=\"40\" y=\"4.680000000000001\" style=\"font-family: 'Open Sans', verdana, arial, sans-serif; font-size: 12px; fill: rgb(42, 63, 95); fill-opacity: 1; white-space: pre;\">2013 Season</text><g class=\"layers\" style=\"opacity: 1;\"><g class=\"legendfill\"/><g class=\"legendlines\"><path class=\"js-line\" d=\"M5,0h30\" style=\"fill: none; stroke: rgb(239, 85, 59); stroke-opacity: 1; stroke-width: 2px;\"/></g><g class=\"legendsymbols\"><g class=\"legendpoints\"><path class=\"scatterpts\" transform=\"translate(20,0)\" d=\"M3,0A3,3 0 1,1 0,-3A3,3 0 0,1 3,0Z\" style=\"opacity: 1; stroke-width: 0px; fill: rgb(239, 85, 59); fill-opacity: 1;\"/></g></g></g><rect class=\"legendtoggle\" pointer-events=\"all\" x=\"0\" y=\"-9.5\" width=\"118.421875\" height=\"19\" style=\"cursor: pointer; fill: rgb(0, 0, 0); fill-opacity: 0;\"/></g><g class=\"traces\" transform=\"translate(0, 52.5)\" style=\"opacity: 1;\"><text class=\"legendtext user-select-none\" text-anchor=\"start\" x=\"40\" y=\"4.680000000000001\" style=\"font-family: 'Open Sans', verdana, arial, sans-serif; font-size: 12px; fill: rgb(42, 63, 95); fill-opacity: 1; white-space: pre;\">2014 Season</text><g class=\"layers\" style=\"opacity: 1;\"><g class=\"legendfill\"/><g class=\"legendlines\"><path class=\"js-line\" d=\"M5,0h30\" style=\"fill: none; stroke: rgb(0, 204, 150); stroke-opacity: 1; stroke-width: 2px;\"/></g><g class=\"legendsymbols\"><g class=\"legendpoints\"><path class=\"scatterpts\" transform=\"translate(20,0)\" d=\"M3,0A3,3 0 1,1 0,-3A3,3 0 0,1 3,0Z\" style=\"opacity: 1; stroke-width: 0px; fill: rgb(0, 204, 150); fill-opacity: 1;\"/></g></g></g><rect class=\"legendtoggle\" pointer-events=\"all\" x=\"0\" y=\"-9.5\" width=\"118.421875\" height=\"19\" style=\"cursor: pointer; fill: rgb(0, 0, 0); fill-opacity: 0;\"/></g><g class=\"traces\" transform=\"translate(0, 71.5)\" style=\"opacity: 1;\"><text class=\"legendtext user-select-none\" text-anchor=\"start\" x=\"40\" y=\"4.680000000000001\" style=\"font-family: 'Open Sans', verdana, arial, sans-serif; font-size: 12px; fill: rgb(42, 63, 95); fill-opacity: 1; white-space: pre;\">2015 Season</text><g class=\"layers\" style=\"opacity: 1;\"><g class=\"legendfill\"/><g class=\"legendlines\"><path class=\"js-line\" d=\"M5,0h30\" style=\"fill: none; stroke: rgb(171, 99, 250); stroke-opacity: 1; stroke-width: 2px;\"/></g><g class=\"legendsymbols\"><g class=\"legendpoints\"><path class=\"scatterpts\" transform=\"translate(20,0)\" d=\"M3,0A3,3 0 1,1 0,-3A3,3 0 0,1 3,0Z\" style=\"opacity: 1; stroke-width: 0px; fill: rgb(171, 99, 250); fill-opacity: 1;\"/></g></g></g><rect class=\"legendtoggle\" pointer-events=\"all\" x=\"0\" y=\"-9.5\" width=\"118.421875\" height=\"19\" style=\"cursor: pointer; fill: rgb(0, 0, 0); fill-opacity: 0;\"/></g><g class=\"traces\" transform=\"translate(0, 90.5)\" style=\"opacity: 1;\"><text class=\"legendtext user-select-none\" text-anchor=\"start\" x=\"40\" y=\"4.680000000000001\" style=\"font-family: 'Open Sans', verdana, arial, sans-serif; font-size: 12px; fill: rgb(42, 63, 95); fill-opacity: 1; white-space: pre;\">2016 Season</text><g class=\"layers\" style=\"opacity: 1;\"><g class=\"legendfill\"/><g class=\"legendlines\"><path class=\"js-line\" d=\"M5,0h30\" style=\"fill: none; stroke: rgb(255, 161, 90); stroke-opacity: 1; stroke-width: 2px;\"/></g><g class=\"legendsymbols\"><g class=\"legendpoints\"><path class=\"scatterpts\" transform=\"translate(20,0)\" d=\"M3,0A3,3 0 1,1 0,-3A3,3 0 0,1 3,0Z\" style=\"opacity: 1; stroke-width: 0px; fill: rgb(255, 161, 90); fill-opacity: 1;\"/></g></g></g><rect class=\"legendtoggle\" pointer-events=\"all\" x=\"0\" y=\"-9.5\" width=\"118.421875\" height=\"19\" style=\"cursor: pointer; fill: rgb(0, 0, 0); fill-opacity: 0;\"/></g><g class=\"traces\" transform=\"translate(0, 109.5)\" style=\"opacity: 1;\"><text class=\"legendtext user-select-none\" text-anchor=\"start\" x=\"40\" y=\"4.680000000000001\" style=\"font-family: 'Open Sans', verdana, arial, sans-serif; font-size: 12px; fill: rgb(42, 63, 95); fill-opacity: 1; white-space: pre;\">2017 Season</text><g class=\"layers\" style=\"opacity: 1;\"><g class=\"legendfill\"/><g class=\"legendlines\"><path class=\"js-line\" d=\"M5,0h30\" style=\"fill: none; stroke: rgb(25, 211, 243); stroke-opacity: 1; stroke-width: 2px;\"/></g><g class=\"legendsymbols\"><g class=\"legendpoints\"><path class=\"scatterpts\" transform=\"translate(20,0)\" d=\"M3,0A3,3 0 1,1 0,-3A3,3 0 0,1 3,0Z\" style=\"opacity: 1; stroke-width: 0px; fill: rgb(25, 211, 243); fill-opacity: 1;\"/></g></g></g><rect class=\"legendtoggle\" pointer-events=\"all\" x=\"0\" y=\"-9.5\" width=\"118.421875\" height=\"19\" style=\"cursor: pointer; fill: rgb(0, 0, 0); fill-opacity: 0;\"/></g><g class=\"traces\" transform=\"translate(0, 128.5)\" style=\"opacity: 1;\"><text class=\"legendtext user-select-none\" text-anchor=\"start\" x=\"40\" y=\"4.680000000000001\" style=\"font-family: 'Open Sans', verdana, arial, sans-serif; font-size: 12px; fill: rgb(42, 63, 95); fill-opacity: 1; white-space: pre;\">2018 Season</text><g class=\"layers\" style=\"opacity: 1;\"><g class=\"legendfill\"/><g class=\"legendlines\"><path class=\"js-line\" d=\"M5,0h30\" style=\"fill: none; stroke: rgb(255, 102, 146); stroke-opacity: 1; stroke-width: 2px;\"/></g><g class=\"legendsymbols\"><g class=\"legendpoints\"><path class=\"scatterpts\" transform=\"translate(20,0)\" d=\"M3,0A3,3 0 1,1 0,-3A3,3 0 0,1 3,0Z\" style=\"opacity: 1; stroke-width: 0px; fill: rgb(255, 102, 146); fill-opacity: 1;\"/></g></g></g><rect class=\"legendtoggle\" pointer-events=\"all\" x=\"0\" y=\"-9.5\" width=\"118.421875\" height=\"19\" style=\"cursor: pointer; fill: rgb(0, 0, 0); fill-opacity: 0;\"/></g><g class=\"traces\" transform=\"translate(0, 147.5)\" style=\"opacity: 1;\"><text class=\"legendtext user-select-none\" text-anchor=\"start\" x=\"40\" y=\"4.680000000000001\" style=\"font-family: 'Open Sans', verdana, arial, sans-serif; font-size: 12px; fill: rgb(42, 63, 95); fill-opacity: 1; white-space: pre;\">2019 Season</text><g class=\"layers\" style=\"opacity: 1;\"><g class=\"legendfill\"/><g class=\"legendlines\"><path class=\"js-line\" d=\"M5,0h30\" style=\"fill: none; stroke: rgb(182, 232, 128); stroke-opacity: 1; stroke-width: 2px;\"/></g><g class=\"legendsymbols\"><g class=\"legendpoints\"><path class=\"scatterpts\" transform=\"translate(20,0)\" d=\"M3,0A3,3 0 1,1 0,-3A3,3 0 0,1 3,0Z\" style=\"opacity: 1; stroke-width: 0px; fill: rgb(182, 232, 128); fill-opacity: 1;\"/></g></g></g><rect class=\"legendtoggle\" pointer-events=\"all\" x=\"0\" y=\"-9.5\" width=\"118.421875\" height=\"19\" style=\"cursor: pointer; fill: rgb(0, 0, 0); fill-opacity: 0;\"/></g><g class=\"traces\" transform=\"translate(0, 166.5)\" style=\"opacity: 1;\"><text class=\"legendtext user-select-none\" text-anchor=\"start\" x=\"40\" y=\"4.680000000000001\" style=\"font-family: 'Open Sans', verdana, arial, sans-serif; font-size: 12px; fill: rgb(42, 63, 95); fill-opacity: 1; white-space: pre;\">2020 Season</text><g class=\"layers\" style=\"opacity: 1;\"><g class=\"legendfill\"/><g class=\"legendlines\"><path class=\"js-line\" d=\"M5,0h30\" style=\"fill: none; stroke: rgb(255, 151, 255); stroke-opacity: 1; stroke-width: 2px;\"/></g><g class=\"legendsymbols\"><g class=\"legendpoints\"><path class=\"scatterpts\" transform=\"translate(20,0)\" d=\"M3,0A3,3 0 1,1 0,-3A3,3 0 0,1 3,0Z\" style=\"opacity: 1; stroke-width: 0px; fill: rgb(255, 151, 255); fill-opacity: 1;\"/></g></g></g><rect class=\"legendtoggle\" pointer-events=\"all\" x=\"0\" y=\"-9.5\" width=\"118.421875\" height=\"19\" style=\"cursor: pointer; fill: rgb(0, 0, 0); fill-opacity: 0;\"/></g></g></g><rect class=\"scrollbar\" rx=\"20\" ry=\"3\" width=\"0\" height=\"0\" style=\"fill: rgb(128, 139, 164); fill-opacity: 1;\" x=\"0\" y=\"0\"/></g><g class=\"g-gtitle\"><text class=\"gtitle\" x=\"350\" y=\"50\" text-anchor=\"middle\" dy=\"0em\" style=\"font-family: 'Open Sans', verdana, arial, sans-serif; font-size: 17px; fill: rgb(42, 63, 95); opacity: 1; font-weight: normal; white-space: pre;\">Fremantle Score Margin For Matches Played From 2012 To 2020</text></g><g class=\"g-xtitle\"><text class=\"xtitle\" x=\"317.5\" y=\"412.70625\" text-anchor=\"middle\" style=\"font-family: 'Open Sans', verdana, arial, sans-serif; font-size: 14px; fill: rgb(42, 63, 95); opacity: 1; font-weight: normal; white-space: pre;\">Date of Game</text></g><g class=\"g-ytitle\"><text class=\"ytitle\" transform=\"rotate(-90,19.090625000000003,235)\" x=\"19.090625000000003\" y=\"235\" text-anchor=\"middle\" style=\"font-family: 'Open Sans', verdana, arial, sans-serif; font-size: 14px; fill: rgb(42, 63, 95); opacity: 1; font-weight: normal; white-space: pre;\">Margin</text></g></g></svg>"
      ]
     },
     "metadata": {},
     "output_type": "display_data"
    }
   ],
   "source": [
    "fig = go.Figure()\n",
    "\n",
    "for year in agg_FRM['Year'].unique():\n",
    "    #plot score margin of each match for every year (2012-2020)\n",
    "    fig.add_trace(go.Scatter( \n",
    "                 x = agg_FRM[agg_FRM['Year']==year]['Standard-Date'], \n",
    "                 y = agg_FRM[agg_FRM['Year']==year]['Margin'], \n",
    "                 line=dict(width=2), name = f'{year} Season'))\n",
    "\n",
    "#Amend xlabel so day and month are shown (i.e. 01-Apr), not month and year\n",
    "months = []\n",
    "for m in range(min(agg_FRM['Standard-Date']).month,max(agg_FRM['Standard-Date']).month+1):\n",
    "    months.append(date(2000,m,1))\n",
    "\n",
    "month_labels = [x.strftime('%d-%b') for x in months]\n",
    "    \n",
    "fig.update_xaxes(ticktext=month_labels, tickvals=months)\n",
    "\n",
    "fig.update_traces(mode='lines+markers')\n",
    "fig.update_layout(title = 'Fremantle Score Margin For Matches Played From 2012 To 2020', \n",
    "                  title_x = 0.5,\n",
    "                 xaxis_title = 'Date of Game', \n",
    "                 yaxis_title = 'Margin')\n",
    "\n",
    "fig.show()"
   ]
  },
  {
   "cell_type": "markdown",
   "id": "35207b73",
   "metadata": {
    "papermill": {
     "duration": 0.148231,
     "end_time": "2022-02-04T10:13:48.691066",
     "exception": false,
     "start_time": "2022-02-04T10:13:48.542835",
     "status": "completed"
    },
    "tags": []
   },
   "source": [
    "Displayed above are the score margins for every match played by Fremantle from the start of the 2012 season on 31st March, all the way to the final match played in the 2020 season on 20th September. Although quite messy, this plot shows what the score margin was at the end of each match and, therefore, whether a match was won, lost or drawn (a single instance of a draw can be found on May 18, 2013). \n",
    "\n",
    "The interactive nature of Plotly makes it a lot easier to filter through each season and even compare two or more seasons. This can be achieved by clicking the labels in the legend to select and deselect seasons of interest. "
   ]
  },
  {
   "cell_type": "markdown",
   "id": "170e0c70",
   "metadata": {
    "papermill": {
     "duration": 0.147993,
     "end_time": "2022-02-04T10:13:48.987649",
     "exception": false,
     "start_time": "2022-02-04T10:13:48.839656",
     "status": "completed"
    },
    "tags": []
   },
   "source": [
    "From the data exploration performed, we can see that the Fremantle Dockers appear to currently be a side in what may be considered a rebuilding phase. They have enjoyed some success in the past, although not yet managing to win a Premiership, and started facing some trouble in 2016 where they won only 18% of their matches. From then on they have steadily managed to improve their win percentage to 41%. Ranking only 13th overall for goals scored and dead last for behinds scored overall, where overall is related to the time period covered by the data and not all-time, it is crucial they begin to both create and convert more scoring opportunities. "
   ]
  },
  {
   "cell_type": "markdown",
   "id": "d29c85f4",
   "metadata": {
    "papermill": {
     "duration": 0.147069,
     "end_time": "2022-02-04T10:13:49.282233",
     "exception": false,
     "start_time": "2022-02-04T10:13:49.135164",
     "status": "completed"
    },
    "tags": []
   },
   "source": [
    "**THANK YOU**"
   ]
  },
  {
   "cell_type": "markdown",
   "id": "48579cc5",
   "metadata": {
    "papermill": {
     "duration": 0.146783,
     "end_time": "2022-02-04T10:13:49.576427",
     "exception": false,
     "start_time": "2022-02-04T10:13:49.429644",
     "status": "completed"
    },
    "tags": []
   },
   "source": [
    "Thank you for taking the time to read the notebook. I hope you have found it interesting and somewhat helpful. Please do leave a comment if you have any questions and upvote it if you have enjoyed it. "
   ]
  },
  {
   "cell_type": "code",
   "execution_count": null,
   "id": "a7a93ce3",
   "metadata": {
    "papermill": {
     "duration": 0.170782,
     "end_time": "2022-02-04T10:13:49.911769",
     "exception": false,
     "start_time": "2022-02-04T10:13:49.740987",
     "status": "completed"
    },
    "tags": []
   },
   "outputs": [],
   "source": []
  }
 ],
 "metadata": {
  "kernelspec": {
   "display_name": "Python 3",
   "language": "python",
   "name": "python3"
  },
  "language_info": {
   "codemirror_mode": {
    "name": "ipython",
    "version": 3
   },
   "file_extension": ".py",
   "mimetype": "text/x-python",
   "name": "python",
   "nbconvert_exporter": "python",
   "pygments_lexer": "ipython3",
   "version": "3.7.8"
  },
  "papermill": {
   "default_parameters": {},
   "duration": 62.623913,
   "end_time": "2022-02-04T10:13:51.092341",
   "environment_variables": {},
   "exception": null,
   "input_path": "__notebook__.ipynb",
   "output_path": "__notebook__.ipynb",
   "parameters": {},
   "start_time": "2022-02-04T10:12:48.468428",
   "version": "2.3.3"
  }
 },
 "nbformat": 4,
 "nbformat_minor": 5
}
