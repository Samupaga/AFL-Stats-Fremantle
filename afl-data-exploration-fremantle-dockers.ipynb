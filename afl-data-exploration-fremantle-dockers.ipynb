{
 "cells": [
  {
   "cell_type": "code",
   "execution_count": 1,
   "id": "28482152",
   "metadata": {
    "_cell_guid": "b1076dfc-b9ad-4769-8c92-a6c4dae69d19",
    "_uuid": "8f2839f25d086af736a60e9eeb907d3b93b6e0e5",
    "execution": {
     "iopub.execute_input": "2022-02-04T10:12:58.885993Z",
     "iopub.status.busy": "2022-02-04T10:12:58.884748Z",
     "iopub.status.idle": "2022-02-04T10:12:58.911706Z",
     "shell.execute_reply": "2022-02-04T10:12:58.912316Z",
     "shell.execute_reply.started": "2022-02-04T10:04:58.675800Z"
    },
    "papermill": {
     "duration": 0.138494,
     "end_time": "2022-02-04T10:12:58.912649",
     "exception": false,
     "start_time": "2022-02-04T10:12:58.774155",
     "status": "completed"
    },
    "tags": []
   },
   "outputs": [
    {
     "name": "stdout",
     "output_type": "stream",
     "text": [
      "/kaggle/input/aflstats/players.csv\n",
      "/kaggle/input/aflstats/stats.csv\n",
      "/kaggle/input/aflstats/games.csv\n",
      "/kaggle/input/afl-statscsv/afl_stats.csv\n"
     ]
    }
   ],
   "source": [
    "# This Python 3 environment comes with many helpful analytics libraries installed\n",
    "# It is defined by the kaggle/python Docker image: https://github.com/kaggle/docker-python\n",
    "# For example, here's several helpful packages to load\n",
    "\n",
    "import numpy as np # linear algebra\n",
    "import pandas as pd # data processing, CSV file I/O (e.g. pd.read_csv)\n",
    "\n",
    "# Input data files are available in the read-only \"../input/\" directory\n",
    "# For example, running this (by clicking run or pressing Shift+Enter) will list all files under the input directory\n",
    "\n",
    "import os\n",
    "for dirname, _, filenames in os.walk('/kaggle/input'):\n",
    "    for filename in filenames:\n",
    "        print(os.path.join(dirname, filename))\n",
    "\n",
    "# You can write up to 20GB to the current directory (/kaggle/working/) that gets preserved as output when you create a version using \"Save & Run All\" \n",
    "# You can also write temporary files to /kaggle/temp/, but they won't be saved outside of the current session"
   ]
  },
  {
   "cell_type": "markdown",
   "id": "24fdd473",
   "metadata": {
    "papermill": {
     "duration": 0.113223,
     "end_time": "2022-02-04T10:12:59.133464",
     "exception": false,
     "start_time": "2022-02-04T10:12:59.020241",
     "status": "completed"
    },
    "tags": []
   },
   "source": [
    "The scope of this notebook is to explore the data contained within the afl_stats.csv file. As there are 18 teams in the AFL, I have chosen to focus my attention to only 1 of them: the Fremantle Dockers. \n",
    "\n",
    "Although I do not follow the AFL, someone I live with does. Being a Dockers fan himself, a lot of their matches would be on the TV and, more often than not, I would find myself following matches that I never intended to watch in the first place. In an attempt to learn more about the sport and the team itself, I decided to use the data provided to explore the Dockers further and build a better picture of their performace over the years. "
   ]
  },
  {
   "cell_type": "markdown",
   "id": "6c8b4069",
   "metadata": {
    "papermill": {
     "duration": 0.104864,
     "end_time": "2022-02-04T10:12:59.359974",
     "exception": false,
     "start_time": "2022-02-04T10:12:59.255110",
     "status": "completed"
    },
    "tags": []
   },
   "source": [
    "**HOUSEKEEPING**"
   ]
  },
  {
   "cell_type": "markdown",
   "id": "1acd4fd3",
   "metadata": {
    "papermill": {
     "duration": 0.103749,
     "end_time": "2022-02-04T10:12:59.568488",
     "exception": false,
     "start_time": "2022-02-04T10:12:59.464739",
     "status": "completed"
    },
    "tags": []
   },
   "source": [
    "Lets import the relevant packages that we will be using to complete the exploration and read the data. I'll begin by calling the dataframe containing the csv file df_afl. "
   ]
  },
  {
   "cell_type": "code",
   "execution_count": 2,
   "id": "834f6dac",
   "metadata": {
    "execution": {
     "iopub.execute_input": "2022-02-04T10:12:59.780917Z",
     "iopub.status.busy": "2022-02-04T10:12:59.780254Z",
     "iopub.status.idle": "2022-02-04T10:13:00.862373Z",
     "shell.execute_reply": "2022-02-04T10:13:00.861348Z",
     "shell.execute_reply.started": "2022-02-04T10:04:58.696361Z"
    },
    "papermill": {
     "duration": 1.189438,
     "end_time": "2022-02-04T10:13:00.862529",
     "exception": false,
     "start_time": "2022-02-04T10:12:59.673091",
     "status": "completed"
    },
    "tags": []
   },
   "outputs": [],
   "source": [
    "import pandas as pd\n",
    "\n",
    "import seaborn as sns\n",
    "sns.set_style('whitegrid')\n",
    "\n",
    "import matplotlib.pyplot as plt\n",
    "%matplotlib inline\n",
    "\n",
    "from datetime import datetime, date, timedelta\n",
    "\n",
    "import plotly.graph_objects as go\n",
    "from plotly.subplots import make_subplots"
   ]
  },
  {
   "cell_type": "code",
   "execution_count": 3,
   "id": "13df9a0a",
   "metadata": {
    "execution": {
     "iopub.execute_input": "2022-02-04T10:13:01.080011Z",
     "iopub.status.busy": "2022-02-04T10:13:01.079237Z",
     "iopub.status.idle": "2022-02-04T10:13:01.667976Z",
     "shell.execute_reply": "2022-02-04T10:13:01.667411Z",
     "shell.execute_reply.started": "2022-02-04T10:04:59.221536Z"
    },
    "papermill": {
     "duration": 0.699714,
     "end_time": "2022-02-04T10:13:01.668138",
     "exception": false,
     "start_time": "2022-02-04T10:13:00.968424",
     "status": "completed"
    },
    "tags": []
   },
   "outputs": [],
   "source": [
    "df_afl = pd.read_csv('/kaggle/input/afl-statscsv/afl_stats.csv')"
   ]
  },
  {
   "cell_type": "code",
   "execution_count": 4,
   "id": "6c9836b5",
   "metadata": {
    "execution": {
     "iopub.execute_input": "2022-02-04T10:13:01.886503Z",
     "iopub.status.busy": "2022-02-04T10:13:01.885756Z",
     "iopub.status.idle": "2022-02-04T10:13:02.024483Z",
     "shell.execute_reply": "2022-02-04T10:13:02.023932Z",
     "shell.execute_reply.started": "2022-02-04T10:04:59.668207Z"
    },
    "papermill": {
     "duration": 0.252701,
     "end_time": "2022-02-04T10:13:02.024621",
     "exception": false,
     "start_time": "2022-02-04T10:13:01.771920",
     "status": "completed"
    },
    "tags": []
   },
   "outputs": [
    {
     "name": "stdout",
     "output_type": "stream",
     "text": [
      "<class 'pandas.core.frame.DataFrame'>\n",
      "RangeIndex: 79948 entries, 0 to 79947\n",
      "Data columns (total 42 columns):\n",
      " #   Column                   Non-Null Count  Dtype  \n",
      "---  ------                   --------------  -----  \n",
      " 0   Year                     79948 non-null  int64  \n",
      " 1   Round                    79948 non-null  object \n",
      " 2   Team                     79948 non-null  object \n",
      " 3   Score                    79948 non-null  int64  \n",
      " 4   Margin                   79948 non-null  int64  \n",
      " 5   WinLoss                  79948 non-null  object \n",
      " 6   Opposition               79948 non-null  object \n",
      " 7   Day                      79948 non-null  object \n",
      " 8   Date                     79948 non-null  object \n",
      " 9   Start Time               79948 non-null  object \n",
      " 10  Venue                    79948 non-null  object \n",
      " 11  Attendance               79948 non-null  object \n",
      " 12  Rainfall(mm)             78672 non-null  float64\n",
      " 13  Player                   79948 non-null  object \n",
      " 14  DOB                      79948 non-null  object \n",
      " 15  Height                   79948 non-null  int64  \n",
      " 16  Weight                   79948 non-null  int64  \n",
      " 17  Position                 79948 non-null  object \n",
      " 18  Disposals                79948 non-null  int64  \n",
      " 19  Kicks                    79948 non-null  int64  \n",
      " 20  Marks                    79948 non-null  int64  \n",
      " 21  Handballs                79948 non-null  int64  \n",
      " 22  Goals                    79948 non-null  int64  \n",
      " 23  Behinds                  79948 non-null  int64  \n",
      " 24  Hit Outs                 79948 non-null  int64  \n",
      " 25  Tackles                  79948 non-null  int64  \n",
      " 26  Rebounds                 79948 non-null  int64  \n",
      " 27  Inside 50s               79948 non-null  int64  \n",
      " 28  Clearances               79948 non-null  int64  \n",
      " 29  Clangers                 79948 non-null  int64  \n",
      " 30  Frees                    79948 non-null  int64  \n",
      " 31  Frees Against            79948 non-null  int64  \n",
      " 32  Brownlow Votes           79948 non-null  int64  \n",
      " 33  Contested Possessions    79948 non-null  int64  \n",
      " 34  Uncontested Possessions  79948 non-null  int64  \n",
      " 35  Contested Marks          79948 non-null  int64  \n",
      " 36  Marks Inside 50          79948 non-null  int64  \n",
      " 37  One Percenters           79948 non-null  int64  \n",
      " 38  Bounces                  79948 non-null  int64  \n",
      " 39  Goal Assists             79948 non-null  int64  \n",
      " 40  % Played                 79948 non-null  int64  \n",
      " 41  Subs                     36388 non-null  object \n",
      "dtypes: float64(1), int64(28), object(13)\n",
      "memory usage: 25.6+ MB\n"
     ]
    }
   ],
   "source": [
    "df_afl.info()"
   ]
  },
  {
   "cell_type": "code",
   "execution_count": 5,
   "id": "5dfd922b",
   "metadata": {
    "execution": {
     "iopub.execute_input": "2022-02-04T10:13:02.236848Z",
     "iopub.status.busy": "2022-02-04T10:13:02.236228Z",
     "iopub.status.idle": "2022-02-04T10:13:02.268107Z",
     "shell.execute_reply": "2022-02-04T10:13:02.268604Z",
     "shell.execute_reply.started": "2022-02-04T10:04:59.797269Z"
    },
    "papermill": {
     "duration": 0.139893,
     "end_time": "2022-02-04T10:13:02.268776",
     "exception": false,
     "start_time": "2022-02-04T10:13:02.128883",
     "status": "completed"
    },
    "tags": []
   },
   "outputs": [
    {
     "data": {
      "text/html": [
       "<div>\n",
       "<style scoped>\n",
       "    .dataframe tbody tr th:only-of-type {\n",
       "        vertical-align: middle;\n",
       "    }\n",
       "\n",
       "    .dataframe tbody tr th {\n",
       "        vertical-align: top;\n",
       "    }\n",
       "\n",
       "    .dataframe thead th {\n",
       "        text-align: right;\n",
       "    }\n",
       "</style>\n",
       "<table border=\"1\" class=\"dataframe\">\n",
       "  <thead>\n",
       "    <tr style=\"text-align: right;\">\n",
       "      <th></th>\n",
       "      <th>Year</th>\n",
       "      <th>Round</th>\n",
       "      <th>Team</th>\n",
       "      <th>Score</th>\n",
       "      <th>Margin</th>\n",
       "      <th>WinLoss</th>\n",
       "      <th>Opposition</th>\n",
       "      <th>Day</th>\n",
       "      <th>Date</th>\n",
       "      <th>Start Time</th>\n",
       "      <th>...</th>\n",
       "      <th>Brownlow Votes</th>\n",
       "      <th>Contested Possessions</th>\n",
       "      <th>Uncontested Possessions</th>\n",
       "      <th>Contested Marks</th>\n",
       "      <th>Marks Inside 50</th>\n",
       "      <th>One Percenters</th>\n",
       "      <th>Bounces</th>\n",
       "      <th>Goal Assists</th>\n",
       "      <th>% Played</th>\n",
       "      <th>Subs</th>\n",
       "    </tr>\n",
       "  </thead>\n",
       "  <tbody>\n",
       "    <tr>\n",
       "      <th>0</th>\n",
       "      <td>2020</td>\n",
       "      <td>R1</td>\n",
       "      <td>Adelaide</td>\n",
       "      <td>71</td>\n",
       "      <td>-3</td>\n",
       "      <td>L</td>\n",
       "      <td>Sydney</td>\n",
       "      <td>Sat</td>\n",
       "      <td>21-Mar-2020</td>\n",
       "      <td>4:35 PM</td>\n",
       "      <td>...</td>\n",
       "      <td>0</td>\n",
       "      <td>8</td>\n",
       "      <td>7</td>\n",
       "      <td>1</td>\n",
       "      <td>1</td>\n",
       "      <td>0</td>\n",
       "      <td>0</td>\n",
       "      <td>1</td>\n",
       "      <td>79</td>\n",
       "      <td>NaN</td>\n",
       "    </tr>\n",
       "    <tr>\n",
       "      <th>1</th>\n",
       "      <td>2020</td>\n",
       "      <td>R1</td>\n",
       "      <td>Adelaide</td>\n",
       "      <td>71</td>\n",
       "      <td>-3</td>\n",
       "      <td>L</td>\n",
       "      <td>Sydney</td>\n",
       "      <td>Sat</td>\n",
       "      <td>21-Mar-2020</td>\n",
       "      <td>4:35 PM</td>\n",
       "      <td>...</td>\n",
       "      <td>0</td>\n",
       "      <td>4</td>\n",
       "      <td>4</td>\n",
       "      <td>0</td>\n",
       "      <td>0</td>\n",
       "      <td>3</td>\n",
       "      <td>0</td>\n",
       "      <td>0</td>\n",
       "      <td>87</td>\n",
       "      <td>NaN</td>\n",
       "    </tr>\n",
       "    <tr>\n",
       "      <th>2</th>\n",
       "      <td>2020</td>\n",
       "      <td>R1</td>\n",
       "      <td>Adelaide</td>\n",
       "      <td>71</td>\n",
       "      <td>-3</td>\n",
       "      <td>L</td>\n",
       "      <td>Sydney</td>\n",
       "      <td>Sat</td>\n",
       "      <td>21-Mar-2020</td>\n",
       "      <td>4:35 PM</td>\n",
       "      <td>...</td>\n",
       "      <td>0</td>\n",
       "      <td>12</td>\n",
       "      <td>8</td>\n",
       "      <td>0</td>\n",
       "      <td>0</td>\n",
       "      <td>0</td>\n",
       "      <td>0</td>\n",
       "      <td>0</td>\n",
       "      <td>77</td>\n",
       "      <td>NaN</td>\n",
       "    </tr>\n",
       "    <tr>\n",
       "      <th>3</th>\n",
       "      <td>2020</td>\n",
       "      <td>R1</td>\n",
       "      <td>Adelaide</td>\n",
       "      <td>71</td>\n",
       "      <td>-3</td>\n",
       "      <td>L</td>\n",
       "      <td>Sydney</td>\n",
       "      <td>Sat</td>\n",
       "      <td>21-Mar-2020</td>\n",
       "      <td>4:35 PM</td>\n",
       "      <td>...</td>\n",
       "      <td>0</td>\n",
       "      <td>4</td>\n",
       "      <td>13</td>\n",
       "      <td>0</td>\n",
       "      <td>0</td>\n",
       "      <td>0</td>\n",
       "      <td>0</td>\n",
       "      <td>1</td>\n",
       "      <td>73</td>\n",
       "      <td>NaN</td>\n",
       "    </tr>\n",
       "    <tr>\n",
       "      <th>4</th>\n",
       "      <td>2020</td>\n",
       "      <td>R1</td>\n",
       "      <td>Adelaide</td>\n",
       "      <td>71</td>\n",
       "      <td>-3</td>\n",
       "      <td>L</td>\n",
       "      <td>Sydney</td>\n",
       "      <td>Sat</td>\n",
       "      <td>21-Mar-2020</td>\n",
       "      <td>4:35 PM</td>\n",
       "      <td>...</td>\n",
       "      <td>0</td>\n",
       "      <td>4</td>\n",
       "      <td>2</td>\n",
       "      <td>1</td>\n",
       "      <td>0</td>\n",
       "      <td>1</td>\n",
       "      <td>2</td>\n",
       "      <td>0</td>\n",
       "      <td>85</td>\n",
       "      <td>NaN</td>\n",
       "    </tr>\n",
       "    <tr>\n",
       "      <th>5</th>\n",
       "      <td>2020</td>\n",
       "      <td>R1</td>\n",
       "      <td>Adelaide</td>\n",
       "      <td>71</td>\n",
       "      <td>-3</td>\n",
       "      <td>L</td>\n",
       "      <td>Sydney</td>\n",
       "      <td>Sat</td>\n",
       "      <td>21-Mar-2020</td>\n",
       "      <td>4:35 PM</td>\n",
       "      <td>...</td>\n",
       "      <td>0</td>\n",
       "      <td>3</td>\n",
       "      <td>5</td>\n",
       "      <td>1</td>\n",
       "      <td>1</td>\n",
       "      <td>1</td>\n",
       "      <td>0</td>\n",
       "      <td>1</td>\n",
       "      <td>84</td>\n",
       "      <td>NaN</td>\n",
       "    </tr>\n",
       "    <tr>\n",
       "      <th>6</th>\n",
       "      <td>2020</td>\n",
       "      <td>R1</td>\n",
       "      <td>Adelaide</td>\n",
       "      <td>71</td>\n",
       "      <td>-3</td>\n",
       "      <td>L</td>\n",
       "      <td>Sydney</td>\n",
       "      <td>Sat</td>\n",
       "      <td>21-Mar-2020</td>\n",
       "      <td>4:35 PM</td>\n",
       "      <td>...</td>\n",
       "      <td>0</td>\n",
       "      <td>6</td>\n",
       "      <td>4</td>\n",
       "      <td>1</td>\n",
       "      <td>0</td>\n",
       "      <td>2</td>\n",
       "      <td>0</td>\n",
       "      <td>0</td>\n",
       "      <td>90</td>\n",
       "      <td>NaN</td>\n",
       "    </tr>\n",
       "    <tr>\n",
       "      <th>7</th>\n",
       "      <td>2020</td>\n",
       "      <td>R1</td>\n",
       "      <td>Adelaide</td>\n",
       "      <td>71</td>\n",
       "      <td>-3</td>\n",
       "      <td>L</td>\n",
       "      <td>Sydney</td>\n",
       "      <td>Sat</td>\n",
       "      <td>21-Mar-2020</td>\n",
       "      <td>4:35 PM</td>\n",
       "      <td>...</td>\n",
       "      <td>0</td>\n",
       "      <td>1</td>\n",
       "      <td>5</td>\n",
       "      <td>0</td>\n",
       "      <td>0</td>\n",
       "      <td>2</td>\n",
       "      <td>0</td>\n",
       "      <td>0</td>\n",
       "      <td>75</td>\n",
       "      <td>NaN</td>\n",
       "    </tr>\n",
       "    <tr>\n",
       "      <th>8</th>\n",
       "      <td>2020</td>\n",
       "      <td>R1</td>\n",
       "      <td>Adelaide</td>\n",
       "      <td>71</td>\n",
       "      <td>-3</td>\n",
       "      <td>L</td>\n",
       "      <td>Sydney</td>\n",
       "      <td>Sat</td>\n",
       "      <td>21-Mar-2020</td>\n",
       "      <td>4:35 PM</td>\n",
       "      <td>...</td>\n",
       "      <td>0</td>\n",
       "      <td>3</td>\n",
       "      <td>6</td>\n",
       "      <td>0</td>\n",
       "      <td>1</td>\n",
       "      <td>2</td>\n",
       "      <td>0</td>\n",
       "      <td>0</td>\n",
       "      <td>81</td>\n",
       "      <td>NaN</td>\n",
       "    </tr>\n",
       "    <tr>\n",
       "      <th>9</th>\n",
       "      <td>2020</td>\n",
       "      <td>R1</td>\n",
       "      <td>Adelaide</td>\n",
       "      <td>71</td>\n",
       "      <td>-3</td>\n",
       "      <td>L</td>\n",
       "      <td>Sydney</td>\n",
       "      <td>Sat</td>\n",
       "      <td>21-Mar-2020</td>\n",
       "      <td>4:35 PM</td>\n",
       "      <td>...</td>\n",
       "      <td>0</td>\n",
       "      <td>5</td>\n",
       "      <td>3</td>\n",
       "      <td>2</td>\n",
       "      <td>0</td>\n",
       "      <td>4</td>\n",
       "      <td>0</td>\n",
       "      <td>0</td>\n",
       "      <td>95</td>\n",
       "      <td>NaN</td>\n",
       "    </tr>\n",
       "  </tbody>\n",
       "</table>\n",
       "<p>10 rows × 42 columns</p>\n",
       "</div>"
      ],
      "text/plain": [
       "   Year Round      Team  Score  Margin WinLoss Opposition  Day         Date  \\\n",
       "0  2020    R1  Adelaide     71      -3       L     Sydney  Sat  21-Mar-2020   \n",
       "1  2020    R1  Adelaide     71      -3       L     Sydney  Sat  21-Mar-2020   \n",
       "2  2020    R1  Adelaide     71      -3       L     Sydney  Sat  21-Mar-2020   \n",
       "3  2020    R1  Adelaide     71      -3       L     Sydney  Sat  21-Mar-2020   \n",
       "4  2020    R1  Adelaide     71      -3       L     Sydney  Sat  21-Mar-2020   \n",
       "5  2020    R1  Adelaide     71      -3       L     Sydney  Sat  21-Mar-2020   \n",
       "6  2020    R1  Adelaide     71      -3       L     Sydney  Sat  21-Mar-2020   \n",
       "7  2020    R1  Adelaide     71      -3       L     Sydney  Sat  21-Mar-2020   \n",
       "8  2020    R1  Adelaide     71      -3       L     Sydney  Sat  21-Mar-2020   \n",
       "9  2020    R1  Adelaide     71      -3       L     Sydney  Sat  21-Mar-2020   \n",
       "\n",
       "  Start Time  ... Brownlow Votes Contested Possessions  \\\n",
       "0    4:35 PM  ...              0                     8   \n",
       "1    4:35 PM  ...              0                     4   \n",
       "2    4:35 PM  ...              0                    12   \n",
       "3    4:35 PM  ...              0                     4   \n",
       "4    4:35 PM  ...              0                     4   \n",
       "5    4:35 PM  ...              0                     3   \n",
       "6    4:35 PM  ...              0                     6   \n",
       "7    4:35 PM  ...              0                     1   \n",
       "8    4:35 PM  ...              0                     3   \n",
       "9    4:35 PM  ...              0                     5   \n",
       "\n",
       "   Uncontested Possessions Contested Marks Marks Inside 50  One Percenters  \\\n",
       "0                        7               1               1               0   \n",
       "1                        4               0               0               3   \n",
       "2                        8               0               0               0   \n",
       "3                       13               0               0               0   \n",
       "4                        2               1               0               1   \n",
       "5                        5               1               1               1   \n",
       "6                        4               1               0               2   \n",
       "7                        5               0               0               2   \n",
       "8                        6               0               1               2   \n",
       "9                        3               2               0               4   \n",
       "\n",
       "   Bounces Goal Assists  % Played  Subs  \n",
       "0        0            1        79   NaN  \n",
       "1        0            0        87   NaN  \n",
       "2        0            0        77   NaN  \n",
       "3        0            1        73   NaN  \n",
       "4        2            0        85   NaN  \n",
       "5        0            1        84   NaN  \n",
       "6        0            0        90   NaN  \n",
       "7        0            0        75   NaN  \n",
       "8        0            0        81   NaN  \n",
       "9        0            0        95   NaN  \n",
       "\n",
       "[10 rows x 42 columns]"
      ]
     },
     "execution_count": 5,
     "metadata": {},
     "output_type": "execute_result"
    }
   ],
   "source": [
    "df_afl.head(10)"
   ]
  },
  {
   "cell_type": "code",
   "execution_count": 6,
   "id": "898156f9",
   "metadata": {
    "execution": {
     "iopub.execute_input": "2022-02-04T10:13:02.485861Z",
     "iopub.status.busy": "2022-02-04T10:13:02.485215Z",
     "iopub.status.idle": "2022-02-04T10:13:02.604162Z",
     "shell.execute_reply": "2022-02-04T10:13:02.604659Z",
     "shell.execute_reply.started": "2022-02-04T10:04:59.828875Z"
    },
    "papermill": {
     "duration": 0.229395,
     "end_time": "2022-02-04T10:13:02.604847",
     "exception": false,
     "start_time": "2022-02-04T10:13:02.375452",
     "status": "completed"
    },
    "tags": []
   },
   "outputs": [
    {
     "data": {
      "text/plain": [
       "Year                           0\n",
       "Round                          0\n",
       "Team                           0\n",
       "Score                          0\n",
       "Margin                         0\n",
       "WinLoss                        0\n",
       "Opposition                     0\n",
       "Day                            0\n",
       "Date                           0\n",
       "Start Time                     0\n",
       "Venue                          0\n",
       "Attendance                     0\n",
       "Rainfall(mm)                1276\n",
       "Player                         0\n",
       "DOB                            0\n",
       "Height                         0\n",
       "Weight                         0\n",
       "Position                       0\n",
       "Disposals                      0\n",
       "Kicks                          0\n",
       "Marks                          0\n",
       "Handballs                      0\n",
       "Goals                          0\n",
       "Behinds                        0\n",
       "Hit Outs                       0\n",
       "Tackles                        0\n",
       "Rebounds                       0\n",
       "Inside 50s                     0\n",
       "Clearances                     0\n",
       "Clangers                       0\n",
       "Frees                          0\n",
       "Frees Against                  0\n",
       "Brownlow Votes                 0\n",
       "Contested Possessions          0\n",
       "Uncontested Possessions        0\n",
       "Contested Marks                0\n",
       "Marks Inside 50                0\n",
       "One Percenters                 0\n",
       "Bounces                        0\n",
       "Goal Assists                   0\n",
       "% Played                       0\n",
       "Subs                       43560\n",
       "dtype: int64"
      ]
     },
     "execution_count": 6,
     "metadata": {},
     "output_type": "execute_result"
    }
   ],
   "source": [
    "df_afl.isnull().sum()"
   ]
  },
  {
   "cell_type": "code",
   "execution_count": 7,
   "id": "01cde7e7",
   "metadata": {
    "execution": {
     "iopub.execute_input": "2022-02-04T10:13:02.820917Z",
     "iopub.status.busy": "2022-02-04T10:13:02.820291Z",
     "iopub.status.idle": "2022-02-04T10:13:02.851236Z",
     "shell.execute_reply": "2022-02-04T10:13:02.851704Z",
     "shell.execute_reply.started": "2022-02-04T10:04:59.949510Z"
    },
    "papermill": {
     "duration": 0.141205,
     "end_time": "2022-02-04T10:13:02.851912",
     "exception": false,
     "start_time": "2022-02-04T10:13:02.710707",
     "status": "completed"
    },
    "tags": []
   },
   "outputs": [],
   "source": [
    "#Renaming the AFL teams with my own abbreviated version\n",
    "\n",
    "d_team_map = {'Adelaide': 'ADL', \n",
    "'Port Adelaide': 'PDL',\n",
    "'Carlton' : 'CAR',\n",
    "'Collingwood' : 'COL', \n",
    "'Richmond': 'RCH',\n",
    "'Brisbane Lions' : 'BRS', \n",
    "'Western Bulldogs' : 'WBL', \n",
    "'Gold Coast' : 'GCS', \n",
    "'Melbourne' : 'MLB',\n",
    "'Geelong' : 'GEE', \n",
    "'Fremantle' : 'FRM', \n",
    "'Hawthorn' : 'HTN', \n",
    "'Sydney' : 'SYD', \n",
    "'St Kilda' : 'STK',\n",
    "'Greater Western Sydney' : 'GWS', \n",
    "'North Melbourne' : 'NML',\n",
    "'Essendon' : 'ESS',\n",
    "'West Coast' : 'WCE'}\n",
    "\n",
    "df_afl['Team'] = df_afl['Team'].map(d_team_map)\n",
    "df_afl['Opposition'] = df_afl['Opposition'].map(d_team_map)"
   ]
  },
  {
   "cell_type": "code",
   "execution_count": 8,
   "id": "4e609f33",
   "metadata": {
    "execution": {
     "iopub.execute_input": "2022-02-04T10:13:03.067649Z",
     "iopub.status.busy": "2022-02-04T10:13:03.067041Z",
     "iopub.status.idle": "2022-02-04T10:13:03.078087Z",
     "shell.execute_reply": "2022-02-04T10:13:03.078579Z",
     "shell.execute_reply.started": "2022-02-04T10:04:59.981552Z"
    },
    "papermill": {
     "duration": 0.120378,
     "end_time": "2022-02-04T10:13:03.078742",
     "exception": false,
     "start_time": "2022-02-04T10:13:02.958364",
     "status": "completed"
    },
    "tags": []
   },
   "outputs": [
    {
     "data": {
      "text/plain": [
       "array(['ADL', 'PDL', 'CAR', 'COL', 'RCH', 'BRS', 'WBL', 'GCS', 'MLB',\n",
       "       'GEE', 'FRM', 'HTN', 'SYD', 'STK', 'GWS', 'NML', 'ESS', 'WCE'],\n",
       "      dtype=object)"
      ]
     },
     "execution_count": 8,
     "metadata": {},
     "output_type": "execute_result"
    }
   ],
   "source": [
    "df_afl['Team'].unique()"
   ]
  },
  {
   "cell_type": "code",
   "execution_count": 9,
   "id": "b934ada4",
   "metadata": {
    "execution": {
     "iopub.execute_input": "2022-02-04T10:13:03.294259Z",
     "iopub.status.busy": "2022-02-04T10:13:03.293628Z",
     "iopub.status.idle": "2022-02-04T10:13:03.305261Z",
     "shell.execute_reply": "2022-02-04T10:13:03.305748Z",
     "shell.execute_reply.started": "2022-02-04T10:04:59.994260Z"
    },
    "papermill": {
     "duration": 0.121502,
     "end_time": "2022-02-04T10:13:03.305930",
     "exception": false,
     "start_time": "2022-02-04T10:13:03.184428",
     "status": "completed"
    },
    "tags": []
   },
   "outputs": [
    {
     "data": {
      "text/plain": [
       "array(['SYD', 'PDL', 'GCS', 'NML', 'HTN', 'GEE', 'STK', 'FRM', 'BRS',\n",
       "       'WCE', 'MLB', 'GWS', 'RCH', 'ESS', 'CAR', 'COL', 'WBL', 'ADL'],\n",
       "      dtype=object)"
      ]
     },
     "execution_count": 9,
     "metadata": {},
     "output_type": "execute_result"
    }
   ],
   "source": [
    "df_afl['Opposition'].unique()"
   ]
  },
  {
   "cell_type": "code",
   "execution_count": 10,
   "id": "49f85382",
   "metadata": {
    "execution": {
     "iopub.execute_input": "2022-02-04T10:13:03.523789Z",
     "iopub.status.busy": "2022-02-04T10:13:03.523165Z",
     "iopub.status.idle": "2022-02-04T10:13:03.535067Z",
     "shell.execute_reply": "2022-02-04T10:13:03.535567Z",
     "shell.execute_reply.started": "2022-02-04T10:05:00.012199Z"
    },
    "papermill": {
     "duration": 0.122388,
     "end_time": "2022-02-04T10:13:03.535733",
     "exception": false,
     "start_time": "2022-02-04T10:13:03.413345",
     "status": "completed"
    },
    "tags": []
   },
   "outputs": [
    {
     "data": {
      "text/plain": [
       "array(['L', 'W', 'D'], dtype=object)"
      ]
     },
     "execution_count": 10,
     "metadata": {},
     "output_type": "execute_result"
    }
   ],
   "source": [
    "df_afl['WinLoss'].unique()"
   ]
  },
  {
   "cell_type": "markdown",
   "id": "a7c6b798",
   "metadata": {
    "papermill": {
     "duration": 0.106839,
     "end_time": "2022-02-04T10:13:03.750422",
     "exception": false,
     "start_time": "2022-02-04T10:13:03.643583",
     "status": "completed"
    },
    "tags": []
   },
   "source": [
    "*The 'WinLoss' colum contains data of type object. In order more efficiently analyse it, lets convert it into numerical data. In order to do so, we can apply the map method once again and change how a loss, win and draw - or L, W, and D, as they are respectivley represented in the data - are characterised.*"
   ]
  },
  {
   "cell_type": "code",
   "execution_count": 11,
   "id": "e1fa24c4",
   "metadata": {
    "execution": {
     "iopub.execute_input": "2022-02-04T10:13:03.969604Z",
     "iopub.status.busy": "2022-02-04T10:13:03.968503Z",
     "iopub.status.idle": "2022-02-04T10:13:03.987175Z",
     "shell.execute_reply": "2022-02-04T10:13:03.986559Z",
     "shell.execute_reply.started": "2022-02-04T10:05:00.029010Z"
    },
    "papermill": {
     "duration": 0.130389,
     "end_time": "2022-02-04T10:13:03.987355",
     "exception": false,
     "start_time": "2022-02-04T10:13:03.856966",
     "status": "completed"
    },
    "tags": []
   },
   "outputs": [],
   "source": [
    "win_dmap = {'W':1 , 'L':0, 'D':0}\n",
    "df_afl['WinLoss'] = df_afl['WinLoss'].map(win_dmap)"
   ]
  },
  {
   "cell_type": "code",
   "execution_count": 12,
   "id": "7c573f67",
   "metadata": {
    "execution": {
     "iopub.execute_input": "2022-02-04T10:13:04.208002Z",
     "iopub.status.busy": "2022-02-04T10:13:04.207350Z",
     "iopub.status.idle": "2022-02-04T10:13:04.213131Z",
     "shell.execute_reply": "2022-02-04T10:13:04.213710Z",
     "shell.execute_reply.started": "2022-02-04T10:05:00.049357Z"
    },
    "papermill": {
     "duration": 0.116626,
     "end_time": "2022-02-04T10:13:04.213924",
     "exception": false,
     "start_time": "2022-02-04T10:13:04.097298",
     "status": "completed"
    },
    "tags": []
   },
   "outputs": [
    {
     "data": {
      "text/plain": [
       "0    0\n",
       "1    0\n",
       "2    0\n",
       "3    0\n",
       "4    0\n",
       "Name: WinLoss, dtype: int64"
      ]
     },
     "execution_count": 12,
     "metadata": {},
     "output_type": "execute_result"
    }
   ],
   "source": [
    "df_afl['WinLoss'].head()"
   ]
  },
  {
   "cell_type": "code",
   "execution_count": 13,
   "id": "6112d71c",
   "metadata": {
    "execution": {
     "iopub.execute_input": "2022-02-04T10:13:04.442277Z",
     "iopub.status.busy": "2022-02-04T10:13:04.441604Z",
     "iopub.status.idle": "2022-02-04T10:13:04.444249Z",
     "shell.execute_reply": "2022-02-04T10:13:04.444728Z",
     "shell.execute_reply.started": "2022-02-04T10:05:00.060044Z"
    },
    "papermill": {
     "duration": 0.122391,
     "end_time": "2022-02-04T10:13:04.444937",
     "exception": false,
     "start_time": "2022-02-04T10:13:04.322546",
     "status": "completed"
    },
    "tags": []
   },
   "outputs": [
    {
     "data": {
      "text/plain": [
       "0    21-Mar-2020\n",
       "1    21-Mar-2020\n",
       "2    21-Mar-2020\n",
       "3    21-Mar-2020\n",
       "4    21-Mar-2020\n",
       "Name: Date, dtype: object"
      ]
     },
     "execution_count": 13,
     "metadata": {},
     "output_type": "execute_result"
    }
   ],
   "source": [
    "df_afl['Date'].head(5)"
   ]
  },
  {
   "cell_type": "code",
   "execution_count": 14,
   "id": "80e20b95",
   "metadata": {
    "execution": {
     "iopub.execute_input": "2022-02-04T10:13:04.666854Z",
     "iopub.status.busy": "2022-02-04T10:13:04.666182Z",
     "iopub.status.idle": "2022-02-04T10:13:04.754890Z",
     "shell.execute_reply": "2022-02-04T10:13:04.754242Z",
     "shell.execute_reply.started": "2022-02-04T10:05:00.071263Z"
    },
    "papermill": {
     "duration": 0.200127,
     "end_time": "2022-02-04T10:13:04.755072",
     "exception": false,
     "start_time": "2022-02-04T10:13:04.554945",
     "status": "completed"
    },
    "tags": []
   },
   "outputs": [],
   "source": [
    "#Converting time stamp on Date column\n",
    "df_afl['Date of Game'] = pd.to_datetime(df_afl['Date'])"
   ]
  },
  {
   "cell_type": "code",
   "execution_count": 15,
   "id": "14cc3639",
   "metadata": {
    "execution": {
     "iopub.execute_input": "2022-02-04T10:13:04.976956Z",
     "iopub.status.busy": "2022-02-04T10:13:04.976225Z",
     "iopub.status.idle": "2022-02-04T10:13:04.983106Z",
     "shell.execute_reply": "2022-02-04T10:13:04.983597Z",
     "shell.execute_reply.started": "2022-02-04T10:05:00.165128Z"
    },
    "papermill": {
     "duration": 0.119713,
     "end_time": "2022-02-04T10:13:04.983843",
     "exception": false,
     "start_time": "2022-02-04T10:13:04.864130",
     "status": "completed"
    },
    "tags": []
   },
   "outputs": [
    {
     "data": {
      "text/plain": [
       "0   2020-03-21\n",
       "1   2020-03-21\n",
       "2   2020-03-21\n",
       "3   2020-03-21\n",
       "4   2020-03-21\n",
       "Name: Date of Game, dtype: datetime64[ns]"
      ]
     },
     "execution_count": 15,
     "metadata": {},
     "output_type": "execute_result"
    }
   ],
   "source": [
    "df_afl['Date of Game'].head()"
   ]
  },
  {
   "cell_type": "markdown",
   "id": "73deb7bb",
   "metadata": {
    "papermill": {
     "duration": 0.108683,
     "end_time": "2022-02-04T10:13:05.202678",
     "exception": false,
     "start_time": "2022-02-04T10:13:05.093995",
     "status": "completed"
    },
    "tags": []
   },
   "source": [
    "**FOCUSING ON FREMANTLE DOCKERS**"
   ]
  },
  {
   "cell_type": "markdown",
   "id": "3a1d73ed",
   "metadata": {
    "papermill": {
     "duration": 0.109469,
     "end_time": "2022-02-04T10:13:05.420865",
     "exception": false,
     "start_time": "2022-02-04T10:13:05.311396",
     "status": "completed"
    },
    "tags": []
   },
   "source": [
    "Now that we have examined the data and made the appropriate changes in order to make it easier for us to perform some analysis, lets create a new dataframe which only considers the Fremantle Dockers (previously abbreviated to FRM). "
   ]
  },
  {
   "cell_type": "code",
   "execution_count": 16,
   "id": "14d3fb60",
   "metadata": {
    "execution": {
     "iopub.execute_input": "2022-02-04T10:13:05.651236Z",
     "iopub.status.busy": "2022-02-04T10:13:05.650299Z",
     "iopub.status.idle": "2022-02-04T10:13:05.684497Z",
     "shell.execute_reply": "2022-02-04T10:13:05.685017Z",
     "shell.execute_reply.started": "2022-02-04T10:05:00.175388Z"
    },
    "papermill": {
     "duration": 0.155642,
     "end_time": "2022-02-04T10:13:05.685241",
     "exception": false,
     "start_time": "2022-02-04T10:13:05.529599",
     "status": "completed"
    },
    "tags": []
   },
   "outputs": [],
   "source": [
    "df_FRM = df_afl[(df_afl['Team'] == 'FRM')]"
   ]
  },
  {
   "cell_type": "code",
   "execution_count": 17,
   "id": "1c950e73",
   "metadata": {
    "execution": {
     "iopub.execute_input": "2022-02-04T10:13:05.907702Z",
     "iopub.status.busy": "2022-02-04T10:13:05.907089Z",
     "iopub.status.idle": "2022-02-04T10:13:05.913737Z",
     "shell.execute_reply": "2022-02-04T10:13:05.913128Z",
     "shell.execute_reply.started": "2022-02-04T10:05:00.219352Z"
    },
    "papermill": {
     "duration": 0.119279,
     "end_time": "2022-02-04T10:13:05.913930",
     "exception": false,
     "start_time": "2022-02-04T10:13:05.794651",
     "status": "completed"
    },
    "tags": []
   },
   "outputs": [
    {
     "data": {
      "text/plain": [
       "1"
      ]
     },
     "execution_count": 17,
     "metadata": {},
     "output_type": "execute_result"
    }
   ],
   "source": [
    "#Lets quickly check that we have copied data over for a single team (FRM) only.\n",
    "df_FRM['Team'].nunique()"
   ]
  },
  {
   "cell_type": "code",
   "execution_count": 18,
   "id": "67ef4ed4",
   "metadata": {
    "execution": {
     "iopub.execute_input": "2022-02-04T10:13:06.140720Z",
     "iopub.status.busy": "2022-02-04T10:13:06.140106Z",
     "iopub.status.idle": "2022-02-04T10:13:06.161542Z",
     "shell.execute_reply": "2022-02-04T10:13:06.162171Z",
     "shell.execute_reply.started": "2022-02-04T10:05:00.229195Z"
    },
    "papermill": {
     "duration": 0.137628,
     "end_time": "2022-02-04T10:13:06.162386",
     "exception": false,
     "start_time": "2022-02-04T10:13:06.024758",
     "status": "completed"
    },
    "tags": []
   },
   "outputs": [
    {
     "name": "stdout",
     "output_type": "stream",
     "text": [
      "<class 'pandas.core.frame.DataFrame'>\n",
      "Int64Index: 4444 entries, 14410 to 49697\n",
      "Data columns (total 43 columns):\n",
      " #   Column                   Non-Null Count  Dtype         \n",
      "---  ------                   --------------  -----         \n",
      " 0   Year                     4444 non-null   int64         \n",
      " 1   Round                    4444 non-null   object        \n",
      " 2   Team                     4444 non-null   object        \n",
      " 3   Score                    4444 non-null   int64         \n",
      " 4   Margin                   4444 non-null   int64         \n",
      " 5   WinLoss                  4444 non-null   int64         \n",
      " 6   Opposition               4444 non-null   object        \n",
      " 7   Day                      4444 non-null   object        \n",
      " 8   Date                     4444 non-null   object        \n",
      " 9   Start Time               4444 non-null   object        \n",
      " 10  Venue                    4444 non-null   object        \n",
      " 11  Attendance               4444 non-null   object        \n",
      " 12  Rainfall(mm)             4378 non-null   float64       \n",
      " 13  Player                   4444 non-null   object        \n",
      " 14  DOB                      4444 non-null   object        \n",
      " 15  Height                   4444 non-null   int64         \n",
      " 16  Weight                   4444 non-null   int64         \n",
      " 17  Position                 4444 non-null   object        \n",
      " 18  Disposals                4444 non-null   int64         \n",
      " 19  Kicks                    4444 non-null   int64         \n",
      " 20  Marks                    4444 non-null   int64         \n",
      " 21  Handballs                4444 non-null   int64         \n",
      " 22  Goals                    4444 non-null   int64         \n",
      " 23  Behinds                  4444 non-null   int64         \n",
      " 24  Hit Outs                 4444 non-null   int64         \n",
      " 25  Tackles                  4444 non-null   int64         \n",
      " 26  Rebounds                 4444 non-null   int64         \n",
      " 27  Inside 50s               4444 non-null   int64         \n",
      " 28  Clearances               4444 non-null   int64         \n",
      " 29  Clangers                 4444 non-null   int64         \n",
      " 30  Frees                    4444 non-null   int64         \n",
      " 31  Frees Against            4444 non-null   int64         \n",
      " 32  Brownlow Votes           4444 non-null   int64         \n",
      " 33  Contested Possessions    4444 non-null   int64         \n",
      " 34  Uncontested Possessions  4444 non-null   int64         \n",
      " 35  Contested Marks          4444 non-null   int64         \n",
      " 36  Marks Inside 50          4444 non-null   int64         \n",
      " 37  One Percenters           4444 non-null   int64         \n",
      " 38  Bounces                  4444 non-null   int64         \n",
      " 39  Goal Assists             4444 non-null   int64         \n",
      " 40  % Played                 4444 non-null   int64         \n",
      " 41  Subs                     2134 non-null   object        \n",
      " 42  Date of Game             4444 non-null   datetime64[ns]\n",
      "dtypes: datetime64[ns](1), float64(1), int64(29), object(12)\n",
      "memory usage: 1.5+ MB\n"
     ]
    }
   ],
   "source": [
    "df_FRM.info()"
   ]
  },
  {
   "cell_type": "markdown",
   "id": "40485629",
   "metadata": {
    "papermill": {
     "duration": 0.109604,
     "end_time": "2022-02-04T10:13:06.382191",
     "exception": false,
     "start_time": "2022-02-04T10:13:06.272587",
     "status": "completed"
    },
    "tags": []
   },
   "source": [
    "**LETS BEGIN OUR ANALYSIS BY FOCUSING ON THE MAIN MEASURE OF SUCCESS: WINS**"
   ]
  },
  {
   "cell_type": "code",
   "execution_count": 19,
   "id": "9b280727",
   "metadata": {
    "execution": {
     "iopub.execute_input": "2022-02-04T10:13:06.608687Z",
     "iopub.status.busy": "2022-02-04T10:13:06.608028Z",
     "iopub.status.idle": "2022-02-04T10:13:06.614509Z",
     "shell.execute_reply": "2022-02-04T10:13:06.615065Z",
     "shell.execute_reply.started": "2022-02-04T10:05:00.257219Z"
    },
    "papermill": {
     "duration": 0.121564,
     "end_time": "2022-02-04T10:13:06.615237",
     "exception": false,
     "start_time": "2022-02-04T10:13:06.493673",
     "status": "completed"
    },
    "tags": []
   },
   "outputs": [
    {
     "data": {
      "text/plain": [
       "Year\n",
       "2012    330\n",
       "2013    396\n",
       "2014    352\n",
       "2015    396\n",
       "2016     88\n",
       "2017    176\n",
       "2018    176\n",
       "2019    198\n",
       "2020    154\n",
       "Name: WinLoss, dtype: int64"
      ]
     },
     "execution_count": 19,
     "metadata": {},
     "output_type": "execute_result"
    }
   ],
   "source": [
    "#Lets begin our analysis by investigating the matches won by Fremantle over the period 2012-2020\n",
    "\n",
    "df_FRM.groupby('Year')['WinLoss'].sum()"
   ]
  },
  {
   "cell_type": "code",
   "execution_count": 20,
   "id": "5d086cb1",
   "metadata": {
    "execution": {
     "iopub.execute_input": "2022-02-04T10:13:06.839468Z",
     "iopub.status.busy": "2022-02-04T10:13:06.838756Z",
     "iopub.status.idle": "2022-02-04T10:13:06.856154Z",
     "shell.execute_reply": "2022-02-04T10:13:06.856712Z",
     "shell.execute_reply.started": "2022-02-04T10:05:00.266752Z"
    },
    "papermill": {
     "duration": 0.131933,
     "end_time": "2022-02-04T10:13:06.856910",
     "exception": false,
     "start_time": "2022-02-04T10:13:06.724977",
     "status": "completed"
    },
    "tags": []
   },
   "outputs": [
    {
     "data": {
      "text/plain": [
       "Year  Date of Game\n",
       "2012  2012-03-31      22\n",
       "      2012-04-07      22\n",
       "      2012-04-14      22\n",
       "      2012-04-20      22\n",
       "      2012-04-27      22\n",
       "                      ..\n",
       "2020  2020-08-29      22\n",
       "      2020-09-02      22\n",
       "      2020-09-07      22\n",
       "      2020-09-12      22\n",
       "      2020-09-20      22\n",
       "Name: Player, Length: 202, dtype: int64"
      ]
     },
     "execution_count": 20,
     "metadata": {},
     "output_type": "execute_result"
    }
   ],
   "source": [
    "#Obviously FRM did not win 303 games in a single season. \n",
    "#It would seem that the sum of 'WinLoss' is counting every single player involved \n",
    "#So lets take a look at the number of players that took part in each match\n",
    "\n",
    "df_FRM.groupby(['Year', 'Date of Game'])['Player'].nunique()"
   ]
  },
  {
   "cell_type": "code",
   "execution_count": 21,
   "id": "9a027139",
   "metadata": {
    "execution": {
     "iopub.execute_input": "2022-02-04T10:13:07.080911Z",
     "iopub.status.busy": "2022-02-04T10:13:07.080287Z",
     "iopub.status.idle": "2022-02-04T10:13:07.090473Z",
     "shell.execute_reply": "2022-02-04T10:13:07.089979Z",
     "shell.execute_reply.started": "2022-02-04T10:05:00.289506Z"
    },
    "papermill": {
     "duration": 0.122946,
     "end_time": "2022-02-04T10:13:07.090614",
     "exception": false,
     "start_time": "2022-02-04T10:13:06.967668",
     "status": "completed"
    },
    "tags": []
   },
   "outputs": [
    {
     "data": {
      "text/plain": [
       "1"
      ]
     },
     "execution_count": 21,
     "metadata": {},
     "output_type": "execute_result"
    }
   ],
   "source": [
    "#It appears that there are always 22 players involved. Lets confirm this by checking the number of \n",
    "#unique values for the unique players\n",
    "\n",
    "df_FRM.groupby(['Year', 'Date of Game'])['Player'].nunique().nunique()"
   ]
  },
  {
   "cell_type": "code",
   "execution_count": 22,
   "id": "e872b1e0",
   "metadata": {
    "execution": {
     "iopub.execute_input": "2022-02-04T10:13:07.313829Z",
     "iopub.status.busy": "2022-02-04T10:13:07.313201Z",
     "iopub.status.idle": "2022-02-04T10:13:07.322225Z",
     "shell.execute_reply": "2022-02-04T10:13:07.322784Z",
     "shell.execute_reply.started": "2022-02-04T10:05:00.300394Z"
    },
    "papermill": {
     "duration": 0.122143,
     "end_time": "2022-02-04T10:13:07.322972",
     "exception": false,
     "start_time": "2022-02-04T10:13:07.200829",
     "status": "completed"
    },
    "tags": []
   },
   "outputs": [
    {
     "data": {
      "text/plain": [
       "Year\n",
       "2012    15.0\n",
       "2013    18.0\n",
       "2014    16.0\n",
       "2015    18.0\n",
       "2016     4.0\n",
       "2017     8.0\n",
       "2018     8.0\n",
       "2019     9.0\n",
       "2020     7.0\n",
       "Name: WinLoss, dtype: float64"
      ]
     },
     "execution_count": 22,
     "metadata": {},
     "output_type": "execute_result"
    }
   ],
   "source": [
    "#as there are always 22 players, we can divide by 22 to find the amount of matches won each season\n",
    "\n",
    "df_FRM.groupby('Year')['WinLoss'].sum().div(22)"
   ]
  },
  {
   "cell_type": "code",
   "execution_count": 23,
   "id": "baaff093",
   "metadata": {
    "execution": {
     "iopub.execute_input": "2022-02-04T10:13:07.547011Z",
     "iopub.status.busy": "2022-02-04T10:13:07.546379Z",
     "iopub.status.idle": "2022-02-04T10:13:07.564942Z",
     "shell.execute_reply": "2022-02-04T10:13:07.564412Z",
     "shell.execute_reply.started": "2022-02-04T10:05:00.313906Z"
    },
    "papermill": {
     "duration": 0.132088,
     "end_time": "2022-02-04T10:13:07.565085",
     "exception": false,
     "start_time": "2022-02-04T10:13:07.432997",
     "status": "completed"
    },
    "tags": []
   },
   "outputs": [
    {
     "data": {
      "text/html": [
       "<div>\n",
       "<style scoped>\n",
       "    .dataframe tbody tr th:only-of-type {\n",
       "        vertical-align: middle;\n",
       "    }\n",
       "\n",
       "    .dataframe tbody tr th {\n",
       "        vertical-align: top;\n",
       "    }\n",
       "\n",
       "    .dataframe thead th {\n",
       "        text-align: right;\n",
       "    }\n",
       "</style>\n",
       "<table border=\"1\" class=\"dataframe\">\n",
       "  <thead>\n",
       "    <tr style=\"text-align: right;\">\n",
       "      <th></th>\n",
       "      <th>Matches Won</th>\n",
       "      <th>Matches Played</th>\n",
       "    </tr>\n",
       "    <tr>\n",
       "      <th>Year</th>\n",
       "      <th></th>\n",
       "      <th></th>\n",
       "    </tr>\n",
       "  </thead>\n",
       "  <tbody>\n",
       "    <tr>\n",
       "      <th>2012</th>\n",
       "      <td>15.0</td>\n",
       "      <td>24</td>\n",
       "    </tr>\n",
       "    <tr>\n",
       "      <th>2013</th>\n",
       "      <td>18.0</td>\n",
       "      <td>25</td>\n",
       "    </tr>\n",
       "    <tr>\n",
       "      <th>2014</th>\n",
       "      <td>16.0</td>\n",
       "      <td>24</td>\n",
       "    </tr>\n",
       "    <tr>\n",
       "      <th>2015</th>\n",
       "      <td>18.0</td>\n",
       "      <td>24</td>\n",
       "    </tr>\n",
       "    <tr>\n",
       "      <th>2016</th>\n",
       "      <td>4.0</td>\n",
       "      <td>22</td>\n",
       "    </tr>\n",
       "    <tr>\n",
       "      <th>2017</th>\n",
       "      <td>8.0</td>\n",
       "      <td>22</td>\n",
       "    </tr>\n",
       "    <tr>\n",
       "      <th>2018</th>\n",
       "      <td>8.0</td>\n",
       "      <td>22</td>\n",
       "    </tr>\n",
       "    <tr>\n",
       "      <th>2019</th>\n",
       "      <td>9.0</td>\n",
       "      <td>22</td>\n",
       "    </tr>\n",
       "    <tr>\n",
       "      <th>2020</th>\n",
       "      <td>7.0</td>\n",
       "      <td>17</td>\n",
       "    </tr>\n",
       "  </tbody>\n",
       "</table>\n",
       "</div>"
      ],
      "text/plain": [
       "      Matches Won  Matches Played\n",
       "Year                             \n",
       "2012         15.0              24\n",
       "2013         18.0              25\n",
       "2014         16.0              24\n",
       "2015         18.0              24\n",
       "2016          4.0              22\n",
       "2017          8.0              22\n",
       "2018          8.0              22\n",
       "2019          9.0              22\n",
       "2020          7.0              17"
      ]
     },
     "execution_count": 23,
     "metadata": {},
     "output_type": "execute_result"
    }
   ],
   "source": [
    "#We can quickly compare the amount of matches won against the amount of matches played\n",
    "\n",
    "df_FRM.groupby('Year').agg({'WinLoss': lambda x: sum(x)/22, \n",
    "                           'Date of Game':'nunique'}).rename(columns={'WinLoss':'Matches Won', \n",
    "                                                                     'Date of Game':'Matches Played'})"
   ]
  },
  {
   "cell_type": "code",
   "execution_count": 24,
   "id": "7b13625b",
   "metadata": {
    "execution": {
     "iopub.execute_input": "2022-02-04T10:13:07.791386Z",
     "iopub.status.busy": "2022-02-04T10:13:07.790749Z",
     "iopub.status.idle": "2022-02-04T10:13:07.807265Z",
     "shell.execute_reply": "2022-02-04T10:13:07.807756Z",
     "shell.execute_reply.started": "2022-02-04T10:05:00.335042Z"
    },
    "papermill": {
     "duration": 0.13042,
     "end_time": "2022-02-04T10:13:07.808004",
     "exception": false,
     "start_time": "2022-02-04T10:13:07.677584",
     "status": "completed"
    },
    "tags": []
   },
   "outputs": [],
   "source": [
    "#Lets compare the number of wins each season for Fremantle against their AFL opposition\n",
    "#Carry the data over to a separate dataframe\n",
    "\n",
    "df_afl_wins = pd.DataFrame(df_afl.groupby(['Team', 'Year'])['WinLoss'].sum().div(22))"
   ]
  },
  {
   "cell_type": "code",
   "execution_count": 25,
   "id": "f439fe6f",
   "metadata": {
    "execution": {
     "iopub.execute_input": "2022-02-04T10:13:08.036107Z",
     "iopub.status.busy": "2022-02-04T10:13:08.035460Z",
     "iopub.status.idle": "2022-02-04T10:13:08.045980Z",
     "shell.execute_reply": "2022-02-04T10:13:08.046450Z",
     "shell.execute_reply.started": "2022-02-04T10:05:00.354364Z"
    },
    "papermill": {
     "duration": 0.125157,
     "end_time": "2022-02-04T10:13:08.046639",
     "exception": false,
     "start_time": "2022-02-04T10:13:07.921482",
     "status": "completed"
    },
    "tags": []
   },
   "outputs": [
    {
     "data": {
      "text/html": [
       "<div>\n",
       "<style scoped>\n",
       "    .dataframe tbody tr th:only-of-type {\n",
       "        vertical-align: middle;\n",
       "    }\n",
       "\n",
       "    .dataframe tbody tr th {\n",
       "        vertical-align: top;\n",
       "    }\n",
       "\n",
       "    .dataframe thead th {\n",
       "        text-align: right;\n",
       "    }\n",
       "</style>\n",
       "<table border=\"1\" class=\"dataframe\">\n",
       "  <thead>\n",
       "    <tr style=\"text-align: right;\">\n",
       "      <th></th>\n",
       "      <th></th>\n",
       "      <th>WinLoss</th>\n",
       "    </tr>\n",
       "    <tr>\n",
       "      <th>Team</th>\n",
       "      <th>Year</th>\n",
       "      <th></th>\n",
       "    </tr>\n",
       "  </thead>\n",
       "  <tbody>\n",
       "    <tr>\n",
       "      <th rowspan=\"9\" valign=\"top\">ADL</th>\n",
       "      <th>2012</th>\n",
       "      <td>18.0</td>\n",
       "    </tr>\n",
       "    <tr>\n",
       "      <th>2013</th>\n",
       "      <td>10.0</td>\n",
       "    </tr>\n",
       "    <tr>\n",
       "      <th>2014</th>\n",
       "      <td>11.0</td>\n",
       "    </tr>\n",
       "    <tr>\n",
       "      <th>2015</th>\n",
       "      <td>14.0</td>\n",
       "    </tr>\n",
       "    <tr>\n",
       "      <th>2016</th>\n",
       "      <td>17.0</td>\n",
       "    </tr>\n",
       "    <tr>\n",
       "      <th>2017</th>\n",
       "      <td>17.0</td>\n",
       "    </tr>\n",
       "    <tr>\n",
       "      <th>2018</th>\n",
       "      <td>12.0</td>\n",
       "    </tr>\n",
       "    <tr>\n",
       "      <th>2019</th>\n",
       "      <td>10.0</td>\n",
       "    </tr>\n",
       "    <tr>\n",
       "      <th>2020</th>\n",
       "      <td>3.0</td>\n",
       "    </tr>\n",
       "    <tr>\n",
       "      <th>BRS</th>\n",
       "      <th>2012</th>\n",
       "      <td>10.0</td>\n",
       "    </tr>\n",
       "  </tbody>\n",
       "</table>\n",
       "</div>"
      ],
      "text/plain": [
       "           WinLoss\n",
       "Team Year         \n",
       "ADL  2012     18.0\n",
       "     2013     10.0\n",
       "     2014     11.0\n",
       "     2015     14.0\n",
       "     2016     17.0\n",
       "     2017     17.0\n",
       "     2018     12.0\n",
       "     2019     10.0\n",
       "     2020      3.0\n",
       "BRS  2012     10.0"
      ]
     },
     "execution_count": 25,
     "metadata": {},
     "output_type": "execute_result"
    }
   ],
   "source": [
    "df_afl_wins.head(10)"
   ]
  },
  {
   "cell_type": "code",
   "execution_count": 26,
   "id": "19402f0e",
   "metadata": {
    "execution": {
     "iopub.execute_input": "2022-02-04T10:13:08.276051Z",
     "iopub.status.busy": "2022-02-04T10:13:08.275398Z",
     "iopub.status.idle": "2022-02-04T10:13:08.280364Z",
     "shell.execute_reply": "2022-02-04T10:13:08.280840Z",
     "shell.execute_reply.started": "2022-02-04T10:05:00.368391Z"
    },
    "papermill": {
     "duration": 0.121477,
     "end_time": "2022-02-04T10:13:08.281012",
     "exception": false,
     "start_time": "2022-02-04T10:13:08.159535",
     "status": "completed"
    },
    "tags": []
   },
   "outputs": [],
   "source": [
    "df_afl_wins.reset_index(inplace=True)"
   ]
  },
  {
   "cell_type": "code",
   "execution_count": 27,
   "id": "ef44d2f4",
   "metadata": {
    "execution": {
     "iopub.execute_input": "2022-02-04T10:13:08.510444Z",
     "iopub.status.busy": "2022-02-04T10:13:08.509821Z",
     "iopub.status.idle": "2022-02-04T10:13:08.522788Z",
     "shell.execute_reply": "2022-02-04T10:13:08.523316Z",
     "shell.execute_reply.started": "2022-02-04T10:05:00.378670Z"
    },
    "papermill": {
     "duration": 0.130373,
     "end_time": "2022-02-04T10:13:08.523482",
     "exception": false,
     "start_time": "2022-02-04T10:13:08.393109",
     "status": "completed"
    },
    "tags": []
   },
   "outputs": [
    {
     "data": {
      "text/html": [
       "<div>\n",
       "<style scoped>\n",
       "    .dataframe tbody tr th:only-of-type {\n",
       "        vertical-align: middle;\n",
       "    }\n",
       "\n",
       "    .dataframe tbody tr th {\n",
       "        vertical-align: top;\n",
       "    }\n",
       "\n",
       "    .dataframe thead th {\n",
       "        text-align: right;\n",
       "    }\n",
       "</style>\n",
       "<table border=\"1\" class=\"dataframe\">\n",
       "  <thead>\n",
       "    <tr style=\"text-align: right;\">\n",
       "      <th></th>\n",
       "      <th>Year</th>\n",
       "      <th>WinLoss</th>\n",
       "    </tr>\n",
       "    <tr>\n",
       "      <th>Team</th>\n",
       "      <th></th>\n",
       "      <th></th>\n",
       "    </tr>\n",
       "  </thead>\n",
       "  <tbody>\n",
       "    <tr>\n",
       "      <th>ADL</th>\n",
       "      <td>2012</td>\n",
       "      <td>18.0</td>\n",
       "    </tr>\n",
       "    <tr>\n",
       "      <th>ADL</th>\n",
       "      <td>2013</td>\n",
       "      <td>10.0</td>\n",
       "    </tr>\n",
       "    <tr>\n",
       "      <th>ADL</th>\n",
       "      <td>2014</td>\n",
       "      <td>11.0</td>\n",
       "    </tr>\n",
       "    <tr>\n",
       "      <th>ADL</th>\n",
       "      <td>2015</td>\n",
       "      <td>14.0</td>\n",
       "    </tr>\n",
       "    <tr>\n",
       "      <th>ADL</th>\n",
       "      <td>2016</td>\n",
       "      <td>17.0</td>\n",
       "    </tr>\n",
       "    <tr>\n",
       "      <th>...</th>\n",
       "      <td>...</td>\n",
       "      <td>...</td>\n",
       "    </tr>\n",
       "    <tr>\n",
       "      <th>WCE</th>\n",
       "      <td>2016</td>\n",
       "      <td>16.0</td>\n",
       "    </tr>\n",
       "    <tr>\n",
       "      <th>WCE</th>\n",
       "      <td>2017</td>\n",
       "      <td>13.0</td>\n",
       "    </tr>\n",
       "    <tr>\n",
       "      <th>WCE</th>\n",
       "      <td>2018</td>\n",
       "      <td>19.0</td>\n",
       "    </tr>\n",
       "    <tr>\n",
       "      <th>WCE</th>\n",
       "      <td>2019</td>\n",
       "      <td>16.0</td>\n",
       "    </tr>\n",
       "    <tr>\n",
       "      <th>WCE</th>\n",
       "      <td>2020</td>\n",
       "      <td>12.0</td>\n",
       "    </tr>\n",
       "  </tbody>\n",
       "</table>\n",
       "<p>162 rows × 2 columns</p>\n",
       "</div>"
      ],
      "text/plain": [
       "      Year  WinLoss\n",
       "Team               \n",
       "ADL   2012     18.0\n",
       "ADL   2013     10.0\n",
       "ADL   2014     11.0\n",
       "ADL   2015     14.0\n",
       "ADL   2016     17.0\n",
       "...    ...      ...\n",
       "WCE   2016     16.0\n",
       "WCE   2017     13.0\n",
       "WCE   2018     19.0\n",
       "WCE   2019     16.0\n",
       "WCE   2020     12.0\n",
       "\n",
       "[162 rows x 2 columns]"
      ]
     },
     "execution_count": 27,
     "metadata": {},
     "output_type": "execute_result"
    }
   ],
   "source": [
    "df_afl_wins.set_index('Team')"
   ]
  },
  {
   "cell_type": "code",
   "execution_count": 28,
   "id": "822ecd3b",
   "metadata": {
    "execution": {
     "iopub.execute_input": "2022-02-04T10:13:08.784742Z",
     "iopub.status.busy": "2022-02-04T10:13:08.783795Z",
     "iopub.status.idle": "2022-02-04T10:13:08.788663Z",
     "shell.execute_reply": "2022-02-04T10:13:08.789286Z",
     "shell.execute_reply.started": "2022-02-04T10:05:00.399217Z"
    },
    "papermill": {
     "duration": 0.149789,
     "end_time": "2022-02-04T10:13:08.789455",
     "exception": false,
     "start_time": "2022-02-04T10:13:08.639666",
     "status": "completed"
    },
    "tags": []
   },
   "outputs": [],
   "source": [
    "df_afl_wins.rename(columns={'WinLoss':'Matches Won'}, inplace = True)"
   ]
  },
  {
   "cell_type": "code",
   "execution_count": 29,
   "id": "950fb9d9",
   "metadata": {
    "execution": {
     "iopub.execute_input": "2022-02-04T10:13:09.019623Z",
     "iopub.status.busy": "2022-02-04T10:13:09.018644Z",
     "iopub.status.idle": "2022-02-04T10:13:09.960398Z",
     "shell.execute_reply": "2022-02-04T10:13:09.959780Z",
     "shell.execute_reply.started": "2022-02-04T10:05:00.404801Z"
    },
    "papermill": {
     "duration": 1.058205,
     "end_time": "2022-02-04T10:13:09.960558",
     "exception": false,
     "start_time": "2022-02-04T10:13:08.902353",
     "status": "completed"
    },
    "tags": []
   },
   "outputs": [
    {
     "data": {
      "image/png": "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\n",
      "text/plain": [
       "<Figure size 1296x432 with 1 Axes>"
      ]
     },
     "metadata": {
      "needs_background": "light"
     },
     "output_type": "display_data"
    }
   ],
   "source": [
    "#Plot the data in order to quickly visualise how the amount of wins accumulated each season \n",
    "#by Fremantle compares to other teams in the AFL.\n",
    "\n",
    "plt.figure(figsize = (18,6))\n",
    "\n",
    "sns.barplot(data = df_afl_wins, x = 'Year', y = 'Matches Won', hue = 'Team', \n",
    "                  palette = {'ADL': 'lightgrey', \n",
    "                            'PDL' : 'lightgrey', \n",
    "                            'CAR' : 'lightgrey', \n",
    "                            'COL' : 'lightgrey', \n",
    "                            'RCH' : 'lightgrey',\n",
    "                            'BRS' : 'lightgrey', \n",
    "                            'WBL' : 'lightgrey',\n",
    "                            'GCS' : 'lightgrey', \n",
    "                            'MLB' : 'lightgrey',\n",
    "                            'GEE' : 'lightgrey', \n",
    "                            'FRM' : 'purple', \n",
    "                            'HTN' : 'lightgrey', \n",
    "                            'SYD' : 'lightgrey', \n",
    "                            'STK' : 'lightgrey',\n",
    "                            'GWS' : 'lightgrey', \n",
    "                            'NML' : 'lightgrey', \n",
    "                            'ESS' : 'lightgrey',\n",
    "                            'WCE' : 'lightgrey' })\n",
    "\n",
    "\n",
    "plt.legend(loc = 'center left', bbox_to_anchor = (1.0, 0.5))\n",
    "plt.xlabel('Year', fontsize=14)\n",
    "plt.xticks(fontsize=12)\n",
    "plt.ylabel('Matches Won', fontsize=14)\n",
    "plt.yticks(fontsize=12)\n",
    "plt.title('Matches Won Each Season From 2012 To 2020', fontsize=16)\n",
    "plt.show()"
   ]
  },
  {
   "cell_type": "markdown",
   "id": "25d4a82f",
   "metadata": {
    "papermill": {
     "duration": 0.112615,
     "end_time": "2022-02-04T10:13:10.187051",
     "exception": false,
     "start_time": "2022-02-04T10:13:10.074436",
     "status": "completed"
    },
    "tags": []
   },
   "source": [
    "As we have the total number of matches played and the number of matches won each season, we can also plot Fremantle's win percentage for each season. "
   ]
  },
  {
   "cell_type": "code",
   "execution_count": 30,
   "id": "a414fa70",
   "metadata": {
    "execution": {
     "iopub.execute_input": "2022-02-04T10:13:10.423245Z",
     "iopub.status.busy": "2022-02-04T10:13:10.420868Z",
     "iopub.status.idle": "2022-02-04T10:13:10.735731Z",
     "shell.execute_reply": "2022-02-04T10:13:10.736262Z",
     "shell.execute_reply.started": "2022-02-04T10:05:01.365035Z"
    },
    "papermill": {
     "duration": 0.43649,
     "end_time": "2022-02-04T10:13:10.736428",
     "exception": false,
     "start_time": "2022-02-04T10:13:10.299938",
     "status": "completed"
    },
    "tags": []
   },
   "outputs": [
    {
     "data": {
      "image/png": "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\n",
      "text/plain": [
       "<Figure size 1296x432 with 1 Axes>"
      ]
     },
     "metadata": {
      "needs_background": "light"
     },
     "output_type": "display_data"
    }
   ],
   "source": [
    "plt.figure(figsize=(18,6))\n",
    "\n",
    "matches_won = df_FRM.groupby('Year')['WinLoss'].sum().div(22)\n",
    "matches_played = df_FRM.groupby('Year')['Date'].nunique()\n",
    "\n",
    "chart = matches_won.div(matches_played).mul(100).plot(kind='bar',color='purple')\n",
    "\n",
    "for p in chart.patches:\n",
    "             chart.annotate(\"%.0f\" % p.get_height(), (p.get_x() + p.get_width() / 2., p.get_height()),\n",
    "                 ha='center', va='center', fontsize=12, color='black', xytext=(0,5),\n",
    "                 textcoords='offset points')\n",
    "\n",
    "plt.xticks(rotation=0)\n",
    "plt.xlabel('Year', fontsize=14)\n",
    "plt.xticks(fontsize=12)\n",
    "plt.ylabel('Win %', fontsize=14)\n",
    "plt.yticks(fontsize=12)\n",
    "plt.title('Fremantle Win Percentage', fontsize=16)\n",
    "plt.show()"
   ]
  },
  {
   "cell_type": "markdown",
   "id": "4f6a724e",
   "metadata": {
    "papermill": {
     "duration": 0.114821,
     "end_time": "2022-02-04T10:13:10.966546",
     "exception": false,
     "start_time": "2022-02-04T10:13:10.851725",
     "status": "completed"
    },
    "tags": []
   },
   "source": [
    "What about the percentage of matches won by Fremantle against each AFL opposition? What does that look like?"
   ]
  },
  {
   "cell_type": "code",
   "execution_count": 31,
   "id": "55d335b0",
   "metadata": {
    "execution": {
     "iopub.execute_input": "2022-02-04T10:13:11.199731Z",
     "iopub.status.busy": "2022-02-04T10:13:11.198719Z",
     "iopub.status.idle": "2022-02-04T10:13:11.602296Z",
     "shell.execute_reply": "2022-02-04T10:13:11.602853Z",
     "shell.execute_reply.started": "2022-02-04T10:05:01.679521Z"
    },
    "papermill": {
     "duration": 0.521457,
     "end_time": "2022-02-04T10:13:11.603082",
     "exception": false,
     "start_time": "2022-02-04T10:13:11.081625",
     "status": "completed"
    },
    "tags": []
   },
   "outputs": [
    {
     "data": {
      "image/png": "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\n",
      "text/plain": [
       "<Figure size 1296x432 with 1 Axes>"
      ]
     },
     "metadata": {
      "needs_background": "light"
     },
     "output_type": "display_data"
    }
   ],
   "source": [
    "#Fremantle win percentage against each opposition from 2012-2020 inclusive\n",
    "plt.figure(figsize=(18,6))\n",
    "\n",
    "matches_won = df_FRM.groupby('Opposition')['WinLoss'].sum().div(22)\n",
    "matches_against_opposition = df_FRM.groupby('Opposition')['Date'].nunique()\n",
    "\n",
    "chart = matches_won.div(matches_against_opposition).mul(100).plot(kind='bar',color='purple')\n",
    "\n",
    "for p in chart.patches:\n",
    "             chart.annotate(\"%.0f\" % p.get_height(), (p.get_x() + p.get_width() / 2., p.get_height()),\n",
    "                 ha='center', va='center', fontsize=12, color='black', xytext=(0,5),\n",
    "                 textcoords='offset points')\n",
    "\n",
    "plt.title('Fremantle Win Percentage Against AFL Opposition', \n",
    "         fontsize=16)\n",
    "plt.xticks(rotation=0)\n",
    "plt.xlabel('Opposition', fontsize=14)\n",
    "plt.xticks(fontsize=12)\n",
    "plt.ylabel('Win %', fontsize=14)\n",
    "plt.yticks(fontsize=12)\n",
    "\n",
    "plt.show()"
   ]
  },
  {
   "cell_type": "markdown",
   "id": "fea1b874",
   "metadata": {
    "papermill": {
     "duration": 0.115139,
     "end_time": "2022-02-04T10:13:11.836919",
     "exception": false,
     "start_time": "2022-02-04T10:13:11.721780",
     "status": "completed"
    },
    "tags": []
   },
   "source": [
    "As shown above, Fremantle's best win percentage is against MLB (Melbourne). The Dockers boast a win percentage of 75% against the Demons but, in sharp contrast, have manged to overcome HTN (Hawthorn) only 17% of the time. This incredibly low win percentage is more than half of their next lowest score, held against their bitter rivals WCE (West Coast Eagles) at 35%, and shows the Hawks to be a true thorn in the Dockers' side."
   ]
  },
  {
   "cell_type": "markdown",
   "id": "b094e633",
   "metadata": {
    "papermill": {
     "duration": 0.115921,
     "end_time": "2022-02-04T10:13:12.067908",
     "exception": false,
     "start_time": "2022-02-04T10:13:11.951987",
     "status": "completed"
    },
    "tags": []
   },
   "source": [
    "**HOME AND AWAY**"
   ]
  },
  {
   "cell_type": "markdown",
   "id": "e2274349",
   "metadata": {
    "papermill": {
     "duration": 0.117808,
     "end_time": "2022-02-04T10:13:12.301171",
     "exception": false,
     "start_time": "2022-02-04T10:13:12.183363",
     "status": "completed"
    },
    "tags": []
   },
   "source": [
    "In many sports, playing at home is seen as a great advantage. Lets see if this is true for Fremantle by analyising their winning record at home and away.\n",
    "\n",
    "In this case, I refer to 'playing at home' as playing in your home stadium regardless to whether a team is scheduled as the home or away team. As FRM and WCE share a stadium, although FRM may be regarded as the 'away' team due to how the fixture list is designed, given that when these two teams meet FRM is playing in its home stadium, the fixture is counted as being a home match for FRM. "
   ]
  },
  {
   "cell_type": "code",
   "execution_count": 32,
   "id": "cf18ab86",
   "metadata": {
    "execution": {
     "iopub.execute_input": "2022-02-04T10:13:12.537385Z",
     "iopub.status.busy": "2022-02-04T10:13:12.536678Z",
     "iopub.status.idle": "2022-02-04T10:13:12.543431Z",
     "shell.execute_reply": "2022-02-04T10:13:12.543984Z",
     "shell.execute_reply.started": "2022-02-04T10:05:02.095108Z"
    },
    "papermill": {
     "duration": 0.127941,
     "end_time": "2022-02-04T10:13:12.544159",
     "exception": false,
     "start_time": "2022-02-04T10:13:12.416218",
     "status": "completed"
    },
    "tags": []
   },
   "outputs": [],
   "source": [
    "#Venue column shows where the match was played. We can thus look at performance home and away. \n",
    "#Lets create an array where 1 represents a home match and 0 an away match.\n",
    "\n",
    "Home_or_away = []\n",
    "\n",
    "for venue in df_FRM['Venue']:\n",
    "    if venue == 'Subiaco':\n",
    "        i = 1\n",
    "        Home_or_away.append(i)\n",
    "    elif venue == 'Perth Stadium':\n",
    "        i = 1\n",
    "        Home_or_away.append(i)\n",
    "    #Between 2012 and 2020, both teams moved to a new stadium so both need to be account for as home grounds\n",
    "    else:\n",
    "        i = 0\n",
    "        Home_or_away.append(i)"
   ]
  },
  {
   "cell_type": "code",
   "execution_count": 33,
   "id": "2e7a1712",
   "metadata": {
    "execution": {
     "iopub.execute_input": "2022-02-04T10:13:12.783860Z",
     "iopub.status.busy": "2022-02-04T10:13:12.783135Z",
     "iopub.status.idle": "2022-02-04T10:13:12.785980Z",
     "shell.execute_reply": "2022-02-04T10:13:12.785353Z",
     "shell.execute_reply.started": "2022-02-04T10:05:02.104847Z"
    },
    "papermill": {
     "duration": 0.126705,
     "end_time": "2022-02-04T10:13:12.786169",
     "exception": false,
     "start_time": "2022-02-04T10:13:12.659464",
     "status": "completed"
    },
    "tags": []
   },
   "outputs": [],
   "source": [
    "Home_or_away_series = pd.Series([Home_or_away])"
   ]
  },
  {
   "cell_type": "code",
   "execution_count": 34,
   "id": "924ee427",
   "metadata": {
    "execution": {
     "iopub.execute_input": "2022-02-04T10:13:13.032017Z",
     "iopub.status.busy": "2022-02-04T10:13:13.031134Z",
     "iopub.status.idle": "2022-02-04T10:13:13.037766Z",
     "shell.execute_reply": "2022-02-04T10:13:13.037180Z",
     "shell.execute_reply.started": "2022-02-04T10:05:02.119743Z"
    },
    "papermill": {
     "duration": 0.129194,
     "end_time": "2022-02-04T10:13:13.037940",
     "exception": false,
     "start_time": "2022-02-04T10:13:12.908746",
     "status": "completed"
    },
    "tags": []
   },
   "outputs": [],
   "source": [
    "df_FRM = df_FRM.assign(Home = Home_or_away)"
   ]
  },
  {
   "cell_type": "code",
   "execution_count": 35,
   "id": "e74c3a65",
   "metadata": {
    "execution": {
     "iopub.execute_input": "2022-02-04T10:13:13.278607Z",
     "iopub.status.busy": "2022-02-04T10:13:13.277906Z",
     "iopub.status.idle": "2022-02-04T10:13:13.281649Z",
     "shell.execute_reply": "2022-02-04T10:13:13.281104Z",
     "shell.execute_reply.started": "2022-02-04T10:05:02.135206Z"
    },
    "papermill": {
     "duration": 0.126515,
     "end_time": "2022-02-04T10:13:13.281828",
     "exception": false,
     "start_time": "2022-02-04T10:13:13.155313",
     "status": "completed"
    },
    "tags": []
   },
   "outputs": [
    {
     "data": {
      "text/plain": [
       "array([0, 1])"
      ]
     },
     "execution_count": 35,
     "metadata": {},
     "output_type": "execute_result"
    }
   ],
   "source": [
    "df_FRM['Home'].unique()"
   ]
  },
  {
   "cell_type": "code",
   "execution_count": 36,
   "id": "0900fd04",
   "metadata": {
    "execution": {
     "iopub.execute_input": "2022-02-04T10:13:13.521918Z",
     "iopub.status.busy": "2022-02-04T10:13:13.521231Z",
     "iopub.status.idle": "2022-02-04T10:13:13.540459Z",
     "shell.execute_reply": "2022-02-04T10:13:13.540938Z",
     "shell.execute_reply.started": "2022-02-04T10:05:02.144232Z"
    },
    "papermill": {
     "duration": 0.140241,
     "end_time": "2022-02-04T10:13:13.541140",
     "exception": false,
     "start_time": "2022-02-04T10:13:13.400899",
     "status": "completed"
    },
    "tags": []
   },
   "outputs": [
    {
     "data": {
      "text/html": [
       "<div>\n",
       "<style scoped>\n",
       "    .dataframe tbody tr th:only-of-type {\n",
       "        vertical-align: middle;\n",
       "    }\n",
       "\n",
       "    .dataframe tbody tr th {\n",
       "        vertical-align: top;\n",
       "    }\n",
       "\n",
       "    .dataframe thead th {\n",
       "        text-align: right;\n",
       "    }\n",
       "</style>\n",
       "<table border=\"1\" class=\"dataframe\">\n",
       "  <thead>\n",
       "    <tr style=\"text-align: right;\">\n",
       "      <th></th>\n",
       "      <th></th>\n",
       "      <th>Matches Played</th>\n",
       "      <th>Matches Won</th>\n",
       "    </tr>\n",
       "    <tr>\n",
       "      <th>Opposition</th>\n",
       "      <th>Home</th>\n",
       "      <th></th>\n",
       "      <th></th>\n",
       "    </tr>\n",
       "  </thead>\n",
       "  <tbody>\n",
       "    <tr>\n",
       "      <th rowspan=\"2\" valign=\"top\">ADL</th>\n",
       "      <th>0</th>\n",
       "      <td>8</td>\n",
       "      <td>3</td>\n",
       "    </tr>\n",
       "    <tr>\n",
       "      <th>1</th>\n",
       "      <td>5</td>\n",
       "      <td>3</td>\n",
       "    </tr>\n",
       "    <tr>\n",
       "      <th rowspan=\"2\" valign=\"top\">BRS</th>\n",
       "      <th>0</th>\n",
       "      <td>4</td>\n",
       "      <td>2</td>\n",
       "    </tr>\n",
       "    <tr>\n",
       "      <th>1</th>\n",
       "      <td>6</td>\n",
       "      <td>5</td>\n",
       "    </tr>\n",
       "    <tr>\n",
       "      <th rowspan=\"2\" valign=\"top\">CAR</th>\n",
       "      <th>0</th>\n",
       "      <td>2</td>\n",
       "      <td>2</td>\n",
       "    </tr>\n",
       "    <tr>\n",
       "      <th>1</th>\n",
       "      <td>8</td>\n",
       "      <td>4</td>\n",
       "    </tr>\n",
       "    <tr>\n",
       "      <th rowspan=\"2\" valign=\"top\">COL</th>\n",
       "      <th>0</th>\n",
       "      <td>5</td>\n",
       "      <td>2</td>\n",
       "    </tr>\n",
       "    <tr>\n",
       "      <th>1</th>\n",
       "      <td>5</td>\n",
       "      <td>3</td>\n",
       "    </tr>\n",
       "    <tr>\n",
       "      <th rowspan=\"2\" valign=\"top\">ESS</th>\n",
       "      <th>0</th>\n",
       "      <td>4</td>\n",
       "      <td>0</td>\n",
       "    </tr>\n",
       "    <tr>\n",
       "      <th>1</th>\n",
       "      <td>8</td>\n",
       "      <td>5</td>\n",
       "    </tr>\n",
       "    <tr>\n",
       "      <th rowspan=\"2\" valign=\"top\">GCS</th>\n",
       "      <th>0</th>\n",
       "      <td>6</td>\n",
       "      <td>3</td>\n",
       "    </tr>\n",
       "    <tr>\n",
       "      <th>1</th>\n",
       "      <td>4</td>\n",
       "      <td>3</td>\n",
       "    </tr>\n",
       "    <tr>\n",
       "      <th rowspan=\"2\" valign=\"top\">GEE</th>\n",
       "      <th>0</th>\n",
       "      <td>7</td>\n",
       "      <td>3</td>\n",
       "    </tr>\n",
       "    <tr>\n",
       "      <th>1</th>\n",
       "      <td>6</td>\n",
       "      <td>3</td>\n",
       "    </tr>\n",
       "    <tr>\n",
       "      <th rowspan=\"2\" valign=\"top\">GWS</th>\n",
       "      <th>0</th>\n",
       "      <td>4</td>\n",
       "      <td>1</td>\n",
       "    </tr>\n",
       "    <tr>\n",
       "      <th>1</th>\n",
       "      <td>6</td>\n",
       "      <td>4</td>\n",
       "    </tr>\n",
       "    <tr>\n",
       "      <th rowspan=\"2\" valign=\"top\">HTN</th>\n",
       "      <th>0</th>\n",
       "      <td>7</td>\n",
       "      <td>0</td>\n",
       "    </tr>\n",
       "    <tr>\n",
       "      <th>1</th>\n",
       "      <td>5</td>\n",
       "      <td>2</td>\n",
       "    </tr>\n",
       "    <tr>\n",
       "      <th rowspan=\"2\" valign=\"top\">MLB</th>\n",
       "      <th>0</th>\n",
       "      <td>9</td>\n",
       "      <td>6</td>\n",
       "    </tr>\n",
       "    <tr>\n",
       "      <th>1</th>\n",
       "      <td>3</td>\n",
       "      <td>3</td>\n",
       "    </tr>\n",
       "    <tr>\n",
       "      <th rowspan=\"2\" valign=\"top\">NML</th>\n",
       "      <th>0</th>\n",
       "      <td>5</td>\n",
       "      <td>3</td>\n",
       "    </tr>\n",
       "    <tr>\n",
       "      <th>1</th>\n",
       "      <td>6</td>\n",
       "      <td>4</td>\n",
       "    </tr>\n",
       "    <tr>\n",
       "      <th rowspan=\"2\" valign=\"top\">PDL</th>\n",
       "      <th>0</th>\n",
       "      <td>7</td>\n",
       "      <td>1</td>\n",
       "    </tr>\n",
       "    <tr>\n",
       "      <th>1</th>\n",
       "      <td>8</td>\n",
       "      <td>7</td>\n",
       "    </tr>\n",
       "    <tr>\n",
       "      <th rowspan=\"2\" valign=\"top\">RCH</th>\n",
       "      <th>0</th>\n",
       "      <td>7</td>\n",
       "      <td>4</td>\n",
       "    </tr>\n",
       "    <tr>\n",
       "      <th>1</th>\n",
       "      <td>6</td>\n",
       "      <td>2</td>\n",
       "    </tr>\n",
       "    <tr>\n",
       "      <th rowspan=\"2\" valign=\"top\">STK</th>\n",
       "      <th>0</th>\n",
       "      <td>7</td>\n",
       "      <td>3</td>\n",
       "    </tr>\n",
       "    <tr>\n",
       "      <th>1</th>\n",
       "      <td>4</td>\n",
       "      <td>3</td>\n",
       "    </tr>\n",
       "    <tr>\n",
       "      <th rowspan=\"2\" valign=\"top\">SYD</th>\n",
       "      <th>0</th>\n",
       "      <td>6</td>\n",
       "      <td>0</td>\n",
       "    </tr>\n",
       "    <tr>\n",
       "      <th>1</th>\n",
       "      <td>6</td>\n",
       "      <td>5</td>\n",
       "    </tr>\n",
       "    <tr>\n",
       "      <th rowspan=\"2\" valign=\"top\">WBL</th>\n",
       "      <th>0</th>\n",
       "      <td>6</td>\n",
       "      <td>3</td>\n",
       "    </tr>\n",
       "    <tr>\n",
       "      <th>1</th>\n",
       "      <td>5</td>\n",
       "      <td>5</td>\n",
       "    </tr>\n",
       "    <tr>\n",
       "      <th>WCE</th>\n",
       "      <th>1</th>\n",
       "      <td>17</td>\n",
       "      <td>6</td>\n",
       "    </tr>\n",
       "  </tbody>\n",
       "</table>\n",
       "</div>"
      ],
      "text/plain": [
       "                 Matches Played  Matches Won\n",
       "Opposition Home                             \n",
       "ADL        0                  8            3\n",
       "           1                  5            3\n",
       "BRS        0                  4            2\n",
       "           1                  6            5\n",
       "CAR        0                  2            2\n",
       "           1                  8            4\n",
       "COL        0                  5            2\n",
       "           1                  5            3\n",
       "ESS        0                  4            0\n",
       "           1                  8            5\n",
       "GCS        0                  6            3\n",
       "           1                  4            3\n",
       "GEE        0                  7            3\n",
       "           1                  6            3\n",
       "GWS        0                  4            1\n",
       "           1                  6            4\n",
       "HTN        0                  7            0\n",
       "           1                  5            2\n",
       "MLB        0                  9            6\n",
       "           1                  3            3\n",
       "NML        0                  5            3\n",
       "           1                  6            4\n",
       "PDL        0                  7            1\n",
       "           1                  8            7\n",
       "RCH        0                  7            4\n",
       "           1                  6            2\n",
       "STK        0                  7            3\n",
       "           1                  4            3\n",
       "SYD        0                  6            0\n",
       "           1                  6            5\n",
       "WBL        0                  6            3\n",
       "           1                  5            5\n",
       "WCE        1                 17            6"
      ]
     },
     "execution_count": 36,
     "metadata": {},
     "output_type": "execute_result"
    }
   ],
   "source": [
    "#For each opposition that FRM faced, check whether the match was at home or away \n",
    "#How many matches were played and how many of those matches did FRM win?\n",
    "\n",
    "df_FRM.groupby(['Opposition', 'Home']).agg({'Date of Game':'nunique', \n",
    "                              'WinLoss': lambda x: sum(x)/22}).rename(columns = {'Date of Game':'Matches Played', \n",
    "                                                                                 'WinLoss': 'Matches Won'}).astype(int)"
   ]
  },
  {
   "cell_type": "code",
   "execution_count": 37,
   "id": "d67e8e32",
   "metadata": {
    "execution": {
     "iopub.execute_input": "2022-02-04T10:13:13.786638Z",
     "iopub.status.busy": "2022-02-04T10:13:13.785307Z",
     "iopub.status.idle": "2022-02-04T10:13:14.041270Z",
     "shell.execute_reply": "2022-02-04T10:13:14.041876Z",
     "shell.execute_reply.started": "2022-02-04T10:05:02.168843Z"
    },
    "papermill": {
     "duration": 0.383817,
     "end_time": "2022-02-04T10:13:14.042082",
     "exception": false,
     "start_time": "2022-02-04T10:13:13.658265",
     "status": "completed"
    },
    "tags": []
   },
   "outputs": [
    {
     "data": {
      "text/html": [
       "        <script type=\"text/javascript\">\n",
       "        window.PlotlyConfig = {MathJaxConfig: 'local'};\n",
       "        if (window.MathJax) {MathJax.Hub.Config({SVG: {font: \"STIX-Web\"}});}\n",
       "        if (typeof require !== 'undefined') {\n",
       "        require.undef(\"plotly\");\n",
       "        requirejs.config({\n",
       "            paths: {\n",
       "                'plotly': ['https://cdn.plot.ly/plotly-2.8.3.min']\n",
       "            }\n",
       "        });\n",
       "        require(['plotly'], function(Plotly) {\n",
       "            window._Plotly = Plotly;\n",
       "        });\n",
       "        }\n",
       "        </script>\n",
       "        "
      ]
     },
     "metadata": {},
     "output_type": "display_data"
    },
    {
     "data": {
      "text/html": [
       "<div>                            <div id=\"f6ed518f-081e-4cd4-a4e8-1b63b5a52950\" class=\"plotly-graph-div\" style=\"height:525px; width:100%;\"></div>            <script type=\"text/javascript\">                require([\"plotly\"], function(Plotly) {                    window.PLOTLYENV=window.PLOTLYENV || {};                                    if (document.getElementById(\"f6ed518f-081e-4cd4-a4e8-1b63b5a52950\")) {                    Plotly.newPlot(                        \"f6ed518f-081e-4cd4-a4e8-1b63b5a52950\",                        [{\"labels\":[\"Home Match\",\"Away Match\"],\"values\":[108.0,94.0],\"type\":\"pie\",\"textfont\":{\"size\":15},\"marker\":{\"colors\":[\"purple\",\"lightgrey\"]},\"hoverinfo\":\"none\",\"textinfo\":\"label+value\"}],                        {\"template\":{\"data\":{\"bar\":[{\"error_x\":{\"color\":\"#2a3f5f\"},\"error_y\":{\"color\":\"#2a3f5f\"},\"marker\":{\"line\":{\"color\":\"#E5ECF6\",\"width\":0.5},\"pattern\":{\"fillmode\":\"overlay\",\"size\":10,\"solidity\":0.2}},\"type\":\"bar\"}],\"barpolar\":[{\"marker\":{\"line\":{\"color\":\"#E5ECF6\",\"width\":0.5},\"pattern\":{\"fillmode\":\"overlay\",\"size\":10,\"solidity\":0.2}},\"type\":\"barpolar\"}],\"carpet\":[{\"aaxis\":{\"endlinecolor\":\"#2a3f5f\",\"gridcolor\":\"white\",\"linecolor\":\"white\",\"minorgridcolor\":\"white\",\"startlinecolor\":\"#2a3f5f\"},\"baxis\":{\"endlinecolor\":\"#2a3f5f\",\"gridcolor\":\"white\",\"linecolor\":\"white\",\"minorgridcolor\":\"white\",\"startlinecolor\":\"#2a3f5f\"},\"type\":\"carpet\"}],\"choropleth\":[{\"colorbar\":{\"outlinewidth\":0,\"ticks\":\"\"},\"type\":\"choropleth\"}],\"contour\":[{\"colorbar\":{\"outlinewidth\":0,\"ticks\":\"\"},\"colorscale\":[[0.0,\"#0d0887\"],[0.1111111111111111,\"#46039f\"],[0.2222222222222222,\"#7201a8\"],[0.3333333333333333,\"#9c179e\"],[0.4444444444444444,\"#bd3786\"],[0.5555555555555556,\"#d8576b\"],[0.6666666666666666,\"#ed7953\"],[0.7777777777777778,\"#fb9f3a\"],[0.8888888888888888,\"#fdca26\"],[1.0,\"#f0f921\"]],\"type\":\"contour\"}],\"contourcarpet\":[{\"colorbar\":{\"outlinewidth\":0,\"ticks\":\"\"},\"type\":\"contourcarpet\"}],\"heatmap\":[{\"colorbar\":{\"outlinewidth\":0,\"ticks\":\"\"},\"colorscale\":[[0.0,\"#0d0887\"],[0.1111111111111111,\"#46039f\"],[0.2222222222222222,\"#7201a8\"],[0.3333333333333333,\"#9c179e\"],[0.4444444444444444,\"#bd3786\"],[0.5555555555555556,\"#d8576b\"],[0.6666666666666666,\"#ed7953\"],[0.7777777777777778,\"#fb9f3a\"],[0.8888888888888888,\"#fdca26\"],[1.0,\"#f0f921\"]],\"type\":\"heatmap\"}],\"heatmapgl\":[{\"colorbar\":{\"outlinewidth\":0,\"ticks\":\"\"},\"colorscale\":[[0.0,\"#0d0887\"],[0.1111111111111111,\"#46039f\"],[0.2222222222222222,\"#7201a8\"],[0.3333333333333333,\"#9c179e\"],[0.4444444444444444,\"#bd3786\"],[0.5555555555555556,\"#d8576b\"],[0.6666666666666666,\"#ed7953\"],[0.7777777777777778,\"#fb9f3a\"],[0.8888888888888888,\"#fdca26\"],[1.0,\"#f0f921\"]],\"type\":\"heatmapgl\"}],\"histogram\":[{\"marker\":{\"pattern\":{\"fillmode\":\"overlay\",\"size\":10,\"solidity\":0.2}},\"type\":\"histogram\"}],\"histogram2d\":[{\"colorbar\":{\"outlinewidth\":0,\"ticks\":\"\"},\"colorscale\":[[0.0,\"#0d0887\"],[0.1111111111111111,\"#46039f\"],[0.2222222222222222,\"#7201a8\"],[0.3333333333333333,\"#9c179e\"],[0.4444444444444444,\"#bd3786\"],[0.5555555555555556,\"#d8576b\"],[0.6666666666666666,\"#ed7953\"],[0.7777777777777778,\"#fb9f3a\"],[0.8888888888888888,\"#fdca26\"],[1.0,\"#f0f921\"]],\"type\":\"histogram2d\"}],\"histogram2dcontour\":[{\"colorbar\":{\"outlinewidth\":0,\"ticks\":\"\"},\"colorscale\":[[0.0,\"#0d0887\"],[0.1111111111111111,\"#46039f\"],[0.2222222222222222,\"#7201a8\"],[0.3333333333333333,\"#9c179e\"],[0.4444444444444444,\"#bd3786\"],[0.5555555555555556,\"#d8576b\"],[0.6666666666666666,\"#ed7953\"],[0.7777777777777778,\"#fb9f3a\"],[0.8888888888888888,\"#fdca26\"],[1.0,\"#f0f921\"]],\"type\":\"histogram2dcontour\"}],\"mesh3d\":[{\"colorbar\":{\"outlinewidth\":0,\"ticks\":\"\"},\"type\":\"mesh3d\"}],\"parcoords\":[{\"line\":{\"colorbar\":{\"outlinewidth\":0,\"ticks\":\"\"}},\"type\":\"parcoords\"}],\"pie\":[{\"automargin\":true,\"type\":\"pie\"}],\"scatter\":[{\"marker\":{\"colorbar\":{\"outlinewidth\":0,\"ticks\":\"\"}},\"type\":\"scatter\"}],\"scatter3d\":[{\"line\":{\"colorbar\":{\"outlinewidth\":0,\"ticks\":\"\"}},\"marker\":{\"colorbar\":{\"outlinewidth\":0,\"ticks\":\"\"}},\"type\":\"scatter3d\"}],\"scattercarpet\":[{\"marker\":{\"colorbar\":{\"outlinewidth\":0,\"ticks\":\"\"}},\"type\":\"scattercarpet\"}],\"scattergeo\":[{\"marker\":{\"colorbar\":{\"outlinewidth\":0,\"ticks\":\"\"}},\"type\":\"scattergeo\"}],\"scattergl\":[{\"marker\":{\"colorbar\":{\"outlinewidth\":0,\"ticks\":\"\"}},\"type\":\"scattergl\"}],\"scattermapbox\":[{\"marker\":{\"colorbar\":{\"outlinewidth\":0,\"ticks\":\"\"}},\"type\":\"scattermapbox\"}],\"scatterpolar\":[{\"marker\":{\"colorbar\":{\"outlinewidth\":0,\"ticks\":\"\"}},\"type\":\"scatterpolar\"}],\"scatterpolargl\":[{\"marker\":{\"colorbar\":{\"outlinewidth\":0,\"ticks\":\"\"}},\"type\":\"scatterpolargl\"}],\"scatterternary\":[{\"marker\":{\"colorbar\":{\"outlinewidth\":0,\"ticks\":\"\"}},\"type\":\"scatterternary\"}],\"surface\":[{\"colorbar\":{\"outlinewidth\":0,\"ticks\":\"\"},\"colorscale\":[[0.0,\"#0d0887\"],[0.1111111111111111,\"#46039f\"],[0.2222222222222222,\"#7201a8\"],[0.3333333333333333,\"#9c179e\"],[0.4444444444444444,\"#bd3786\"],[0.5555555555555556,\"#d8576b\"],[0.6666666666666666,\"#ed7953\"],[0.7777777777777778,\"#fb9f3a\"],[0.8888888888888888,\"#fdca26\"],[1.0,\"#f0f921\"]],\"type\":\"surface\"}],\"table\":[{\"cells\":{\"fill\":{\"color\":\"#EBF0F8\"},\"line\":{\"color\":\"white\"}},\"header\":{\"fill\":{\"color\":\"#C8D4E3\"},\"line\":{\"color\":\"white\"}},\"type\":\"table\"}]},\"layout\":{\"annotationdefaults\":{\"arrowcolor\":\"#2a3f5f\",\"arrowhead\":0,\"arrowwidth\":1},\"autotypenumbers\":\"strict\",\"coloraxis\":{\"colorbar\":{\"outlinewidth\":0,\"ticks\":\"\"}},\"colorscale\":{\"diverging\":[[0,\"#8e0152\"],[0.1,\"#c51b7d\"],[0.2,\"#de77ae\"],[0.3,\"#f1b6da\"],[0.4,\"#fde0ef\"],[0.5,\"#f7f7f7\"],[0.6,\"#e6f5d0\"],[0.7,\"#b8e186\"],[0.8,\"#7fbc41\"],[0.9,\"#4d9221\"],[1,\"#276419\"]],\"sequential\":[[0.0,\"#0d0887\"],[0.1111111111111111,\"#46039f\"],[0.2222222222222222,\"#7201a8\"],[0.3333333333333333,\"#9c179e\"],[0.4444444444444444,\"#bd3786\"],[0.5555555555555556,\"#d8576b\"],[0.6666666666666666,\"#ed7953\"],[0.7777777777777778,\"#fb9f3a\"],[0.8888888888888888,\"#fdca26\"],[1.0,\"#f0f921\"]],\"sequentialminus\":[[0.0,\"#0d0887\"],[0.1111111111111111,\"#46039f\"],[0.2222222222222222,\"#7201a8\"],[0.3333333333333333,\"#9c179e\"],[0.4444444444444444,\"#bd3786\"],[0.5555555555555556,\"#d8576b\"],[0.6666666666666666,\"#ed7953\"],[0.7777777777777778,\"#fb9f3a\"],[0.8888888888888888,\"#fdca26\"],[1.0,\"#f0f921\"]]},\"colorway\":[\"#636efa\",\"#EF553B\",\"#00cc96\",\"#ab63fa\",\"#FFA15A\",\"#19d3f3\",\"#FF6692\",\"#B6E880\",\"#FF97FF\",\"#FECB52\"],\"font\":{\"color\":\"#2a3f5f\"},\"geo\":{\"bgcolor\":\"white\",\"lakecolor\":\"white\",\"landcolor\":\"#E5ECF6\",\"showlakes\":true,\"showland\":true,\"subunitcolor\":\"white\"},\"hoverlabel\":{\"align\":\"left\"},\"hovermode\":\"closest\",\"mapbox\":{\"style\":\"light\"},\"paper_bgcolor\":\"white\",\"plot_bgcolor\":\"#E5ECF6\",\"polar\":{\"angularaxis\":{\"gridcolor\":\"white\",\"linecolor\":\"white\",\"ticks\":\"\"},\"bgcolor\":\"#E5ECF6\",\"radialaxis\":{\"gridcolor\":\"white\",\"linecolor\":\"white\",\"ticks\":\"\"}},\"scene\":{\"xaxis\":{\"backgroundcolor\":\"#E5ECF6\",\"gridcolor\":\"white\",\"gridwidth\":2,\"linecolor\":\"white\",\"showbackground\":true,\"ticks\":\"\",\"zerolinecolor\":\"white\"},\"yaxis\":{\"backgroundcolor\":\"#E5ECF6\",\"gridcolor\":\"white\",\"gridwidth\":2,\"linecolor\":\"white\",\"showbackground\":true,\"ticks\":\"\",\"zerolinecolor\":\"white\"},\"zaxis\":{\"backgroundcolor\":\"#E5ECF6\",\"gridcolor\":\"white\",\"gridwidth\":2,\"linecolor\":\"white\",\"showbackground\":true,\"ticks\":\"\",\"zerolinecolor\":\"white\"}},\"shapedefaults\":{\"line\":{\"color\":\"#2a3f5f\"}},\"ternary\":{\"aaxis\":{\"gridcolor\":\"white\",\"linecolor\":\"white\",\"ticks\":\"\"},\"baxis\":{\"gridcolor\":\"white\",\"linecolor\":\"white\",\"ticks\":\"\"},\"bgcolor\":\"#E5ECF6\",\"caxis\":{\"gridcolor\":\"white\",\"linecolor\":\"white\",\"ticks\":\"\"}},\"title\":{\"x\":0.05},\"xaxis\":{\"automargin\":true,\"gridcolor\":\"white\",\"linecolor\":\"white\",\"ticks\":\"\",\"title\":{\"standoff\":15},\"zerolinecolor\":\"white\",\"zerolinewidth\":2},\"yaxis\":{\"automargin\":true,\"gridcolor\":\"white\",\"linecolor\":\"white\",\"ticks\":\"\",\"title\":{\"standoff\":15},\"zerolinecolor\":\"white\",\"zerolinewidth\":2}}},\"title\":{\"text\":\"Split of Fremantle's Home and Away Matches\",\"x\":0.5},\"showlegend\":false},                        {\"responsive\": true}                    ).then(function(){\n",
       "                            \n",
       "var gd = document.getElementById('f6ed518f-081e-4cd4-a4e8-1b63b5a52950');\n",
       "var x = new MutationObserver(function (mutations, observer) {{\n",
       "        var display = window.getComputedStyle(gd).display;\n",
       "        if (!display || display === 'none') {{\n",
       "            console.log([gd, 'removed!']);\n",
       "            Plotly.purge(gd);\n",
       "            observer.disconnect();\n",
       "        }}\n",
       "}});\n",
       "\n",
       "// Listen for the removal of the full notebook cells\n",
       "var notebookContainer = gd.closest('#notebook-container');\n",
       "if (notebookContainer) {{\n",
       "    x.observe(notebookContainer, {childList: true});\n",
       "}}\n",
       "\n",
       "// Listen for the clearing of the current output cell\n",
       "var outputEl = gd.closest('.output');\n",
       "if (outputEl) {{\n",
       "    x.observe(outputEl, {childList: true});\n",
       "}}\n",
       "\n",
       "                        })                };                });            </script>        </div>"
      ]
     },
     "metadata": {},
     "output_type": "display_data"
    }
   ],
   "source": [
    "#home matches played\n",
    "homegame = df_FRM[df_FRM['Home']==1]\n",
    "#away matches played\n",
    "awaygame = df_FRM[df_FRM['Home']==0]\n",
    "\n",
    "vals = [len(homegame)/22, len(awaygame)/22]\n",
    "labels = ['Home Match', 'Away Match']\n",
    "cols = ['purple', 'lightgrey']\n",
    "\n",
    "fig = go.Figure(data = [go.Pie(labels=labels, values=vals)])\n",
    "fig.update_traces(hoverinfo='none', textfont_size=15, textinfo='label+value', \n",
    "                 marker=dict(colors=cols))\n",
    "fig.update_layout(title=\"Split of Fremantle's Home and Away Matches\", title_x=0.5,\n",
    "                 showlegend=False)\n",
    "fig.show("png")"
   ]
  },
  {
   "cell_type": "code",
   "execution_count": 38,
   "id": "316b235b",
   "metadata": {
    "execution": {
     "iopub.execute_input": "2022-02-04T10:13:14.286822Z",
     "iopub.status.busy": "2022-02-04T10:13:14.286180Z",
     "iopub.status.idle": "2022-02-04T10:13:14.316626Z",
     "shell.execute_reply": "2022-02-04T10:13:14.317362Z",
     "shell.execute_reply.started": "2022-02-04T10:05:02.353720Z"
    },
    "papermill": {
     "duration": 0.154004,
     "end_time": "2022-02-04T10:13:14.317613",
     "exception": false,
     "start_time": "2022-02-04T10:13:14.163609",
     "status": "completed"
    },
    "tags": []
   },
   "outputs": [
    {
     "name": "stderr",
     "output_type": "stream",
     "text": [
      "/opt/conda/lib/python3.7/site-packages/ipykernel_launcher.py:5: UserWarning:\n",
      "\n",
      "Boolean Series key will be reindexed to match DataFrame index.\n",
      "\n",
      "/opt/conda/lib/python3.7/site-packages/ipykernel_launcher.py:6: UserWarning:\n",
      "\n",
      "Boolean Series key will be reindexed to match DataFrame index.\n",
      "\n",
      "/opt/conda/lib/python3.7/site-packages/ipykernel_launcher.py:8: UserWarning:\n",
      "\n",
      "Boolean Series key will be reindexed to match DataFrame index.\n",
      "\n",
      "/opt/conda/lib/python3.7/site-packages/ipykernel_launcher.py:9: UserWarning:\n",
      "\n",
      "Boolean Series key will be reindexed to match DataFrame index.\n",
      "\n"
     ]
    },
    {
     "data": {
      "text/html": [
       "<div>                            <div id=\"f8a23bf7-4853-49c7-ae7d-4e0c9c7b5455\" class=\"plotly-graph-div\" style=\"height:525px; width:100%;\"></div>            <script type=\"text/javascript\">                require([\"plotly\"], function(Plotly) {                    window.PLOTLYENV=window.PLOTLYENV || {};                                    if (document.getElementById(\"f8a23bf7-4853-49c7-ae7d-4e0c9c7b5455\")) {                    Plotly.newPlot(                        \"f8a23bf7-4853-49c7-ae7d-4e0c9c7b5455\",                        [{\"hole\":0.25,\"labels\":[\"Home Loss\",\"Home Win\",\"Away Loss\",\"Away Win\"],\"values\":[41.0,67.0,58.0,36.0],\"type\":\"pie\",\"textfont\":{\"size\":15},\"marker\":{\"colors\":[\"plum\",\"purple\",\"lightgrey\",\"darkgrey\"]},\"direction\":\"clockwise\",\"hoverinfo\":\"none\",\"sort\":false,\"textinfo\":\"label+value\"}],                        {\"template\":{\"data\":{\"bar\":[{\"error_x\":{\"color\":\"#2a3f5f\"},\"error_y\":{\"color\":\"#2a3f5f\"},\"marker\":{\"line\":{\"color\":\"#E5ECF6\",\"width\":0.5},\"pattern\":{\"fillmode\":\"overlay\",\"size\":10,\"solidity\":0.2}},\"type\":\"bar\"}],\"barpolar\":[{\"marker\":{\"line\":{\"color\":\"#E5ECF6\",\"width\":0.5},\"pattern\":{\"fillmode\":\"overlay\",\"size\":10,\"solidity\":0.2}},\"type\":\"barpolar\"}],\"carpet\":[{\"aaxis\":{\"endlinecolor\":\"#2a3f5f\",\"gridcolor\":\"white\",\"linecolor\":\"white\",\"minorgridcolor\":\"white\",\"startlinecolor\":\"#2a3f5f\"},\"baxis\":{\"endlinecolor\":\"#2a3f5f\",\"gridcolor\":\"white\",\"linecolor\":\"white\",\"minorgridcolor\":\"white\",\"startlinecolor\":\"#2a3f5f\"},\"type\":\"carpet\"}],\"choropleth\":[{\"colorbar\":{\"outlinewidth\":0,\"ticks\":\"\"},\"type\":\"choropleth\"}],\"contour\":[{\"colorbar\":{\"outlinewidth\":0,\"ticks\":\"\"},\"colorscale\":[[0.0,\"#0d0887\"],[0.1111111111111111,\"#46039f\"],[0.2222222222222222,\"#7201a8\"],[0.3333333333333333,\"#9c179e\"],[0.4444444444444444,\"#bd3786\"],[0.5555555555555556,\"#d8576b\"],[0.6666666666666666,\"#ed7953\"],[0.7777777777777778,\"#fb9f3a\"],[0.8888888888888888,\"#fdca26\"],[1.0,\"#f0f921\"]],\"type\":\"contour\"}],\"contourcarpet\":[{\"colorbar\":{\"outlinewidth\":0,\"ticks\":\"\"},\"type\":\"contourcarpet\"}],\"heatmap\":[{\"colorbar\":{\"outlinewidth\":0,\"ticks\":\"\"},\"colorscale\":[[0.0,\"#0d0887\"],[0.1111111111111111,\"#46039f\"],[0.2222222222222222,\"#7201a8\"],[0.3333333333333333,\"#9c179e\"],[0.4444444444444444,\"#bd3786\"],[0.5555555555555556,\"#d8576b\"],[0.6666666666666666,\"#ed7953\"],[0.7777777777777778,\"#fb9f3a\"],[0.8888888888888888,\"#fdca26\"],[1.0,\"#f0f921\"]],\"type\":\"heatmap\"}],\"heatmapgl\":[{\"colorbar\":{\"outlinewidth\":0,\"ticks\":\"\"},\"colorscale\":[[0.0,\"#0d0887\"],[0.1111111111111111,\"#46039f\"],[0.2222222222222222,\"#7201a8\"],[0.3333333333333333,\"#9c179e\"],[0.4444444444444444,\"#bd3786\"],[0.5555555555555556,\"#d8576b\"],[0.6666666666666666,\"#ed7953\"],[0.7777777777777778,\"#fb9f3a\"],[0.8888888888888888,\"#fdca26\"],[1.0,\"#f0f921\"]],\"type\":\"heatmapgl\"}],\"histogram\":[{\"marker\":{\"pattern\":{\"fillmode\":\"overlay\",\"size\":10,\"solidity\":0.2}},\"type\":\"histogram\"}],\"histogram2d\":[{\"colorbar\":{\"outlinewidth\":0,\"ticks\":\"\"},\"colorscale\":[[0.0,\"#0d0887\"],[0.1111111111111111,\"#46039f\"],[0.2222222222222222,\"#7201a8\"],[0.3333333333333333,\"#9c179e\"],[0.4444444444444444,\"#bd3786\"],[0.5555555555555556,\"#d8576b\"],[0.6666666666666666,\"#ed7953\"],[0.7777777777777778,\"#fb9f3a\"],[0.8888888888888888,\"#fdca26\"],[1.0,\"#f0f921\"]],\"type\":\"histogram2d\"}],\"histogram2dcontour\":[{\"colorbar\":{\"outlinewidth\":0,\"ticks\":\"\"},\"colorscale\":[[0.0,\"#0d0887\"],[0.1111111111111111,\"#46039f\"],[0.2222222222222222,\"#7201a8\"],[0.3333333333333333,\"#9c179e\"],[0.4444444444444444,\"#bd3786\"],[0.5555555555555556,\"#d8576b\"],[0.6666666666666666,\"#ed7953\"],[0.7777777777777778,\"#fb9f3a\"],[0.8888888888888888,\"#fdca26\"],[1.0,\"#f0f921\"]],\"type\":\"histogram2dcontour\"}],\"mesh3d\":[{\"colorbar\":{\"outlinewidth\":0,\"ticks\":\"\"},\"type\":\"mesh3d\"}],\"parcoords\":[{\"line\":{\"colorbar\":{\"outlinewidth\":0,\"ticks\":\"\"}},\"type\":\"parcoords\"}],\"pie\":[{\"automargin\":true,\"type\":\"pie\"}],\"scatter\":[{\"marker\":{\"colorbar\":{\"outlinewidth\":0,\"ticks\":\"\"}},\"type\":\"scatter\"}],\"scatter3d\":[{\"line\":{\"colorbar\":{\"outlinewidth\":0,\"ticks\":\"\"}},\"marker\":{\"colorbar\":{\"outlinewidth\":0,\"ticks\":\"\"}},\"type\":\"scatter3d\"}],\"scattercarpet\":[{\"marker\":{\"colorbar\":{\"outlinewidth\":0,\"ticks\":\"\"}},\"type\":\"scattercarpet\"}],\"scattergeo\":[{\"marker\":{\"colorbar\":{\"outlinewidth\":0,\"ticks\":\"\"}},\"type\":\"scattergeo\"}],\"scattergl\":[{\"marker\":{\"colorbar\":{\"outlinewidth\":0,\"ticks\":\"\"}},\"type\":\"scattergl\"}],\"scattermapbox\":[{\"marker\":{\"colorbar\":{\"outlinewidth\":0,\"ticks\":\"\"}},\"type\":\"scattermapbox\"}],\"scatterpolar\":[{\"marker\":{\"colorbar\":{\"outlinewidth\":0,\"ticks\":\"\"}},\"type\":\"scatterpolar\"}],\"scatterpolargl\":[{\"marker\":{\"colorbar\":{\"outlinewidth\":0,\"ticks\":\"\"}},\"type\":\"scatterpolargl\"}],\"scatterternary\":[{\"marker\":{\"colorbar\":{\"outlinewidth\":0,\"ticks\":\"\"}},\"type\":\"scatterternary\"}],\"surface\":[{\"colorbar\":{\"outlinewidth\":0,\"ticks\":\"\"},\"colorscale\":[[0.0,\"#0d0887\"],[0.1111111111111111,\"#46039f\"],[0.2222222222222222,\"#7201a8\"],[0.3333333333333333,\"#9c179e\"],[0.4444444444444444,\"#bd3786\"],[0.5555555555555556,\"#d8576b\"],[0.6666666666666666,\"#ed7953\"],[0.7777777777777778,\"#fb9f3a\"],[0.8888888888888888,\"#fdca26\"],[1.0,\"#f0f921\"]],\"type\":\"surface\"}],\"table\":[{\"cells\":{\"fill\":{\"color\":\"#EBF0F8\"},\"line\":{\"color\":\"white\"}},\"header\":{\"fill\":{\"color\":\"#C8D4E3\"},\"line\":{\"color\":\"white\"}},\"type\":\"table\"}]},\"layout\":{\"annotationdefaults\":{\"arrowcolor\":\"#2a3f5f\",\"arrowhead\":0,\"arrowwidth\":1},\"autotypenumbers\":\"strict\",\"coloraxis\":{\"colorbar\":{\"outlinewidth\":0,\"ticks\":\"\"}},\"colorscale\":{\"diverging\":[[0,\"#8e0152\"],[0.1,\"#c51b7d\"],[0.2,\"#de77ae\"],[0.3,\"#f1b6da\"],[0.4,\"#fde0ef\"],[0.5,\"#f7f7f7\"],[0.6,\"#e6f5d0\"],[0.7,\"#b8e186\"],[0.8,\"#7fbc41\"],[0.9,\"#4d9221\"],[1,\"#276419\"]],\"sequential\":[[0.0,\"#0d0887\"],[0.1111111111111111,\"#46039f\"],[0.2222222222222222,\"#7201a8\"],[0.3333333333333333,\"#9c179e\"],[0.4444444444444444,\"#bd3786\"],[0.5555555555555556,\"#d8576b\"],[0.6666666666666666,\"#ed7953\"],[0.7777777777777778,\"#fb9f3a\"],[0.8888888888888888,\"#fdca26\"],[1.0,\"#f0f921\"]],\"sequentialminus\":[[0.0,\"#0d0887\"],[0.1111111111111111,\"#46039f\"],[0.2222222222222222,\"#7201a8\"],[0.3333333333333333,\"#9c179e\"],[0.4444444444444444,\"#bd3786\"],[0.5555555555555556,\"#d8576b\"],[0.6666666666666666,\"#ed7953\"],[0.7777777777777778,\"#fb9f3a\"],[0.8888888888888888,\"#fdca26\"],[1.0,\"#f0f921\"]]},\"colorway\":[\"#636efa\",\"#EF553B\",\"#00cc96\",\"#ab63fa\",\"#FFA15A\",\"#19d3f3\",\"#FF6692\",\"#B6E880\",\"#FF97FF\",\"#FECB52\"],\"font\":{\"color\":\"#2a3f5f\"},\"geo\":{\"bgcolor\":\"white\",\"lakecolor\":\"white\",\"landcolor\":\"#E5ECF6\",\"showlakes\":true,\"showland\":true,\"subunitcolor\":\"white\"},\"hoverlabel\":{\"align\":\"left\"},\"hovermode\":\"closest\",\"mapbox\":{\"style\":\"light\"},\"paper_bgcolor\":\"white\",\"plot_bgcolor\":\"#E5ECF6\",\"polar\":{\"angularaxis\":{\"gridcolor\":\"white\",\"linecolor\":\"white\",\"ticks\":\"\"},\"bgcolor\":\"#E5ECF6\",\"radialaxis\":{\"gridcolor\":\"white\",\"linecolor\":\"white\",\"ticks\":\"\"}},\"scene\":{\"xaxis\":{\"backgroundcolor\":\"#E5ECF6\",\"gridcolor\":\"white\",\"gridwidth\":2,\"linecolor\":\"white\",\"showbackground\":true,\"ticks\":\"\",\"zerolinecolor\":\"white\"},\"yaxis\":{\"backgroundcolor\":\"#E5ECF6\",\"gridcolor\":\"white\",\"gridwidth\":2,\"linecolor\":\"white\",\"showbackground\":true,\"ticks\":\"\",\"zerolinecolor\":\"white\"},\"zaxis\":{\"backgroundcolor\":\"#E5ECF6\",\"gridcolor\":\"white\",\"gridwidth\":2,\"linecolor\":\"white\",\"showbackground\":true,\"ticks\":\"\",\"zerolinecolor\":\"white\"}},\"shapedefaults\":{\"line\":{\"color\":\"#2a3f5f\"}},\"ternary\":{\"aaxis\":{\"gridcolor\":\"white\",\"linecolor\":\"white\",\"ticks\":\"\"},\"baxis\":{\"gridcolor\":\"white\",\"linecolor\":\"white\",\"ticks\":\"\"},\"bgcolor\":\"#E5ECF6\",\"caxis\":{\"gridcolor\":\"white\",\"linecolor\":\"white\",\"ticks\":\"\"}},\"title\":{\"x\":0.05},\"xaxis\":{\"automargin\":true,\"gridcolor\":\"white\",\"linecolor\":\"white\",\"ticks\":\"\",\"title\":{\"standoff\":15},\"zerolinecolor\":\"white\",\"zerolinewidth\":2},\"yaxis\":{\"automargin\":true,\"gridcolor\":\"white\",\"linecolor\":\"white\",\"ticks\":\"\",\"title\":{\"standoff\":15},\"zerolinecolor\":\"white\",\"zerolinewidth\":2}}},\"title\":{\"text\":\"Fremantle's Wins and Losses - Home and Away\",\"x\":0.5},\"showlegend\":false},                        {\"responsive\": true}                    ).then(function(){\n",
       "                            \n",
       "var gd = document.getElementById('f8a23bf7-4853-49c7-ae7d-4e0c9c7b5455');\n",
       "var x = new MutationObserver(function (mutations, observer) {{\n",
       "        var display = window.getComputedStyle(gd).display;\n",
       "        if (!display || display === 'none') {{\n",
       "            console.log([gd, 'removed!']);\n",
       "            Plotly.purge(gd);\n",
       "            observer.disconnect();\n",
       "        }}\n",
       "}});\n",
       "\n",
       "// Listen for the removal of the full notebook cells\n",
       "var notebookContainer = gd.closest('#notebook-container');\n",
       "if (notebookContainer) {{\n",
       "    x.observe(notebookContainer, {childList: true});\n",
       "}}\n",
       "\n",
       "// Listen for the clearing of the current output cell\n",
       "var outputEl = gd.closest('.output');\n",
       "if (outputEl) {{\n",
       "    x.observe(outputEl, {childList: true});\n",
       "}}\n",
       "\n",
       "                        })                };                });            </script>        </div>"
      ]
     },
     "metadata": {},
     "output_type": "display_data"
    }
   ],
   "source": [
    "#separate home and away matches\n",
    "homegame = df_FRM[df_FRM['Home']==1]\n",
    "awaygame = df_FRM[df_FRM['Home']==0]\n",
    "#find home wins and home losses\n",
    "home_loss = homegame[df_FRM['WinLoss']==0]\n",
    "home_win = homegame[df_FRM['WinLoss']==1]\n",
    "#find away wins and away losses\n",
    "away_loss = awaygame[df_FRM['WinLoss']==0]\n",
    "away_win = awaygame[df_FRM['WinLoss']==1]\n",
    "\n",
    "#remember to divide values by the number of players involved i.e. 22\n",
    "vals = [len(home_loss)/22, len(home_win)/22, \n",
    "        len(away_loss)/22, len(away_win)/22]\n",
    "\n",
    "labels = ['Home Loss', 'Home Win', 'Away Loss', 'Away Win']\n",
    "\n",
    "cols = ['plum', 'purple', 'lightgrey', 'darkgrey']\n",
    "\n",
    "fig = go.Figure(data = [go.Pie(labels=labels, values=vals, hole=0.25)]) \n",
    "\n",
    "fig.update_traces(hoverinfo='none', textfont_size=15, textinfo='label+value', direction='clockwise', \n",
    "                  sort=False, marker=dict(colors=cols))\n",
    "fig.update_layout(title=\"Fremantle's Wins and Losses - Home and Away\", title_x=0.5, \n",
    "                  showlegend=False)\n",
    "fig.show("png")"
   ]
  },
  {
   "cell_type": "markdown",
   "id": "7530a75a",
   "metadata": {
    "papermill": {
     "duration": 0.122861,
     "end_time": "2022-02-04T10:13:14.562966",
     "exception": false,
     "start_time": "2022-02-04T10:13:14.440105",
     "status": "completed"
    },
    "tags": []
   },
   "source": [
    "It would appear that the home advantage factor holds true for Fremantle as they have won 31 more matches in their home stadium compared to when playing in their opposition's stadium. Given that Fremantle have not played an equal amount of home and away matches, lets consider how their wins and losses, both home and away, compare when considered as a percentages. "
   ]
  },
  {
   "cell_type": "code",
   "execution_count": 39,
   "id": "a9a46e90",
   "metadata": {
    "execution": {
     "iopub.execute_input": "2022-02-04T10:13:14.808781Z",
     "iopub.status.busy": "2022-02-04T10:13:14.808080Z",
     "iopub.status.idle": "2022-02-04T10:13:14.817638Z",
     "shell.execute_reply": "2022-02-04T10:13:14.818202Z",
     "shell.execute_reply.started": "2022-02-04T10:05:02.384633Z"
    },
    "papermill": {
     "duration": 0.133708,
     "end_time": "2022-02-04T10:13:14.818381",
     "exception": false,
     "start_time": "2022-02-04T10:13:14.684673",
     "status": "completed"
    },
    "tags": []
   },
   "outputs": [
    {
     "name": "stdout",
     "output_type": "stream",
     "text": [
      "Home Win %  Home Loss %\n",
      "62.0        38.0\n",
      "\n",
      "\n",
      "Away Win %  Away Loss %\n",
      "38.3        61.7\n"
     ]
    }
   ],
   "source": [
    "print('Home Win %','','Home Loss %')\n",
    "print(\"%.1f\"%(((len(home_win)/22) / (len(homegame)/22))*100),\n",
    "      '      ',  \n",
    "      \"%.1f\"%(((len(home_loss)/22) / (len(homegame)/22))*100))\n",
    "\n",
    "print('\\n')\n",
    "\n",
    "print('Away Win %','','Away Loss %')\n",
    "print(\"%.1f\"%(((len(away_win)/22) / (len(awaygame)/22))*100),\n",
    "      '      ',\n",
    "      \"%.1f\"%(((len(away_loss)/22) / (len(awaygame)/22))*100))"
   ]
  },
  {
   "cell_type": "markdown",
   "id": "21f961eb",
   "metadata": {
    "papermill": {
     "duration": 0.121943,
     "end_time": "2022-02-04T10:13:15.061295",
     "exception": false,
     "start_time": "2022-02-04T10:13:14.939352",
     "status": "completed"
    },
    "tags": []
   },
   "source": [
    "We can immediately see that although having played 14 more matches at home than away, Fremantle have almost the same percentage split for both matches won at home and lost away from home and matches lost at home and won away from home. It would seem that the Dockers win at home just as much as they lose away and lose at home just as much as they win away. \n",
    "\n",
    "As a result,we can infer that Fremnatle have an overall win percentage just over 50%. Lets confirm this."
   ]
  },
  {
   "cell_type": "code",
   "execution_count": 40,
   "id": "51f0ad6c",
   "metadata": {
    "execution": {
     "iopub.execute_input": "2022-02-04T10:13:15.303109Z",
     "iopub.status.busy": "2022-02-04T10:13:15.302185Z",
     "iopub.status.idle": "2022-02-04T10:13:15.311144Z",
     "shell.execute_reply": "2022-02-04T10:13:15.311967Z",
     "shell.execute_reply.started": "2022-02-04T10:05:02.402357Z"
    },
    "papermill": {
     "duration": 0.131891,
     "end_time": "2022-02-04T10:13:15.312198",
     "exception": false,
     "start_time": "2022-02-04T10:13:15.180307",
     "status": "completed"
    },
    "tags": []
   },
   "outputs": [
    {
     "name": "stdout",
     "output_type": "stream",
     "text": [
      "FRM Overall Win Percentage\n",
      "51.0 %\n"
     ]
    }
   ],
   "source": [
    "FRM_wins = df_FRM.groupby('Date of Game')['WinLoss'].sum().div(22).sum()  \n",
    "FRM_matches = df_FRM['Date of Game'].nunique()\n",
    "print('FRM Overall Win Percentage')\n",
    "print(\"%.1f\"%((FRM_wins/FRM_matches)*100),'%')"
   ]
  },
  {
   "cell_type": "markdown",
   "id": "962caa3e",
   "metadata": {
    "papermill": {
     "duration": 0.120705,
     "end_time": "2022-02-04T10:13:15.552857",
     "exception": false,
     "start_time": "2022-02-04T10:13:15.432152",
     "status": "completed"
    },
    "tags": []
   },
   "source": [
    "**ROUND BY ROUND**"
   ]
  },
  {
   "cell_type": "markdown",
   "id": "eb3378e1",
   "metadata": {
    "execution": {
     "iopub.execute_input": "2022-02-03T14:05:52.62807Z",
     "iopub.status.busy": "2022-02-03T14:05:52.627496Z",
     "iopub.status.idle": "2022-02-03T14:05:52.631368Z",
     "shell.execute_reply": "2022-02-03T14:05:52.630701Z",
     "shell.execute_reply.started": "2022-02-03T14:05:52.628032Z"
    },
    "papermill": {
     "duration": 0.119783,
     "end_time": "2022-02-04T10:13:15.796060",
     "exception": false,
     "start_time": "2022-02-04T10:13:15.676277",
     "status": "completed"
    },
    "tags": []
   },
   "source": [
    "We have seen how many wins and losses FRM have accumulated both at home and away. Lets now check how their performance holds on a round by round basis."
   ]
  },
  {
   "cell_type": "code",
   "execution_count": 41,
   "id": "78ebc493",
   "metadata": {
    "execution": {
     "iopub.execute_input": "2022-02-04T10:13:16.037985Z",
     "iopub.status.busy": "2022-02-04T10:13:16.037066Z",
     "iopub.status.idle": "2022-02-04T10:13:16.043240Z",
     "shell.execute_reply": "2022-02-04T10:13:16.043859Z",
     "shell.execute_reply.started": "2022-02-04T10:05:02.414993Z"
    },
    "papermill": {
     "duration": 0.128581,
     "end_time": "2022-02-04T10:13:16.044025",
     "exception": false,
     "start_time": "2022-02-04T10:13:15.915444",
     "status": "completed"
    },
    "tags": []
   },
   "outputs": [
    {
     "data": {
      "text/plain": [
       "array(['R1', 'R2', 'R3', 'R4', 'R5', 'R6', 'R7', 'R8', 'R9', 'R10', 'R11',\n",
       "       'R12', 'R13', 'R15', 'R16', 'R17', 'R18', 'R19', 'R20', 'R21',\n",
       "       'R22', 'R23', 'R14', 'QF', 'PF', 'SF', 'GF', 'EF'], dtype=object)"
      ]
     },
     "execution_count": 41,
     "metadata": {},
     "output_type": "execute_result"
    }
   ],
   "source": [
    "#Start off by checking how many rounds in an AFL season FRM have reached\n",
    "df_FRM['Round'].unique()"
   ]
  },
  {
   "cell_type": "code",
   "execution_count": 42,
   "id": "63e3c5f8",
   "metadata": {
    "execution": {
     "iopub.execute_input": "2022-02-04T10:13:16.286678Z",
     "iopub.status.busy": "2022-02-04T10:13:16.285739Z",
     "iopub.status.idle": "2022-02-04T10:13:16.290245Z",
     "shell.execute_reply": "2022-02-04T10:13:16.290861Z",
     "shell.execute_reply.started": "2022-02-04T10:05:02.425977Z"
    },
    "papermill": {
     "duration": 0.127537,
     "end_time": "2022-02-04T10:13:16.291023",
     "exception": false,
     "start_time": "2022-02-04T10:13:16.163486",
     "status": "completed"
    },
    "tags": []
   },
   "outputs": [],
   "source": [
    "#Premiership season goes from R1 to R23 and then Finals series begins. \n",
    "#Hence, rounds are in order of R1 to R23 followed by QF, EF, SF, PF, GF\n",
    "#QF = Qualifying Final, EF = Elimination Final, SF = Semi Final, PF = Preliminary Final, GF = Grand Final \n",
    "\n",
    "\n",
    "#as seen in array above, the rounds are not in order. To sort the values according to how they played in an\n",
    "#AFL season, lets create a list so that we can select specific elements within that list.\n",
    "roundslst = list(df_FRM['Round'].unique())"
   ]
  },
  {
   "cell_type": "code",
   "execution_count": 43,
   "id": "0590cae6",
   "metadata": {
    "execution": {
     "iopub.execute_input": "2022-02-04T10:13:16.534587Z",
     "iopub.status.busy": "2022-02-04T10:13:16.533667Z",
     "iopub.status.idle": "2022-02-04T10:13:16.541107Z",
     "shell.execute_reply": "2022-02-04T10:13:16.540581Z",
     "shell.execute_reply.started": "2022-02-04T10:05:02.436632Z"
    },
    "papermill": {
     "duration": 0.130806,
     "end_time": "2022-02-04T10:13:16.541253",
     "exception": false,
     "start_time": "2022-02-04T10:13:16.410447",
     "status": "completed"
    },
    "tags": []
   },
   "outputs": [
    {
     "data": {
      "text/plain": [
       "['R1',\n",
       " 'R2',\n",
       " 'R3',\n",
       " 'R4',\n",
       " 'R5',\n",
       " 'R6',\n",
       " 'R7',\n",
       " 'R8',\n",
       " 'R9',\n",
       " 'R10',\n",
       " 'R11',\n",
       " 'R12',\n",
       " 'R13',\n",
       " 'R15',\n",
       " 'R16',\n",
       " 'R17',\n",
       " 'R18',\n",
       " 'R19',\n",
       " 'R20',\n",
       " 'R21',\n",
       " 'R22',\n",
       " 'R23',\n",
       " 'R14',\n",
       " 'QF',\n",
       " 'PF',\n",
       " 'SF',\n",
       " 'GF',\n",
       " 'EF']"
      ]
     },
     "execution_count": 43,
     "metadata": {},
     "output_type": "execute_result"
    }
   ],
   "source": [
    "roundslst"
   ]
  },
  {
   "cell_type": "code",
   "execution_count": 44,
   "id": "9c6ac690",
   "metadata": {
    "execution": {
     "iopub.execute_input": "2022-02-04T10:13:16.828076Z",
     "iopub.status.busy": "2022-02-04T10:13:16.827382Z",
     "iopub.status.idle": "2022-02-04T10:13:16.830660Z",
     "shell.execute_reply": "2022-02-04T10:13:16.830035Z",
     "shell.execute_reply.started": "2022-02-04T10:05:02.452391Z"
    },
    "papermill": {
     "duration": 0.139473,
     "end_time": "2022-02-04T10:13:16.830852",
     "exception": false,
     "start_time": "2022-02-04T10:13:16.691379",
     "status": "completed"
    },
    "tags": []
   },
   "outputs": [],
   "source": [
    "#Break up list and put it back together into the correct order\n",
    "orderedlst= roundslst[:13] + roundslst[22:23]+ roundslst[13:22] + roundslst[-5:-4] + roundslst[-1:] + roundslst[-3:-2] + roundslst[-4:-3] + roundslst[-2:-1]"
   ]
  },
  {
   "cell_type": "code",
   "execution_count": 45,
   "id": "689b210b",
   "metadata": {
    "execution": {
     "iopub.execute_input": "2022-02-04T10:13:17.101996Z",
     "iopub.status.busy": "2022-02-04T10:13:17.101297Z",
     "iopub.status.idle": "2022-02-04T10:13:17.104907Z",
     "shell.execute_reply": "2022-02-04T10:13:17.105530Z",
     "shell.execute_reply.started": "2022-02-04T10:05:02.463049Z"
    },
    "papermill": {
     "duration": 0.132168,
     "end_time": "2022-02-04T10:13:17.105697",
     "exception": false,
     "start_time": "2022-02-04T10:13:16.973529",
     "status": "completed"
    },
    "tags": []
   },
   "outputs": [
    {
     "data": {
      "text/plain": [
       "['R1',\n",
       " 'R2',\n",
       " 'R3',\n",
       " 'R4',\n",
       " 'R5',\n",
       " 'R6',\n",
       " 'R7',\n",
       " 'R8',\n",
       " 'R9',\n",
       " 'R10',\n",
       " 'R11',\n",
       " 'R12',\n",
       " 'R13',\n",
       " 'R14',\n",
       " 'R15',\n",
       " 'R16',\n",
       " 'R17',\n",
       " 'R18',\n",
       " 'R19',\n",
       " 'R20',\n",
       " 'R21',\n",
       " 'R22',\n",
       " 'R23',\n",
       " 'QF',\n",
       " 'EF',\n",
       " 'SF',\n",
       " 'PF',\n",
       " 'GF']"
      ]
     },
     "execution_count": 45,
     "metadata": {},
     "output_type": "execute_result"
    }
   ],
   "source": [
    "orderedlst"
   ]
  },
  {
   "cell_type": "code",
   "execution_count": 46,
   "id": "0026ab73",
   "metadata": {
    "execution": {
     "iopub.execute_input": "2022-02-04T10:13:17.361006Z",
     "iopub.status.busy": "2022-02-04T10:13:17.360319Z",
     "iopub.status.idle": "2022-02-04T10:13:17.372522Z",
     "shell.execute_reply": "2022-02-04T10:13:17.373038Z",
     "shell.execute_reply.started": "2022-02-04T10:05:02.478875Z"
    },
    "papermill": {
     "duration": 0.144802,
     "end_time": "2022-02-04T10:13:17.373222",
     "exception": false,
     "start_time": "2022-02-04T10:13:17.228420",
     "status": "completed"
    },
    "tags": []
   },
   "outputs": [],
   "source": [
    "#create new dataframe for the ordered list of rounds\n",
    "roundsord = pd.DataFrame({'Round':orderedlst})\n",
    "\n",
    "#create new dataframe for the amount of matches played and the amount of wins in each round from 2012 to 2020\n",
    "FRM_roundwins = df_FRM.groupby('Round').agg({ 'Date of Game':'nunique', \n",
    "                                            'WinLoss': lambda x : sum(x)/22,}).rename(columns={'Date of Game':'Matches Played', \n",
    "                                                                                      'WinLoss':'Matches Won'})"
   ]
  },
  {
   "cell_type": "code",
   "execution_count": 47,
   "id": "e9da28e4",
   "metadata": {
    "execution": {
     "iopub.execute_input": "2022-02-04T10:13:17.629568Z",
     "iopub.status.busy": "2022-02-04T10:13:17.628515Z",
     "iopub.status.idle": "2022-02-04T10:13:17.630710Z",
     "shell.execute_reply": "2022-02-04T10:13:17.631218Z",
     "shell.execute_reply.started": "2022-02-04T10:05:02.495125Z"
    },
    "papermill": {
     "duration": 0.137556,
     "end_time": "2022-02-04T10:13:17.631385",
     "exception": false,
     "start_time": "2022-02-04T10:13:17.493829",
     "status": "completed"
    },
    "tags": []
   },
   "outputs": [],
   "source": [
    "#combine roundsord with FRM_roundwins to have a dataframe sorted by the order in which the rounds are played\n",
    "#can achieve this by merging the two datframes on a column they have in common i.e. Round\n",
    "\n",
    "FRM_rounds = roundsord.merge(FRM_roundwins, on='Round')"
   ]
  },
  {
   "cell_type": "code",
   "execution_count": 48,
   "id": "85e469f7",
   "metadata": {
    "execution": {
     "iopub.execute_input": "2022-02-04T10:13:17.878932Z",
     "iopub.status.busy": "2022-02-04T10:13:17.877959Z",
     "iopub.status.idle": "2022-02-04T10:13:17.892001Z",
     "shell.execute_reply": "2022-02-04T10:13:17.892524Z",
     "shell.execute_reply.started": "2022-02-04T10:05:02.504823Z"
    },
    "papermill": {
     "duration": 0.141134,
     "end_time": "2022-02-04T10:13:17.892726",
     "exception": false,
     "start_time": "2022-02-04T10:13:17.751592",
     "status": "completed"
    },
    "tags": []
   },
   "outputs": [
    {
     "data": {
      "text/html": [
       "<div>\n",
       "<style scoped>\n",
       "    .dataframe tbody tr th:only-of-type {\n",
       "        vertical-align: middle;\n",
       "    }\n",
       "\n",
       "    .dataframe tbody tr th {\n",
       "        vertical-align: top;\n",
       "    }\n",
       "\n",
       "    .dataframe thead th {\n",
       "        text-align: right;\n",
       "    }\n",
       "</style>\n",
       "<table border=\"1\" class=\"dataframe\">\n",
       "  <thead>\n",
       "    <tr style=\"text-align: right;\">\n",
       "      <th></th>\n",
       "      <th>Round</th>\n",
       "      <th>Matches Played</th>\n",
       "      <th>Matches Won</th>\n",
       "    </tr>\n",
       "  </thead>\n",
       "  <tbody>\n",
       "    <tr>\n",
       "      <th>0</th>\n",
       "      <td>R1</td>\n",
       "      <td>9</td>\n",
       "      <td>5.0</td>\n",
       "    </tr>\n",
       "    <tr>\n",
       "      <th>1</th>\n",
       "      <td>R2</td>\n",
       "      <td>9</td>\n",
       "      <td>4.0</td>\n",
       "    </tr>\n",
       "    <tr>\n",
       "      <th>2</th>\n",
       "      <td>R3</td>\n",
       "      <td>9</td>\n",
       "      <td>5.0</td>\n",
       "    </tr>\n",
       "    <tr>\n",
       "      <th>3</th>\n",
       "      <td>R4</td>\n",
       "      <td>9</td>\n",
       "      <td>4.0</td>\n",
       "    </tr>\n",
       "    <tr>\n",
       "      <th>4</th>\n",
       "      <td>R5</td>\n",
       "      <td>9</td>\n",
       "      <td>6.0</td>\n",
       "    </tr>\n",
       "    <tr>\n",
       "      <th>5</th>\n",
       "      <td>R6</td>\n",
       "      <td>9</td>\n",
       "      <td>5.0</td>\n",
       "    </tr>\n",
       "    <tr>\n",
       "      <th>6</th>\n",
       "      <td>R7</td>\n",
       "      <td>9</td>\n",
       "      <td>5.0</td>\n",
       "    </tr>\n",
       "    <tr>\n",
       "      <th>7</th>\n",
       "      <td>R8</td>\n",
       "      <td>9</td>\n",
       "      <td>3.0</td>\n",
       "    </tr>\n",
       "    <tr>\n",
       "      <th>8</th>\n",
       "      <td>R9</td>\n",
       "      <td>9</td>\n",
       "      <td>5.0</td>\n",
       "    </tr>\n",
       "    <tr>\n",
       "      <th>9</th>\n",
       "      <td>R10</td>\n",
       "      <td>7</td>\n",
       "      <td>2.0</td>\n",
       "    </tr>\n",
       "    <tr>\n",
       "      <th>10</th>\n",
       "      <td>R11</td>\n",
       "      <td>8</td>\n",
       "      <td>6.0</td>\n",
       "    </tr>\n",
       "    <tr>\n",
       "      <th>11</th>\n",
       "      <td>R12</td>\n",
       "      <td>6</td>\n",
       "      <td>4.0</td>\n",
       "    </tr>\n",
       "    <tr>\n",
       "      <th>12</th>\n",
       "      <td>R13</td>\n",
       "      <td>8</td>\n",
       "      <td>7.0</td>\n",
       "    </tr>\n",
       "    <tr>\n",
       "      <th>13</th>\n",
       "      <td>R14</td>\n",
       "      <td>8</td>\n",
       "      <td>2.0</td>\n",
       "    </tr>\n",
       "    <tr>\n",
       "      <th>14</th>\n",
       "      <td>R15</td>\n",
       "      <td>8</td>\n",
       "      <td>3.0</td>\n",
       "    </tr>\n",
       "    <tr>\n",
       "      <th>15</th>\n",
       "      <td>R16</td>\n",
       "      <td>9</td>\n",
       "      <td>6.0</td>\n",
       "    </tr>\n",
       "    <tr>\n",
       "      <th>16</th>\n",
       "      <td>R17</td>\n",
       "      <td>9</td>\n",
       "      <td>5.0</td>\n",
       "    </tr>\n",
       "    <tr>\n",
       "      <th>17</th>\n",
       "      <td>R18</td>\n",
       "      <td>9</td>\n",
       "      <td>4.0</td>\n",
       "    </tr>\n",
       "    <tr>\n",
       "      <th>18</th>\n",
       "      <td>R19</td>\n",
       "      <td>8</td>\n",
       "      <td>4.0</td>\n",
       "    </tr>\n",
       "    <tr>\n",
       "      <th>19</th>\n",
       "      <td>R20</td>\n",
       "      <td>8</td>\n",
       "      <td>3.0</td>\n",
       "    </tr>\n",
       "    <tr>\n",
       "      <th>20</th>\n",
       "      <td>R21</td>\n",
       "      <td>8</td>\n",
       "      <td>4.0</td>\n",
       "    </tr>\n",
       "    <tr>\n",
       "      <th>21</th>\n",
       "      <td>R22</td>\n",
       "      <td>8</td>\n",
       "      <td>4.0</td>\n",
       "    </tr>\n",
       "    <tr>\n",
       "      <th>22</th>\n",
       "      <td>R23</td>\n",
       "      <td>8</td>\n",
       "      <td>3.0</td>\n",
       "    </tr>\n",
       "    <tr>\n",
       "      <th>23</th>\n",
       "      <td>QF</td>\n",
       "      <td>3</td>\n",
       "      <td>2.0</td>\n",
       "    </tr>\n",
       "    <tr>\n",
       "      <th>24</th>\n",
       "      <td>EF</td>\n",
       "      <td>1</td>\n",
       "      <td>1.0</td>\n",
       "    </tr>\n",
       "    <tr>\n",
       "      <th>25</th>\n",
       "      <td>SF</td>\n",
       "      <td>2</td>\n",
       "      <td>0.0</td>\n",
       "    </tr>\n",
       "    <tr>\n",
       "      <th>26</th>\n",
       "      <td>PF</td>\n",
       "      <td>2</td>\n",
       "      <td>1.0</td>\n",
       "    </tr>\n",
       "    <tr>\n",
       "      <th>27</th>\n",
       "      <td>GF</td>\n",
       "      <td>1</td>\n",
       "      <td>0.0</td>\n",
       "    </tr>\n",
       "  </tbody>\n",
       "</table>\n",
       "</div>"
      ],
      "text/plain": [
       "   Round  Matches Played  Matches Won\n",
       "0     R1               9          5.0\n",
       "1     R2               9          4.0\n",
       "2     R3               9          5.0\n",
       "3     R4               9          4.0\n",
       "4     R5               9          6.0\n",
       "5     R6               9          5.0\n",
       "6     R7               9          5.0\n",
       "7     R8               9          3.0\n",
       "8     R9               9          5.0\n",
       "9    R10               7          2.0\n",
       "10   R11               8          6.0\n",
       "11   R12               6          4.0\n",
       "12   R13               8          7.0\n",
       "13   R14               8          2.0\n",
       "14   R15               8          3.0\n",
       "15   R16               9          6.0\n",
       "16   R17               9          5.0\n",
       "17   R18               9          4.0\n",
       "18   R19               8          4.0\n",
       "19   R20               8          3.0\n",
       "20   R21               8          4.0\n",
       "21   R22               8          4.0\n",
       "22   R23               8          3.0\n",
       "23    QF               3          2.0\n",
       "24    EF               1          1.0\n",
       "25    SF               2          0.0\n",
       "26    PF               2          1.0\n",
       "27    GF               1          0.0"
      ]
     },
     "execution_count": 48,
     "metadata": {},
     "output_type": "execute_result"
    }
   ],
   "source": [
    "FRM_rounds"
   ]
  },
  {
   "cell_type": "code",
   "execution_count": 49,
   "id": "a74276b7",
   "metadata": {
    "execution": {
     "iopub.execute_input": "2022-02-04T10:13:18.147187Z",
     "iopub.status.busy": "2022-02-04T10:13:18.146144Z",
     "iopub.status.idle": "2022-02-04T10:13:18.796254Z",
     "shell.execute_reply": "2022-02-04T10:13:18.796758Z",
     "shell.execute_reply.started": "2022-02-04T10:05:02.526388Z"
    },
    "papermill": {
     "duration": 0.781321,
     "end_time": "2022-02-04T10:13:18.796971",
     "exception": false,
     "start_time": "2022-02-04T10:13:18.015650",
     "status": "completed"
    },
    "tags": []
   },
   "outputs": [
    {
     "data": {
      "image/png": "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\n",
      "text/plain": [
       "<Figure size 1296x432 with 1 Axes>"
      ]
     },
     "metadata": {
      "needs_background": "light"
     },
     "output_type": "display_data"
    }
   ],
   "source": [
    "import matplotlib.patches as mpatches\n",
    "\n",
    "plt.figure(figsize=(18,6))\n",
    "\n",
    "played = sns.barplot(data=FRM_rounds, x='Round', y='Matches Played', color='plum')\n",
    "wins = sns.barplot(data=FRM_rounds, x='Round', y='Matches Won', color='purple')\n",
    "\n",
    "played = mpatches.Patch(color='plum', label='Played')\n",
    "wins = mpatches.Patch(color='purple', label='Won')\n",
    "\n",
    "plt.legend(handles=[played, wins])\n",
    "plt.ylabel(ylabel='Number of Matches', fontsize=14)\n",
    "plt.xlabel(xlabel = 'Round', fontsize=14)\n",
    "plt.xticks(fontsize=12)\n",
    "plt.yticks(fontsize=12)\n",
    "plt.title('Fremantle Matches Split by Round', fontsize=18)\n",
    "plt.show()"
   ]
  },
  {
   "cell_type": "markdown",
   "id": "29b6db36",
   "metadata": {
    "papermill": {
     "duration": 0.12219,
     "end_time": "2022-02-04T10:13:19.041210",
     "exception": false,
     "start_time": "2022-02-04T10:13:18.919020",
     "status": "completed"
    },
    "tags": []
   },
   "source": [
    "From the plot produced above, we can see that the Fremantle Dockers have reached the Grand Final only once and, unfortunately, have lost. They appear to have an almost even split in terms of wins and losses in their first 7 rounds, with form fluctuating a lot more from R8. Lets take a closer look and find the percentage of matches won overall in each round. "
   ]
  },
  {
   "cell_type": "code",
   "execution_count": 50,
   "id": "4b4eaa2e",
   "metadata": {
    "execution": {
     "iopub.execute_input": "2022-02-04T10:13:19.306629Z",
     "iopub.status.busy": "2022-02-04T10:13:19.304277Z",
     "iopub.status.idle": "2022-02-04T10:13:19.877187Z",
     "shell.execute_reply": "2022-02-04T10:13:19.876245Z",
     "shell.execute_reply.started": "2022-02-04T10:05:03.162768Z"
    },
    "papermill": {
     "duration": 0.710961,
     "end_time": "2022-02-04T10:13:19.877332",
     "exception": false,
     "start_time": "2022-02-04T10:13:19.166371",
     "status": "completed"
    },
    "tags": []
   },
   "outputs": [
    {
     "data": {
      "image/png": "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\n",
      "text/plain": [
       "<Figure size 1296x432 with 1 Axes>"
      ]
     },
     "metadata": {
      "needs_background": "light"
     },
     "output_type": "display_data"
    }
   ],
   "source": [
    "plt.figure(figsize=(18,6))\n",
    "\n",
    "chart = sns.barplot(x= FRM_rounds['Round'].unique(), \n",
    "                    y=(FRM_rounds['Matches Won']/FRM_rounds['Matches Played']).mul(100).astype(int), \n",
    "                    color = 'purple')\n",
    "\n",
    "for p in chart.patches:\n",
    "             chart.annotate(\"%.0f\" % p.get_height(), (p.get_x() + p.get_width() / 2., p.get_height()),\n",
    "                 ha='center', va='center', fontsize=12, color='black', xytext=(0,5),\n",
    "                 textcoords='offset points')\n",
    "\n",
    "plt.title('Fremantle Win Percentage by Round', fontsize=18)\n",
    "plt.xticks(rotation=0)\n",
    "plt.xlabel('Round', fontsize=14)\n",
    "plt.xticks(fontsize=12)\n",
    "plt.ylabel('Win %', fontsize=14)\n",
    "plt.yticks(fontsize=12)\n",
    "plt.show()"
   ]
  },
  {
   "cell_type": "markdown",
   "id": "f75f145f",
   "metadata": {
    "papermill": {
     "duration": 0.124165,
     "end_time": "2022-02-04T10:13:20.125615",
     "exception": false,
     "start_time": "2022-02-04T10:13:20.001450",
     "status": "completed"
    },
    "tags": []
   },
   "source": [
    "In terms of the Premiership Season (Round 1 through to Round 23), Fremantle has won the greatest percentage of games in Round 13 (87%) and, interestingly, has lost the most in the following round, with a win percentage of only 25%. \n",
    "\n",
    "In the Finals Series, Fremantle boast a 100% record in the Elimination Final (EF), albeit making only 1 appearance, and have won 2 out of the 3 Qualifying Final (QF) matches they have played. Fremantle made it to the Preliminary Final (PF) on 2 occasions and in this particular round they have an even split between wins and losses. Following their PF win, they faced Hawthorn in the 2013 Grand Final but there would be no celebrations as they fell short of a first premiership title. "
   ]
  },
  {
   "cell_type": "markdown",
   "id": "f5bcc612",
   "metadata": {
    "papermill": {
     "duration": 0.123485,
     "end_time": "2022-02-04T10:13:20.371452",
     "exception": false,
     "start_time": "2022-02-04T10:13:20.247967",
     "status": "completed"
    },
    "tags": []
   },
   "source": [
    "**DAY BY DAY**"
   ]
  },
  {
   "cell_type": "markdown",
   "id": "fb1f7712",
   "metadata": {
    "papermill": {
     "duration": 0.123811,
     "end_time": "2022-02-04T10:13:20.618516",
     "exception": false,
     "start_time": "2022-02-04T10:13:20.494705",
     "status": "completed"
    },
    "tags": []
   },
   "source": [
    "We have seen how the wins for Fremantle are split by round. Now lets look at how they are spread throughout the days of the week."
   ]
  },
  {
   "cell_type": "code",
   "execution_count": 51,
   "id": "7f4507ee",
   "metadata": {
    "execution": {
     "iopub.execute_input": "2022-02-04T10:13:20.873549Z",
     "iopub.status.busy": "2022-02-04T10:13:20.872912Z",
     "iopub.status.idle": "2022-02-04T10:13:20.880111Z",
     "shell.execute_reply": "2022-02-04T10:13:20.880880Z",
     "shell.execute_reply.started": "2022-02-04T10:05:03.754267Z"
    },
    "papermill": {
     "duration": 0.138428,
     "end_time": "2022-02-04T10:13:20.881068",
     "exception": false,
     "start_time": "2022-02-04T10:13:20.742640",
     "status": "completed"
    },
    "tags": []
   },
   "outputs": [
    {
     "data": {
      "text/plain": [
       "Day\n",
       "Fri     3.0\n",
       "Mon     2.0\n",
       "Sat    56.0\n",
       "Sun    40.0\n",
       "Thu     2.0\n",
       "Wed     0.0\n",
       "Name: WinLoss, dtype: float64"
      ]
     },
     "execution_count": 51,
     "metadata": {},
     "output_type": "execute_result"
    }
   ],
   "source": [
    "df_FRM.groupby('Day')['WinLoss'].sum().div(22)"
   ]
  },
  {
   "cell_type": "code",
   "execution_count": 52,
   "id": "4dde6d32",
   "metadata": {
    "execution": {
     "iopub.execute_input": "2022-02-04T10:13:21.132989Z",
     "iopub.status.busy": "2022-02-04T10:13:21.132336Z",
     "iopub.status.idle": "2022-02-04T10:13:21.136488Z",
     "shell.execute_reply": "2022-02-04T10:13:21.137086Z",
     "shell.execute_reply.started": "2022-02-04T10:05:03.764417Z"
    },
    "papermill": {
     "duration": 0.132749,
     "end_time": "2022-02-04T10:13:21.137253",
     "exception": false,
     "start_time": "2022-02-04T10:13:21.004504",
     "status": "completed"
    },
    "tags": []
   },
   "outputs": [],
   "source": [
    "days = list(df_FRM['Day'].unique())"
   ]
  },
  {
   "cell_type": "code",
   "execution_count": 53,
   "id": "b2d3adb5",
   "metadata": {
    "execution": {
     "iopub.execute_input": "2022-02-04T10:13:21.388329Z",
     "iopub.status.busy": "2022-02-04T10:13:21.387524Z",
     "iopub.status.idle": "2022-02-04T10:13:21.390631Z",
     "shell.execute_reply": "2022-02-04T10:13:21.391154Z",
     "shell.execute_reply.started": "2022-02-04T10:05:03.776990Z"
    },
    "papermill": {
     "duration": 0.131405,
     "end_time": "2022-02-04T10:13:21.391322",
     "exception": false,
     "start_time": "2022-02-04T10:13:21.259917",
     "status": "completed"
    },
    "tags": []
   },
   "outputs": [
    {
     "data": {
      "text/plain": [
       "['Sat', 'Sun', 'Fri', 'Thu', 'Mon', 'Wed']"
      ]
     },
     "execution_count": 53,
     "metadata": {},
     "output_type": "execute_result"
    }
   ],
   "source": [
    "days"
   ]
  },
  {
   "cell_type": "code",
   "execution_count": 54,
   "id": "d64317d3",
   "metadata": {
    "execution": {
     "iopub.execute_input": "2022-02-04T10:13:21.642850Z",
     "iopub.status.busy": "2022-02-04T10:13:21.642199Z",
     "iopub.status.idle": "2022-02-04T10:13:21.646260Z",
     "shell.execute_reply": "2022-02-04T10:13:21.646829Z",
     "shell.execute_reply.started": "2022-02-04T10:05:03.789669Z"
    },
    "papermill": {
     "duration": 0.131969,
     "end_time": "2022-02-04T10:13:21.646994",
     "exception": false,
     "start_time": "2022-02-04T10:13:21.515025",
     "status": "completed"
    },
    "tags": []
   },
   "outputs": [],
   "source": [
    "days_ord = days[4:5]+days[5:6]+days[3:4]+days[2:3]+days[0:1]+days[1:2]"
   ]
  },
  {
   "cell_type": "code",
   "execution_count": 55,
   "id": "0b59ad37",
   "metadata": {
    "execution": {
     "iopub.execute_input": "2022-02-04T10:13:21.899534Z",
     "iopub.status.busy": "2022-02-04T10:13:21.898907Z",
     "iopub.status.idle": "2022-02-04T10:13:21.904291Z",
     "shell.execute_reply": "2022-02-04T10:13:21.904902Z",
     "shell.execute_reply.started": "2022-02-04T10:05:03.799428Z"
    },
    "papermill": {
     "duration": 0.133723,
     "end_time": "2022-02-04T10:13:21.905120",
     "exception": false,
     "start_time": "2022-02-04T10:13:21.771397",
     "status": "completed"
    },
    "tags": []
   },
   "outputs": [
    {
     "data": {
      "text/plain": [
       "['Mon', 'Wed', 'Thu', 'Fri', 'Sat', 'Sun']"
      ]
     },
     "execution_count": 55,
     "metadata": {},
     "output_type": "execute_result"
    }
   ],
   "source": [
    "days_ord"
   ]
  },
  {
   "cell_type": "code",
   "execution_count": 56,
   "id": "26f49f72",
   "metadata": {
    "execution": {
     "iopub.execute_input": "2022-02-04T10:13:22.164556Z",
     "iopub.status.busy": "2022-02-04T10:13:22.163481Z",
     "iopub.status.idle": "2022-02-04T10:13:22.168164Z",
     "shell.execute_reply": "2022-02-04T10:13:22.168755Z",
     "shell.execute_reply.started": "2022-02-04T10:05:03.811787Z"
    },
    "papermill": {
     "duration": 0.13624,
     "end_time": "2022-02-04T10:13:22.168964",
     "exception": false,
     "start_time": "2022-02-04T10:13:22.032724",
     "status": "completed"
    },
    "tags": []
   },
   "outputs": [],
   "source": [
    "days_ordered = pd.DataFrame({'Day':days_ord})"
   ]
  },
  {
   "cell_type": "code",
   "execution_count": 57,
   "id": "e760a7bf",
   "metadata": {
    "execution": {
     "iopub.execute_input": "2022-02-04T10:13:22.424127Z",
     "iopub.status.busy": "2022-02-04T10:13:22.423026Z",
     "iopub.status.idle": "2022-02-04T10:13:22.435414Z",
     "shell.execute_reply": "2022-02-04T10:13:22.434825Z",
     "shell.execute_reply.started": "2022-02-04T10:05:03.822032Z"
    },
    "papermill": {
     "duration": 0.141897,
     "end_time": "2022-02-04T10:13:22.435570",
     "exception": false,
     "start_time": "2022-02-04T10:13:22.293673",
     "status": "completed"
    },
    "tags": []
   },
   "outputs": [],
   "source": [
    "days_wins = df_FRM.groupby('Day').agg({'WinLoss':lambda x:sum(x)/22, \n",
    "                           'Date':'nunique'}).rename(columns={'WinLoss':'Matches Won', \n",
    "                                                             'Date': 'Matches Played'})"
   ]
  },
  {
   "cell_type": "code",
   "execution_count": 58,
   "id": "237146ad",
   "metadata": {
    "execution": {
     "iopub.execute_input": "2022-02-04T10:13:22.695256Z",
     "iopub.status.busy": "2022-02-04T10:13:22.694528Z",
     "iopub.status.idle": "2022-02-04T10:13:22.695868Z",
     "shell.execute_reply": "2022-02-04T10:13:22.696478Z",
     "shell.execute_reply.started": "2022-02-04T10:05:03.840646Z"
    },
    "papermill": {
     "duration": 0.135164,
     "end_time": "2022-02-04T10:13:22.696670",
     "exception": false,
     "start_time": "2022-02-04T10:13:22.561506",
     "status": "completed"
    },
    "tags": []
   },
   "outputs": [],
   "source": [
    "FRM_days = days_ordered.merge(days_wins, on='Day')"
   ]
  },
  {
   "cell_type": "code",
   "execution_count": 59,
   "id": "2d24f389",
   "metadata": {
    "execution": {
     "iopub.execute_input": "2022-02-04T10:13:22.956080Z",
     "iopub.status.busy": "2022-02-04T10:13:22.955369Z",
     "iopub.status.idle": "2022-02-04T10:13:22.964756Z",
     "shell.execute_reply": "2022-02-04T10:13:22.965375Z",
     "shell.execute_reply.started": "2022-02-04T10:05:03.849926Z"
    },
    "papermill": {
     "duration": 0.142987,
     "end_time": "2022-02-04T10:13:22.965561",
     "exception": false,
     "start_time": "2022-02-04T10:13:22.822574",
     "status": "completed"
    },
    "tags": []
   },
   "outputs": [
    {
     "data": {
      "text/html": [
       "<div>\n",
       "<style scoped>\n",
       "    .dataframe tbody tr th:only-of-type {\n",
       "        vertical-align: middle;\n",
       "    }\n",
       "\n",
       "    .dataframe tbody tr th {\n",
       "        vertical-align: top;\n",
       "    }\n",
       "\n",
       "    .dataframe thead th {\n",
       "        text-align: right;\n",
       "    }\n",
       "</style>\n",
       "<table border=\"1\" class=\"dataframe\">\n",
       "  <thead>\n",
       "    <tr style=\"text-align: right;\">\n",
       "      <th></th>\n",
       "      <th>Day</th>\n",
       "      <th>Matches Won</th>\n",
       "      <th>Matches Played</th>\n",
       "    </tr>\n",
       "  </thead>\n",
       "  <tbody>\n",
       "    <tr>\n",
       "      <th>0</th>\n",
       "      <td>Mon</td>\n",
       "      <td>2.0</td>\n",
       "      <td>3</td>\n",
       "    </tr>\n",
       "    <tr>\n",
       "      <th>1</th>\n",
       "      <td>Wed</td>\n",
       "      <td>0.0</td>\n",
       "      <td>1</td>\n",
       "    </tr>\n",
       "    <tr>\n",
       "      <th>2</th>\n",
       "      <td>Thu</td>\n",
       "      <td>2.0</td>\n",
       "      <td>2</td>\n",
       "    </tr>\n",
       "    <tr>\n",
       "      <th>3</th>\n",
       "      <td>Fri</td>\n",
       "      <td>3.0</td>\n",
       "      <td>12</td>\n",
       "    </tr>\n",
       "    <tr>\n",
       "      <th>4</th>\n",
       "      <td>Sat</td>\n",
       "      <td>56.0</td>\n",
       "      <td>108</td>\n",
       "    </tr>\n",
       "    <tr>\n",
       "      <th>5</th>\n",
       "      <td>Sun</td>\n",
       "      <td>40.0</td>\n",
       "      <td>76</td>\n",
       "    </tr>\n",
       "  </tbody>\n",
       "</table>\n",
       "</div>"
      ],
      "text/plain": [
       "   Day  Matches Won  Matches Played\n",
       "0  Mon          2.0               3\n",
       "1  Wed          0.0               1\n",
       "2  Thu          2.0               2\n",
       "3  Fri          3.0              12\n",
       "4  Sat         56.0             108\n",
       "5  Sun         40.0              76"
      ]
     },
     "execution_count": 59,
     "metadata": {},
     "output_type": "execute_result"
    }
   ],
   "source": [
    "FRM_days"
   ]
  },
  {
   "cell_type": "code",
   "execution_count": 60,
   "id": "adbf111f",
   "metadata": {
    "execution": {
     "iopub.execute_input": "2022-02-04T10:13:23.234575Z",
     "iopub.status.busy": "2022-02-04T10:13:23.233463Z",
     "iopub.status.idle": "2022-02-04T10:13:23.419995Z",
     "shell.execute_reply": "2022-02-04T10:13:23.419324Z",
     "shell.execute_reply.started": "2022-02-04T10:05:03.865561Z"
    },
    "papermill": {
     "duration": 0.325951,
     "end_time": "2022-02-04T10:13:23.420167",
     "exception": false,
     "start_time": "2022-02-04T10:13:23.094216",
     "status": "completed"
    },
    "tags": []
   },
   "outputs": [
    {
     "data": {
      "text/html": [
       "<div>                            <div id=\"123fd5a0-2c2c-422d-becb-79e9b6fbe983\" class=\"plotly-graph-div\" style=\"height:525px; width:100%;\"></div>            <script type=\"text/javascript\">                require([\"plotly\"], function(Plotly) {                    window.PLOTLYENV=window.PLOTLYENV || {};                                    if (document.getElementById(\"123fd5a0-2c2c-422d-becb-79e9b6fbe983\")) {                    Plotly.newPlot(                        \"123fd5a0-2c2c-422d-becb-79e9b6fbe983\",                        [{\"direction\":\"counterclockwise\",\"hoverinfo\":\"none\",\"labels\":[\"Mon\",\"Wed\",\"Thu\",\"Fri\",\"Sat\",\"Sun\"],\"marker\":{\"line\":{\"color\":\"black\",\"width\":1}},\"name\":\"Matches Played\",\"sort\":false,\"textfont\":{\"size\":13},\"textinfo\":\"label+value\",\"values\":[3,1,2,12,108,76],\"type\":\"pie\",\"domain\":{\"x\":[0.0,0.45],\"y\":[0.0,1.0]},\"hole\":0.4,\"insidetextorientation\":\"auto\"},{\"direction\":\"counterclockwise\",\"hoverinfo\":\"none\",\"labels\":[\"Mon\",\"Wed\",\"Thu\",\"Fri\",\"Sat\",\"Sun\"],\"marker\":{\"line\":{\"color\":\"black\",\"width\":1}},\"name\":\"Matches Won\",\"sort\":false,\"textfont\":{\"size\":13},\"textinfo\":\"label+value\",\"values\":[2.0,0.0,2.0,3.0,56.0,40.0],\"type\":\"pie\",\"domain\":{\"x\":[0.55,1.0],\"y\":[0.0,1.0]},\"hole\":0.4,\"insidetextorientation\":\"auto\"}],                        {\"template\":{\"data\":{\"bar\":[{\"error_x\":{\"color\":\"#2a3f5f\"},\"error_y\":{\"color\":\"#2a3f5f\"},\"marker\":{\"line\":{\"color\":\"#E5ECF6\",\"width\":0.5},\"pattern\":{\"fillmode\":\"overlay\",\"size\":10,\"solidity\":0.2}},\"type\":\"bar\"}],\"barpolar\":[{\"marker\":{\"line\":{\"color\":\"#E5ECF6\",\"width\":0.5},\"pattern\":{\"fillmode\":\"overlay\",\"size\":10,\"solidity\":0.2}},\"type\":\"barpolar\"}],\"carpet\":[{\"aaxis\":{\"endlinecolor\":\"#2a3f5f\",\"gridcolor\":\"white\",\"linecolor\":\"white\",\"minorgridcolor\":\"white\",\"startlinecolor\":\"#2a3f5f\"},\"baxis\":{\"endlinecolor\":\"#2a3f5f\",\"gridcolor\":\"white\",\"linecolor\":\"white\",\"minorgridcolor\":\"white\",\"startlinecolor\":\"#2a3f5f\"},\"type\":\"carpet\"}],\"choropleth\":[{\"colorbar\":{\"outlinewidth\":0,\"ticks\":\"\"},\"type\":\"choropleth\"}],\"contour\":[{\"colorbar\":{\"outlinewidth\":0,\"ticks\":\"\"},\"colorscale\":[[0.0,\"#0d0887\"],[0.1111111111111111,\"#46039f\"],[0.2222222222222222,\"#7201a8\"],[0.3333333333333333,\"#9c179e\"],[0.4444444444444444,\"#bd3786\"],[0.5555555555555556,\"#d8576b\"],[0.6666666666666666,\"#ed7953\"],[0.7777777777777778,\"#fb9f3a\"],[0.8888888888888888,\"#fdca26\"],[1.0,\"#f0f921\"]],\"type\":\"contour\"}],\"contourcarpet\":[{\"colorbar\":{\"outlinewidth\":0,\"ticks\":\"\"},\"type\":\"contourcarpet\"}],\"heatmap\":[{\"colorbar\":{\"outlinewidth\":0,\"ticks\":\"\"},\"colorscale\":[[0.0,\"#0d0887\"],[0.1111111111111111,\"#46039f\"],[0.2222222222222222,\"#7201a8\"],[0.3333333333333333,\"#9c179e\"],[0.4444444444444444,\"#bd3786\"],[0.5555555555555556,\"#d8576b\"],[0.6666666666666666,\"#ed7953\"],[0.7777777777777778,\"#fb9f3a\"],[0.8888888888888888,\"#fdca26\"],[1.0,\"#f0f921\"]],\"type\":\"heatmap\"}],\"heatmapgl\":[{\"colorbar\":{\"outlinewidth\":0,\"ticks\":\"\"},\"colorscale\":[[0.0,\"#0d0887\"],[0.1111111111111111,\"#46039f\"],[0.2222222222222222,\"#7201a8\"],[0.3333333333333333,\"#9c179e\"],[0.4444444444444444,\"#bd3786\"],[0.5555555555555556,\"#d8576b\"],[0.6666666666666666,\"#ed7953\"],[0.7777777777777778,\"#fb9f3a\"],[0.8888888888888888,\"#fdca26\"],[1.0,\"#f0f921\"]],\"type\":\"heatmapgl\"}],\"histogram\":[{\"marker\":{\"pattern\":{\"fillmode\":\"overlay\",\"size\":10,\"solidity\":0.2}},\"type\":\"histogram\"}],\"histogram2d\":[{\"colorbar\":{\"outlinewidth\":0,\"ticks\":\"\"},\"colorscale\":[[0.0,\"#0d0887\"],[0.1111111111111111,\"#46039f\"],[0.2222222222222222,\"#7201a8\"],[0.3333333333333333,\"#9c179e\"],[0.4444444444444444,\"#bd3786\"],[0.5555555555555556,\"#d8576b\"],[0.6666666666666666,\"#ed7953\"],[0.7777777777777778,\"#fb9f3a\"],[0.8888888888888888,\"#fdca26\"],[1.0,\"#f0f921\"]],\"type\":\"histogram2d\"}],\"histogram2dcontour\":[{\"colorbar\":{\"outlinewidth\":0,\"ticks\":\"\"},\"colorscale\":[[0.0,\"#0d0887\"],[0.1111111111111111,\"#46039f\"],[0.2222222222222222,\"#7201a8\"],[0.3333333333333333,\"#9c179e\"],[0.4444444444444444,\"#bd3786\"],[0.5555555555555556,\"#d8576b\"],[0.6666666666666666,\"#ed7953\"],[0.7777777777777778,\"#fb9f3a\"],[0.8888888888888888,\"#fdca26\"],[1.0,\"#f0f921\"]],\"type\":\"histogram2dcontour\"}],\"mesh3d\":[{\"colorbar\":{\"outlinewidth\":0,\"ticks\":\"\"},\"type\":\"mesh3d\"}],\"parcoords\":[{\"line\":{\"colorbar\":{\"outlinewidth\":0,\"ticks\":\"\"}},\"type\":\"parcoords\"}],\"pie\":[{\"automargin\":true,\"type\":\"pie\"}],\"scatter\":[{\"marker\":{\"colorbar\":{\"outlinewidth\":0,\"ticks\":\"\"}},\"type\":\"scatter\"}],\"scatter3d\":[{\"line\":{\"colorbar\":{\"outlinewidth\":0,\"ticks\":\"\"}},\"marker\":{\"colorbar\":{\"outlinewidth\":0,\"ticks\":\"\"}},\"type\":\"scatter3d\"}],\"scattercarpet\":[{\"marker\":{\"colorbar\":{\"outlinewidth\":0,\"ticks\":\"\"}},\"type\":\"scattercarpet\"}],\"scattergeo\":[{\"marker\":{\"colorbar\":{\"outlinewidth\":0,\"ticks\":\"\"}},\"type\":\"scattergeo\"}],\"scattergl\":[{\"marker\":{\"colorbar\":{\"outlinewidth\":0,\"ticks\":\"\"}},\"type\":\"scattergl\"}],\"scattermapbox\":[{\"marker\":{\"colorbar\":{\"outlinewidth\":0,\"ticks\":\"\"}},\"type\":\"scattermapbox\"}],\"scatterpolar\":[{\"marker\":{\"colorbar\":{\"outlinewidth\":0,\"ticks\":\"\"}},\"type\":\"scatterpolar\"}],\"scatterpolargl\":[{\"marker\":{\"colorbar\":{\"outlinewidth\":0,\"ticks\":\"\"}},\"type\":\"scatterpolargl\"}],\"scatterternary\":[{\"marker\":{\"colorbar\":{\"outlinewidth\":0,\"ticks\":\"\"}},\"type\":\"scatterternary\"}],\"surface\":[{\"colorbar\":{\"outlinewidth\":0,\"ticks\":\"\"},\"colorscale\":[[0.0,\"#0d0887\"],[0.1111111111111111,\"#46039f\"],[0.2222222222222222,\"#7201a8\"],[0.3333333333333333,\"#9c179e\"],[0.4444444444444444,\"#bd3786\"],[0.5555555555555556,\"#d8576b\"],[0.6666666666666666,\"#ed7953\"],[0.7777777777777778,\"#fb9f3a\"],[0.8888888888888888,\"#fdca26\"],[1.0,\"#f0f921\"]],\"type\":\"surface\"}],\"table\":[{\"cells\":{\"fill\":{\"color\":\"#EBF0F8\"},\"line\":{\"color\":\"white\"}},\"header\":{\"fill\":{\"color\":\"#C8D4E3\"},\"line\":{\"color\":\"white\"}},\"type\":\"table\"}]},\"layout\":{\"annotationdefaults\":{\"arrowcolor\":\"#2a3f5f\",\"arrowhead\":0,\"arrowwidth\":1},\"autotypenumbers\":\"strict\",\"coloraxis\":{\"colorbar\":{\"outlinewidth\":0,\"ticks\":\"\"}},\"colorscale\":{\"diverging\":[[0,\"#8e0152\"],[0.1,\"#c51b7d\"],[0.2,\"#de77ae\"],[0.3,\"#f1b6da\"],[0.4,\"#fde0ef\"],[0.5,\"#f7f7f7\"],[0.6,\"#e6f5d0\"],[0.7,\"#b8e186\"],[0.8,\"#7fbc41\"],[0.9,\"#4d9221\"],[1,\"#276419\"]],\"sequential\":[[0.0,\"#0d0887\"],[0.1111111111111111,\"#46039f\"],[0.2222222222222222,\"#7201a8\"],[0.3333333333333333,\"#9c179e\"],[0.4444444444444444,\"#bd3786\"],[0.5555555555555556,\"#d8576b\"],[0.6666666666666666,\"#ed7953\"],[0.7777777777777778,\"#fb9f3a\"],[0.8888888888888888,\"#fdca26\"],[1.0,\"#f0f921\"]],\"sequentialminus\":[[0.0,\"#0d0887\"],[0.1111111111111111,\"#46039f\"],[0.2222222222222222,\"#7201a8\"],[0.3333333333333333,\"#9c179e\"],[0.4444444444444444,\"#bd3786\"],[0.5555555555555556,\"#d8576b\"],[0.6666666666666666,\"#ed7953\"],[0.7777777777777778,\"#fb9f3a\"],[0.8888888888888888,\"#fdca26\"],[1.0,\"#f0f921\"]]},\"colorway\":[\"#636efa\",\"#EF553B\",\"#00cc96\",\"#ab63fa\",\"#FFA15A\",\"#19d3f3\",\"#FF6692\",\"#B6E880\",\"#FF97FF\",\"#FECB52\"],\"font\":{\"color\":\"#2a3f5f\"},\"geo\":{\"bgcolor\":\"white\",\"lakecolor\":\"white\",\"landcolor\":\"#E5ECF6\",\"showlakes\":true,\"showland\":true,\"subunitcolor\":\"white\"},\"hoverlabel\":{\"align\":\"left\"},\"hovermode\":\"closest\",\"mapbox\":{\"style\":\"light\"},\"paper_bgcolor\":\"white\",\"plot_bgcolor\":\"#E5ECF6\",\"polar\":{\"angularaxis\":{\"gridcolor\":\"white\",\"linecolor\":\"white\",\"ticks\":\"\"},\"bgcolor\":\"#E5ECF6\",\"radialaxis\":{\"gridcolor\":\"white\",\"linecolor\":\"white\",\"ticks\":\"\"}},\"scene\":{\"xaxis\":{\"backgroundcolor\":\"#E5ECF6\",\"gridcolor\":\"white\",\"gridwidth\":2,\"linecolor\":\"white\",\"showbackground\":true,\"ticks\":\"\",\"zerolinecolor\":\"white\"},\"yaxis\":{\"backgroundcolor\":\"#E5ECF6\",\"gridcolor\":\"white\",\"gridwidth\":2,\"linecolor\":\"white\",\"showbackground\":true,\"ticks\":\"\",\"zerolinecolor\":\"white\"},\"zaxis\":{\"backgroundcolor\":\"#E5ECF6\",\"gridcolor\":\"white\",\"gridwidth\":2,\"linecolor\":\"white\",\"showbackground\":true,\"ticks\":\"\",\"zerolinecolor\":\"white\"}},\"shapedefaults\":{\"line\":{\"color\":\"#2a3f5f\"}},\"ternary\":{\"aaxis\":{\"gridcolor\":\"white\",\"linecolor\":\"white\",\"ticks\":\"\"},\"baxis\":{\"gridcolor\":\"white\",\"linecolor\":\"white\",\"ticks\":\"\"},\"bgcolor\":\"#E5ECF6\",\"caxis\":{\"gridcolor\":\"white\",\"linecolor\":\"white\",\"ticks\":\"\"}},\"title\":{\"x\":0.05},\"xaxis\":{\"automargin\":true,\"gridcolor\":\"white\",\"linecolor\":\"white\",\"ticks\":\"\",\"title\":{\"standoff\":15},\"zerolinecolor\":\"white\",\"zerolinewidth\":2},\"yaxis\":{\"automargin\":true,\"gridcolor\":\"white\",\"linecolor\":\"white\",\"ticks\":\"\",\"title\":{\"standoff\":15},\"zerolinecolor\":\"white\",\"zerolinewidth\":2}}},\"annotations\":[{\"font\":{\"size\":18},\"showarrow\":false,\"text\":\"Played\",\"x\":0.225,\"xanchor\":\"center\",\"xref\":\"paper\",\"y\":0.475,\"yanchor\":\"bottom\",\"yref\":\"paper\"},{\"font\":{\"size\":18},\"showarrow\":false,\"text\":\"Won\",\"x\":0.775,\"xanchor\":\"center\",\"xref\":\"paper\",\"y\":0.475,\"yanchor\":\"bottom\",\"yref\":\"paper\"}],\"title\":{\"text\":\"Fremantle Matches Split by Day\",\"x\":0.5}},                        {\"responsive\": true}                    ).then(function(){\n",
       "                            \n",
       "var gd = document.getElementById('123fd5a0-2c2c-422d-becb-79e9b6fbe983');\n",
       "var x = new MutationObserver(function (mutations, observer) {{\n",
       "        var display = window.getComputedStyle(gd).display;\n",
       "        if (!display || display === 'none') {{\n",
       "            console.log([gd, 'removed!']);\n",
       "            Plotly.purge(gd);\n",
       "            observer.disconnect();\n",
       "        }}\n",
       "}});\n",
       "\n",
       "// Listen for the removal of the full notebook cells\n",
       "var notebookContainer = gd.closest('#notebook-container');\n",
       "if (notebookContainer) {{\n",
       "    x.observe(notebookContainer, {childList: true});\n",
       "}}\n",
       "\n",
       "// Listen for the clearing of the current output cell\n",
       "var outputEl = gd.closest('.output');\n",
       "if (outputEl) {{\n",
       "    x.observe(outputEl, {childList: true});\n",
       "}}\n",
       "\n",
       "                        })                };                });            </script>        </div>"
      ]
     },
     "metadata": {},
     "output_type": "display_data"
    }
   ],
   "source": [
    "fig = make_subplots(rows=1, cols=2, specs=[[{'type':'domain'}, {'type':'domain'}]], \n",
    "                   subplot_titles = ['Matches Played', 'Matches Won'])\n",
    "\n",
    "\n",
    "fig.add_trace(go.Pie(labels=FRM_days['Day'], \n",
    "                               values=FRM_days['Matches Played'], \n",
    "                               sort=False,\n",
    "                               textinfo = 'label+value', \n",
    "                               hoverinfo = 'none',\n",
    "                               direction = 'counterclockwise',\n",
    "                               textfont_size=13,\n",
    "                               marker = dict(line=dict(color='black', width=1)), \n",
    "                               name = 'Matches Played'\n",
    "                              ),1,1 \n",
    "                       )\n",
    "\n",
    "fig.add_trace(go.Pie(labels=FRM_days['Day'], \n",
    "                               values=FRM_days['Matches Won'], \n",
    "                               sort=False,\n",
    "                               textinfo = 'label+value', \n",
    "                               hoverinfo = 'none',\n",
    "                               direction='counterclockwise',\n",
    "                               textfont_size=13,\n",
    "                               marker = dict(line=dict(color='black', width=1)), \n",
    "                               name = 'Matches Won'\n",
    "                              ),1,2 \n",
    "                       )\n",
    "\n",
    "fig.update_traces(hole=0.4, insidetextorientation='auto')\n",
    "fig.update_layout(title = 'Fremantle Matches Split by Day', title_x=0.5, \n",
    "                  annotations=[dict(text='Played', x=0.225, y=0.475, font_size=18, showarrow=False),\n",
    "                  dict(text='Won', x=0.775, y=0.475, font_size=18, showarrow=False)])\n",
    "fig.show("png")"
   ]
  },
  {
   "cell_type": "markdown",
   "id": "7fdd67d8",
   "metadata": {
    "papermill": {
     "duration": 0.126377,
     "end_time": "2022-02-04T10:13:23.761285",
     "exception": false,
     "start_time": "2022-02-04T10:13:23.634908",
     "status": "completed"
    },
    "tags": []
   },
   "source": [
    "**FREMANTLE PERFORMANCE: GOALS**"
   ]
  },
  {
   "cell_type": "markdown",
   "id": "fe3d22b2",
   "metadata": {
    "papermill": {
     "duration": 0.127149,
     "end_time": "2022-02-04T10:13:24.016377",
     "exception": false,
     "start_time": "2022-02-04T10:13:23.889228",
     "status": "completed"
    },
    "tags": []
   },
   "source": [
    "We have explored how Fremantle's wins are spread. Lets now look at what bringa a win: scoring points via a goal (worth 6 points) or a behind (worth 1 point).  \n",
    "\n",
    "Which of the two is scored is dependent on how the ball gets through the posts and which posts it goes through. For the definitions behind the terminology used you can use the AFL's official page: https://www.afl.com.au/news/144837/stats-glossary-every-stat-explained\n",
    "\n",
    "Lets start by looking at the amount of goals scored by each AFL team and quickly compare that to Fremantle."
   ]
  },
  {
   "cell_type": "code",
   "execution_count": 61,
   "id": "ac5d016d",
   "metadata": {
    "execution": {
     "iopub.execute_input": "2022-02-04T10:13:24.275636Z",
     "iopub.status.busy": "2022-02-04T10:13:24.274581Z",
     "iopub.status.idle": "2022-02-04T10:13:24.292729Z",
     "shell.execute_reply": "2022-02-04T10:13:24.292088Z",
     "shell.execute_reply.started": "2022-02-04T10:05:03.957955Z"
    },
    "papermill": {
     "duration": 0.148554,
     "end_time": "2022-02-04T10:13:24.292931",
     "exception": false,
     "start_time": "2022-02-04T10:13:24.144377",
     "status": "completed"
    },
    "tags": []
   },
   "outputs": [],
   "source": [
    "#Find the amount of goals scored for each team in each season \n",
    "df_afl_goals=pd.DataFrame(df_afl.groupby(['Team', 'Year'])['Goals'].sum())"
   ]
  },
  {
   "cell_type": "code",
   "execution_count": 62,
   "id": "6d3e5677",
   "metadata": {
    "execution": {
     "iopub.execute_input": "2022-02-04T10:13:24.555654Z",
     "iopub.status.busy": "2022-02-04T10:13:24.554743Z",
     "iopub.status.idle": "2022-02-04T10:13:24.557615Z",
     "shell.execute_reply": "2022-02-04T10:13:24.557099Z",
     "shell.execute_reply.started": "2022-02-04T10:05:03.978736Z"
    },
    "papermill": {
     "duration": 0.138378,
     "end_time": "2022-02-04T10:13:24.557774",
     "exception": false,
     "start_time": "2022-02-04T10:13:24.419396",
     "status": "completed"
    },
    "tags": []
   },
   "outputs": [],
   "source": [
    "df_afl_goals.reset_index(inplace=True)"
   ]
  },
  {
   "cell_type": "code",
   "execution_count": 63,
   "id": "ee8f19e0",
   "metadata": {
    "execution": {
     "iopub.execute_input": "2022-02-04T10:13:24.819168Z",
     "iopub.status.busy": "2022-02-04T10:13:24.816842Z",
     "iopub.status.idle": "2022-02-04T10:13:24.827572Z",
     "shell.execute_reply": "2022-02-04T10:13:24.828075Z",
     "shell.execute_reply.started": "2022-02-04T10:05:03.986769Z"
    },
    "papermill": {
     "duration": 0.14105,
     "end_time": "2022-02-04T10:13:24.828278",
     "exception": false,
     "start_time": "2022-02-04T10:13:24.687228",
     "status": "completed"
    },
    "tags": []
   },
   "outputs": [
    {
     "data": {
      "text/html": [
       "<div>\n",
       "<style scoped>\n",
       "    .dataframe tbody tr th:only-of-type {\n",
       "        vertical-align: middle;\n",
       "    }\n",
       "\n",
       "    .dataframe tbody tr th {\n",
       "        vertical-align: top;\n",
       "    }\n",
       "\n",
       "    .dataframe thead th {\n",
       "        text-align: right;\n",
       "    }\n",
       "</style>\n",
       "<table border=\"1\" class=\"dataframe\">\n",
       "  <thead>\n",
       "    <tr style=\"text-align: right;\">\n",
       "      <th></th>\n",
       "      <th>Team</th>\n",
       "      <th>Year</th>\n",
       "      <th>Goals</th>\n",
       "    </tr>\n",
       "  </thead>\n",
       "  <tbody>\n",
       "    <tr>\n",
       "      <th>0</th>\n",
       "      <td>ADL</td>\n",
       "      <td>2012</td>\n",
       "      <td>388</td>\n",
       "    </tr>\n",
       "    <tr>\n",
       "      <th>1</th>\n",
       "      <td>ADL</td>\n",
       "      <td>2013</td>\n",
       "      <td>297</td>\n",
       "    </tr>\n",
       "    <tr>\n",
       "      <th>2</th>\n",
       "      <td>ADL</td>\n",
       "      <td>2014</td>\n",
       "      <td>315</td>\n",
       "    </tr>\n",
       "    <tr>\n",
       "      <th>3</th>\n",
       "      <td>ADL</td>\n",
       "      <td>2015</td>\n",
       "      <td>332</td>\n",
       "    </tr>\n",
       "    <tr>\n",
       "      <th>4</th>\n",
       "      <td>ADL</td>\n",
       "      <td>2016</td>\n",
       "      <td>396</td>\n",
       "    </tr>\n",
       "    <tr>\n",
       "      <th>...</th>\n",
       "      <td>...</td>\n",
       "      <td>...</td>\n",
       "      <td>...</td>\n",
       "    </tr>\n",
       "    <tr>\n",
       "      <th>157</th>\n",
       "      <td>WCE</td>\n",
       "      <td>2016</td>\n",
       "      <td>330</td>\n",
       "    </tr>\n",
       "    <tr>\n",
       "      <th>158</th>\n",
       "      <td>WCE</td>\n",
       "      <td>2017</td>\n",
       "      <td>309</td>\n",
       "    </tr>\n",
       "    <tr>\n",
       "      <th>159</th>\n",
       "      <td>WCE</td>\n",
       "      <td>2018</td>\n",
       "      <td>336</td>\n",
       "    </tr>\n",
       "    <tr>\n",
       "      <th>160</th>\n",
       "      <td>WCE</td>\n",
       "      <td>2019</td>\n",
       "      <td>309</td>\n",
       "    </tr>\n",
       "    <tr>\n",
       "      <th>161</th>\n",
       "      <td>WCE</td>\n",
       "      <td>2020</td>\n",
       "      <td>173</td>\n",
       "    </tr>\n",
       "  </tbody>\n",
       "</table>\n",
       "<p>162 rows × 3 columns</p>\n",
       "</div>"
      ],
      "text/plain": [
       "    Team  Year  Goals\n",
       "0    ADL  2012    388\n",
       "1    ADL  2013    297\n",
       "2    ADL  2014    315\n",
       "3    ADL  2015    332\n",
       "4    ADL  2016    396\n",
       "..   ...   ...    ...\n",
       "157  WCE  2016    330\n",
       "158  WCE  2017    309\n",
       "159  WCE  2018    336\n",
       "160  WCE  2019    309\n",
       "161  WCE  2020    173\n",
       "\n",
       "[162 rows x 3 columns]"
      ]
     },
     "execution_count": 63,
     "metadata": {},
     "output_type": "execute_result"
    }
   ],
   "source": [
    "df_afl_goals"
   ]
  },
  {
   "cell_type": "code",
   "execution_count": 64,
   "id": "412c13c4",
   "metadata": {
    "execution": {
     "iopub.execute_input": "2022-02-04T10:13:25.088748Z",
     "iopub.status.busy": "2022-02-04T10:13:25.088095Z",
     "iopub.status.idle": "2022-02-04T10:13:25.100456Z",
     "shell.execute_reply": "2022-02-04T10:13:25.100957Z",
     "shell.execute_reply.started": "2022-02-04T10:05:04.005941Z"
    },
    "papermill": {
     "duration": 0.144192,
     "end_time": "2022-02-04T10:13:25.101146",
     "exception": false,
     "start_time": "2022-02-04T10:13:24.956954",
     "status": "completed"
    },
    "tags": []
   },
   "outputs": [
    {
     "data": {
      "text/html": [
       "<div>\n",
       "<style scoped>\n",
       "    .dataframe tbody tr th:only-of-type {\n",
       "        vertical-align: middle;\n",
       "    }\n",
       "\n",
       "    .dataframe tbody tr th {\n",
       "        vertical-align: top;\n",
       "    }\n",
       "\n",
       "    .dataframe thead th {\n",
       "        text-align: right;\n",
       "    }\n",
       "</style>\n",
       "<table border=\"1\" class=\"dataframe\">\n",
       "  <thead>\n",
       "    <tr style=\"text-align: right;\">\n",
       "      <th></th>\n",
       "      <th>Year</th>\n",
       "      <th>Goals</th>\n",
       "    </tr>\n",
       "    <tr>\n",
       "      <th>Team</th>\n",
       "      <th></th>\n",
       "      <th></th>\n",
       "    </tr>\n",
       "  </thead>\n",
       "  <tbody>\n",
       "    <tr>\n",
       "      <th>ADL</th>\n",
       "      <td>2012</td>\n",
       "      <td>388</td>\n",
       "    </tr>\n",
       "    <tr>\n",
       "      <th>ADL</th>\n",
       "      <td>2013</td>\n",
       "      <td>297</td>\n",
       "    </tr>\n",
       "    <tr>\n",
       "      <th>ADL</th>\n",
       "      <td>2014</td>\n",
       "      <td>315</td>\n",
       "    </tr>\n",
       "    <tr>\n",
       "      <th>ADL</th>\n",
       "      <td>2015</td>\n",
       "      <td>332</td>\n",
       "    </tr>\n",
       "    <tr>\n",
       "      <th>ADL</th>\n",
       "      <td>2016</td>\n",
       "      <td>396</td>\n",
       "    </tr>\n",
       "    <tr>\n",
       "      <th>...</th>\n",
       "      <td>...</td>\n",
       "      <td>...</td>\n",
       "    </tr>\n",
       "    <tr>\n",
       "      <th>WCE</th>\n",
       "      <td>2016</td>\n",
       "      <td>330</td>\n",
       "    </tr>\n",
       "    <tr>\n",
       "      <th>WCE</th>\n",
       "      <td>2017</td>\n",
       "      <td>309</td>\n",
       "    </tr>\n",
       "    <tr>\n",
       "      <th>WCE</th>\n",
       "      <td>2018</td>\n",
       "      <td>336</td>\n",
       "    </tr>\n",
       "    <tr>\n",
       "      <th>WCE</th>\n",
       "      <td>2019</td>\n",
       "      <td>309</td>\n",
       "    </tr>\n",
       "    <tr>\n",
       "      <th>WCE</th>\n",
       "      <td>2020</td>\n",
       "      <td>173</td>\n",
       "    </tr>\n",
       "  </tbody>\n",
       "</table>\n",
       "<p>162 rows × 2 columns</p>\n",
       "</div>"
      ],
      "text/plain": [
       "      Year  Goals\n",
       "Team             \n",
       "ADL   2012    388\n",
       "ADL   2013    297\n",
       "ADL   2014    315\n",
       "ADL   2015    332\n",
       "ADL   2016    396\n",
       "...    ...    ...\n",
       "WCE   2016    330\n",
       "WCE   2017    309\n",
       "WCE   2018    336\n",
       "WCE   2019    309\n",
       "WCE   2020    173\n",
       "\n",
       "[162 rows x 2 columns]"
      ]
     },
     "execution_count": 64,
     "metadata": {},
     "output_type": "execute_result"
    }
   ],
   "source": [
    "df_afl_goals.set_index('Team')"
   ]
  },
  {
   "cell_type": "code",
   "execution_count": 65,
   "id": "45f9c823",
   "metadata": {
    "execution": {
     "iopub.execute_input": "2022-02-04T10:13:25.367097Z",
     "iopub.status.busy": "2022-02-04T10:13:25.366368Z",
     "iopub.status.idle": "2022-02-04T10:13:25.373964Z",
     "shell.execute_reply": "2022-02-04T10:13:25.374412Z",
     "shell.execute_reply.started": "2022-02-04T10:05:04.023900Z"
    },
    "papermill": {
     "duration": 0.14176,
     "end_time": "2022-02-04T10:13:25.374580",
     "exception": false,
     "start_time": "2022-02-04T10:13:25.232820",
     "status": "completed"
    },
    "tags": []
   },
   "outputs": [
    {
     "data": {
      "text/plain": [
       "Team\n",
       "HTN    3008\n",
       "GEE    2842\n",
       "WCE    2784\n",
       "ADL    2774\n",
       "SYD    2749\n",
       "RCH    2649\n",
       "NML    2626\n",
       "PDL    2545\n",
       "COL    2543\n",
       "GWS    2392\n",
       "WBL    2345\n",
       "ESS    2302\n",
       "FRM    2292\n",
       "BRS    2284\n",
       "STK    2251\n",
       "MLB    2183\n",
       "CAR    2149\n",
       "GCS    2036\n",
       "Name: Goals, dtype: int64"
      ]
     },
     "execution_count": 65,
     "metadata": {},
     "output_type": "execute_result"
    }
   ],
   "source": [
    "#Display total goals scored in descending order\n",
    "df_afl_goals.groupby('Team')['Goals'].sum().sort_values(ascending=False)"
   ]
  },
  {
   "cell_type": "code",
   "execution_count": 66,
   "id": "2d090c80",
   "metadata": {
    "execution": {
     "iopub.execute_input": "2022-02-04T10:13:25.642984Z",
     "iopub.status.busy": "2022-02-04T10:13:25.642254Z",
     "iopub.status.idle": "2022-02-04T10:13:25.654065Z",
     "shell.execute_reply": "2022-02-04T10:13:25.654524Z",
     "shell.execute_reply.started": "2022-02-04T10:05:04.039087Z"
    },
    "papermill": {
     "duration": 0.152497,
     "end_time": "2022-02-04T10:13:25.654689",
     "exception": false,
     "start_time": "2022-02-04T10:13:25.502192",
     "status": "completed"
    },
    "tags": []
   },
   "outputs": [
    {
     "data": {
      "text/html": [
       "<div>                            <div id=\"06f8de65-e9aa-409f-8b39-525c7bc18375\" class=\"plotly-graph-div\" style=\"height:525px; width:100%;\"></div>            <script type=\"text/javascript\">                require([\"plotly\"], function(Plotly) {                    window.PLOTLYENV=window.PLOTLYENV || {};                                    if (document.getElementById(\"06f8de65-e9aa-409f-8b39-525c7bc18375\")) {                    Plotly.newPlot(                        \"06f8de65-e9aa-409f-8b39-525c7bc18375\",                        [{\"direction\":\"clockwise\",\"hoverinfo\":\"label+percent\",\"labels\":[\"ADL\",\"BRS\",\"CAR\",\"COL\",\"ESS\",\"FRM\",\"GCS\",\"GEE\",\"GWS\",\"HTN\",\"MLB\",\"NML\",\"PDL\",\"RCH\",\"STK\",\"SYD\",\"WBL\",\"WCE\"],\"marker\":{\"line\":{\"color\":\"black\",\"width\":1}},\"pull\":[0,0,0,0,0,0.2,0,0,0,0,0,0,0,0,0,0,0,0],\"sort\":true,\"textfont\":{\"size\":12},\"textinfo\":\"label+value\",\"values\":[2774,2284,2149,2543,2302,2292,2036,2842,2392,3008,2183,2626,2545,2649,2251,2749,2345,2784],\"type\":\"pie\"}],                        {\"template\":{\"data\":{\"bar\":[{\"error_x\":{\"color\":\"#2a3f5f\"},\"error_y\":{\"color\":\"#2a3f5f\"},\"marker\":{\"line\":{\"color\":\"#E5ECF6\",\"width\":0.5},\"pattern\":{\"fillmode\":\"overlay\",\"size\":10,\"solidity\":0.2}},\"type\":\"bar\"}],\"barpolar\":[{\"marker\":{\"line\":{\"color\":\"#E5ECF6\",\"width\":0.5},\"pattern\":{\"fillmode\":\"overlay\",\"size\":10,\"solidity\":0.2}},\"type\":\"barpolar\"}],\"carpet\":[{\"aaxis\":{\"endlinecolor\":\"#2a3f5f\",\"gridcolor\":\"white\",\"linecolor\":\"white\",\"minorgridcolor\":\"white\",\"startlinecolor\":\"#2a3f5f\"},\"baxis\":{\"endlinecolor\":\"#2a3f5f\",\"gridcolor\":\"white\",\"linecolor\":\"white\",\"minorgridcolor\":\"white\",\"startlinecolor\":\"#2a3f5f\"},\"type\":\"carpet\"}],\"choropleth\":[{\"colorbar\":{\"outlinewidth\":0,\"ticks\":\"\"},\"type\":\"choropleth\"}],\"contour\":[{\"colorbar\":{\"outlinewidth\":0,\"ticks\":\"\"},\"colorscale\":[[0.0,\"#0d0887\"],[0.1111111111111111,\"#46039f\"],[0.2222222222222222,\"#7201a8\"],[0.3333333333333333,\"#9c179e\"],[0.4444444444444444,\"#bd3786\"],[0.5555555555555556,\"#d8576b\"],[0.6666666666666666,\"#ed7953\"],[0.7777777777777778,\"#fb9f3a\"],[0.8888888888888888,\"#fdca26\"],[1.0,\"#f0f921\"]],\"type\":\"contour\"}],\"contourcarpet\":[{\"colorbar\":{\"outlinewidth\":0,\"ticks\":\"\"},\"type\":\"contourcarpet\"}],\"heatmap\":[{\"colorbar\":{\"outlinewidth\":0,\"ticks\":\"\"},\"colorscale\":[[0.0,\"#0d0887\"],[0.1111111111111111,\"#46039f\"],[0.2222222222222222,\"#7201a8\"],[0.3333333333333333,\"#9c179e\"],[0.4444444444444444,\"#bd3786\"],[0.5555555555555556,\"#d8576b\"],[0.6666666666666666,\"#ed7953\"],[0.7777777777777778,\"#fb9f3a\"],[0.8888888888888888,\"#fdca26\"],[1.0,\"#f0f921\"]],\"type\":\"heatmap\"}],\"heatmapgl\":[{\"colorbar\":{\"outlinewidth\":0,\"ticks\":\"\"},\"colorscale\":[[0.0,\"#0d0887\"],[0.1111111111111111,\"#46039f\"],[0.2222222222222222,\"#7201a8\"],[0.3333333333333333,\"#9c179e\"],[0.4444444444444444,\"#bd3786\"],[0.5555555555555556,\"#d8576b\"],[0.6666666666666666,\"#ed7953\"],[0.7777777777777778,\"#fb9f3a\"],[0.8888888888888888,\"#fdca26\"],[1.0,\"#f0f921\"]],\"type\":\"heatmapgl\"}],\"histogram\":[{\"marker\":{\"pattern\":{\"fillmode\":\"overlay\",\"size\":10,\"solidity\":0.2}},\"type\":\"histogram\"}],\"histogram2d\":[{\"colorbar\":{\"outlinewidth\":0,\"ticks\":\"\"},\"colorscale\":[[0.0,\"#0d0887\"],[0.1111111111111111,\"#46039f\"],[0.2222222222222222,\"#7201a8\"],[0.3333333333333333,\"#9c179e\"],[0.4444444444444444,\"#bd3786\"],[0.5555555555555556,\"#d8576b\"],[0.6666666666666666,\"#ed7953\"],[0.7777777777777778,\"#fb9f3a\"],[0.8888888888888888,\"#fdca26\"],[1.0,\"#f0f921\"]],\"type\":\"histogram2d\"}],\"histogram2dcontour\":[{\"colorbar\":{\"outlinewidth\":0,\"ticks\":\"\"},\"colorscale\":[[0.0,\"#0d0887\"],[0.1111111111111111,\"#46039f\"],[0.2222222222222222,\"#7201a8\"],[0.3333333333333333,\"#9c179e\"],[0.4444444444444444,\"#bd3786\"],[0.5555555555555556,\"#d8576b\"],[0.6666666666666666,\"#ed7953\"],[0.7777777777777778,\"#fb9f3a\"],[0.8888888888888888,\"#fdca26\"],[1.0,\"#f0f921\"]],\"type\":\"histogram2dcontour\"}],\"mesh3d\":[{\"colorbar\":{\"outlinewidth\":0,\"ticks\":\"\"},\"type\":\"mesh3d\"}],\"parcoords\":[{\"line\":{\"colorbar\":{\"outlinewidth\":0,\"ticks\":\"\"}},\"type\":\"parcoords\"}],\"pie\":[{\"automargin\":true,\"type\":\"pie\"}],\"scatter\":[{\"marker\":{\"colorbar\":{\"outlinewidth\":0,\"ticks\":\"\"}},\"type\":\"scatter\"}],\"scatter3d\":[{\"line\":{\"colorbar\":{\"outlinewidth\":0,\"ticks\":\"\"}},\"marker\":{\"colorbar\":{\"outlinewidth\":0,\"ticks\":\"\"}},\"type\":\"scatter3d\"}],\"scattercarpet\":[{\"marker\":{\"colorbar\":{\"outlinewidth\":0,\"ticks\":\"\"}},\"type\":\"scattercarpet\"}],\"scattergeo\":[{\"marker\":{\"colorbar\":{\"outlinewidth\":0,\"ticks\":\"\"}},\"type\":\"scattergeo\"}],\"scattergl\":[{\"marker\":{\"colorbar\":{\"outlinewidth\":0,\"ticks\":\"\"}},\"type\":\"scattergl\"}],\"scattermapbox\":[{\"marker\":{\"colorbar\":{\"outlinewidth\":0,\"ticks\":\"\"}},\"type\":\"scattermapbox\"}],\"scatterpolar\":[{\"marker\":{\"colorbar\":{\"outlinewidth\":0,\"ticks\":\"\"}},\"type\":\"scatterpolar\"}],\"scatterpolargl\":[{\"marker\":{\"colorbar\":{\"outlinewidth\":0,\"ticks\":\"\"}},\"type\":\"scatterpolargl\"}],\"scatterternary\":[{\"marker\":{\"colorbar\":{\"outlinewidth\":0,\"ticks\":\"\"}},\"type\":\"scatterternary\"}],\"surface\":[{\"colorbar\":{\"outlinewidth\":0,\"ticks\":\"\"},\"colorscale\":[[0.0,\"#0d0887\"],[0.1111111111111111,\"#46039f\"],[0.2222222222222222,\"#7201a8\"],[0.3333333333333333,\"#9c179e\"],[0.4444444444444444,\"#bd3786\"],[0.5555555555555556,\"#d8576b\"],[0.6666666666666666,\"#ed7953\"],[0.7777777777777778,\"#fb9f3a\"],[0.8888888888888888,\"#fdca26\"],[1.0,\"#f0f921\"]],\"type\":\"surface\"}],\"table\":[{\"cells\":{\"fill\":{\"color\":\"#EBF0F8\"},\"line\":{\"color\":\"white\"}},\"header\":{\"fill\":{\"color\":\"#C8D4E3\"},\"line\":{\"color\":\"white\"}},\"type\":\"table\"}]},\"layout\":{\"annotationdefaults\":{\"arrowcolor\":\"#2a3f5f\",\"arrowhead\":0,\"arrowwidth\":1},\"autotypenumbers\":\"strict\",\"coloraxis\":{\"colorbar\":{\"outlinewidth\":0,\"ticks\":\"\"}},\"colorscale\":{\"diverging\":[[0,\"#8e0152\"],[0.1,\"#c51b7d\"],[0.2,\"#de77ae\"],[0.3,\"#f1b6da\"],[0.4,\"#fde0ef\"],[0.5,\"#f7f7f7\"],[0.6,\"#e6f5d0\"],[0.7,\"#b8e186\"],[0.8,\"#7fbc41\"],[0.9,\"#4d9221\"],[1,\"#276419\"]],\"sequential\":[[0.0,\"#0d0887\"],[0.1111111111111111,\"#46039f\"],[0.2222222222222222,\"#7201a8\"],[0.3333333333333333,\"#9c179e\"],[0.4444444444444444,\"#bd3786\"],[0.5555555555555556,\"#d8576b\"],[0.6666666666666666,\"#ed7953\"],[0.7777777777777778,\"#fb9f3a\"],[0.8888888888888888,\"#fdca26\"],[1.0,\"#f0f921\"]],\"sequentialminus\":[[0.0,\"#0d0887\"],[0.1111111111111111,\"#46039f\"],[0.2222222222222222,\"#7201a8\"],[0.3333333333333333,\"#9c179e\"],[0.4444444444444444,\"#bd3786\"],[0.5555555555555556,\"#d8576b\"],[0.6666666666666666,\"#ed7953\"],[0.7777777777777778,\"#fb9f3a\"],[0.8888888888888888,\"#fdca26\"],[1.0,\"#f0f921\"]]},\"colorway\":[\"#636efa\",\"#EF553B\",\"#00cc96\",\"#ab63fa\",\"#FFA15A\",\"#19d3f3\",\"#FF6692\",\"#B6E880\",\"#FF97FF\",\"#FECB52\"],\"font\":{\"color\":\"#2a3f5f\"},\"geo\":{\"bgcolor\":\"white\",\"lakecolor\":\"white\",\"landcolor\":\"#E5ECF6\",\"showlakes\":true,\"showland\":true,\"subunitcolor\":\"white\"},\"hoverlabel\":{\"align\":\"left\"},\"hovermode\":\"closest\",\"mapbox\":{\"style\":\"light\"},\"paper_bgcolor\":\"white\",\"plot_bgcolor\":\"#E5ECF6\",\"polar\":{\"angularaxis\":{\"gridcolor\":\"white\",\"linecolor\":\"white\",\"ticks\":\"\"},\"bgcolor\":\"#E5ECF6\",\"radialaxis\":{\"gridcolor\":\"white\",\"linecolor\":\"white\",\"ticks\":\"\"}},\"scene\":{\"xaxis\":{\"backgroundcolor\":\"#E5ECF6\",\"gridcolor\":\"white\",\"gridwidth\":2,\"linecolor\":\"white\",\"showbackground\":true,\"ticks\":\"\",\"zerolinecolor\":\"white\"},\"yaxis\":{\"backgroundcolor\":\"#E5ECF6\",\"gridcolor\":\"white\",\"gridwidth\":2,\"linecolor\":\"white\",\"showbackground\":true,\"ticks\":\"\",\"zerolinecolor\":\"white\"},\"zaxis\":{\"backgroundcolor\":\"#E5ECF6\",\"gridcolor\":\"white\",\"gridwidth\":2,\"linecolor\":\"white\",\"showbackground\":true,\"ticks\":\"\",\"zerolinecolor\":\"white\"}},\"shapedefaults\":{\"line\":{\"color\":\"#2a3f5f\"}},\"ternary\":{\"aaxis\":{\"gridcolor\":\"white\",\"linecolor\":\"white\",\"ticks\":\"\"},\"baxis\":{\"gridcolor\":\"white\",\"linecolor\":\"white\",\"ticks\":\"\"},\"bgcolor\":\"#E5ECF6\",\"caxis\":{\"gridcolor\":\"white\",\"linecolor\":\"white\",\"ticks\":\"\"}},\"title\":{\"x\":0.05},\"xaxis\":{\"automargin\":true,\"gridcolor\":\"white\",\"linecolor\":\"white\",\"ticks\":\"\",\"title\":{\"standoff\":15},\"zerolinecolor\":\"white\",\"zerolinewidth\":2},\"yaxis\":{\"automargin\":true,\"gridcolor\":\"white\",\"linecolor\":\"white\",\"ticks\":\"\",\"title\":{\"standoff\":15},\"zerolinecolor\":\"white\",\"zerolinewidth\":2}}},\"title\":{\"text\":\"Total Goals Scored From 2012 To 2020\",\"x\":0.5},\"showlegend\":false},                        {\"responsive\": true}                    ).then(function(){\n",
       "                            \n",
       "var gd = document.getElementById('06f8de65-e9aa-409f-8b39-525c7bc18375');\n",
       "var x = new MutationObserver(function (mutations, observer) {{\n",
       "        var display = window.getComputedStyle(gd).display;\n",
       "        if (!display || display === 'none') {{\n",
       "            console.log([gd, 'removed!']);\n",
       "            Plotly.purge(gd);\n",
       "            observer.disconnect();\n",
       "        }}\n",
       "}});\n",
       "\n",
       "// Listen for the removal of the full notebook cells\n",
       "var notebookContainer = gd.closest('#notebook-container');\n",
       "if (notebookContainer) {{\n",
       "    x.observe(notebookContainer, {childList: true});\n",
       "}}\n",
       "\n",
       "// Listen for the clearing of the current output cell\n",
       "var outputEl = gd.closest('.output');\n",
       "if (outputEl) {{\n",
       "    x.observe(outputEl, {childList: true});\n",
       "}}\n",
       "\n",
       "                        })                };                });            </script>        </div>"
      ]
     },
     "metadata": {},
     "output_type": "display_data"
    }
   ],
   "source": [
    "labels = df_afl_goals['Team'].unique()\n",
    "\n",
    "vals = df_afl_goals.groupby('Team')['Goals'].sum()\n",
    "\n",
    "fig = go.Figure(data = [go.Pie(labels=labels, \n",
    "                              values=vals, \n",
    "                              sort=True, \n",
    "                              textinfo = 'label+value', \n",
    "                              textfont_size = 12, \n",
    "                              hoverinfo = 'label+percent', \n",
    "                              direction = 'clockwise', \n",
    "                              marker = dict(line=dict(color='black', width=1)),\n",
    "                              pull=[0, 0, 0, 0, 0, 0.2, \n",
    "                                    0, 0, 0, 0, 0, 0, \n",
    "                                    0, 0, 0, 0, 0, 0])])\n",
    "\n",
    "\n",
    "fig.update_layout(title='Total Goals Scored From 2012 To 2020', title_x=0.5, showlegend=False)\n",
    "fig.show("png")"
   ]
  },
  {
   "cell_type": "markdown",
   "id": "b53e9b55",
   "metadata": {
    "papermill": {
     "duration": 0.128033,
     "end_time": "2022-02-04T10:13:25.910789",
     "exception": false,
     "start_time": "2022-02-04T10:13:25.782756",
     "status": "completed"
    },
    "tags": []
   },
   "source": [
    "Fremantle have scored a total of 2292 goals from the start of 2012 to the end of 2020. \n",
    "How is this total distributed over this 9 year peiod and how does it compare to other teams?"
   ]
  },
  {
   "cell_type": "code",
   "execution_count": 67,
   "id": "7bf9f0c0",
   "metadata": {
    "execution": {
     "iopub.execute_input": "2022-02-04T10:13:26.174270Z",
     "iopub.status.busy": "2022-02-04T10:13:26.173587Z",
     "iopub.status.idle": "2022-02-04T10:13:27.103126Z",
     "shell.execute_reply": "2022-02-04T10:13:27.102448Z",
     "shell.execute_reply.started": "2022-02-04T10:05:04.064545Z"
    },
    "papermill": {
     "duration": 1.063198,
     "end_time": "2022-02-04T10:13:27.103270",
     "exception": false,
     "start_time": "2022-02-04T10:13:26.040072",
     "status": "completed"
    },
    "tags": []
   },
   "outputs": [
    {
     "data": {
      "image/png": "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\n",
      "text/plain": [
       "<Figure size 1296x432 with 1 Axes>"
      ]
     },
     "metadata": {
      "needs_background": "light"
     },
     "output_type": "display_data"
    }
   ],
   "source": [
    "plt.figure(figsize = (18,6))\n",
    "\n",
    "sns.barplot(data = df_afl_goals, x = 'Year', y = 'Goals', hue = 'Team', \n",
    "           palette = {'ADL': 'lightgrey', \n",
    "                            'PDL' : 'lightgrey', \n",
    "                            'CAR' : 'lightgrey', \n",
    "                            'COL' : 'lightgrey', \n",
    "                            'RCH' : 'lightgrey',\n",
    "                            'BRS' : 'lightgrey', \n",
    "                            'WBL' : 'lightgrey',\n",
    "                            'GCS' : 'lightgrey', \n",
    "                            'MLB' : 'lightgrey',\n",
    "                            'GEE' : 'lightgrey', \n",
    "                            'FRM' : 'purple', \n",
    "                            'HTN' : 'lightgrey', \n",
    "                            'SYD' : 'lightgrey', \n",
    "                            'STK' : 'lightgrey',\n",
    "                            'GWS' : 'lightgrey', \n",
    "                            'NML' : 'lightgrey', \n",
    "                            'ESS' : 'lightgrey',\n",
    "                            'WCE' : 'lightgrey' })\n",
    "\n",
    "\n",
    "plt.legend(loc = 'center left', bbox_to_anchor = (1.0, 0.5))\n",
    "plt.xlabel('Year', fontsize=14)\n",
    "plt.xticks(fontsize=12)\n",
    "plt.ylabel('Goals Scored', fontsize=14)\n",
    "plt.yticks(fontsize=12)\n",
    "plt.title('Goals Scored Each Season From 2012 To 2020', fontsize=16)\n",
    "plt.show()"
   ]
  },
  {
   "cell_type": "markdown",
   "id": "ac78c227",
   "metadata": {
    "papermill": {
     "duration": 0.12923,
     "end_time": "2022-02-04T10:13:27.363914",
     "exception": false,
     "start_time": "2022-02-04T10:13:27.234684",
     "status": "completed"
    },
    "tags": []
   },
   "source": [
    "We can transfrom the barplot above into a heatmap to better visualise the amount of goals scored by each team from 2012 to 2020. Doing so will also give us the opportunity to more readily compare Fremantle's total to that achieved by their opponents. "
   ]
  },
  {
   "cell_type": "code",
   "execution_count": 68,
   "id": "076d014e",
   "metadata": {
    "execution": {
     "iopub.execute_input": "2022-02-04T10:13:27.627011Z",
     "iopub.status.busy": "2022-02-04T10:13:27.626023Z",
     "iopub.status.idle": "2022-02-04T10:13:28.519009Z",
     "shell.execute_reply": "2022-02-04T10:13:28.519532Z",
     "shell.execute_reply.started": "2022-02-04T10:05:04.983928Z"
    },
    "papermill": {
     "duration": 1.026486,
     "end_time": "2022-02-04T10:13:28.519694",
     "exception": false,
     "start_time": "2022-02-04T10:13:27.493208",
     "status": "completed"
    },
    "tags": []
   },
   "outputs": [
    {
     "data": {
      "image/png": "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\n",
      "text/plain": [
       "<Figure size 1296x432 with 1 Axes>"
      ]
     },
     "metadata": {
      "needs_background": "light"
     },
     "output_type": "display_data"
    }
   ],
   "source": [
    "plt.figure(figsize=(18,6))\n",
    "\n",
    "sns.heatmap(data=df_afl.groupby(['Team', 'Year'])['Goals'].sum().astype(int).unstack(), \n",
    "            cmap='coolwarm', cbar=False, annot=True, fmt='.3g')\n",
    "\n",
    "plt.title('Number of Goals Scored by AFL Teams Each Season', fontsize=18)\n",
    "plt.ylabel(ylabel='Team', fontsize=14)\n",
    "plt.yticks(fontsize=11)\n",
    "plt.xlabel(xlabel='Year', fontsize=14)\n",
    "plt.xticks(fontsize=11)\n",
    "plt.show()"
   ]
  },
  {
   "cell_type": "markdown",
   "id": "47f0bd4f",
   "metadata": {
    "papermill": {
     "duration": 0.13048,
     "end_time": "2022-02-04T10:13:28.782040",
     "exception": false,
     "start_time": "2022-02-04T10:13:28.651560",
     "status": "completed"
    },
    "tags": []
   },
   "source": [
    "The heatmap above displays the total number of goals scored by the AFL teams each year. The color scheme used varies between blue and red, with blue indicating lower values and red higher ones. Focusing on Fremantle, we can see that until 2015 they were scoring a high amount of goals, placing them among the highest ranked teams for goals scored. However, from 2016 onwards we can see that they have been scoring considerably less goals with their best total between 2016 and 2020 trailing their pre 2016 total by more than 100 goals. \n",
    "\n",
    "2020 was a low scoring year for all teams. This is a result of every team playing fewer games compared to previous seasons due to a partial stop in the season that took place in response to the outbreak of Coronavirus around Australia and, of course, the world. "
   ]
  },
  {
   "cell_type": "markdown",
   "id": "e32da472",
   "metadata": {
    "papermill": {
     "duration": 0.131495,
     "end_time": "2022-02-04T10:13:29.045039",
     "exception": false,
     "start_time": "2022-02-04T10:13:28.913544",
     "status": "completed"
    },
    "tags": []
   },
   "source": [
    "**FREMANTLE PERFORMANCE: GOALS AND BEHINDS**"
   ]
  },
  {
   "cell_type": "markdown",
   "id": "92e61cb3",
   "metadata": {
    "papermill": {
     "duration": 0.131184,
     "end_time": "2022-02-04T10:13:29.307613",
     "exception": false,
     "start_time": "2022-02-04T10:13:29.176429",
     "status": "completed"
    },
    "tags": []
   },
   "source": [
    "We have looked at the number of goals scored by each team. Lets now turn our attention to how many behinds each team has scored and how this compares to the amount of goals scored. "
   ]
  },
  {
   "cell_type": "code",
   "execution_count": 69,
   "id": "b39e7c9b",
   "metadata": {
    "execution": {
     "iopub.execute_input": "2022-02-04T10:13:29.573978Z",
     "iopub.status.busy": "2022-02-04T10:13:29.573272Z",
     "iopub.status.idle": "2022-02-04T10:13:30.385256Z",
     "shell.execute_reply": "2022-02-04T10:13:30.384621Z",
     "shell.execute_reply.started": "2022-02-04T10:05:06.056406Z"
    },
    "papermill": {
     "duration": 0.946824,
     "end_time": "2022-02-04T10:13:30.385412",
     "exception": false,
     "start_time": "2022-02-04T10:13:29.438588",
     "status": "completed"
    },
    "tags": []
   },
   "outputs": [
    {
     "data": {
      "image/png": "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\n",
      "text/plain": [
       "<Figure size 1008x432 with 1 Axes>"
      ]
     },
     "metadata": {
      "needs_background": "light"
     },
     "output_type": "display_data"
    }
   ],
   "source": [
    "plt.figure(figsize=(14,6))\n",
    "\n",
    "goals=sns.barplot(x = df_afl_goals['Team'].unique(), \n",
    "                  y = df_afl_goals.groupby('Team')['Goals'].sum(), color='khaki')\n",
    "behinds=sns.barplot(x = df_afl_goals['Team'].unique(), \n",
    "                    y = df_afl.groupby('Team')['Behinds'].sum(), color='olive')\n",
    "\n",
    "for p in goals.patches:\n",
    "             goals.annotate(\"%.0f\" % p.get_height(), (p.get_x() + p.get_width() / 2., p.get_height()),\n",
    "                 ha='center', va='center', fontsize=12, color='black', xytext=(0,5),\n",
    "                 textcoords='offset points')\n",
    "\n",
    "goals= mpatches.Patch(color='khaki', label='Goals Scored')\n",
    "behinds = mpatches.Patch(color='olive', label='Behinds Scored')\n",
    "\n",
    "plt.title('Total Goals and Behinds Scored From 2012 to 2020', fontsize=18)\n",
    "plt.legend(handles=[goals, behinds], loc = 'center left', bbox_to_anchor = (1.0, 0.5), fontsize=12)\n",
    "plt.xlabel(xlabel='Team', fontsize=14)\n",
    "plt.xticks(fontsize=12)\n",
    "plt.ylabel(ylabel='Total', fontsize=14)\n",
    "plt.yticks(fontsize=12)\n",
    "\n",
    "plt.show()"
   ]
  },
  {
   "cell_type": "markdown",
   "id": "78d05193",
   "metadata": {
    "papermill": {
     "duration": 0.141395,
     "end_time": "2022-02-04T10:13:30.662395",
     "exception": false,
     "start_time": "2022-02-04T10:13:30.521000",
     "status": "completed"
    },
    "tags": []
   },
   "source": [
    "From the simple barplot we can immediately see that Fremantle have scored the fewest amount of behinds and rank 13th for goals scored. Lets see against what teams Fremantle have scored their goals and behinds."
   ]
  },
  {
   "cell_type": "code",
   "execution_count": 70,
   "id": "df2cdb05",
   "metadata": {
    "execution": {
     "iopub.execute_input": "2022-02-04T10:13:30.955765Z",
     "iopub.status.busy": "2022-02-04T10:13:30.952602Z",
     "iopub.status.idle": "2022-02-04T10:13:30.958600Z",
     "shell.execute_reply": "2022-02-04T10:13:30.957978Z",
     "shell.execute_reply.started": "2022-02-04T10:05:06.727510Z"
    },
    "papermill": {
     "duration": 0.145661,
     "end_time": "2022-02-04T10:13:30.958737",
     "exception": false,
     "start_time": "2022-02-04T10:13:30.813076",
     "status": "completed"
    },
    "tags": []
   },
   "outputs": [],
   "source": [
    "FRM_gls = pd.DataFrame(df_FRM.groupby('Opposition')['Goals'].sum())\n",
    "FRM_gls.reset_index(inplace=True)"
   ]
  },
  {
   "cell_type": "code",
   "execution_count": 71,
   "id": "9820c289",
   "metadata": {
    "execution": {
     "iopub.execute_input": "2022-02-04T10:13:31.237445Z",
     "iopub.status.busy": "2022-02-04T10:13:31.236713Z",
     "iopub.status.idle": "2022-02-04T10:13:31.242567Z",
     "shell.execute_reply": "2022-02-04T10:13:31.241898Z",
     "shell.execute_reply.started": "2022-02-04T10:05:06.736986Z"
    },
    "papermill": {
     "duration": 0.148832,
     "end_time": "2022-02-04T10:13:31.242730",
     "exception": false,
     "start_time": "2022-02-04T10:13:31.093898",
     "status": "completed"
    },
    "tags": []
   },
   "outputs": [],
   "source": [
    "FRM_bds = pd.DataFrame(df_FRM.groupby('Opposition')['Behinds'].sum())\n",
    "FRM_bds.reset_index(inplace=True)"
   ]
  },
  {
   "cell_type": "code",
   "execution_count": 72,
   "id": "4e544751",
   "metadata": {
    "execution": {
     "iopub.execute_input": "2022-02-04T10:13:31.521443Z",
     "iopub.status.busy": "2022-02-04T10:13:31.520369Z",
     "iopub.status.idle": "2022-02-04T10:13:31.523275Z",
     "shell.execute_reply": "2022-02-04T10:13:31.522581Z",
     "shell.execute_reply.started": "2022-02-04T10:05:06.753197Z"
    },
    "papermill": {
     "duration": 0.145694,
     "end_time": "2022-02-04T10:13:31.523432",
     "exception": false,
     "start_time": "2022-02-04T10:13:31.377738",
     "status": "completed"
    },
    "tags": []
   },
   "outputs": [],
   "source": [
    "FRM_glsbds = FRM_gls.merge(FRM_bds, on='Opposition')"
   ]
  },
  {
   "cell_type": "code",
   "execution_count": 73,
   "id": "3890a558",
   "metadata": {
    "execution": {
     "iopub.execute_input": "2022-02-04T10:13:31.804672Z",
     "iopub.status.busy": "2022-02-04T10:13:31.803977Z",
     "iopub.status.idle": "2022-02-04T10:13:32.424343Z",
     "shell.execute_reply": "2022-02-04T10:13:32.423640Z",
     "shell.execute_reply.started": "2022-02-04T10:05:06.762767Z"
    },
    "papermill": {
     "duration": 0.766122,
     "end_time": "2022-02-04T10:13:32.424507",
     "exception": false,
     "start_time": "2022-02-04T10:13:31.658385",
     "status": "completed"
    },
    "tags": []
   },
   "outputs": [
    {
     "data": {
      "image/png": "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\n",
      "text/plain": [
       "<Figure size 1008x432 with 1 Axes>"
      ]
     },
     "metadata": {
      "needs_background": "light"
     },
     "output_type": "display_data"
    }
   ],
   "source": [
    "plt.figure(figsize=(14,6))\n",
    "\n",
    "g=sns.barplot(data=FRM_glsbds, x = 'Opposition', y = 'Goals', color='mediumorchid')\n",
    "b=sns.barplot(data=FRM_glsbds, x = 'Opposition', y = 'Behinds', color='mediumpurple')\n",
    "\n",
    "for p in g.patches:\n",
    "             g.annotate(\"%.0f\" % p.get_height(), (p.get_x() + p.get_width() / 2., p.get_height()),\n",
    "                 ha='center', va='center', fontsize=12, color='black', xytext=(0,5),\n",
    "                 textcoords='offset points')\n",
    "\n",
    "g= mpatches.Patch(color='mediumorchid', label='Goals Scored')\n",
    "b= mpatches.Patch(color='mediumpurple', label='Behinds Scored')\n",
    "\n",
    "plt.title('Goals and Behinds Scored Against AFL Opposition by Fremantle From 2012 to 2020', fontsize=18)\n",
    "plt.legend(handles=[g, b], loc = 'center left', bbox_to_anchor = (1.0, 0.5), fontsize=12)\n",
    "plt.xlabel(xlabel='Opposition', fontsize=14)\n",
    "plt.xticks(fontsize=12)\n",
    "plt.ylabel(ylabel='Total', fontsize=14)\n",
    "plt.yticks(fontsize=12)\n",
    "\n",
    "plt.show()"
   ]
  },
  {
   "cell_type": "markdown",
   "id": "9296cce3",
   "metadata": {
    "papermill": {
     "duration": 0.13503,
     "end_time": "2022-02-04T10:13:32.694884",
     "exception": false,
     "start_time": "2022-02-04T10:13:32.559854",
     "status": "completed"
    },
    "tags": []
   },
   "source": [
    "Here we have the split of total goals and behinds scored by the Dockers against their opposition. From this, we can obtain the total score that Fremantle have reached by giving the amount of goals and behinds their appropriate values. "
   ]
  },
  {
   "cell_type": "code",
   "execution_count": 74,
   "id": "dd5a34d4",
   "metadata": {
    "execution": {
     "iopub.execute_input": "2022-02-04T10:13:32.976238Z",
     "iopub.status.busy": "2022-02-04T10:13:32.975570Z",
     "iopub.status.idle": "2022-02-04T10:13:33.331486Z",
     "shell.execute_reply": "2022-02-04T10:13:33.330633Z",
     "shell.execute_reply.started": "2022-02-04T10:05:07.389159Z"
    },
    "papermill": {
     "duration": 0.502499,
     "end_time": "2022-02-04T10:13:33.331637",
     "exception": false,
     "start_time": "2022-02-04T10:13:32.829138",
     "status": "completed"
    },
    "tags": []
   },
   "outputs": [
    {
     "name": "stdout",
     "output_type": "stream",
     "text": [
      "ADL 858\n",
      "BRS 839\n",
      "CAR 792\n",
      "COL 768\n",
      "ESS 1005\n",
      "GCS 781\n",
      "GEE 922\n",
      "GWS 901\n",
      "HTN 754\n",
      "MLB 1103\n",
      "NML 976\n",
      "PDL 1137\n",
      "RCH 861\n",
      "STK 824\n",
      "SYD 745\n",
      "WBL 877\n",
      "WCE 1215\n"
     ]
    }
   ],
   "source": [
    "#create loop to calculate total score accumulated against each team\n",
    "\n",
    "#for each team faced by Fremantle\n",
    "for team in FRM_glsbds['Opposition'].unique():\n",
    "    i = 0\n",
    "    #start at team indexed 0, go on until index 16 (17 opposition teams)\n",
    "    while i < len(FRM_glsbds['Opposition'].unique()):\n",
    "        #for each opponent, find total amount of goals and multiply by 6 as goal = 6 points \n",
    "        g = (FRM_glsbds[FRM_glsbds['Opposition']==team]['Goals'].sum())*6\n",
    "        #for each opponent, find total amount of behinds\n",
    "        b = FRM_glsbds[FRM_glsbds['Opposition']==team]['Behinds'].sum()\n",
    "        #sum value of goals and behinds\n",
    "        total = g + b\n",
    "        #move onto next index i.e. team\n",
    "        i+=1\n",
    "    #return the team and the total score     \n",
    "    print(team, total)"
   ]
  },
  {
   "cell_type": "code",
   "execution_count": 75,
   "id": "efb6dd47",
   "metadata": {
    "execution": {
     "iopub.execute_input": "2022-02-04T10:13:33.612643Z",
     "iopub.status.busy": "2022-02-04T10:13:33.611982Z",
     "iopub.status.idle": "2022-02-04T10:13:33.614126Z",
     "shell.execute_reply": "2022-02-04T10:13:33.614641Z",
     "shell.execute_reply.started": "2022-02-04T10:05:07.764259Z"
    },
    "papermill": {
     "duration": 0.146517,
     "end_time": "2022-02-04T10:13:33.614840",
     "exception": false,
     "start_time": "2022-02-04T10:13:33.468323",
     "status": "completed"
    },
    "tags": []
   },
   "outputs": [],
   "source": [
    "#Put data from loop into a dataframe to then join with the original dataframe\n",
    "\n",
    "scores = {'Opposition': ['ADL', 'BRS', 'CAR', 'COL', 'ESS', 'GCS', \n",
    "                         'GEE', 'GWS', 'HTN', 'MLB','NML', 'PDL', \n",
    "                         'RCH', 'STK', 'SYD', 'WBL','WCE'], \n",
    "          'Total Score':[858, 839, 792, 768, 1005, 781, \n",
    "                         922, 901, 754, 1103, 976, 1137, \n",
    "                         861, 824, 745, 877, 1215]}\n",
    "\n",
    "df_scores = pd.DataFrame(data=scores)"
   ]
  },
  {
   "cell_type": "code",
   "execution_count": 76,
   "id": "9366d599",
   "metadata": {
    "execution": {
     "iopub.execute_input": "2022-02-04T10:13:33.899910Z",
     "iopub.status.busy": "2022-02-04T10:13:33.898958Z",
     "iopub.status.idle": "2022-02-04T10:13:33.902958Z",
     "shell.execute_reply": "2022-02-04T10:13:33.902369Z",
     "shell.execute_reply.started": "2022-02-04T10:05:07.772537Z"
    },
    "papermill": {
     "duration": 0.151854,
     "end_time": "2022-02-04T10:13:33.903100",
     "exception": false,
     "start_time": "2022-02-04T10:13:33.751246",
     "status": "completed"
    },
    "tags": []
   },
   "outputs": [
    {
     "data": {
      "text/html": [
       "<div>\n",
       "<style scoped>\n",
       "    .dataframe tbody tr th:only-of-type {\n",
       "        vertical-align: middle;\n",
       "    }\n",
       "\n",
       "    .dataframe tbody tr th {\n",
       "        vertical-align: top;\n",
       "    }\n",
       "\n",
       "    .dataframe thead th {\n",
       "        text-align: right;\n",
       "    }\n",
       "</style>\n",
       "<table border=\"1\" class=\"dataframe\">\n",
       "  <thead>\n",
       "    <tr style=\"text-align: right;\">\n",
       "      <th></th>\n",
       "      <th>Opposition</th>\n",
       "      <th>Total Score</th>\n",
       "    </tr>\n",
       "  </thead>\n",
       "  <tbody>\n",
       "    <tr>\n",
       "      <th>16</th>\n",
       "      <td>WCE</td>\n",
       "      <td>1215</td>\n",
       "    </tr>\n",
       "    <tr>\n",
       "      <th>11</th>\n",
       "      <td>PDL</td>\n",
       "      <td>1137</td>\n",
       "    </tr>\n",
       "    <tr>\n",
       "      <th>9</th>\n",
       "      <td>MLB</td>\n",
       "      <td>1103</td>\n",
       "    </tr>\n",
       "    <tr>\n",
       "      <th>4</th>\n",
       "      <td>ESS</td>\n",
       "      <td>1005</td>\n",
       "    </tr>\n",
       "    <tr>\n",
       "      <th>10</th>\n",
       "      <td>NML</td>\n",
       "      <td>976</td>\n",
       "    </tr>\n",
       "    <tr>\n",
       "      <th>6</th>\n",
       "      <td>GEE</td>\n",
       "      <td>922</td>\n",
       "    </tr>\n",
       "    <tr>\n",
       "      <th>7</th>\n",
       "      <td>GWS</td>\n",
       "      <td>901</td>\n",
       "    </tr>\n",
       "    <tr>\n",
       "      <th>15</th>\n",
       "      <td>WBL</td>\n",
       "      <td>877</td>\n",
       "    </tr>\n",
       "    <tr>\n",
       "      <th>12</th>\n",
       "      <td>RCH</td>\n",
       "      <td>861</td>\n",
       "    </tr>\n",
       "    <tr>\n",
       "      <th>0</th>\n",
       "      <td>ADL</td>\n",
       "      <td>858</td>\n",
       "    </tr>\n",
       "    <tr>\n",
       "      <th>1</th>\n",
       "      <td>BRS</td>\n",
       "      <td>839</td>\n",
       "    </tr>\n",
       "    <tr>\n",
       "      <th>13</th>\n",
       "      <td>STK</td>\n",
       "      <td>824</td>\n",
       "    </tr>\n",
       "    <tr>\n",
       "      <th>2</th>\n",
       "      <td>CAR</td>\n",
       "      <td>792</td>\n",
       "    </tr>\n",
       "    <tr>\n",
       "      <th>5</th>\n",
       "      <td>GCS</td>\n",
       "      <td>781</td>\n",
       "    </tr>\n",
       "    <tr>\n",
       "      <th>3</th>\n",
       "      <td>COL</td>\n",
       "      <td>768</td>\n",
       "    </tr>\n",
       "    <tr>\n",
       "      <th>8</th>\n",
       "      <td>HTN</td>\n",
       "      <td>754</td>\n",
       "    </tr>\n",
       "    <tr>\n",
       "      <th>14</th>\n",
       "      <td>SYD</td>\n",
       "      <td>745</td>\n",
       "    </tr>\n",
       "  </tbody>\n",
       "</table>\n",
       "</div>"
      ],
      "text/plain": [
       "   Opposition  Total Score\n",
       "16        WCE         1215\n",
       "11        PDL         1137\n",
       "9         MLB         1103\n",
       "4         ESS         1005\n",
       "10        NML          976\n",
       "6         GEE          922\n",
       "7         GWS          901\n",
       "15        WBL          877\n",
       "12        RCH          861\n",
       "0         ADL          858\n",
       "1         BRS          839\n",
       "13        STK          824\n",
       "2         CAR          792\n",
       "5         GCS          781\n",
       "3         COL          768\n",
       "8         HTN          754\n",
       "14        SYD          745"
      ]
     },
     "execution_count": 76,
     "metadata": {},
     "output_type": "execute_result"
    }
   ],
   "source": [
    "df_scores.sort_values('Total Score',ascending=False)"
   ]
  },
  {
   "cell_type": "markdown",
   "id": "b6981c1e",
   "metadata": {
    "papermill": {
     "duration": 0.135519,
     "end_time": "2022-02-04T10:13:34.175628",
     "exception": false,
     "start_time": "2022-02-04T10:13:34.040109",
     "status": "completed"
    },
    "tags": []
   },
   "source": [
    "As is shown in the table above, Fremantle have managed to total their largest overall score against their local rivals WCE (West Coast Eagles). This total, however, was achieved by playing a total of 17  matches - 2 more compared to their second most faced and scored against opposition in PDL (Port Adelaide). \n",
    "\n",
    "Fremantle seem to have struggled to affect the scoreboard the most against SYD (Sydney), with the Dockers being kept to a total score of 745 in 12 matches. Despite being a low scoring match on average, Fremantle have won 42% of matches against SYD (5 wins out of 12 games). This is a much more positive outcome compared to the win percentage held against WCE; a mere 37% with 6 wins out of 17 matches played although reaching a total score greater to that against SYD by 470 points. "
   ]
  },
  {
   "cell_type": "markdown",
   "id": "425ac4b4",
   "metadata": {
    "papermill": {
     "duration": 0.143362,
     "end_time": "2022-02-04T10:13:34.457365",
     "exception": false,
     "start_time": "2022-02-04T10:13:34.314003",
     "status": "completed"
    },
    "tags": []
   },
   "source": [
    "**CONVERTING CHANCES INTO POINTS**"
   ]
  },
  {
   "cell_type": "markdown",
   "id": "6c5a8b72",
   "metadata": {
    "papermill": {
     "duration": 0.142707,
     "end_time": "2022-02-04T10:13:34.739539",
     "exception": false,
     "start_time": "2022-02-04T10:13:34.596832",
     "status": "completed"
    },
    "tags": []
   },
   "source": [
    "Clearly the amount of goals and behinds a team makes depends on how good a kicking opportunity they can create. It is very uncommon for a team to score, defined here as converting a goal or a behind, from a distance greater than the 50 meter mark. As a result, can measure how effectively a team has converted their chances. I'll call this the Conversion Percentage. To do so, we can divide the amount of goals and behinds by the amount of Inside 50s - the act of running or passing the ball inside the 50m arc - each team has tallied. As the team in focus is Fremantle, lets begin with seeing what percentage of their inside 50s they have turned into points.\n",
    "\n",
    "Obviously there is a limit to how effective our new variable is. Mearly entering the 50m arc does necessarily mean you are able to have a shot on goal, there is still a long way to go! Players may chose to pass the ball to a teammate that finds themselves in a more favourable position. However, the data only tells us how many times the ball crosses into the 50m arc and how many goals were scored. We cannot analyse the passes themselves as we have no way of knowing which of those were passes that moved the footy closer to the posts, we only have the amount of passes completed. As such, we will assume that a completed pass into the opposition's 50m arc presents them with a scoring opportunity."
   ]
  },
  {
   "cell_type": "code",
   "execution_count": 77,
   "id": "f3fceb0d",
   "metadata": {
    "execution": {
     "iopub.execute_input": "2022-02-04T10:13:35.026774Z",
     "iopub.status.busy": "2022-02-04T10:13:35.026102Z",
     "iopub.status.idle": "2022-02-04T10:13:35.034318Z",
     "shell.execute_reply": "2022-02-04T10:13:35.034867Z",
     "shell.execute_reply.started": "2022-02-04T10:05:07.794896Z"
    },
    "papermill": {
     "duration": 0.156597,
     "end_time": "2022-02-04T10:13:35.035060",
     "exception": false,
     "start_time": "2022-02-04T10:13:34.878463",
     "status": "completed"
    },
    "tags": []
   },
   "outputs": [],
   "source": [
    "#Gather relevant columns and information to create new dataframe\n",
    "FRM_stats = df_FRM.groupby('Opposition').agg({'Date of Game':'nunique', \n",
    "                                  'WinLoss':lambda x:sum(x)/22,\n",
    "                                  'Inside 50s':'sum',\n",
    "                                 'Goals':'sum', \n",
    "                                 'Behinds':'sum'}).rename(columns={'Date of Game':'Matches Played', \n",
    "                                                                  'WinLoss':'Matches Won'})"
   ]
  },
  {
   "cell_type": "code",
   "execution_count": 78,
   "id": "c933ff2d",
   "metadata": {
    "execution": {
     "iopub.execute_input": "2022-02-04T10:13:35.320157Z",
     "iopub.status.busy": "2022-02-04T10:13:35.319462Z",
     "iopub.status.idle": "2022-02-04T10:13:35.326136Z",
     "shell.execute_reply": "2022-02-04T10:13:35.326646Z",
     "shell.execute_reply.started": "2022-02-04T10:05:07.814072Z"
    },
    "papermill": {
     "duration": 0.155201,
     "end_time": "2022-02-04T10:13:35.326863",
     "exception": false,
     "start_time": "2022-02-04T10:13:35.171662",
     "status": "completed"
    },
    "tags": []
   },
   "outputs": [],
   "source": [
    "#Merge new datframe with the dataframe showing total score achieved\n",
    "FRM_stats = FRM_stats.merge(df_scores, on='Opposition')"
   ]
  },
  {
   "cell_type": "code",
   "execution_count": 79,
   "id": "4ccf2fa4",
   "metadata": {
    "execution": {
     "iopub.execute_input": "2022-02-04T10:13:35.618488Z",
     "iopub.status.busy": "2022-02-04T10:13:35.617550Z",
     "iopub.status.idle": "2022-02-04T10:13:35.632541Z",
     "shell.execute_reply": "2022-02-04T10:13:35.633089Z",
     "shell.execute_reply.started": "2022-02-04T10:05:07.824670Z"
    },
    "papermill": {
     "duration": 0.161522,
     "end_time": "2022-02-04T10:13:35.633298",
     "exception": false,
     "start_time": "2022-02-04T10:13:35.471776",
     "status": "completed"
    },
    "tags": []
   },
   "outputs": [
    {
     "data": {
      "text/plain": [
       "Opposition\n",
       "ADL    0.363\n",
       "BRS    0.420\n",
       "CAR    0.409\n",
       "COL    0.438\n",
       "ESS    0.404\n",
       "GCS    0.423\n",
       "GEE    0.408\n",
       "GWS    0.448\n",
       "HTN    0.380\n",
       "MLB    0.416\n",
       "NML    0.424\n",
       "PDL    0.430\n",
       "RCH    0.402\n",
       "STK    0.365\n",
       "SYD    0.343\n",
       "WBL    0.434\n",
       "WCE    0.402\n",
       "dtype: float64"
      ]
     },
     "execution_count": 79,
     "metadata": {},
     "output_type": "execute_result"
    }
   ],
   "source": [
    "#Find conversion percentage\n",
    "((FRM_stats.groupby('Opposition')['Goals'].sum()+FRM_stats.groupby('Opposition')['Behinds'].sum())/FRM_stats.groupby('Opposition')['Inside 50s'].sum()).round(3)"
   ]
  },
  {
   "cell_type": "code",
   "execution_count": 80,
   "id": "3da21406",
   "metadata": {
    "execution": {
     "iopub.execute_input": "2022-02-04T10:13:35.922285Z",
     "iopub.status.busy": "2022-02-04T10:13:35.916636Z",
     "iopub.status.idle": "2022-02-04T10:13:36.339621Z",
     "shell.execute_reply": "2022-02-04T10:13:36.338972Z",
     "shell.execute_reply.started": "2022-02-04T10:05:07.841832Z"
    },
    "papermill": {
     "duration": 0.564579,
     "end_time": "2022-02-04T10:13:36.339778",
     "exception": false,
     "start_time": "2022-02-04T10:13:35.775199",
     "status": "completed"
    },
    "tags": []
   },
   "outputs": [
    {
     "data": {
      "image/png": "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\n",
      "text/plain": [
       "<Figure size 1296x432 with 1 Axes>"
      ]
     },
     "metadata": {
      "needs_background": "light"
     },
     "output_type": "display_data"
    }
   ],
   "source": [
    "#Plot conversion percentage\n",
    "\n",
    "plt.figure(figsize=(18,6))\n",
    "\n",
    "conv_perc = sns.barplot(x=FRM_stats['Opposition'].unique(), \n",
    "            y=(((FRM_stats.groupby('Opposition')['Goals'].sum()+FRM_stats.groupby('Opposition')['Behinds'].sum())/FRM_stats.groupby('Opposition')['Inside 50s'].sum()))*100,\n",
    "            color='purple')\n",
    "\n",
    "for p in conv_perc.patches:\n",
    "             conv_perc.annotate(\"%.1f\" % p.get_height(), (p.get_x() + p.get_width() / 2., p.get_height()),\n",
    "                 ha='center', va='center', fontsize=12, color='black', xytext=(0,5),\n",
    "                 textcoords='offset points')\n",
    "        \n",
    "plt.title('Fremantle Overall Conversion Percentage Against AFL Opposition', fontsize=18)\n",
    "#plt.legend(handles=[g, b], loc = 'center left', bbox_to_anchor = (1.0, 0.5), fontsize=12)\n",
    "plt.xlabel(xlabel='Opposition', fontsize=14)\n",
    "plt.xticks(fontsize=12)\n",
    "plt.ylabel(ylabel='Chances Converted (%)', fontsize=14)\n",
    "plt.yticks(fontsize=12)\n",
    "plt.show()"
   ]
  },
  {
   "cell_type": "markdown",
   "id": "908cd2f2",
   "metadata": {
    "papermill": {
     "duration": 0.13909,
     "end_time": "2022-02-04T10:13:36.619000",
     "exception": false,
     "start_time": "2022-02-04T10:13:36.479910",
     "status": "completed"
    },
    "tags": []
   },
   "source": [
    "From our newly created variable, we notice that although totalling their highest score against WCE, Fremantle have converted just 40.2% of the chances created within the 50m arc. This is the same percentage as that against Richmond (RCH), where they have scored 53 goals and 36 behinds less compared to those recorded against WCE and accumulated a total of 861 compared to the 1215 against WCE. As a result, we can see that Fremantle could have accumulated a larger score total over the last 9 seasons against their local rivals.\n",
    "\n",
    "While the conversion percentage against WCE shows a lot of missed opportunities, given that FRM reached such a high total with a considerably low conversion of times they were inside the 50m arc, that against SYD does not paint a prettier picture. Against SYD, Fremantle have only managed to score 110 goals and 85 behinds, thus reaching a total of 745 points, and have been inside SYD's 50m arc 569 times - that is more than 200 times less than the number of times inside WCE's 50m arc. This starc difference exposes SYD to be one of the hardest opposition for Fremantle in terms of both progressing the ball into the 50m arc converting a kick. "
   ]
  },
  {
   "cell_type": "code",
   "execution_count": 81,
   "id": "718b7d8f",
   "metadata": {
    "execution": {
     "iopub.execute_input": "2022-02-04T10:13:36.903998Z",
     "iopub.status.busy": "2022-02-04T10:13:36.903240Z",
     "iopub.status.idle": "2022-02-04T10:13:36.906567Z",
     "shell.execute_reply": "2022-02-04T10:13:36.907104Z",
     "shell.execute_reply.started": "2022-02-04T10:05:08.272828Z"
    },
    "papermill": {
     "duration": 0.148361,
     "end_time": "2022-02-04T10:13:36.907270",
     "exception": false,
     "start_time": "2022-02-04T10:13:36.758909",
     "status": "completed"
    },
    "tags": []
   },
   "outputs": [],
   "source": [
    "FRM_stats = FRM_stats.assign(Conv=[0.363,0.420,0.409,0.438,0.404,0.423,\n",
    "                                            0.408,0.448,0.380,0.416,0.424,0.430,\n",
    "                                            0.402,0.365,0.343,0.434,0.402])"
   ]
  },
  {
   "cell_type": "code",
   "execution_count": 82,
   "id": "7a7381b4",
   "metadata": {
    "execution": {
     "iopub.execute_input": "2022-02-04T10:13:37.192003Z",
     "iopub.status.busy": "2022-02-04T10:13:37.191342Z",
     "iopub.status.idle": "2022-02-04T10:13:37.194114Z",
     "shell.execute_reply": "2022-02-04T10:13:37.193409Z",
     "shell.execute_reply.started": "2022-02-04T10:05:08.283100Z"
    },
    "papermill": {
     "duration": 0.147671,
     "end_time": "2022-02-04T10:13:37.194259",
     "exception": false,
     "start_time": "2022-02-04T10:13:37.046588",
     "status": "completed"
    },
    "tags": []
   },
   "outputs": [],
   "source": [
    "FRM_stats.rename(columns={'Conv':'Conversion Percentage'}, inplace=True)"
   ]
  },
  {
   "cell_type": "code",
   "execution_count": 83,
   "id": "7a026ae3",
   "metadata": {
    "execution": {
     "iopub.execute_input": "2022-02-04T10:13:37.491474Z",
     "iopub.status.busy": "2022-02-04T10:13:37.490775Z",
     "iopub.status.idle": "2022-02-04T10:13:37.493621Z",
     "shell.execute_reply": "2022-02-04T10:13:37.494129Z",
     "shell.execute_reply.started": "2022-02-04T10:05:08.294805Z"
    },
    "papermill": {
     "duration": 0.160792,
     "end_time": "2022-02-04T10:13:37.494320",
     "exception": false,
     "start_time": "2022-02-04T10:13:37.333528",
     "status": "completed"
    },
    "tags": []
   },
   "outputs": [
    {
     "data": {
      "text/html": [
       "<div>\n",
       "<style scoped>\n",
       "    .dataframe tbody tr th:only-of-type {\n",
       "        vertical-align: middle;\n",
       "    }\n",
       "\n",
       "    .dataframe tbody tr th {\n",
       "        vertical-align: top;\n",
       "    }\n",
       "\n",
       "    .dataframe thead th {\n",
       "        text-align: right;\n",
       "    }\n",
       "</style>\n",
       "<table border=\"1\" class=\"dataframe\">\n",
       "  <thead>\n",
       "    <tr style=\"text-align: right;\">\n",
       "      <th></th>\n",
       "      <th>Goals</th>\n",
       "      <th>Behinds</th>\n",
       "      <th>Inside 50s</th>\n",
       "      <th>Conversion Percentage</th>\n",
       "    </tr>\n",
       "    <tr>\n",
       "      <th>Opposition</th>\n",
       "      <th></th>\n",
       "      <th></th>\n",
       "      <th></th>\n",
       "      <th></th>\n",
       "    </tr>\n",
       "  </thead>\n",
       "  <tbody>\n",
       "    <tr>\n",
       "      <th>COL</th>\n",
       "      <td>115</td>\n",
       "      <td>78</td>\n",
       "      <td>441</td>\n",
       "      <td>0.438</td>\n",
       "    </tr>\n",
       "    <tr>\n",
       "      <th>GCS</th>\n",
       "      <td>114</td>\n",
       "      <td>97</td>\n",
       "      <td>499</td>\n",
       "      <td>0.423</td>\n",
       "    </tr>\n",
       "    <tr>\n",
       "      <th>GWS</th>\n",
       "      <td>135</td>\n",
       "      <td>91</td>\n",
       "      <td>504</td>\n",
       "      <td>0.448</td>\n",
       "    </tr>\n",
       "    <tr>\n",
       "      <th>CAR</th>\n",
       "      <td>117</td>\n",
       "      <td>90</td>\n",
       "      <td>506</td>\n",
       "      <td>0.409</td>\n",
       "    </tr>\n",
       "    <tr>\n",
       "      <th>HTN</th>\n",
       "      <td>112</td>\n",
       "      <td>82</td>\n",
       "      <td>511</td>\n",
       "      <td>0.380</td>\n",
       "    </tr>\n",
       "    <tr>\n",
       "      <th>STK</th>\n",
       "      <td>127</td>\n",
       "      <td>62</td>\n",
       "      <td>518</td>\n",
       "      <td>0.365</td>\n",
       "    </tr>\n",
       "    <tr>\n",
       "      <th>BRS</th>\n",
       "      <td>124</td>\n",
       "      <td>95</td>\n",
       "      <td>522</td>\n",
       "      <td>0.420</td>\n",
       "    </tr>\n",
       "    <tr>\n",
       "      <th>WBL</th>\n",
       "      <td>130</td>\n",
       "      <td>97</td>\n",
       "      <td>523</td>\n",
       "      <td>0.434</td>\n",
       "    </tr>\n",
       "    <tr>\n",
       "      <th>SYD</th>\n",
       "      <td>110</td>\n",
       "      <td>85</td>\n",
       "      <td>569</td>\n",
       "      <td>0.343</td>\n",
       "    </tr>\n",
       "    <tr>\n",
       "      <th>NML</th>\n",
       "      <td>147</td>\n",
       "      <td>94</td>\n",
       "      <td>569</td>\n",
       "      <td>0.424</td>\n",
       "    </tr>\n",
       "    <tr>\n",
       "      <th>RCH</th>\n",
       "      <td>126</td>\n",
       "      <td>105</td>\n",
       "      <td>575</td>\n",
       "      <td>0.402</td>\n",
       "    </tr>\n",
       "    <tr>\n",
       "      <th>GEE</th>\n",
       "      <td>137</td>\n",
       "      <td>100</td>\n",
       "      <td>581</td>\n",
       "      <td>0.408</td>\n",
       "    </tr>\n",
       "    <tr>\n",
       "      <th>ESS</th>\n",
       "      <td>153</td>\n",
       "      <td>87</td>\n",
       "      <td>594</td>\n",
       "      <td>0.404</td>\n",
       "    </tr>\n",
       "    <tr>\n",
       "      <th>ADL</th>\n",
       "      <td>128</td>\n",
       "      <td>90</td>\n",
       "      <td>601</td>\n",
       "      <td>0.363</td>\n",
       "    </tr>\n",
       "    <tr>\n",
       "      <th>MLB</th>\n",
       "      <td>169</td>\n",
       "      <td>89</td>\n",
       "      <td>620</td>\n",
       "      <td>0.416</td>\n",
       "    </tr>\n",
       "    <tr>\n",
       "      <th>PDL</th>\n",
       "      <td>169</td>\n",
       "      <td>123</td>\n",
       "      <td>679</td>\n",
       "      <td>0.430</td>\n",
       "    </tr>\n",
       "    <tr>\n",
       "      <th>WCE</th>\n",
       "      <td>179</td>\n",
       "      <td>141</td>\n",
       "      <td>797</td>\n",
       "      <td>0.402</td>\n",
       "    </tr>\n",
       "  </tbody>\n",
       "</table>\n",
       "</div>"
      ],
      "text/plain": [
       "            Goals  Behinds  Inside 50s  Conversion Percentage\n",
       "Opposition                                                   \n",
       "COL           115       78         441                  0.438\n",
       "GCS           114       97         499                  0.423\n",
       "GWS           135       91         504                  0.448\n",
       "CAR           117       90         506                  0.409\n",
       "HTN           112       82         511                  0.380\n",
       "STK           127       62         518                  0.365\n",
       "BRS           124       95         522                  0.420\n",
       "WBL           130       97         523                  0.434\n",
       "SYD           110       85         569                  0.343\n",
       "NML           147       94         569                  0.424\n",
       "RCH           126      105         575                  0.402\n",
       "GEE           137      100         581                  0.408\n",
       "ESS           153       87         594                  0.404\n",
       "ADL           128       90         601                  0.363\n",
       "MLB           169       89         620                  0.416\n",
       "PDL           169      123         679                  0.430\n",
       "WCE           179      141         797                  0.402"
      ]
     },
     "execution_count": 83,
     "metadata": {},
     "output_type": "execute_result"
    }
   ],
   "source": [
    "FRM_stats.groupby('Opposition').agg({'Goals':'sum', \n",
    "                                     'Behinds':'sum', \n",
    "                                     'Inside 50s':'sum', \n",
    "                                     'Conversion Percentage':'sum'}).sort_values('Inside 50s', ascending=True)"
   ]
  },
  {
   "cell_type": "markdown",
   "id": "f5c20e1d",
   "metadata": {
    "papermill": {
     "duration": 0.141692,
     "end_time": "2022-02-04T10:13:37.777710",
     "exception": false,
     "start_time": "2022-02-04T10:13:37.636018",
     "status": "completed"
    },
    "tags": []
   },
   "source": [
    "**SCORING AGAINST FREMANTLE**"
   ]
  },
  {
   "cell_type": "markdown",
   "id": "de67204d",
   "metadata": {
    "papermill": {
     "duration": 0.14219,
     "end_time": "2022-02-04T10:13:38.061261",
     "exception": false,
     "start_time": "2022-02-04T10:13:37.919071",
     "status": "completed"
    },
    "tags": []
   },
   "source": [
    "We have seen how Fremantle performs against its opponents. What about the reserve? How do teams perform against Fremantle? \n"
   ]
  },
  {
   "cell_type": "code",
   "execution_count": 84,
   "id": "a12d1c23",
   "metadata": {
    "execution": {
     "iopub.execute_input": "2022-02-04T10:13:38.365456Z",
     "iopub.status.busy": "2022-02-04T10:13:38.364757Z",
     "iopub.status.idle": "2022-02-04T10:13:38.370403Z",
     "shell.execute_reply": "2022-02-04T10:13:38.369827Z",
     "shell.execute_reply.started": "2022-02-04T10:05:08.322220Z"
    },
    "papermill": {
     "duration": 0.165237,
     "end_time": "2022-02-04T10:13:38.370557",
     "exception": false,
     "start_time": "2022-02-04T10:13:38.205320",
     "status": "completed"
    },
    "tags": []
   },
   "outputs": [],
   "source": [
    "#Lets start by creating a new dataframe specific for when AFL teams face Fremantle i.e. Opposition = FRM\n",
    "df_FRM_Opps = df_afl[(df_afl['Opposition']=='FRM')]"
   ]
  },
  {
   "cell_type": "code",
   "execution_count": 85,
   "id": "51bd8948",
   "metadata": {
    "execution": {
     "iopub.execute_input": "2022-02-04T10:13:38.663149Z",
     "iopub.status.busy": "2022-02-04T10:13:38.662401Z",
     "iopub.status.idle": "2022-02-04T10:13:39.603710Z",
     "shell.execute_reply": "2022-02-04T10:13:39.602783Z",
     "shell.execute_reply.started": "2022-02-04T10:05:08.343930Z"
    },
    "papermill": {
     "duration": 1.092312,
     "end_time": "2022-02-04T10:13:39.603955",
     "exception": false,
     "start_time": "2022-02-04T10:13:38.511643",
     "status": "completed"
    },
    "tags": []
   },
   "outputs": [
    {
     "name": "stdout",
     "output_type": "stream",
     "text": [
      "ADL 1034\n",
      "CAR 622\n",
      "COL 793\n",
      "BRS 632\n",
      "WBL 788\n",
      "GCS 701\n",
      "MLB 729\n",
      "GEE 1044\n",
      "HTN 1166\n",
      "SYD 983\n",
      "STK 873\n",
      "GWS 759\n",
      "NML 745\n",
      "ESS 904\n",
      "RCH 1111\n",
      "PDL 1242\n",
      "WCE 1452\n"
     ]
    }
   ],
   "source": [
    "#create loop to calculate total score by each team when facing FRM\n",
    "\n",
    "for opp in df_FRM_Opps['Team'].unique():\n",
    "    i = 0\n",
    "    \n",
    "    while i < len(df_FRM_Opps['Team'].unique()):\n",
    "        opp_g = (df_FRM_Opps[df_FRM_Opps['Team']==opp]['Goals'].sum())*6\n",
    "        opp_b = df_FRM_Opps[df_FRM_Opps['Team']==opp]['Behinds'].sum()\n",
    "        opp_tot = opp_g + opp_b\n",
    "        \n",
    "        i+=1\n",
    "\n",
    "    print(opp, opp_tot)"
   ]
  },
  {
   "cell_type": "code",
   "execution_count": 86,
   "id": "3ccc9205",
   "metadata": {
    "execution": {
     "iopub.execute_input": "2022-02-04T10:13:39.897671Z",
     "iopub.status.busy": "2022-02-04T10:13:39.896891Z",
     "iopub.status.idle": "2022-02-04T10:13:39.899082Z",
     "shell.execute_reply": "2022-02-04T10:13:39.898531Z",
     "shell.execute_reply.started": "2022-02-04T10:05:09.290740Z"
    },
    "papermill": {
     "duration": 0.151834,
     "end_time": "2022-02-04T10:13:39.899246",
     "exception": false,
     "start_time": "2022-02-04T10:13:39.747412",
     "status": "completed"
    },
    "tags": []
   },
   "outputs": [],
   "source": [
    "opps_scores = {'Team': ['ADL', 'CAR', 'COL', 'BRS', 'WBL', 'GCS', \n",
    "                         'MLB', 'GEE', 'HTN', 'SYD','STK', 'GWS', \n",
    "                         'NML', 'ESS', 'RCH', 'PDL','WCE'], \n",
    "               \n",
    "          'Total Score':[1034,622,793,632,788,701,\n",
    "                         729,1044,1166,983,873,759,\n",
    "                         745,904,1111,1242,1452]}\n",
    "\n",
    "df_opps_scores = pd.DataFrame(data=opps_scores)"
   ]
  },
  {
   "cell_type": "code",
   "execution_count": 87,
   "id": "ac32ee53",
   "metadata": {
    "execution": {
     "iopub.execute_input": "2022-02-04T10:13:40.196376Z",
     "iopub.status.busy": "2022-02-04T10:13:40.195667Z",
     "iopub.status.idle": "2022-02-04T10:13:40.203041Z",
     "shell.execute_reply": "2022-02-04T10:13:40.203523Z",
     "shell.execute_reply.started": "2022-02-04T10:05:09.300099Z"
    },
    "papermill": {
     "duration": 0.158141,
     "end_time": "2022-02-04T10:13:40.203752",
     "exception": false,
     "start_time": "2022-02-04T10:13:40.045611",
     "status": "completed"
    },
    "tags": []
   },
   "outputs": [],
   "source": [
    "FRM_Opps_stats = df_FRM_Opps.groupby('Team').agg({'WinLoss':lambda x:sum(x)/22,\n",
    "                                                  'Inside 50s':'sum',\n",
    "                                                  'Goals':'sum', \n",
    "                                                  'Behinds':'sum'}).rename(columns={'WinLoss':'Matches Won'})"
   ]
  },
  {
   "cell_type": "code",
   "execution_count": 88,
   "id": "a162a032",
   "metadata": {
    "execution": {
     "iopub.execute_input": "2022-02-04T10:13:40.497713Z",
     "iopub.status.busy": "2022-02-04T10:13:40.492248Z",
     "iopub.status.idle": "2022-02-04T10:13:40.499537Z",
     "shell.execute_reply": "2022-02-04T10:13:40.500017Z",
     "shell.execute_reply.started": "2022-02-04T10:05:09.315169Z"
    },
    "papermill": {
     "duration": 0.154197,
     "end_time": "2022-02-04T10:13:40.500217",
     "exception": false,
     "start_time": "2022-02-04T10:13:40.346020",
     "status": "completed"
    },
    "tags": []
   },
   "outputs": [],
   "source": [
    "FRM_Opps_stats = FRM_Opps_stats.merge(df_opps_scores, on='Team')"
   ]
  },
  {
   "cell_type": "code",
   "execution_count": 89,
   "id": "6ced7439",
   "metadata": {
    "execution": {
     "iopub.execute_input": "2022-02-04T10:13:40.809105Z",
     "iopub.status.busy": "2022-02-04T10:13:40.808142Z",
     "iopub.status.idle": "2022-02-04T10:13:40.811753Z",
     "shell.execute_reply": "2022-02-04T10:13:40.812281Z",
     "shell.execute_reply.started": "2022-02-04T10:05:09.325158Z"
    },
    "papermill": {
     "duration": 0.167591,
     "end_time": "2022-02-04T10:13:40.812488",
     "exception": false,
     "start_time": "2022-02-04T10:13:40.644897",
     "status": "completed"
    },
    "tags": []
   },
   "outputs": [
    {
     "data": {
      "text/plain": [
       "Team\n",
       "ADL    0.418\n",
       "BRS    0.407\n",
       "CAR    0.395\n",
       "COL    0.385\n",
       "ESS    0.425\n",
       "GCS    0.364\n",
       "GEE    0.413\n",
       "GWS    0.478\n",
       "HTN    0.468\n",
       "MLB    0.388\n",
       "NML    0.367\n",
       "PDL    0.424\n",
       "RCH    0.433\n",
       "STK    0.426\n",
       "SYD    0.411\n",
       "WBL    0.399\n",
       "WCE    0.456\n",
       "dtype: float64"
      ]
     },
     "execution_count": 89,
     "metadata": {},
     "output_type": "execute_result"
    }
   ],
   "source": [
    "((FRM_Opps_stats.groupby('Team')['Goals'].sum()+FRM_Opps_stats.groupby('Team')['Behinds'].sum())/FRM_Opps_stats.groupby('Team')['Inside 50s'].sum()).round(3)"
   ]
  },
  {
   "cell_type": "code",
   "execution_count": 90,
   "id": "5b73a718",
   "metadata": {
    "execution": {
     "iopub.execute_input": "2022-02-04T10:13:41.106851Z",
     "iopub.status.busy": "2022-02-04T10:13:41.105828Z",
     "iopub.status.idle": "2022-02-04T10:13:41.112734Z",
     "shell.execute_reply": "2022-02-04T10:13:41.113275Z",
     "shell.execute_reply.started": "2022-02-04T10:05:09.341681Z"
    },
    "papermill": {
     "duration": 0.154421,
     "end_time": "2022-02-04T10:13:41.113468",
     "exception": false,
     "start_time": "2022-02-04T10:13:40.959047",
     "status": "completed"
    },
    "tags": []
   },
   "outputs": [],
   "source": [
    "FRM_Opps_stats = FRM_Opps_stats.assign(Conv=[0.418,0.407,0.395,0.385,0.425,0.364,\n",
    "                                             0.413,0.478,0.468,0.388,0.367,0.424,\n",
    "                                             0.433,0.426,0.411,0.399,0.456])\n",
    "\n",
    "FRM_Opps_stats.rename(columns={'Conv':'Conversion Percentage'}, inplace=True)"
   ]
  },
  {
   "cell_type": "code",
   "execution_count": 91,
   "id": "f3b9fbe8",
   "metadata": {
    "execution": {
     "iopub.execute_input": "2022-02-04T10:13:41.402488Z",
     "iopub.status.busy": "2022-02-04T10:13:41.401509Z",
     "iopub.status.idle": "2022-02-04T10:13:41.406912Z",
     "shell.execute_reply": "2022-02-04T10:13:41.407409Z",
     "shell.execute_reply.started": "2022-02-04T10:05:09.352054Z"
    },
    "papermill": {
     "duration": 0.151479,
     "end_time": "2022-02-04T10:13:41.407598",
     "exception": false,
     "start_time": "2022-02-04T10:13:41.256119",
     "status": "completed"
    },
    "tags": []
   },
   "outputs": [],
   "source": [
    "FRM_Opps_stats.rename(columns = {'Team':'Opposition', \n",
    "                                'Matches Won':'Matches Lost', \n",
    "                                'Inside 50s':'Inside 50s Conceded', \n",
    "                                'Goals':'Goals Conceded', \n",
    "                                'Behinds':'Behinds Conceded', \n",
    "                                'Total Score':'Total Score Against', \n",
    "                                'Conversion Percentage':'Conversion Percentage Against'}, inplace=True)"
   ]
  },
  {
   "cell_type": "code",
   "execution_count": 92,
   "id": "6fbd5734",
   "metadata": {
    "execution": {
     "iopub.execute_input": "2022-02-04T10:13:41.725063Z",
     "iopub.status.busy": "2022-02-04T10:13:41.724252Z",
     "iopub.status.idle": "2022-02-04T10:13:41.744706Z",
     "shell.execute_reply": "2022-02-04T10:13:41.745330Z",
     "shell.execute_reply.started": "2022-02-04T10:05:09.361086Z"
    },
    "papermill": {
     "duration": 0.195886,
     "end_time": "2022-02-04T10:13:41.745572",
     "exception": false,
     "start_time": "2022-02-04T10:13:41.549686",
     "status": "completed"
    },
    "tags": []
   },
   "outputs": [
    {
     "data": {
      "text/html": [
       "<div>\n",
       "<style scoped>\n",
       "    .dataframe tbody tr th:only-of-type {\n",
       "        vertical-align: middle;\n",
       "    }\n",
       "\n",
       "    .dataframe tbody tr th {\n",
       "        vertical-align: top;\n",
       "    }\n",
       "\n",
       "    .dataframe thead th {\n",
       "        text-align: right;\n",
       "    }\n",
       "</style>\n",
       "<table border=\"1\" class=\"dataframe\">\n",
       "  <thead>\n",
       "    <tr style=\"text-align: right;\">\n",
       "      <th></th>\n",
       "      <th>Opposition</th>\n",
       "      <th>Matches Lost</th>\n",
       "      <th>Inside 50s Conceded</th>\n",
       "      <th>Goals Conceded</th>\n",
       "      <th>Behinds Conceded</th>\n",
       "      <th>Total Score Against</th>\n",
       "      <th>Conversion Percentage Against</th>\n",
       "    </tr>\n",
       "  </thead>\n",
       "  <tbody>\n",
       "    <tr>\n",
       "      <th>0</th>\n",
       "      <td>ADL</td>\n",
       "      <td>7.0</td>\n",
       "      <td>679</td>\n",
       "      <td>150</td>\n",
       "      <td>134</td>\n",
       "      <td>1034</td>\n",
       "      <td>0.418</td>\n",
       "    </tr>\n",
       "    <tr>\n",
       "      <th>1</th>\n",
       "      <td>BRS</td>\n",
       "      <td>3.0</td>\n",
       "      <td>398</td>\n",
       "      <td>94</td>\n",
       "      <td>68</td>\n",
       "      <td>632</td>\n",
       "      <td>0.407</td>\n",
       "    </tr>\n",
       "    <tr>\n",
       "      <th>2</th>\n",
       "      <td>CAR</td>\n",
       "      <td>4.0</td>\n",
       "      <td>435</td>\n",
       "      <td>90</td>\n",
       "      <td>82</td>\n",
       "      <td>622</td>\n",
       "      <td>0.395</td>\n",
       "    </tr>\n",
       "    <tr>\n",
       "      <th>3</th>\n",
       "      <td>COL</td>\n",
       "      <td>5.0</td>\n",
       "      <td>527</td>\n",
       "      <td>118</td>\n",
       "      <td>85</td>\n",
       "      <td>793</td>\n",
       "      <td>0.385</td>\n",
       "    </tr>\n",
       "    <tr>\n",
       "      <th>4</th>\n",
       "      <td>ESS</td>\n",
       "      <td>7.0</td>\n",
       "      <td>563</td>\n",
       "      <td>133</td>\n",
       "      <td>106</td>\n",
       "      <td>904</td>\n",
       "      <td>0.425</td>\n",
       "    </tr>\n",
       "    <tr>\n",
       "      <th>5</th>\n",
       "      <td>GCS</td>\n",
       "      <td>4.0</td>\n",
       "      <td>483</td>\n",
       "      <td>105</td>\n",
       "      <td>71</td>\n",
       "      <td>701</td>\n",
       "      <td>0.364</td>\n",
       "    </tr>\n",
       "    <tr>\n",
       "      <th>6</th>\n",
       "      <td>GEE</td>\n",
       "      <td>7.0</td>\n",
       "      <td>664</td>\n",
       "      <td>154</td>\n",
       "      <td>120</td>\n",
       "      <td>1044</td>\n",
       "      <td>0.413</td>\n",
       "    </tr>\n",
       "    <tr>\n",
       "      <th>7</th>\n",
       "      <td>GWS</td>\n",
       "      <td>5.0</td>\n",
       "      <td>427</td>\n",
       "      <td>111</td>\n",
       "      <td>93</td>\n",
       "      <td>759</td>\n",
       "      <td>0.478</td>\n",
       "    </tr>\n",
       "    <tr>\n",
       "      <th>8</th>\n",
       "      <td>HTN</td>\n",
       "      <td>10.0</td>\n",
       "      <td>601</td>\n",
       "      <td>177</td>\n",
       "      <td>104</td>\n",
       "      <td>1166</td>\n",
       "      <td>0.468</td>\n",
       "    </tr>\n",
       "    <tr>\n",
       "      <th>9</th>\n",
       "      <td>MLB</td>\n",
       "      <td>3.0</td>\n",
       "      <td>551</td>\n",
       "      <td>103</td>\n",
       "      <td>111</td>\n",
       "      <td>729</td>\n",
       "      <td>0.388</td>\n",
       "    </tr>\n",
       "    <tr>\n",
       "      <th>10</th>\n",
       "      <td>NML</td>\n",
       "      <td>4.0</td>\n",
       "      <td>504</td>\n",
       "      <td>112</td>\n",
       "      <td>73</td>\n",
       "      <td>745</td>\n",
       "      <td>0.367</td>\n",
       "    </tr>\n",
       "    <tr>\n",
       "      <th>11</th>\n",
       "      <td>PDL</td>\n",
       "      <td>7.0</td>\n",
       "      <td>771</td>\n",
       "      <td>183</td>\n",
       "      <td>144</td>\n",
       "      <td>1242</td>\n",
       "      <td>0.424</td>\n",
       "    </tr>\n",
       "    <tr>\n",
       "      <th>12</th>\n",
       "      <td>RCH</td>\n",
       "      <td>7.0</td>\n",
       "      <td>637</td>\n",
       "      <td>167</td>\n",
       "      <td>109</td>\n",
       "      <td>1111</td>\n",
       "      <td>0.433</td>\n",
       "    </tr>\n",
       "    <tr>\n",
       "      <th>13</th>\n",
       "      <td>STK</td>\n",
       "      <td>5.0</td>\n",
       "      <td>547</td>\n",
       "      <td>128</td>\n",
       "      <td>105</td>\n",
       "      <td>873</td>\n",
       "      <td>0.426</td>\n",
       "    </tr>\n",
       "    <tr>\n",
       "      <th>14</th>\n",
       "      <td>SYD</td>\n",
       "      <td>6.0</td>\n",
       "      <td>615</td>\n",
       "      <td>146</td>\n",
       "      <td>107</td>\n",
       "      <td>983</td>\n",
       "      <td>0.411</td>\n",
       "    </tr>\n",
       "    <tr>\n",
       "      <th>15</th>\n",
       "      <td>WBL</td>\n",
       "      <td>3.0</td>\n",
       "      <td>546</td>\n",
       "      <td>114</td>\n",
       "      <td>104</td>\n",
       "      <td>788</td>\n",
       "      <td>0.399</td>\n",
       "    </tr>\n",
       "    <tr>\n",
       "      <th>16</th>\n",
       "      <td>WCE</td>\n",
       "      <td>11.0</td>\n",
       "      <td>826</td>\n",
       "      <td>215</td>\n",
       "      <td>162</td>\n",
       "      <td>1452</td>\n",
       "      <td>0.456</td>\n",
       "    </tr>\n",
       "  </tbody>\n",
       "</table>\n",
       "</div>"
      ],
      "text/plain": [
       "   Opposition  Matches Lost  Inside 50s Conceded  Goals Conceded  \\\n",
       "0         ADL           7.0                  679             150   \n",
       "1         BRS           3.0                  398              94   \n",
       "2         CAR           4.0                  435              90   \n",
       "3         COL           5.0                  527             118   \n",
       "4         ESS           7.0                  563             133   \n",
       "5         GCS           4.0                  483             105   \n",
       "6         GEE           7.0                  664             154   \n",
       "7         GWS           5.0                  427             111   \n",
       "8         HTN          10.0                  601             177   \n",
       "9         MLB           3.0                  551             103   \n",
       "10        NML           4.0                  504             112   \n",
       "11        PDL           7.0                  771             183   \n",
       "12        RCH           7.0                  637             167   \n",
       "13        STK           5.0                  547             128   \n",
       "14        SYD           6.0                  615             146   \n",
       "15        WBL           3.0                  546             114   \n",
       "16        WCE          11.0                  826             215   \n",
       "\n",
       "    Behinds Conceded  Total Score Against  Conversion Percentage Against  \n",
       "0                134                 1034                          0.418  \n",
       "1                 68                  632                          0.407  \n",
       "2                 82                  622                          0.395  \n",
       "3                 85                  793                          0.385  \n",
       "4                106                  904                          0.425  \n",
       "5                 71                  701                          0.364  \n",
       "6                120                 1044                          0.413  \n",
       "7                 93                  759                          0.478  \n",
       "8                104                 1166                          0.468  \n",
       "9                111                  729                          0.388  \n",
       "10                73                  745                          0.367  \n",
       "11               144                 1242                          0.424  \n",
       "12               109                 1111                          0.433  \n",
       "13               105                  873                          0.426  \n",
       "14               107                  983                          0.411  \n",
       "15               104                  788                          0.399  \n",
       "16               162                 1452                          0.456  "
      ]
     },
     "execution_count": 92,
     "metadata": {},
     "output_type": "execute_result"
    }
   ],
   "source": [
    "FRM_Opps_stats"
   ]
  },
  {
   "cell_type": "code",
   "execution_count": 93,
   "id": "8570e0c5",
   "metadata": {
    "execution": {
     "iopub.execute_input": "2022-02-04T10:13:42.038333Z",
     "iopub.status.busy": "2022-02-04T10:13:42.037624Z",
     "iopub.status.idle": "2022-02-04T10:13:42.044761Z",
     "shell.execute_reply": "2022-02-04T10:13:42.045335Z",
     "shell.execute_reply.started": "2022-02-04T10:05:09.387247Z"
    },
    "papermill": {
     "duration": 0.154165,
     "end_time": "2022-02-04T10:13:42.045533",
     "exception": false,
     "start_time": "2022-02-04T10:13:41.891368",
     "status": "completed"
    },
    "tags": []
   },
   "outputs": [],
   "source": [
    "FRM_fullstats = FRM_stats.merge(FRM_Opps_stats, on='Opposition')"
   ]
  },
  {
   "cell_type": "code",
   "execution_count": 94,
   "id": "30c9d4c0",
   "metadata": {
    "execution": {
     "iopub.execute_input": "2022-02-04T10:13:42.337347Z",
     "iopub.status.busy": "2022-02-04T10:13:42.336639Z",
     "iopub.status.idle": "2022-02-04T10:13:42.358525Z",
     "shell.execute_reply": "2022-02-04T10:13:42.359069Z",
     "shell.execute_reply.started": "2022-02-04T10:05:09.401936Z"
    },
    "papermill": {
     "duration": 0.168853,
     "end_time": "2022-02-04T10:13:42.359270",
     "exception": false,
     "start_time": "2022-02-04T10:13:42.190417",
     "status": "completed"
    },
    "tags": []
   },
   "outputs": [
    {
     "data": {
      "text/html": [
       "<div>\n",
       "<style scoped>\n",
       "    .dataframe tbody tr th:only-of-type {\n",
       "        vertical-align: middle;\n",
       "    }\n",
       "\n",
       "    .dataframe tbody tr th {\n",
       "        vertical-align: top;\n",
       "    }\n",
       "\n",
       "    .dataframe thead th {\n",
       "        text-align: right;\n",
       "    }\n",
       "</style>\n",
       "<table border=\"1\" class=\"dataframe\">\n",
       "  <thead>\n",
       "    <tr style=\"text-align: right;\">\n",
       "      <th></th>\n",
       "      <th>Opposition</th>\n",
       "      <th>Matches Played</th>\n",
       "      <th>Matches Won</th>\n",
       "      <th>Inside 50s</th>\n",
       "      <th>Goals</th>\n",
       "      <th>Behinds</th>\n",
       "      <th>Total Score</th>\n",
       "      <th>Conversion Percentage</th>\n",
       "      <th>Matches Lost</th>\n",
       "      <th>Inside 50s Conceded</th>\n",
       "      <th>Goals Conceded</th>\n",
       "      <th>Behinds Conceded</th>\n",
       "      <th>Total Score Against</th>\n",
       "      <th>Conversion Percentage Against</th>\n",
       "    </tr>\n",
       "  </thead>\n",
       "  <tbody>\n",
       "    <tr>\n",
       "      <th>0</th>\n",
       "      <td>ADL</td>\n",
       "      <td>13</td>\n",
       "      <td>6.0</td>\n",
       "      <td>601</td>\n",
       "      <td>128</td>\n",
       "      <td>90</td>\n",
       "      <td>858</td>\n",
       "      <td>0.363</td>\n",
       "      <td>7.0</td>\n",
       "      <td>679</td>\n",
       "      <td>150</td>\n",
       "      <td>134</td>\n",
       "      <td>1034</td>\n",
       "      <td>0.418</td>\n",
       "    </tr>\n",
       "    <tr>\n",
       "      <th>1</th>\n",
       "      <td>BRS</td>\n",
       "      <td>10</td>\n",
       "      <td>7.0</td>\n",
       "      <td>522</td>\n",
       "      <td>124</td>\n",
       "      <td>95</td>\n",
       "      <td>839</td>\n",
       "      <td>0.420</td>\n",
       "      <td>3.0</td>\n",
       "      <td>398</td>\n",
       "      <td>94</td>\n",
       "      <td>68</td>\n",
       "      <td>632</td>\n",
       "      <td>0.407</td>\n",
       "    </tr>\n",
       "    <tr>\n",
       "      <th>2</th>\n",
       "      <td>CAR</td>\n",
       "      <td>10</td>\n",
       "      <td>6.0</td>\n",
       "      <td>506</td>\n",
       "      <td>117</td>\n",
       "      <td>90</td>\n",
       "      <td>792</td>\n",
       "      <td>0.409</td>\n",
       "      <td>4.0</td>\n",
       "      <td>435</td>\n",
       "      <td>90</td>\n",
       "      <td>82</td>\n",
       "      <td>622</td>\n",
       "      <td>0.395</td>\n",
       "    </tr>\n",
       "    <tr>\n",
       "      <th>3</th>\n",
       "      <td>COL</td>\n",
       "      <td>10</td>\n",
       "      <td>5.0</td>\n",
       "      <td>441</td>\n",
       "      <td>115</td>\n",
       "      <td>78</td>\n",
       "      <td>768</td>\n",
       "      <td>0.438</td>\n",
       "      <td>5.0</td>\n",
       "      <td>527</td>\n",
       "      <td>118</td>\n",
       "      <td>85</td>\n",
       "      <td>793</td>\n",
       "      <td>0.385</td>\n",
       "    </tr>\n",
       "    <tr>\n",
       "      <th>4</th>\n",
       "      <td>ESS</td>\n",
       "      <td>12</td>\n",
       "      <td>5.0</td>\n",
       "      <td>594</td>\n",
       "      <td>153</td>\n",
       "      <td>87</td>\n",
       "      <td>1005</td>\n",
       "      <td>0.404</td>\n",
       "      <td>7.0</td>\n",
       "      <td>563</td>\n",
       "      <td>133</td>\n",
       "      <td>106</td>\n",
       "      <td>904</td>\n",
       "      <td>0.425</td>\n",
       "    </tr>\n",
       "    <tr>\n",
       "      <th>5</th>\n",
       "      <td>GCS</td>\n",
       "      <td>10</td>\n",
       "      <td>6.0</td>\n",
       "      <td>499</td>\n",
       "      <td>114</td>\n",
       "      <td>97</td>\n",
       "      <td>781</td>\n",
       "      <td>0.423</td>\n",
       "      <td>4.0</td>\n",
       "      <td>483</td>\n",
       "      <td>105</td>\n",
       "      <td>71</td>\n",
       "      <td>701</td>\n",
       "      <td>0.364</td>\n",
       "    </tr>\n",
       "    <tr>\n",
       "      <th>6</th>\n",
       "      <td>GEE</td>\n",
       "      <td>13</td>\n",
       "      <td>6.0</td>\n",
       "      <td>581</td>\n",
       "      <td>137</td>\n",
       "      <td>100</td>\n",
       "      <td>922</td>\n",
       "      <td>0.408</td>\n",
       "      <td>7.0</td>\n",
       "      <td>664</td>\n",
       "      <td>154</td>\n",
       "      <td>120</td>\n",
       "      <td>1044</td>\n",
       "      <td>0.413</td>\n",
       "    </tr>\n",
       "    <tr>\n",
       "      <th>7</th>\n",
       "      <td>GWS</td>\n",
       "      <td>10</td>\n",
       "      <td>5.0</td>\n",
       "      <td>504</td>\n",
       "      <td>135</td>\n",
       "      <td>91</td>\n",
       "      <td>901</td>\n",
       "      <td>0.448</td>\n",
       "      <td>5.0</td>\n",
       "      <td>427</td>\n",
       "      <td>111</td>\n",
       "      <td>93</td>\n",
       "      <td>759</td>\n",
       "      <td>0.478</td>\n",
       "    </tr>\n",
       "    <tr>\n",
       "      <th>8</th>\n",
       "      <td>HTN</td>\n",
       "      <td>12</td>\n",
       "      <td>2.0</td>\n",
       "      <td>511</td>\n",
       "      <td>112</td>\n",
       "      <td>82</td>\n",
       "      <td>754</td>\n",
       "      <td>0.380</td>\n",
       "      <td>10.0</td>\n",
       "      <td>601</td>\n",
       "      <td>177</td>\n",
       "      <td>104</td>\n",
       "      <td>1166</td>\n",
       "      <td>0.468</td>\n",
       "    </tr>\n",
       "    <tr>\n",
       "      <th>9</th>\n",
       "      <td>MLB</td>\n",
       "      <td>12</td>\n",
       "      <td>9.0</td>\n",
       "      <td>620</td>\n",
       "      <td>169</td>\n",
       "      <td>89</td>\n",
       "      <td>1103</td>\n",
       "      <td>0.416</td>\n",
       "      <td>3.0</td>\n",
       "      <td>551</td>\n",
       "      <td>103</td>\n",
       "      <td>111</td>\n",
       "      <td>729</td>\n",
       "      <td>0.388</td>\n",
       "    </tr>\n",
       "    <tr>\n",
       "      <th>10</th>\n",
       "      <td>NML</td>\n",
       "      <td>11</td>\n",
       "      <td>7.0</td>\n",
       "      <td>569</td>\n",
       "      <td>147</td>\n",
       "      <td>94</td>\n",
       "      <td>976</td>\n",
       "      <td>0.424</td>\n",
       "      <td>4.0</td>\n",
       "      <td>504</td>\n",
       "      <td>112</td>\n",
       "      <td>73</td>\n",
       "      <td>745</td>\n",
       "      <td>0.367</td>\n",
       "    </tr>\n",
       "    <tr>\n",
       "      <th>11</th>\n",
       "      <td>PDL</td>\n",
       "      <td>15</td>\n",
       "      <td>8.0</td>\n",
       "      <td>679</td>\n",
       "      <td>169</td>\n",
       "      <td>123</td>\n",
       "      <td>1137</td>\n",
       "      <td>0.430</td>\n",
       "      <td>7.0</td>\n",
       "      <td>771</td>\n",
       "      <td>183</td>\n",
       "      <td>144</td>\n",
       "      <td>1242</td>\n",
       "      <td>0.424</td>\n",
       "    </tr>\n",
       "    <tr>\n",
       "      <th>12</th>\n",
       "      <td>RCH</td>\n",
       "      <td>13</td>\n",
       "      <td>6.0</td>\n",
       "      <td>575</td>\n",
       "      <td>126</td>\n",
       "      <td>105</td>\n",
       "      <td>861</td>\n",
       "      <td>0.402</td>\n",
       "      <td>7.0</td>\n",
       "      <td>637</td>\n",
       "      <td>167</td>\n",
       "      <td>109</td>\n",
       "      <td>1111</td>\n",
       "      <td>0.433</td>\n",
       "    </tr>\n",
       "    <tr>\n",
       "      <th>13</th>\n",
       "      <td>STK</td>\n",
       "      <td>11</td>\n",
       "      <td>6.0</td>\n",
       "      <td>518</td>\n",
       "      <td>127</td>\n",
       "      <td>62</td>\n",
       "      <td>824</td>\n",
       "      <td>0.365</td>\n",
       "      <td>5.0</td>\n",
       "      <td>547</td>\n",
       "      <td>128</td>\n",
       "      <td>105</td>\n",
       "      <td>873</td>\n",
       "      <td>0.426</td>\n",
       "    </tr>\n",
       "    <tr>\n",
       "      <th>14</th>\n",
       "      <td>SYD</td>\n",
       "      <td>12</td>\n",
       "      <td>5.0</td>\n",
       "      <td>569</td>\n",
       "      <td>110</td>\n",
       "      <td>85</td>\n",
       "      <td>745</td>\n",
       "      <td>0.343</td>\n",
       "      <td>6.0</td>\n",
       "      <td>615</td>\n",
       "      <td>146</td>\n",
       "      <td>107</td>\n",
       "      <td>983</td>\n",
       "      <td>0.411</td>\n",
       "    </tr>\n",
       "    <tr>\n",
       "      <th>15</th>\n",
       "      <td>WBL</td>\n",
       "      <td>11</td>\n",
       "      <td>8.0</td>\n",
       "      <td>523</td>\n",
       "      <td>130</td>\n",
       "      <td>97</td>\n",
       "      <td>877</td>\n",
       "      <td>0.434</td>\n",
       "      <td>3.0</td>\n",
       "      <td>546</td>\n",
       "      <td>114</td>\n",
       "      <td>104</td>\n",
       "      <td>788</td>\n",
       "      <td>0.399</td>\n",
       "    </tr>\n",
       "    <tr>\n",
       "      <th>16</th>\n",
       "      <td>WCE</td>\n",
       "      <td>17</td>\n",
       "      <td>6.0</td>\n",
       "      <td>797</td>\n",
       "      <td>179</td>\n",
       "      <td>141</td>\n",
       "      <td>1215</td>\n",
       "      <td>0.402</td>\n",
       "      <td>11.0</td>\n",
       "      <td>826</td>\n",
       "      <td>215</td>\n",
       "      <td>162</td>\n",
       "      <td>1452</td>\n",
       "      <td>0.456</td>\n",
       "    </tr>\n",
       "  </tbody>\n",
       "</table>\n",
       "</div>"
      ],
      "text/plain": [
       "   Opposition  Matches Played  Matches Won  Inside 50s  Goals  Behinds  \\\n",
       "0         ADL              13          6.0         601    128       90   \n",
       "1         BRS              10          7.0         522    124       95   \n",
       "2         CAR              10          6.0         506    117       90   \n",
       "3         COL              10          5.0         441    115       78   \n",
       "4         ESS              12          5.0         594    153       87   \n",
       "5         GCS              10          6.0         499    114       97   \n",
       "6         GEE              13          6.0         581    137      100   \n",
       "7         GWS              10          5.0         504    135       91   \n",
       "8         HTN              12          2.0         511    112       82   \n",
       "9         MLB              12          9.0         620    169       89   \n",
       "10        NML              11          7.0         569    147       94   \n",
       "11        PDL              15          8.0         679    169      123   \n",
       "12        RCH              13          6.0         575    126      105   \n",
       "13        STK              11          6.0         518    127       62   \n",
       "14        SYD              12          5.0         569    110       85   \n",
       "15        WBL              11          8.0         523    130       97   \n",
       "16        WCE              17          6.0         797    179      141   \n",
       "\n",
       "    Total Score  Conversion Percentage  Matches Lost  Inside 50s Conceded  \\\n",
       "0           858                  0.363           7.0                  679   \n",
       "1           839                  0.420           3.0                  398   \n",
       "2           792                  0.409           4.0                  435   \n",
       "3           768                  0.438           5.0                  527   \n",
       "4          1005                  0.404           7.0                  563   \n",
       "5           781                  0.423           4.0                  483   \n",
       "6           922                  0.408           7.0                  664   \n",
       "7           901                  0.448           5.0                  427   \n",
       "8           754                  0.380          10.0                  601   \n",
       "9          1103                  0.416           3.0                  551   \n",
       "10          976                  0.424           4.0                  504   \n",
       "11         1137                  0.430           7.0                  771   \n",
       "12          861                  0.402           7.0                  637   \n",
       "13          824                  0.365           5.0                  547   \n",
       "14          745                  0.343           6.0                  615   \n",
       "15          877                  0.434           3.0                  546   \n",
       "16         1215                  0.402          11.0                  826   \n",
       "\n",
       "    Goals Conceded  Behinds Conceded  Total Score Against  \\\n",
       "0              150               134                 1034   \n",
       "1               94                68                  632   \n",
       "2               90                82                  622   \n",
       "3              118                85                  793   \n",
       "4              133               106                  904   \n",
       "5              105                71                  701   \n",
       "6              154               120                 1044   \n",
       "7              111                93                  759   \n",
       "8              177               104                 1166   \n",
       "9              103               111                  729   \n",
       "10             112                73                  745   \n",
       "11             183               144                 1242   \n",
       "12             167               109                 1111   \n",
       "13             128               105                  873   \n",
       "14             146               107                  983   \n",
       "15             114               104                  788   \n",
       "16             215               162                 1452   \n",
       "\n",
       "    Conversion Percentage Against  \n",
       "0                           0.418  \n",
       "1                           0.407  \n",
       "2                           0.395  \n",
       "3                           0.385  \n",
       "4                           0.425  \n",
       "5                           0.364  \n",
       "6                           0.413  \n",
       "7                           0.478  \n",
       "8                           0.468  \n",
       "9                           0.388  \n",
       "10                          0.367  \n",
       "11                          0.424  \n",
       "12                          0.433  \n",
       "13                          0.426  \n",
       "14                          0.411  \n",
       "15                          0.399  \n",
       "16                          0.456  "
      ]
     },
     "execution_count": 94,
     "metadata": {},
     "output_type": "execute_result"
    }
   ],
   "source": [
    "FRM_fullstats"
   ]
  },
  {
   "cell_type": "markdown",
   "id": "53154555",
   "metadata": {
    "papermill": {
     "duration": 0.144242,
     "end_time": "2022-02-04T10:13:42.648513",
     "exception": false,
     "start_time": "2022-02-04T10:13:42.504271",
     "status": "completed"
    },
    "tags": []
   },
   "source": [
    "Above we have a dataframe detailing the performance by Fremantle when facing its AFL opponents. The table is divised so that columns with 'conceded' or 'against' in their name indicate that how that AFL team has performed against Fremantle. All others indicate Fremantle's performance against that specific oppenent. \n",
    "\n",
    "Lets take a look at how many of the chances created against Fremantle each team has converted into points. "
   ]
  },
  {
   "cell_type": "code",
   "execution_count": 95,
   "id": "83d9367b",
   "metadata": {
    "execution": {
     "iopub.execute_input": "2022-02-04T10:13:42.947158Z",
     "iopub.status.busy": "2022-02-04T10:13:42.946125Z",
     "iopub.status.idle": "2022-02-04T10:13:43.369217Z",
     "shell.execute_reply": "2022-02-04T10:13:43.368645Z",
     "shell.execute_reply.started": "2022-02-04T10:05:09.431691Z"
    },
    "papermill": {
     "duration": 0.572744,
     "end_time": "2022-02-04T10:13:43.369372",
     "exception": false,
     "start_time": "2022-02-04T10:13:42.796628",
     "status": "completed"
    },
    "tags": []
   },
   "outputs": [
    {
     "data": {
      "image/png": "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\n",
      "text/plain": [
       "<Figure size 1296x432 with 1 Axes>"
      ]
     },
     "metadata": {
      "needs_background": "light"
     },
     "output_type": "display_data"
    }
   ],
   "source": [
    "plt.figure(figsize=(18,6))\n",
    "\n",
    "conv_perc_ag = sns.barplot(x=FRM_fullstats['Opposition'].unique(), \n",
    "                           y=FRM_fullstats.groupby('Opposition')['Conversion Percentage Against'].sum()*100, \n",
    "                           palette = {'ADL': '#002b5c', \n",
    "                                'PDL' : '#008aab', \n",
    "                                'CAR' : '#031a29', \n",
    "                                'COL' : '#000000', \n",
    "                                'RCH' : '#ffd200',\n",
    "                                'BRS' : '#fdbe57', \n",
    "                                'WBL' : '#1a529e',\n",
    "                                'GCS' : '#ee3728', \n",
    "                                'MLB' : '#0f1131',\n",
    "                                'GEE' : '#002b5c', \n",
    "                                'HTN' : '#4d2004', \n",
    "                                'SYD' : '#ed171f', \n",
    "                                'STK' : '#ed0f05',\n",
    "                                'GWS' : '#f47920', \n",
    "                                'NML' : '#1a3b8e', \n",
    "                                'ESS' : '#bdbec0',\n",
    "                                'WCE' : '#f2a900',})\n",
    "\n",
    "for p in conv_perc_ag.patches:\n",
    "             conv_perc_ag.annotate(\"%.1f\" % p.get_height(), (p.get_x() + p.get_width() / 2., p.get_height()),\n",
    "                 ha='center', va='center', fontsize=12, color='black', xytext=(0,5),\n",
    "                 textcoords='offset points')\n",
    "        \n",
    "plt.title('AFL Opposition Overall Conversion Against Fremantle', fontsize=18)\n",
    "#plt.legend(handles=[g, b], loc = 'center left', bbox_to_anchor = (1.0, 0.5), fontsize=12)\n",
    "plt.xlabel(xlabel='Opposition', fontsize=14)\n",
    "plt.xticks(fontsize=12)\n",
    "plt.ylabel(ylabel='Chances Converted (%)', fontsize=14)\n",
    "plt.yticks(fontsize=12)\n",
    "plt.show()"
   ]
  },
  {
   "cell_type": "markdown",
   "id": "25790864",
   "metadata": {
    "papermill": {
     "duration": 0.14495,
     "end_time": "2022-02-04T10:13:43.658193",
     "exception": false,
     "start_time": "2022-02-04T10:13:43.513243",
     "status": "completed"
    },
    "tags": []
   },
   "source": [
    "Interestingly, the team which has converted entry into the 50m arc into points, whether that be a goal or a behind, most effecitently is GWS (Greater Western Sydney) with almost 50% of Inside 50s resulting into points on the board. \n",
    "\n",
    "I say this is interesting as, from FRM_fullstats, we can see that Fremantle have conceded only 427 inside 50s against GWS, their second lowest total. This is completely different compared to the case of HTN and WCE as they hold a conversion percentage of 46.8% and 45.6% respectively, having each penetrated Fremantle's 50m arc a total of 601 and 826 times. \n",
    "\n",
    "In the case of GWS, it might be that they are more prolific against Fremantle compared to other teams. If we were to analyse the amount of goals and behinds scored given the amount of times they have an entered a different opponent's 50m arc, it is possible we might find a significantly lower conversion percentage. GWS seem to be a team, against Fremantle that is, that does not make many mistakes to improve the scoreboard when given the opportunity. HTN and WCE appear to make it inside Fremantle's 50m arc a lot more often but have been slightly less efficient at making those opportunities count. "
   ]
  },
  {
   "cell_type": "markdown",
   "id": "4a362e3f",
   "metadata": {
    "papermill": {
     "duration": 0.143205,
     "end_time": "2022-02-04T10:13:43.946921",
     "exception": false,
     "start_time": "2022-02-04T10:13:43.803716",
     "status": "completed"
    },
    "tags": []
   },
   "source": [
    "**FREMANTLE SCORE MARGIN**"
   ]
  },
  {
   "cell_type": "markdown",
   "id": "58fe45da",
   "metadata": {
    "papermill": {
     "duration": 0.144512,
     "end_time": "2022-02-04T10:13:44.237474",
     "exception": false,
     "start_time": "2022-02-04T10:13:44.092962",
     "status": "completed"
    },
    "tags": []
   },
   "source": [
    "After 9 seasons, what teams has Fremantle managed to outscore? "
   ]
  },
  {
   "cell_type": "code",
   "execution_count": 96,
   "id": "8b43935d",
   "metadata": {
    "execution": {
     "iopub.execute_input": "2022-02-04T10:13:44.540463Z",
     "iopub.status.busy": "2022-02-04T10:13:44.534325Z",
     "iopub.status.idle": "2022-02-04T10:13:44.974575Z",
     "shell.execute_reply": "2022-02-04T10:13:44.973693Z",
     "shell.execute_reply.started": "2022-02-04T10:05:09.859839Z"
    },
    "papermill": {
     "duration": 0.592644,
     "end_time": "2022-02-04T10:13:44.974745",
     "exception": false,
     "start_time": "2022-02-04T10:13:44.382101",
     "status": "completed"
    },
    "tags": []
   },
   "outputs": [
    {
     "data": {
      "image/png": "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\n",
      "text/plain": [
       "<Figure size 1296x432 with 1 Axes>"
      ]
     },
     "metadata": {
      "needs_background": "light"
     },
     "output_type": "display_data"
    }
   ],
   "source": [
    "plt.figure(figsize=(18,6))\n",
    "\n",
    "chart = sns.barplot(data = FRM_fullstats, x = 'Opposition', \n",
    "           y = ((FRM_fullstats['Total Score'])-(FRM_fullstats['Total Score Against'])), \n",
    "           palette = 'tab20_r')\n",
    "\n",
    "for p in chart.patches:\n",
    "             chart.annotate(\"%.0f\" % p.get_height(), (p.get_x() + p.get_width() / 2., p.get_height()),\n",
    "                 ha='center', va='center', fontsize=12, color='black', xytext=(0,5),\n",
    "                 textcoords='offset points')\n",
    "\n",
    "plt.title('Fremantle Overall Score Margin', fontsize=18)\n",
    "plt.ylabel(ylabel='Score Margin', fontsize=14)\n",
    "plt.yticks(fontsize=12)\n",
    "plt.xlabel(xlabel='Opposition', fontsize=14)\n",
    "plt.xticks(fontsize=12)\n",
    "plt.show()"
   ]
  },
  {
   "cell_type": "markdown",
   "id": "9d359a9a",
   "metadata": {
    "papermill": {
     "duration": 0.150312,
     "end_time": "2022-02-04T10:13:45.271740",
     "exception": false,
     "start_time": "2022-02-04T10:13:45.121428",
     "status": "completed"
    },
    "tags": []
   },
   "source": [
    "Over a time period spanning 9 seasons, Fremantle has accumulated a positive score margin against 8 teams. Their best result sees them outscoring MLB by a total of 374 points by the end of the the 2020 seson. After the same timespan, however, Fremantle are left trailing HTN (Hawthorn) by a total of 412 points. Moreover, they end the 2020 season having a negative score margin against a total of 9 teams. \n",
    "\n",
    "It is important to note that a negative overall score margin doesn't necessarily mean that Fremantle hold a negative record (more losses than wins) against that specific opposition. A prime example of this is STK. As shown, Fremantle have an overall score margin of -49, indicating that they have conceded more points against STK than they have managed to score. However, using FRM_fullstats, we can see that out of the total matches played between the two teams, Fremantle have accumulated more wins (6 compared to STK's 5). The same is true for the matches played against PDL. Fremantle have an overall score margin of -105 but have won 8 times out of the 15 they have faced PDL. \n",
    "\n",
    "Of course, the same logic can be applied in the opposite sense. That is to say that a positive score margin does not always indicate a positive (more wins than losses) overall record against a specific opposition. For example, we see that Fremantle have a total score margin of 101 against ESS (Essendon). Nevertheless, when looking at the results of the matches played, we find that Fremantle, although outscoring their opponents from  northern Melbourne overall, have lost 2 more times than they have won; leaving them with a record of 5W-7L.   \n",
    "\n",
    "These exeptions are obviously harder to find once the score margin grows too large in either direction. It is very difficult to hold a positive record against a team that has outscored you by a total of 412 points. It would mean losing a few games by quite literally an extraordinary amount of points, probably in the 100s, and winning others by a very small margin. Likewise, it is very unlikely to hold a negative record against a team that has been outscored by 374 points. Such a scenario implies losing by very fine margins most of the time and winning a few games by a considerably large margins. \n",
    "\n",
    "Taking from Fremantle's overall score margin against HTN and MLB, we see that they have been outscored by HTN by 412 points and hold an overall record of 2W-10L whereas they have outscored MLB by 374 points and hold an overall record of 9W-3L. "
   ]
  },
  {
   "cell_type": "markdown",
   "id": "dbdd9543",
   "metadata": {
    "papermill": {
     "duration": 0.14462,
     "end_time": "2022-02-04T10:13:45.561712",
     "exception": false,
     "start_time": "2022-02-04T10:13:45.417092",
     "status": "completed"
    },
    "tags": []
   },
   "source": [
    "**MATCH BY MATCH MARGIN**"
   ]
  },
  {
   "cell_type": "markdown",
   "id": "553d9751",
   "metadata": {
    "papermill": {
     "duration": 0.145266,
     "end_time": "2022-02-04T10:13:45.855328",
     "exception": false,
     "start_time": "2022-02-04T10:13:45.710062",
     "status": "completed"
    },
    "tags": []
   },
   "source": [
    "Lets take a closer look at Fremantle's score margin. We can do this by taking the data on a match by match basis rather than looking at the final, overall picture. To do so, we can use the 'Margin' column directly provided in the data. However, to make things easier when plotting, we need to manipulate the 'Date of Game' column."
   ]
  },
  {
   "cell_type": "code",
   "execution_count": 97,
   "id": "e457740f",
   "metadata": {
    "execution": {
     "iopub.execute_input": "2022-02-04T10:13:46.148704Z",
     "iopub.status.busy": "2022-02-04T10:13:46.147696Z",
     "iopub.status.idle": "2022-02-04T10:13:46.154396Z",
     "shell.execute_reply": "2022-02-04T10:13:46.153455Z",
     "shell.execute_reply.started": "2022-02-04T10:05:10.300128Z"
    },
    "papermill": {
     "duration": 0.154407,
     "end_time": "2022-02-04T10:13:46.154587",
     "exception": false,
     "start_time": "2022-02-04T10:13:46.000180",
     "status": "completed"
    },
    "tags": []
   },
   "outputs": [
    {
     "data": {
      "text/plain": [
       "dtype('<M8[ns]')"
      ]
     },
     "execution_count": 97,
     "metadata": {},
     "output_type": "execute_result"
    }
   ],
   "source": [
    "#Check what type of data 'Date of Game' holds\n",
    "df_FRM['Date of Game'].dtype"
   ]
  },
  {
   "cell_type": "code",
   "execution_count": 98,
   "id": "d514027a",
   "metadata": {
    "execution": {
     "iopub.execute_input": "2022-02-04T10:13:46.458445Z",
     "iopub.status.busy": "2022-02-04T10:13:46.457695Z",
     "iopub.status.idle": "2022-02-04T10:13:46.468902Z",
     "shell.execute_reply": "2022-02-04T10:13:46.468205Z",
     "shell.execute_reply.started": "2022-02-04T10:05:10.308126Z"
    },
    "papermill": {
     "duration": 0.166228,
     "end_time": "2022-02-04T10:13:46.469066",
     "exception": false,
     "start_time": "2022-02-04T10:13:46.302838",
     "status": "completed"
    },
    "tags": []
   },
   "outputs": [
    {
     "data": {
      "text/plain": [
       "array(['14-Mar', '29-Mar', '04-Apr', '13-Apr', '19-Apr', '25-Apr',\n",
       "       '04-May', '10-May', '17-May', '01-Jun', '08-Jun', '14-Jun',\n",
       "       '21-Jun', '28-Jun', '05-Jul', '13-Jul', '19-Jul', '31-Jul',\n",
       "       '09-Aug', '17-Aug', '24-Aug', '30-Aug', '06-Sep', '13-Sep'],\n",
       "      dtype=object)"
      ]
     },
     "execution_count": 98,
     "metadata": {},
     "output_type": "execute_result"
    }
   ],
   "source": [
    "#Only want month and day value so to stack data when plotting season by season\n",
    "df_FRM[df_FRM['Year']==2014].sort_values('Date of Game')['Date of Game'].dt.strftime('%d-%b').unique()"
   ]
  },
  {
   "cell_type": "code",
   "execution_count": 99,
   "id": "f0926be9",
   "metadata": {
    "execution": {
     "iopub.execute_input": "2022-02-04T10:13:46.766172Z",
     "iopub.status.busy": "2022-02-04T10:13:46.765165Z",
     "iopub.status.idle": "2022-02-04T10:13:46.776691Z",
     "shell.execute_reply": "2022-02-04T10:13:46.777234Z",
     "shell.execute_reply.started": "2022-02-04T10:05:10.330004Z"
    },
    "papermill": {
     "duration": 0.16087,
     "end_time": "2022-02-04T10:13:46.777406",
     "exception": false,
     "start_time": "2022-02-04T10:13:46.616536",
     "status": "completed"
    },
    "tags": []
   },
   "outputs": [],
   "source": [
    "#Create new dataframe grouping by 'Year' and 'Day and Month of Game' \n",
    "#Find sum of margin for each subgroup\n",
    "agg_FRM = df_FRM.groupby(['Year','Date of Game'], as_index=False).agg({'Margin':'sum'})"
   ]
  },
  {
   "cell_type": "code",
   "execution_count": 100,
   "id": "2e061d9c",
   "metadata": {
    "execution": {
     "iopub.execute_input": "2022-02-04T10:13:47.077424Z",
     "iopub.status.busy": "2022-02-04T10:13:47.076725Z",
     "iopub.status.idle": "2022-02-04T10:13:47.080010Z",
     "shell.execute_reply": "2022-02-04T10:13:47.079358Z",
     "shell.execute_reply.started": "2022-02-04T10:05:10.341157Z"
    },
    "papermill": {
     "duration": 0.155107,
     "end_time": "2022-02-04T10:13:47.080150",
     "exception": false,
     "start_time": "2022-02-04T10:13:46.925043",
     "status": "completed"
    },
    "tags": []
   },
   "outputs": [],
   "source": [
    "#Divide margin by 22 as each match has 22 FRM players\n",
    "agg_FRM['Margin'] = agg_FRM['Margin'].div(22)"
   ]
  },
  {
   "cell_type": "code",
   "execution_count": 101,
   "id": "562b9882",
   "metadata": {
    "execution": {
     "iopub.execute_input": "2022-02-04T10:13:47.379972Z",
     "iopub.status.busy": "2022-02-04T10:13:47.378930Z",
     "iopub.status.idle": "2022-02-04T10:13:47.380998Z",
     "shell.execute_reply": "2022-02-04T10:13:47.381536Z",
     "shell.execute_reply.started": "2022-02-04T10:05:10.350175Z"
    },
    "papermill": {
     "duration": 0.156369,
     "end_time": "2022-02-04T10:13:47.381701",
     "exception": false,
     "start_time": "2022-02-04T10:13:47.225332",
     "status": "completed"
    },
    "tags": []
   },
   "outputs": [],
   "source": [
    "#Replace year with 2000 in order to standardise data\n",
    "agg_FRM['Standard-Date'] = agg_FRM['Date of Game'].apply(lambda x: x.replace(2000))"
   ]
  },
  {
   "cell_type": "code",
   "execution_count": 102,
   "id": "bc98bd82",
   "metadata": {
    "execution": {
     "iopub.execute_input": "2022-02-04T10:13:47.690549Z",
     "iopub.status.busy": "2022-02-04T10:13:47.677018Z",
     "iopub.status.idle": "2022-02-04T10:13:47.694689Z",
     "shell.execute_reply": "2022-02-04T10:13:47.693948Z",
     "shell.execute_reply.started": "2022-02-04T10:05:10.366219Z"
    },
    "papermill": {
     "duration": 0.166427,
     "end_time": "2022-02-04T10:13:47.694849",
     "exception": false,
     "start_time": "2022-02-04T10:13:47.528422",
     "status": "completed"
    },
    "tags": []
   },
   "outputs": [
    {
     "data": {
      "text/html": [
       "<div>\n",
       "<style scoped>\n",
       "    .dataframe tbody tr th:only-of-type {\n",
       "        vertical-align: middle;\n",
       "    }\n",
       "\n",
       "    .dataframe tbody tr th {\n",
       "        vertical-align: top;\n",
       "    }\n",
       "\n",
       "    .dataframe thead th {\n",
       "        text-align: right;\n",
       "    }\n",
       "</style>\n",
       "<table border=\"1\" class=\"dataframe\">\n",
       "  <thead>\n",
       "    <tr style=\"text-align: right;\">\n",
       "      <th></th>\n",
       "      <th>Year</th>\n",
       "      <th>Date of Game</th>\n",
       "      <th>Margin</th>\n",
       "      <th>Standard-Date</th>\n",
       "    </tr>\n",
       "  </thead>\n",
       "  <tbody>\n",
       "    <tr>\n",
       "      <th>0</th>\n",
       "      <td>2012</td>\n",
       "      <td>2012-03-31</td>\n",
       "      <td>4.0</td>\n",
       "      <td>2000-03-31</td>\n",
       "    </tr>\n",
       "    <tr>\n",
       "      <th>1</th>\n",
       "      <td>2012</td>\n",
       "      <td>2012-04-07</td>\n",
       "      <td>-13.0</td>\n",
       "      <td>2000-04-07</td>\n",
       "    </tr>\n",
       "    <tr>\n",
       "      <th>2</th>\n",
       "      <td>2012</td>\n",
       "      <td>2012-04-14</td>\n",
       "      <td>29.0</td>\n",
       "      <td>2000-04-14</td>\n",
       "    </tr>\n",
       "    <tr>\n",
       "      <th>3</th>\n",
       "      <td>2012</td>\n",
       "      <td>2012-04-20</td>\n",
       "      <td>13.0</td>\n",
       "      <td>2000-04-20</td>\n",
       "    </tr>\n",
       "    <tr>\n",
       "      <th>4</th>\n",
       "      <td>2012</td>\n",
       "      <td>2012-04-27</td>\n",
       "      <td>-8.0</td>\n",
       "      <td>2000-04-27</td>\n",
       "    </tr>\n",
       "    <tr>\n",
       "      <th>...</th>\n",
       "      <td>...</td>\n",
       "      <td>...</td>\n",
       "      <td>...</td>\n",
       "      <td>...</td>\n",
       "    </tr>\n",
       "    <tr>\n",
       "      <th>197</th>\n",
       "      <td>2020</td>\n",
       "      <td>2020-08-29</td>\n",
       "      <td>-38.0</td>\n",
       "      <td>2000-08-29</td>\n",
       "    </tr>\n",
       "    <tr>\n",
       "      <th>198</th>\n",
       "      <td>2020</td>\n",
       "      <td>2020-09-02</td>\n",
       "      <td>-27.0</td>\n",
       "      <td>2000-09-02</td>\n",
       "    </tr>\n",
       "    <tr>\n",
       "      <th>199</th>\n",
       "      <td>2020</td>\n",
       "      <td>2020-09-07</td>\n",
       "      <td>14.0</td>\n",
       "      <td>2000-09-07</td>\n",
       "    </tr>\n",
       "    <tr>\n",
       "      <th>200</th>\n",
       "      <td>2020</td>\n",
       "      <td>2020-09-12</td>\n",
       "      <td>64.0</td>\n",
       "      <td>2000-09-12</td>\n",
       "    </tr>\n",
       "    <tr>\n",
       "      <th>201</th>\n",
       "      <td>2020</td>\n",
       "      <td>2020-09-20</td>\n",
       "      <td>-30.0</td>\n",
       "      <td>2000-09-20</td>\n",
       "    </tr>\n",
       "  </tbody>\n",
       "</table>\n",
       "<p>202 rows × 4 columns</p>\n",
       "</div>"
      ],
      "text/plain": [
       "     Year Date of Game  Margin Standard-Date\n",
       "0    2012   2012-03-31     4.0    2000-03-31\n",
       "1    2012   2012-04-07   -13.0    2000-04-07\n",
       "2    2012   2012-04-14    29.0    2000-04-14\n",
       "3    2012   2012-04-20    13.0    2000-04-20\n",
       "4    2012   2012-04-27    -8.0    2000-04-27\n",
       "..    ...          ...     ...           ...\n",
       "197  2020   2020-08-29   -38.0    2000-08-29\n",
       "198  2020   2020-09-02   -27.0    2000-09-02\n",
       "199  2020   2020-09-07    14.0    2000-09-07\n",
       "200  2020   2020-09-12    64.0    2000-09-12\n",
       "201  2020   2020-09-20   -30.0    2000-09-20\n",
       "\n",
       "[202 rows x 4 columns]"
      ]
     },
     "execution_count": 102,
     "metadata": {},
     "output_type": "execute_result"
    }
   ],
   "source": [
    "#Check to see if new column is there and holds the data in the format we want \n",
    "agg_FRM"
   ]
  },
  {
   "cell_type": "code",
   "execution_count": 103,
   "id": "051aa232",
   "metadata": {
    "execution": {
     "iopub.execute_input": "2022-02-04T10:13:47.993891Z",
     "iopub.status.busy": "2022-02-04T10:13:47.993234Z",
     "iopub.status.idle": "2022-02-04T10:13:48.000931Z",
     "shell.execute_reply": "2022-02-04T10:13:48.001445Z",
     "shell.execute_reply.started": "2022-02-04T10:05:10.389858Z"
    },
    "papermill": {
     "duration": 0.158126,
     "end_time": "2022-02-04T10:13:48.001622",
     "exception": false,
     "start_time": "2022-02-04T10:13:47.843496",
     "status": "completed"
    },
    "tags": []
   },
   "outputs": [],
   "source": [
    "#create new column that holds day and month from value of 'Date of Game' as a string\n",
    "#For example, if date is '2012-03-31', we want to transform that to 31-Mar \n",
    "agg_FRM['date_string'] = agg_FRM['Date of Game'].dt.strftime('%d-%b')"
   ]
  },
  {
   "cell_type": "code",
   "execution_count": 104,
   "id": "b023dd3f",
   "metadata": {
    "execution": {
     "iopub.execute_input": "2022-02-04T10:13:48.300712Z",
     "iopub.status.busy": "2022-02-04T10:13:48.300094Z",
     "iopub.status.idle": "2022-02-04T10:13:48.392177Z",
     "shell.execute_reply": "2022-02-04T10:13:48.391413Z",
     "shell.execute_reply.started": "2022-02-04T10:05:10.398179Z"
    },
    "papermill": {
     "duration": 0.241856,
     "end_time": "2022-02-04T10:13:48.392340",
     "exception": false,
     "start_time": "2022-02-04T10:13:48.150484",
     "status": "completed"
    },
    "tags": []
   },
   "outputs": [
    {
     "data": {
      "text/html": [
       "<div>                            <div id=\"ae1443d8-44e5-4e5b-98fa-3b208641a6f6\" class=\"plotly-graph-div\" style=\"height:525px; width:100%;\"></div>            <script type=\"text/javascript\">                require([\"plotly\"], function(Plotly) {                    window.PLOTLYENV=window.PLOTLYENV || {};                                    if (document.getElementById(\"ae1443d8-44e5-4e5b-98fa-3b208641a6f6\")) {                    Plotly.newPlot(                        \"ae1443d8-44e5-4e5b-98fa-3b208641a6f6\",                        [{\"line\":{\"width\":2},\"name\":\"2012 Season\",\"x\":[\"2000-03-31T00:00:00\",\"2000-04-07T00:00:00\",\"2000-04-14T00:00:00\",\"2000-04-20T00:00:00\",\"2000-04-27T00:00:00\",\"2000-05-05T00:00:00\",\"2000-05-13T00:00:00\",\"2000-05-19T00:00:00\",\"2000-05-27T00:00:00\",\"2000-06-02T00:00:00\",\"2000-06-09T00:00:00\",\"2000-06-23T00:00:00\",\"2000-06-30T00:00:00\",\"2000-07-08T00:00:00\",\"2000-07-14T00:00:00\",\"2000-07-22T00:00:00\",\"2000-07-29T00:00:00\",\"2000-08-04T00:00:00\",\"2000-08-11T00:00:00\",\"2000-08-18T00:00:00\",\"2000-08-26T00:00:00\",\"2000-09-01T00:00:00\",\"2000-09-08T00:00:00\",\"2000-09-14T00:00:00\"],\"y\":[4.0,-13.0,29.0,13.0,-8.0,7.0,40.0,-56.0,-48.0,-29.0,12.0,-24.0,-29.0,38.0,34.0,95.0,27.0,65.0,-28.0,22.0,53.0,61.0,16.0,-10.0],\"type\":\"scatter\",\"mode\":\"lines+markers\"},{\"line\":{\"width\":2},\"name\":\"2013 Season\",\"x\":[\"2000-03-23T00:00:00\",\"2000-04-06T00:00:00\",\"2000-04-12T00:00:00\",\"2000-04-20T00:00:00\",\"2000-04-26T00:00:00\",\"2000-05-04T00:00:00\",\"2000-05-11T00:00:00\",\"2000-05-18T00:00:00\",\"2000-05-26T00:00:00\",\"2000-06-01T00:00:00\",\"2000-06-15T00:00:00\",\"2000-06-23T00:00:00\",\"2000-06-29T00:00:00\",\"2000-07-07T00:00:00\",\"2000-07-14T00:00:00\",\"2000-07-21T00:00:00\",\"2000-07-27T00:00:00\",\"2000-08-03T00:00:00\",\"2000-08-11T00:00:00\",\"2000-08-18T00:00:00\",\"2000-08-24T00:00:00\",\"2000-08-31T00:00:00\",\"2000-09-07T00:00:00\",\"2000-09-21T00:00:00\",\"2000-09-28T00:00:00\"],\"y\":[28.0,28.0,-4.0,-42.0,1.0,45.0,27.0,0.0,90.0,7.0,40.0,38.0,-41.0,30.0,28.0,-27.0,22.0,36.0,113.0,95.0,74.0,-71.0,15.0,25.0,-15.0],\"type\":\"scatter\",\"mode\":\"lines+markers\"},{\"line\":{\"width\":2},\"name\":\"2014 Season\",\"x\":[\"2000-03-14T00:00:00\",\"2000-03-29T00:00:00\",\"2000-04-04T00:00:00\",\"2000-04-13T00:00:00\",\"2000-04-19T00:00:00\",\"2000-04-25T00:00:00\",\"2000-05-04T00:00:00\",\"2000-05-10T00:00:00\",\"2000-05-17T00:00:00\",\"2000-06-01T00:00:00\",\"2000-06-08T00:00:00\",\"2000-06-14T00:00:00\",\"2000-06-21T00:00:00\",\"2000-06-28T00:00:00\",\"2000-07-05T00:00:00\",\"2000-07-13T00:00:00\",\"2000-07-19T00:00:00\",\"2000-07-31T00:00:00\",\"2000-08-09T00:00:00\",\"2000-08-17T00:00:00\",\"2000-08-24T00:00:00\",\"2000-08-30T00:00:00\",\"2000-09-06T00:00:00\",\"2000-09-13T00:00:00\"],\"y\":[70.0,48.0,-58.0,53.0,-17.0,-13.0,19.0,-18.0,32.0,38.0,40.0,20.0,83.0,7.0,63.0,76.0,-58.0,5.0,-2.0,19.0,58.0,8.0,-24.0,-22.0],\"type\":\"scatter\",\"mode\":\"lines+markers\"},{\"line\":{\"width\":2},\"name\":\"2015 Season\",\"x\":[\"2000-04-05T00:00:00\",\"2000-04-12T00:00:00\",\"2000-04-19T00:00:00\",\"2000-04-25T00:00:00\",\"2000-05-03T00:00:00\",\"2000-05-09T00:00:00\",\"2000-05-17T00:00:00\",\"2000-05-23T00:00:00\",\"2000-05-30T00:00:00\",\"2000-06-05T00:00:00\",\"2000-06-13T00:00:00\",\"2000-06-25T00:00:00\",\"2000-07-05T00:00:00\",\"2000-07-12T00:00:00\",\"2000-07-18T00:00:00\",\"2000-07-25T00:00:00\",\"2000-08-02T00:00:00\",\"2000-08-09T00:00:00\",\"2000-08-16T00:00:00\",\"2000-08-23T00:00:00\",\"2000-08-30T00:00:00\",\"2000-09-05T00:00:00\",\"2000-09-12T00:00:00\",\"2000-09-25T00:00:00\"],\"y\":[7.0,44.0,30.0,14.0,68.0,28.0,13.0,73.0,11.0,-27.0,7.0,7.0,36.0,-72.0,42.0,4.0,21.0,37.0,-24.0,-11.0,54.0,-69.0,9.0,-27.0],\"type\":\"scatter\",\"mode\":\"lines+markers\"},{\"line\":{\"width\":2},\"name\":\"2016 Season\",\"x\":[\"2000-03-27T00:00:00\",\"2000-04-02T00:00:00\",\"2000-04-09T00:00:00\",\"2000-04-17T00:00:00\",\"2000-04-24T00:00:00\",\"2000-04-30T00:00:00\",\"2000-05-07T00:00:00\",\"2000-05-14T00:00:00\",\"2000-05-21T00:00:00\",\"2000-05-28T00:00:00\",\"2000-06-04T00:00:00\",\"2000-06-11T00:00:00\",\"2000-06-18T00:00:00\",\"2000-06-24T00:00:00\",\"2000-07-09T00:00:00\",\"2000-07-15T00:00:00\",\"2000-07-23T00:00:00\",\"2000-07-31T00:00:00\",\"2000-08-07T00:00:00\",\"2000-08-14T00:00:00\",\"2000-08-20T00:00:00\",\"2000-08-28T00:00:00\"],\"y\":[-65.0,-26.0,-33.0,-31.0,-4.0,-33.0,-18.0,-41.0,-38.0,-34.0,79.0,83.0,17.0,-48.0,-32.0,-17.0,-24.0,-90.0,-46.0,-72.0,-92.0,20.0],\"type\":\"scatter\",\"mode\":\"lines+markers\"},{\"line\":{\"width\":2},\"name\":\"2017 Season\",\"x\":[\"2000-03-26T00:00:00\",\"2000-04-02T00:00:00\",\"2000-04-08T00:00:00\",\"2000-04-15T00:00:00\",\"2000-04-22T00:00:00\",\"2000-04-29T00:00:00\",\"2000-05-07T00:00:00\",\"2000-05-14T00:00:00\",\"2000-05-21T00:00:00\",\"2000-05-27T00:00:00\",\"2000-06-04T00:00:00\",\"2000-06-10T00:00:00\",\"2000-06-25T00:00:00\",\"2000-07-02T00:00:00\",\"2000-07-09T00:00:00\",\"2000-07-16T00:00:00\",\"2000-07-22T00:00:00\",\"2000-07-29T00:00:00\",\"2000-08-05T00:00:00\",\"2000-08-12T00:00:00\",\"2000-08-20T00:00:00\",\"2000-08-27T00:00:00\"],\"y\":[-42.0,-89.0,16.0,2.0,5.0,-41.0,37.0,2.0,35.0,-100.0,-20.0,-57.0,-2.0,-9.0,4.0,-30.0,-52.0,-12.0,23.0,-104.0,-104.0,-15.0],\"type\":\"scatter\",\"mode\":\"lines+markers\"},{\"line\":{\"width\":2},\"name\":\"2018 Season\",\"x\":[\"2000-03-24T00:00:00\",\"2000-03-31T00:00:00\",\"2000-04-07T00:00:00\",\"2000-04-14T00:00:00\",\"2000-04-21T00:00:00\",\"2000-04-29T00:00:00\",\"2000-05-06T00:00:00\",\"2000-05-12T00:00:00\",\"2000-05-19T00:00:00\",\"2000-05-27T00:00:00\",\"2000-06-03T00:00:00\",\"2000-06-10T00:00:00\",\"2000-06-16T00:00:00\",\"2000-07-01T00:00:00\",\"2000-07-07T00:00:00\",\"2000-07-15T00:00:00\",\"2000-07-21T00:00:00\",\"2000-07-29T00:00:00\",\"2000-08-05T00:00:00\",\"2000-08-12T00:00:00\",\"2000-08-18T00:00:00\",\"2000-08-25T00:00:00\"],\"y\":[-50.0,16.0,28.0,-31.0,54.0,-8.0,-77.0,30.0,-59.0,-28.0,-61.0,3.0,57.0,-55.0,-54.0,9.0,-29.0,-59.0,-58.0,29.0,-133.0,-9.0],\"type\":\"scatter\",\"mode\":\"lines+markers\"},{\"line\":{\"width\":2},\"name\":\"2019 Season\",\"x\":[\"2000-03-24T00:00:00\",\"2000-03-31T00:00:00\",\"2000-04-07T00:00:00\",\"2000-04-13T00:00:00\",\"2000-04-20T00:00:00\",\"2000-04-27T00:00:00\",\"2000-05-05T00:00:00\",\"2000-05-12T00:00:00\",\"2000-05-18T00:00:00\",\"2000-05-26T00:00:00\",\"2000-06-01T00:00:00\",\"2000-06-15T00:00:00\",\"2000-06-22T00:00:00\",\"2000-06-30T00:00:00\",\"2000-07-06T00:00:00\",\"2000-07-13T00:00:00\",\"2000-07-20T00:00:00\",\"2000-07-28T00:00:00\",\"2000-08-03T00:00:00\",\"2000-08-11T00:00:00\",\"2000-08-17T00:00:00\",\"2000-08-25T00:00:00\"],\"y\":[82.0,-3.0,5.0,-13.0,24.0,19.0,-17.0,-25.0,-7.0,1.0,4.0,21.0,-14.0,-4.0,-91.0,-31.0,1.0,-47.0,34.0,-3.0,-32.0,-43.0],\"type\":\"scatter\",\"mode\":\"lines+markers\"},{\"line\":{\"width\":2},\"name\":\"2020 Season\",\"x\":[\"2000-03-21T00:00:00\",\"2000-06-13T00:00:00\",\"2000-06-21T00:00:00\",\"2000-06-27T00:00:00\",\"2000-07-05T00:00:00\",\"2000-07-11T00:00:00\",\"2000-07-19T00:00:00\",\"2000-07-27T00:00:00\",\"2000-08-02T00:00:00\",\"2000-08-10T00:00:00\",\"2000-08-15T00:00:00\",\"2000-08-22T00:00:00\",\"2000-08-29T00:00:00\",\"2000-09-02T00:00:00\",\"2000-09-07T00:00:00\",\"2000-09-12T00:00:00\",\"2000-09-20T00:00:00\"],\"y\":[-6.0,-12.0,-29.0,-13.0,20.0,6.0,-30.0,-32.0,12.0,16.0,-4.0,31.0,-38.0,-27.0,14.0,64.0,-30.0],\"type\":\"scatter\",\"mode\":\"lines+markers\"}],                        {\"template\":{\"data\":{\"bar\":[{\"error_x\":{\"color\":\"#2a3f5f\"},\"error_y\":{\"color\":\"#2a3f5f\"},\"marker\":{\"line\":{\"color\":\"#E5ECF6\",\"width\":0.5},\"pattern\":{\"fillmode\":\"overlay\",\"size\":10,\"solidity\":0.2}},\"type\":\"bar\"}],\"barpolar\":[{\"marker\":{\"line\":{\"color\":\"#E5ECF6\",\"width\":0.5},\"pattern\":{\"fillmode\":\"overlay\",\"size\":10,\"solidity\":0.2}},\"type\":\"barpolar\"}],\"carpet\":[{\"aaxis\":{\"endlinecolor\":\"#2a3f5f\",\"gridcolor\":\"white\",\"linecolor\":\"white\",\"minorgridcolor\":\"white\",\"startlinecolor\":\"#2a3f5f\"},\"baxis\":{\"endlinecolor\":\"#2a3f5f\",\"gridcolor\":\"white\",\"linecolor\":\"white\",\"minorgridcolor\":\"white\",\"startlinecolor\":\"#2a3f5f\"},\"type\":\"carpet\"}],\"choropleth\":[{\"colorbar\":{\"outlinewidth\":0,\"ticks\":\"\"},\"type\":\"choropleth\"}],\"contour\":[{\"colorbar\":{\"outlinewidth\":0,\"ticks\":\"\"},\"colorscale\":[[0.0,\"#0d0887\"],[0.1111111111111111,\"#46039f\"],[0.2222222222222222,\"#7201a8\"],[0.3333333333333333,\"#9c179e\"],[0.4444444444444444,\"#bd3786\"],[0.5555555555555556,\"#d8576b\"],[0.6666666666666666,\"#ed7953\"],[0.7777777777777778,\"#fb9f3a\"],[0.8888888888888888,\"#fdca26\"],[1.0,\"#f0f921\"]],\"type\":\"contour\"}],\"contourcarpet\":[{\"colorbar\":{\"outlinewidth\":0,\"ticks\":\"\"},\"type\":\"contourcarpet\"}],\"heatmap\":[{\"colorbar\":{\"outlinewidth\":0,\"ticks\":\"\"},\"colorscale\":[[0.0,\"#0d0887\"],[0.1111111111111111,\"#46039f\"],[0.2222222222222222,\"#7201a8\"],[0.3333333333333333,\"#9c179e\"],[0.4444444444444444,\"#bd3786\"],[0.5555555555555556,\"#d8576b\"],[0.6666666666666666,\"#ed7953\"],[0.7777777777777778,\"#fb9f3a\"],[0.8888888888888888,\"#fdca26\"],[1.0,\"#f0f921\"]],\"type\":\"heatmap\"}],\"heatmapgl\":[{\"colorbar\":{\"outlinewidth\":0,\"ticks\":\"\"},\"colorscale\":[[0.0,\"#0d0887\"],[0.1111111111111111,\"#46039f\"],[0.2222222222222222,\"#7201a8\"],[0.3333333333333333,\"#9c179e\"],[0.4444444444444444,\"#bd3786\"],[0.5555555555555556,\"#d8576b\"],[0.6666666666666666,\"#ed7953\"],[0.7777777777777778,\"#fb9f3a\"],[0.8888888888888888,\"#fdca26\"],[1.0,\"#f0f921\"]],\"type\":\"heatmapgl\"}],\"histogram\":[{\"marker\":{\"pattern\":{\"fillmode\":\"overlay\",\"size\":10,\"solidity\":0.2}},\"type\":\"histogram\"}],\"histogram2d\":[{\"colorbar\":{\"outlinewidth\":0,\"ticks\":\"\"},\"colorscale\":[[0.0,\"#0d0887\"],[0.1111111111111111,\"#46039f\"],[0.2222222222222222,\"#7201a8\"],[0.3333333333333333,\"#9c179e\"],[0.4444444444444444,\"#bd3786\"],[0.5555555555555556,\"#d8576b\"],[0.6666666666666666,\"#ed7953\"],[0.7777777777777778,\"#fb9f3a\"],[0.8888888888888888,\"#fdca26\"],[1.0,\"#f0f921\"]],\"type\":\"histogram2d\"}],\"histogram2dcontour\":[{\"colorbar\":{\"outlinewidth\":0,\"ticks\":\"\"},\"colorscale\":[[0.0,\"#0d0887\"],[0.1111111111111111,\"#46039f\"],[0.2222222222222222,\"#7201a8\"],[0.3333333333333333,\"#9c179e\"],[0.4444444444444444,\"#bd3786\"],[0.5555555555555556,\"#d8576b\"],[0.6666666666666666,\"#ed7953\"],[0.7777777777777778,\"#fb9f3a\"],[0.8888888888888888,\"#fdca26\"],[1.0,\"#f0f921\"]],\"type\":\"histogram2dcontour\"}],\"mesh3d\":[{\"colorbar\":{\"outlinewidth\":0,\"ticks\":\"\"},\"type\":\"mesh3d\"}],\"parcoords\":[{\"line\":{\"colorbar\":{\"outlinewidth\":0,\"ticks\":\"\"}},\"type\":\"parcoords\"}],\"pie\":[{\"automargin\":true,\"type\":\"pie\"}],\"scatter\":[{\"marker\":{\"colorbar\":{\"outlinewidth\":0,\"ticks\":\"\"}},\"type\":\"scatter\"}],\"scatter3d\":[{\"line\":{\"colorbar\":{\"outlinewidth\":0,\"ticks\":\"\"}},\"marker\":{\"colorbar\":{\"outlinewidth\":0,\"ticks\":\"\"}},\"type\":\"scatter3d\"}],\"scattercarpet\":[{\"marker\":{\"colorbar\":{\"outlinewidth\":0,\"ticks\":\"\"}},\"type\":\"scattercarpet\"}],\"scattergeo\":[{\"marker\":{\"colorbar\":{\"outlinewidth\":0,\"ticks\":\"\"}},\"type\":\"scattergeo\"}],\"scattergl\":[{\"marker\":{\"colorbar\":{\"outlinewidth\":0,\"ticks\":\"\"}},\"type\":\"scattergl\"}],\"scattermapbox\":[{\"marker\":{\"colorbar\":{\"outlinewidth\":0,\"ticks\":\"\"}},\"type\":\"scattermapbox\"}],\"scatterpolar\":[{\"marker\":{\"colorbar\":{\"outlinewidth\":0,\"ticks\":\"\"}},\"type\":\"scatterpolar\"}],\"scatterpolargl\":[{\"marker\":{\"colorbar\":{\"outlinewidth\":0,\"ticks\":\"\"}},\"type\":\"scatterpolargl\"}],\"scatterternary\":[{\"marker\":{\"colorbar\":{\"outlinewidth\":0,\"ticks\":\"\"}},\"type\":\"scatterternary\"}],\"surface\":[{\"colorbar\":{\"outlinewidth\":0,\"ticks\":\"\"},\"colorscale\":[[0.0,\"#0d0887\"],[0.1111111111111111,\"#46039f\"],[0.2222222222222222,\"#7201a8\"],[0.3333333333333333,\"#9c179e\"],[0.4444444444444444,\"#bd3786\"],[0.5555555555555556,\"#d8576b\"],[0.6666666666666666,\"#ed7953\"],[0.7777777777777778,\"#fb9f3a\"],[0.8888888888888888,\"#fdca26\"],[1.0,\"#f0f921\"]],\"type\":\"surface\"}],\"table\":[{\"cells\":{\"fill\":{\"color\":\"#EBF0F8\"},\"line\":{\"color\":\"white\"}},\"header\":{\"fill\":{\"color\":\"#C8D4E3\"},\"line\":{\"color\":\"white\"}},\"type\":\"table\"}]},\"layout\":{\"annotationdefaults\":{\"arrowcolor\":\"#2a3f5f\",\"arrowhead\":0,\"arrowwidth\":1},\"autotypenumbers\":\"strict\",\"coloraxis\":{\"colorbar\":{\"outlinewidth\":0,\"ticks\":\"\"}},\"colorscale\":{\"diverging\":[[0,\"#8e0152\"],[0.1,\"#c51b7d\"],[0.2,\"#de77ae\"],[0.3,\"#f1b6da\"],[0.4,\"#fde0ef\"],[0.5,\"#f7f7f7\"],[0.6,\"#e6f5d0\"],[0.7,\"#b8e186\"],[0.8,\"#7fbc41\"],[0.9,\"#4d9221\"],[1,\"#276419\"]],\"sequential\":[[0.0,\"#0d0887\"],[0.1111111111111111,\"#46039f\"],[0.2222222222222222,\"#7201a8\"],[0.3333333333333333,\"#9c179e\"],[0.4444444444444444,\"#bd3786\"],[0.5555555555555556,\"#d8576b\"],[0.6666666666666666,\"#ed7953\"],[0.7777777777777778,\"#fb9f3a\"],[0.8888888888888888,\"#fdca26\"],[1.0,\"#f0f921\"]],\"sequentialminus\":[[0.0,\"#0d0887\"],[0.1111111111111111,\"#46039f\"],[0.2222222222222222,\"#7201a8\"],[0.3333333333333333,\"#9c179e\"],[0.4444444444444444,\"#bd3786\"],[0.5555555555555556,\"#d8576b\"],[0.6666666666666666,\"#ed7953\"],[0.7777777777777778,\"#fb9f3a\"],[0.8888888888888888,\"#fdca26\"],[1.0,\"#f0f921\"]]},\"colorway\":[\"#636efa\",\"#EF553B\",\"#00cc96\",\"#ab63fa\",\"#FFA15A\",\"#19d3f3\",\"#FF6692\",\"#B6E880\",\"#FF97FF\",\"#FECB52\"],\"font\":{\"color\":\"#2a3f5f\"},\"geo\":{\"bgcolor\":\"white\",\"lakecolor\":\"white\",\"landcolor\":\"#E5ECF6\",\"showlakes\":true,\"showland\":true,\"subunitcolor\":\"white\"},\"hoverlabel\":{\"align\":\"left\"},\"hovermode\":\"closest\",\"mapbox\":{\"style\":\"light\"},\"paper_bgcolor\":\"white\",\"plot_bgcolor\":\"#E5ECF6\",\"polar\":{\"angularaxis\":{\"gridcolor\":\"white\",\"linecolor\":\"white\",\"ticks\":\"\"},\"bgcolor\":\"#E5ECF6\",\"radialaxis\":{\"gridcolor\":\"white\",\"linecolor\":\"white\",\"ticks\":\"\"}},\"scene\":{\"xaxis\":{\"backgroundcolor\":\"#E5ECF6\",\"gridcolor\":\"white\",\"gridwidth\":2,\"linecolor\":\"white\",\"showbackground\":true,\"ticks\":\"\",\"zerolinecolor\":\"white\"},\"yaxis\":{\"backgroundcolor\":\"#E5ECF6\",\"gridcolor\":\"white\",\"gridwidth\":2,\"linecolor\":\"white\",\"showbackground\":true,\"ticks\":\"\",\"zerolinecolor\":\"white\"},\"zaxis\":{\"backgroundcolor\":\"#E5ECF6\",\"gridcolor\":\"white\",\"gridwidth\":2,\"linecolor\":\"white\",\"showbackground\":true,\"ticks\":\"\",\"zerolinecolor\":\"white\"}},\"shapedefaults\":{\"line\":{\"color\":\"#2a3f5f\"}},\"ternary\":{\"aaxis\":{\"gridcolor\":\"white\",\"linecolor\":\"white\",\"ticks\":\"\"},\"baxis\":{\"gridcolor\":\"white\",\"linecolor\":\"white\",\"ticks\":\"\"},\"bgcolor\":\"#E5ECF6\",\"caxis\":{\"gridcolor\":\"white\",\"linecolor\":\"white\",\"ticks\":\"\"}},\"title\":{\"x\":0.05},\"xaxis\":{\"automargin\":true,\"gridcolor\":\"white\",\"linecolor\":\"white\",\"ticks\":\"\",\"title\":{\"standoff\":15},\"zerolinecolor\":\"white\",\"zerolinewidth\":2},\"yaxis\":{\"automargin\":true,\"gridcolor\":\"white\",\"linecolor\":\"white\",\"ticks\":\"\",\"title\":{\"standoff\":15},\"zerolinecolor\":\"white\",\"zerolinewidth\":2}}},\"xaxis\":{\"ticktext\":[\"01-Mar\",\"01-Apr\",\"01-May\",\"01-Jun\",\"01-Jul\",\"01-Aug\",\"01-Sep\"],\"tickvals\":[\"2000-03-01\",\"2000-04-01\",\"2000-05-01\",\"2000-06-01\",\"2000-07-01\",\"2000-08-01\",\"2000-09-01\"],\"title\":{\"text\":\"Date of Game\"}},\"title\":{\"text\":\"Fremantle Score Margin For Matches Played From 2012 To 2020\",\"x\":0.5},\"yaxis\":{\"title\":{\"text\":\"Margin\"}}},                        {\"responsive\": true}                    ).then(function(){\n",
       "                            \n",
       "var gd = document.getElementById('ae1443d8-44e5-4e5b-98fa-3b208641a6f6');\n",
       "var x = new MutationObserver(function (mutations, observer) {{\n",
       "        var display = window.getComputedStyle(gd).display;\n",
       "        if (!display || display === 'none') {{\n",
       "            console.log([gd, 'removed!']);\n",
       "            Plotly.purge(gd);\n",
       "            observer.disconnect();\n",
       "        }}\n",
       "}});\n",
       "\n",
       "// Listen for the removal of the full notebook cells\n",
       "var notebookContainer = gd.closest('#notebook-container');\n",
       "if (notebookContainer) {{\n",
       "    x.observe(notebookContainer, {childList: true});\n",
       "}}\n",
       "\n",
       "// Listen for the clearing of the current output cell\n",
       "var outputEl = gd.closest('.output');\n",
       "if (outputEl) {{\n",
       "    x.observe(outputEl, {childList: true});\n",
       "}}\n",
       "\n",
       "                        })                };                });            </script>        </div>"
      ]
     },
     "metadata": {},
     "output_type": "display_data"
    }
   ],
   "source": [
    "fig = go.Figure()\n",
    "\n",
    "for year in agg_FRM['Year'].unique():\n",
    "    #plot score margin of each match for every year (2012-2020)\n",
    "    fig.add_trace(go.Scatter( \n",
    "                 x = agg_FRM[agg_FRM['Year']==year]['Standard-Date'], \n",
    "                 y = agg_FRM[agg_FRM['Year']==year]['Margin'], \n",
    "                 line=dict(width=2), name = f'{year} Season'))\n",
    "\n",
    "#Amend xlabel so day and month are shown (i.e. 01-Apr), not month and year\n",
    "months = []\n",
    "for m in range(min(agg_FRM['Standard-Date']).month,max(agg_FRM['Standard-Date']).month+1):\n",
    "    months.append(date(2000,m,1))\n",
    "\n",
    "month_labels = [x.strftime('%d-%b') for x in months]\n",
    "    \n",
    "fig.update_xaxes(ticktext=month_labels, tickvals=months)\n",
    "\n",
    "fig.update_traces(mode='lines+markers')\n",
    "fig.update_layout(title = 'Fremantle Score Margin For Matches Played From 2012 To 2020', \n",
    "                  title_x = 0.5,\n",
    "                 xaxis_title = 'Date of Game', \n",
    "                 yaxis_title = 'Margin')\n",
    "\n",
    "fig.show("png")"
   ]
  },
  {
   "cell_type": "markdown",
   "id": "35207b73",
   "metadata": {
    "papermill": {
     "duration": 0.148231,
     "end_time": "2022-02-04T10:13:48.691066",
     "exception": false,
     "start_time": "2022-02-04T10:13:48.542835",
     "status": "completed"
    },
    "tags": []
   },
   "source": [
    "Displayed above are the score margins for every match played by Fremantle from the start of the 2012 season on 31st March, all the way to the final match played in the 2020 season on 20th September. Although quite messy, this plot shows what the score margin was at the end of each match and, therefore, whether a match was won, lost or drawn (a single instance of a draw can be found on May 18, 2013). \n",
    "\n",
    "The interactive nature of Plotly makes it a lot easier to filter through each season and even compare two or more seasons. This can be achieved by clicking the labels in the legend to select and deselect seasons of interest. "
   ]
  },
  {
   "cell_type": "markdown",
   "id": "170e0c70",
   "metadata": {
    "papermill": {
     "duration": 0.147993,
     "end_time": "2022-02-04T10:13:48.987649",
     "exception": false,
     "start_time": "2022-02-04T10:13:48.839656",
     "status": "completed"
    },
    "tags": []
   },
   "source": [
    "From the data exploration performed, we can see that the Fremantle Dockers appear to currently be a side in what may be considered a rebuilding phase. They have enjoyed some success in the past, although not yet managing to win a Premiership, and started facing some trouble in 2016 where they won only 18% of their matches. From then on they have steadily managed to improve their win percentage to 41%. Ranking only 13th overall for goals scored and dead last for behinds scored overall, where overall is related to the time period covered by the data and not all-time, it is crucial they begin to both create and convert more scoring opportunities. "
   ]
  },
  {
   "cell_type": "markdown",
   "id": "d29c85f4",
   "metadata": {
    "papermill": {
     "duration": 0.147069,
     "end_time": "2022-02-04T10:13:49.282233",
     "exception": false,
     "start_time": "2022-02-04T10:13:49.135164",
     "status": "completed"
    },
    "tags": []
   },
   "source": [
    "**THANK YOU**"
   ]
  },
  {
   "cell_type": "markdown",
   "id": "48579cc5",
   "metadata": {
    "papermill": {
     "duration": 0.146783,
     "end_time": "2022-02-04T10:13:49.576427",
     "exception": false,
     "start_time": "2022-02-04T10:13:49.429644",
     "status": "completed"
    },
    "tags": []
   },
   "source": [
    "Thank you for taking the time to read the notebook. I hope you have found it interesting and somewhat helpful. Please do leave a comment if you have any questions and upvote it if you have enjoyed it. "
   ]
  },
  {
   "cell_type": "code",
   "execution_count": null,
   "id": "a7a93ce3",
   "metadata": {
    "papermill": {
     "duration": 0.170782,
     "end_time": "2022-02-04T10:13:49.911769",
     "exception": false,
     "start_time": "2022-02-04T10:13:49.740987",
     "status": "completed"
    },
    "tags": []
   },
   "outputs": [],
   "source": []
  }
 ],
 "metadata": {
  "kernelspec": {
   "display_name": "Python 3",
   "language": "python",
   "name": "python3"
  },
  "language_info": {
   "codemirror_mode": {
    "name": "ipython",
    "version": 3
   },
   "file_extension": ".py",
   "mimetype": "text/x-python",
   "name": "python",
   "nbconvert_exporter": "python",
   "pygments_lexer": "ipython3",
   "version": "3.7.12"
  },
  "papermill": {
   "default_parameters": {},
   "duration": 62.623913,
   "end_time": "2022-02-04T10:13:51.092341",
   "environment_variables": {},
   "exception": null,
   "input_path": "__notebook__.ipynb",
   "output_path": "__notebook__.ipynb",
   "parameters": {},
   "start_time": "2022-02-04T10:12:48.468428",
   "version": "2.3.3"
  }
 },
 "nbformat": 4,
 "nbformat_minor": 5
}
